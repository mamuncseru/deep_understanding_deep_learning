{
  "nbformat": 4,
  "nbformat_minor": 0,
  "metadata": {
    "colab": {
      "name": "DUDL_overfitting_regression.ipynb",
      "provenance": [],
      "authorship_tag": "ABX9TyMjtkbfH10JJV9Oj1Uguj2N",
      "include_colab_link": true
    },
    "kernelspec": {
      "name": "python3",
      "display_name": "Python 3"
    },
    "language_info": {
      "name": "python"
    }
  },
  "cells": [
    {
      "cell_type": "markdown",
      "metadata": {
        "id": "view-in-github",
        "colab_type": "text"
      },
      "source": [
        "<a href=\"https://colab.research.google.com/github/mamuncseru/deep_understanding_deep_learning/blob/main/DUDL_overfitting_regression.ipynb\" target=\"_parent\"><img src=\"https://colab.research.google.com/assets/colab-badge.svg\" alt=\"Open In Colab\"/></a>"
      ]
    },
    {
      "cell_type": "code",
      "execution_count": 1,
      "metadata": {
        "id": "3GEZPCXrqJ_j"
      },
      "outputs": [],
      "source": [
        "# imports\n",
        "import numpy as np\n",
        "import matplotlib.pyplot as plt\n",
        "import torch.nn as nn\n",
        "import torch\n",
        "from sklearn.model_selection import train_test_split"
      ]
    },
    {
      "cell_type": "markdown",
      "source": [
        "## Create the data and the model"
      ],
      "metadata": {
        "id": "A5qOjZprqXMo"
      }
    },
    {
      "cell_type": "code",
      "source": [
        "N = 100\n",
        "x = torch.randn(N, 1)\n",
        "y = x + torch.randn(N, 1)\n",
        "\n",
        "# and plot\n",
        "plt.plot(x, y, 's')\n",
        "plt.show()"
      ],
      "metadata": {
        "colab": {
          "base_uri": "https://localhost:8080/",
          "height": 269
        },
        "id": "PdLxJ4ebqZ6Z",
        "outputId": "29e11cb6-78c9-4c69-d50c-fb4a4c8f162d"
      },
      "execution_count": 2,
      "outputs": [
        {
          "output_type": "display_data",
          "data": {
            "text/plain": [
              "<Figure size 432x288 with 1 Axes>"
            ],
            "image/png": "[encoded data removed]"
          },
          "metadata": {
            "needs_background": "light"
          }
        }
      ]
    },
    {
      "cell_type": "code",
      "source": [
        "# build model\n",
        "ANNreg = nn.Sequential(\n",
        "    nn.Linear(1, 1),\n",
        "    nn.ReLU(),\n",
        "    nn.Linear(1, 1)     # output layer\n",
        ")"
      ],
      "metadata": {
        "id": "H9-vawQ7qiOH"
      },
      "execution_count": 3,
      "outputs": []
    },
    {
      "cell_type": "code",
      "source": [
        "# model meta-parameters\n",
        "learningRate = .05\n",
        "\n",
        "# loss function\n",
        "lossfun = nn.MSELoss()\n",
        "\n",
        "# optimizer\n",
        "optimizer = torch.optim.SGD(ANNreg.parameters(), lr=learningRate)"
      ],
      "metadata": {
        "id": "xk40Of_Gqrg9"
      },
      "execution_count": 4,
      "outputs": []
    },
    {
      "cell_type": "markdown",
      "source": [
        "# Select data for training"
      ],
      "metadata": {
        "id": "gacdtHWLrBel"
      }
    },
    {
      "cell_type": "code",
      "source": [
        "# select training data (not the hand-coded N!)\n",
        "trainidx = np.random.choice(range(N), 80, replace=False) # random indices\n",
        "trainBool = np.zeros(N, dtype=bool)\n",
        "trainBool[trainidx] = True \n",
        "# show the sizes\n",
        "print(x[trainBool].shape)\n",
        "print(x[~trainBool].shape)"
      ],
      "metadata": {
        "colab": {
          "base_uri": "https://localhost:8080/"
        },
        "id": "Idc793kPrG2R",
        "outputId": "489a2782-740a-4531-d445-d43e146ab6a1"
      },
      "execution_count": 5,
      "outputs": [
        {
          "output_type": "stream",
          "name": "stdout",
          "text": [
            "torch.Size([80, 1])\n",
            "torch.Size([20, 1])\n"
          ]
        }
      ]
    },
    {
      "cell_type": "markdown",
      "source": [
        "## Training the model"
      ],
      "metadata": {
        "id": "F6eu1Ld9rgyi"
      }
    },
    {
      "cell_type": "code",
      "source": [
        "numepochs = 500\n",
        "for epochi in range(numepochs):\n",
        "\n",
        "    # forward pass\n",
        "    yHat = ANNreg(x[trainBool])\n",
        "\n",
        "    # compute loss\n",
        "    loss = lossfun(yHat, y[trainBool])\n",
        "\n",
        "    # backprop\n",
        "    optimizer.zero_grad()\n",
        "    loss.backward()\n",
        "    optimizer.step()"
      ],
      "metadata": {
        "id": "PbCCxV_yr7Jp"
      },
      "execution_count": 6,
      "outputs": []
    },
    {
      "cell_type": "code",
      "source": [
        "# report the losses\n",
        "\n",
        "# compute losses of the TEST set\n",
        "predYtest = ANNreg(x[~trainBool])\n",
        "testloss = (predYtest - y[~trainBool]).pow(2).mean()\n",
        "\n",
        "# print out final TRAIN loss and TEST loss\n",
        "print(f'Final Train loss: {loss.detach():.2f}')\n",
        "print(f'Final Test loss: {testloss.detach():.2f}')"
      ],
      "metadata": {
        "colab": {
          "base_uri": "https://localhost:8080/"
        },
        "id": "58ft1PdlsNgh",
        "outputId": "35a4ee7d-5156-4fc4-fc02-bd0a75f6a2ae"
      },
      "execution_count": 7,
      "outputs": [
        {
          "output_type": "stream",
          "name": "stdout",
          "text": [
            "Final Train loss: 0.98\n",
            "Final Test loss: 1.36\n"
          ]
        }
      ]
    },
    {
      "cell_type": "code",
      "source": [
        "## plot the data\n",
        "\n",
        "# predictions for final training run\n",
        "predYtrain = ANNreg(x[trainBool]).detach().numpy()\n",
        "plt.figure(figsize=(10, 12))\n",
        "# now plot\n",
        "plt.plot(x, y, 'k^', label='All data')\n",
        "plt.plot(x[trainBool], predYtrain, 'bs', markerfacecolor='w', label='Training pred.')\n",
        "plt.plot(x[~trainBool], predYtest.detach(), 'ro', markerfacecolor='w', label='Test pred.')\n",
        "plt.legend()\n",
        "plt.show()\n",
        "\n"
      ],
      "metadata": {
        "colab": {
          "base_uri": "https://localhost:8080/",
          "height": 702
        },
        "id": "WGKPmhGFsx-U",
        "outputId": "7169d7f2-dcc0-4762-cc1e-25b99e89954e"
      },
      "execution_count": 9,
      "outputs": [
        {
          "output_type": "display_data",
          "data": {
            "text/plain": [
              "<Figure size 720x864 with 1 Axes>"
            ],
            "image/png": "[encoded data removed]"
          },
          "metadata": {
            "needs_background": "light"
          }
        }
      ]
    },
    {
      "cell_type": "code",
      "source": [
        ""
      ],
      "metadata": {
        "id": "h9LNaUxkuDPc"
      },
      "execution_count": null,
      "outputs": []
    }
  ]
}