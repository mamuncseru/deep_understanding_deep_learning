{
  "nbformat": 4,
  "nbformat_minor": 0,
  "metadata": {
    "colab": {
      "name": "DUDL_CrossValidation.ipynb",
      "provenance": [],
      "authorship_tag": "ABX9TyN6yb/8CRjV1AtiDbTk6LJV",
      "include_colab_link": true
    },
    "kernelspec": {
      "name": "python3",
      "display_name": "Python 3"
    },
    "language_info": {
      "name": "python"
    }
  },
  "cells": [
    {
      "cell_type": "markdown",
      "metadata": {
        "id": "view-in-github",
        "colab_type": "text"
      },
      "source": [
        "<a href=\"https://colab.research.google.com/github/mamuncseru/deep_understanding_deep_learning/blob/main/DUDL_CrossValidation.ipynb\" target=\"_parent\"><img src=\"https://colab.research.google.com/assets/colab-badge.svg\" alt=\"Open In Colab\"/></a>"
      ]
    },
    {
      "cell_type": "code",
      "execution_count": 1,
      "metadata": {
        "id": "-5jQ--SA7tIy"
      },
      "outputs": [],
      "source": [
        "# imports\n",
        "import torch\n",
        "import torch.nn as nn\n",
        "import numpy as np\n",
        "import seaborn as sns"
      ]
    },
    {
      "cell_type": "code",
      "source": [
        "# import dataset\n",
        "iris = sns.load_dataset('iris')\n",
        "\n",
        "# convert from pandas dataframe to tensor\n",
        "data = torch.tensor(iris[iris.columns[0:4]].values).float()\n",
        "\n",
        "# transform species to number\n",
        "labels = torch.zeros(len(data), dtype=torch.long)\n",
        "# labels[iris.species=='setosa'] = 0 # don't need\n",
        "labels[iris.species == 'versicolor'] = 1\n",
        "labels[iris.species == 'virginica'] = 2"
      ],
      "metadata": {
        "id": "epV36CSHItry"
      },
      "execution_count": 2,
      "outputs": []
    },
    {
      "cell_type": "markdown",
      "source": [
        "# Separate data into train and test"
      ],
      "metadata": {
        "id": "v2k3FJGdJaEV"
      }
    },
    {
      "cell_type": "code",
      "source": [
        "# (no devset here)\n",
        "# how many training examples\n",
        "propTraining = .8 # in proportion, not percent\n",
        "nTraining = int(len(labels)*propTraining)\n",
        "\n",
        "# initialize a boolean vector to select data and labels\n",
        "traintestBool = np.zeros(len(labels), dtype = bool)\n",
        "\n",
        "# is this the correct way to select samples?\n",
        "# traintestBool[range(nTraining)] = True\n",
        "\n",
        "## this is better, but why?\n",
        "items2use4train = np.random.choice(range(len(labels)), nTraining, replace=False)\n",
        "traintestBool[items2use4train] = True\n",
        "\n",
        "traintestBool\n"
      ],
      "metadata": {
        "colab": {
          "base_uri": "https://localhost:8080/"
        },
        "id": "TXiR0UV-JfP-",
        "outputId": "ec7ca3bc-5337-4188-851f-0d3e5ac23e8c"
      },
      "execution_count": 10,
      "outputs": [
        {
          "output_type": "execute_result",
          "data": {
            "text/plain": [
              "array([False,  True, False,  True,  True, False,  True,  True,  True,\n",
              "        True,  True,  True,  True,  True,  True,  True, False,  True,\n",
              "        True, False,  True,  True,  True,  True,  True, False,  True,\n",
              "        True,  True, False,  True,  True,  True, False,  True,  True,\n",
              "        True, False, False, False,  True,  True,  True,  True,  True,\n",
              "        True,  True,  True,  True,  True,  True,  True,  True, False,\n",
              "        True,  True,  True, False,  True,  True,  True,  True,  True,\n",
              "        True,  True, False,  True,  True,  True, False,  True,  True,\n",
              "        True,  True, False,  True,  True,  True,  True,  True, False,\n",
              "       False,  True,  True,  True,  True, False,  True,  True,  True,\n",
              "        True, False,  True,  True,  True,  True,  True,  True, False,\n",
              "        True,  True, False,  True,  True,  True,  True,  True, False,\n",
              "        True,  True,  True, False,  True,  True,  True, False,  True,\n",
              "        True, False,  True, False,  True,  True,  True,  True,  True,\n",
              "        True,  True,  True,  True,  True,  True,  True,  True,  True,\n",
              "        True, False,  True,  True, False,  True,  True,  True,  True,\n",
              "        True, False,  True,  True,  True,  True])"
            ]
          },
          "metadata": {},
          "execution_count": 10
        }
      ]
    },
    {
      "cell_type": "code",
      "source": [
        "labels"
      ],
      "metadata": {
        "colab": {
          "base_uri": "https://localhost:8080/"
        },
        "id": "c8dQYlZBYELM",
        "outputId": "318a3dc1-2dc7-4d5c-e9bf-99965efa64f5"
      },
      "execution_count": 9,
      "outputs": [
        {
          "output_type": "execute_result",
          "data": {
            "text/plain": [
              "tensor([0, 0, 0, 0, 0, 0, 0, 0, 0, 0, 0, 0, 0, 0, 0, 0, 0, 0, 0, 0, 0, 0, 0, 0,\n",
              "        0, 0, 0, 0, 0, 0, 0, 0, 0, 0, 0, 0, 0, 0, 0, 0, 0, 0, 0, 0, 0, 0, 0, 0,\n",
              "        0, 0, 1, 1, 1, 1, 1, 1, 1, 1, 1, 1, 1, 1, 1, 1, 1, 1, 1, 1, 1, 1, 1, 1,\n",
              "        1, 1, 1, 1, 1, 1, 1, 1, 1, 1, 1, 1, 1, 1, 1, 1, 1, 1, 1, 1, 1, 1, 1, 1,\n",
              "        1, 1, 1, 1, 2, 2, 2, 2, 2, 2, 2, 2, 2, 2, 2, 2, 2, 2, 2, 2, 2, 2, 2, 2,\n",
              "        2, 2, 2, 2, 2, 2, 2, 2, 2, 2, 2, 2, 2, 2, 2, 2, 2, 2, 2, 2, 2, 2, 2, 2,\n",
              "        2, 2, 2, 2, 2, 2])"
            ]
          },
          "metadata": {},
          "execution_count": 9
        }
      ]
    },
    {
      "cell_type": "code",
      "source": [
        "# test whether it's balanced\n",
        "print('Average of full data:')\n",
        "print(torch.mean(labels.float())) # should be 1\n",
        "print('')\n",
        "\n",
        "print('Average of training data: ')\n",
        "print(torch.mean(labels[traintestBool].float())) # should be 1\n",
        "print('')\n",
        "\n",
        "print('Average of test data: ')\n",
        "print(torch.mean(labels[~traintestBool].float())) # should also be 1"
      ],
      "metadata": {
        "colab": {
          "base_uri": "https://localhost:8080/"
        },
        "id": "pO6gnVbsKcMO",
        "outputId": "85238125-e31d-45ac-a032-0b806a067ad8"
      },
      "execution_count": 11,
      "outputs": [
        {
          "output_type": "stream",
          "name": "stdout",
          "text": [
            "Average of full data:\n",
            "tensor(1.)\n",
            "\n",
            "Average of training data: \n",
            "tensor(1.0167)\n",
            "\n",
            "Average of test data: \n",
            "tensor(0.9333)\n"
          ]
        }
      ]
    },
    {
      "cell_type": "code",
      "source": [
        "# create the ANN model\n",
        "\n",
        "# model architecture\n",
        "ANNiris = nn.Sequential(\n",
        "    nn.Linear(4, 64),   # input layer\n",
        "    nn.ReLU(),          # activation unit\n",
        "    nn.Linear(64, 64),  # hidden layer\n",
        "    nn.ReLU(),          # activation unit\n",
        "    nn.Linear(64, 3)    # output layer\n",
        ")\n",
        "\n",
        "# loss function\n",
        "lossfun = nn.CrossEntropyLoss()\n",
        "\n",
        "# optimizer\n",
        "optimizer = torch.optim.SGD(ANNiris.parameters(), lr=.01)\n"
      ],
      "metadata": {
        "id": "IoTbgqKMXlxA"
      },
      "execution_count": 14,
      "outputs": []
    },
    {
      "cell_type": "code",
      "source": [
        "# entire dataset\n",
        "print( data.shape )\n",
        "\n",
        "# training set\n",
        "print( data[traintestBool, :].shape)\n",
        "\n",
        "# test set\n",
        "print(data[~traintestBool, :].shape)"
      ],
      "metadata": {
        "colab": {
          "base_uri": "https://localhost:8080/"
        },
        "id": "K0zGSepyZQGr",
        "outputId": "e1727c80-46fa-4a1c-a50c-0c75ac9351e1"
      },
      "execution_count": 15,
      "outputs": [
        {
          "output_type": "stream",
          "name": "stdout",
          "text": [
            "torch.Size([150, 4])\n",
            "torch.Size([120, 4])\n",
            "torch.Size([30, 4])\n"
          ]
        }
      ]
    },
    {
      "cell_type": "markdown",
      "source": [
        "# Train and Test the model"
      ],
      "metadata": {
        "id": "slA7FGvsZb3F"
      }
    },
    {
      "cell_type": "code",
      "source": [
        "# train the model\n",
        "numepochs = 1000\n",
        "\n",
        "# initialize losses\n",
        "losses = torch.zeros(numepochs)\n",
        "ongoingAcc = []\n",
        "\n",
        "# loop over epochs\n",
        "for epochi in range(numepochs):\n",
        "    yHat = ANNiris(data[traintestBool, :])\n",
        "\n",
        "    # compute accuracy (note: denser than previous code!)\n",
        "    ongoingAcc.append( 100*torch.mean(\n",
        "        (torch.argmax(yHat, axis=1) == labels[traintestBool]).float()\n",
        "    ))\n",
        "\n",
        "    # compute loss\n",
        "    loss = lossfun(yHat, labels[traintestBool])\n",
        "    losses[epochi] = loss\n",
        "\n",
        "    # backprop\n",
        "    optimizer.zero_grad()\n",
        "    loss.backward()\n",
        "    optimizer.step()\n"
      ],
      "metadata": {
        "id": "XDvLBcnaZfg7"
      },
      "execution_count": 16,
      "outputs": []
    },
    {
      "cell_type": "code",
      "source": [
        "# compute train and test acccuracies\n",
        "\n",
        "# final forward pass Using training data\n",
        "predictions = ANNiris(data[traintestBool, :])\n",
        "trainacc = 100*torch.mean((torch.argmax(predictions, axis=1) == labels[traintestBool]).float())\n",
        "\n",
        "# final forward pass Using test data\n",
        "predictions = ANNiris(data[~traintestBool, :])\n",
        "testacc = 100*torch.mean((torch.argmax(predictions, axis=1) == labels[~traintestBool]).float())"
      ],
      "metadata": {
        "id": "uWbThtJuaup7"
      },
      "execution_count": 18,
      "outputs": []
    },
    {
      "cell_type": "code",
      "source": [
        "# report accuracies\n",
        "\n",
        "print('Final Train accuracy: %g%%' %trainacc)\n",
        "print('Final Test accuracy: %g%%' %testacc)"
      ],
      "metadata": {
        "colab": {
          "base_uri": "https://localhost:8080/"
        },
        "id": "mqeeGQH0bkyT",
        "outputId": "a800eaae-ec8e-4d14-ca02-0dd61b1d095c"
      },
      "execution_count": 19,
      "outputs": [
        {
          "output_type": "stream",
          "name": "stdout",
          "text": [
            "Final Train accuracy: 97.5%\n",
            "Final Test accuracy: 100%\n"
          ]
        }
      ]
    },
    {
      "cell_type": "code",
      "source": [
        "# normally also inspect losses and accuracy by epoch, etc, etc, etc.\n"
      ],
      "metadata": {
        "id": "0bHzbiCYb1F_"
      },
      "execution_count": null,
      "outputs": []
    }
  ]
}