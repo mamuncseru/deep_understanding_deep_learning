{
  "nbformat": 4,
  "nbformat_minor": 0,
  "metadata": {
    "colab": {
      "name": "DUDL_RNN_intro2RNN.ipynb",
      "provenance": [],
      "authorship_tag": "ABX9TyP9fzG/DHcuGENyK8Uuzyqm",
      "include_colab_link": true
    },
    "kernelspec": {
      "name": "python3",
      "display_name": "Python 3"
    },
    "language_info": {
      "name": "python"
    }
  },
  "cells": [
    {
      "cell_type": "markdown",
      "metadata": {
        "id": "view-in-github",
        "colab_type": "text"
      },
      "source": [
        "<a href=\"https://colab.research.google.com/github/mamuncseru/deep_understanding_deep_learning/blob/main/DUDL_RNN_intro2RNN.ipynb\" target=\"_parent\"><img src=\"https://colab.research.google.com/assets/colab-badge.svg\" alt=\"Open In Colab\"/></a>"
      ]
    },
    {
      "cell_type": "code",
      "execution_count": 1,
      "metadata": {
        "id": "XkWx897ZiG_7"
      },
      "outputs": [],
      "source": [
        "## import libraries\n",
        "import torch\n",
        "import torch.nn as nn\n",
        "import numpy as np"
      ]
    },
    {
      "cell_type": "markdown",
      "source": [
        "### Explore the RNN type"
      ],
      "metadata": {
        "id": "F-VjedVaq0cD"
      }
    },
    {
      "cell_type": "code",
      "source": [
        "# set layer parameters\n",
        "input_size = 9      # number of features to extract (e.g., number of data channels)\n",
        "hidden_size = 16    # number of units in the hidden state\n",
        "num_layers = 1      # number of vertical stacks of hidden layers (note: only the final layer)\n",
        "actfun = 'tanh'\n",
        "bias = True\n",
        "\n",
        "# create an RNN instance\n",
        "rnn = nn.RNN(input_size, hidden_size, num_layers, nonlinearity=actfun, bias=bias)\n",
        "print(rnn)"
      ],
      "metadata": {
        "colab": {
          "base_uri": "https://localhost:8080/"
        },
        "id": "3YrzewYkq2h3",
        "outputId": "cefa893e-682d-4078-d874-1fec971ed8cf"
      },
      "execution_count": 2,
      "outputs": [
        {
          "output_type": "stream",
          "name": "stdout",
          "text": [
            "RNN(9, 16)\n"
          ]
        }
      ]
    },
    {
      "cell_type": "code",
      "source": [
        "## check out the source code\n",
        "??nn.RNN"
      ],
      "metadata": {
        "id": "ZBISaE8orZ_G"
      },
      "execution_count": 3,
      "outputs": []
    },
    {
      "cell_type": "code",
      "source": [
        "# set data parameters\n",
        "seqlength = 5\n",
        "batchsize = 2\n",
        "\n",
        "# create some data\n",
        "X = torch.rand(seqlength, batchsize, input_size)\n",
        "\n",
        "# create a hidden layer (typically intialized as zeros)\n",
        "hidden = torch.zeros(num_layers, batchsize, hidden_size)\n",
        "\n",
        "# run some through the model and show the output sizes\n",
        "y, h = rnn(X, hidden)\n",
        "print(f'Input shape: {list(X.shape)}')\n",
        "print(f'Hidden shape: {list(h.shape)}')\n",
        "print(f'Output shape: {list(y.shape)}')"
      ],
      "metadata": {
        "colab": {
          "base_uri": "https://localhost:8080/"
        },
        "id": "v2b_aw6MrdcJ",
        "outputId": "6b781f66-4b80-4ab6-ff69-ddd43eec9022"
      },
      "execution_count": 4,
      "outputs": [
        {
          "output_type": "stream",
          "name": "stdout",
          "text": [
            "Input shape: [5, 2, 9]\n",
            "Hidden shape: [1, 2, 16]\n",
            "Output shape: [5, 2, 16]\n"
          ]
        }
      ]
    },
    {
      "cell_type": "code",
      "source": [
        "## Default hidden state is all zeros if nothing specified\n",
        "y, h1 = rnn(X, hidden)\n",
        "print(h1), print('\\n\\n')\n",
        "\n",
        "y, h2 = rnn(X)\n",
        "print(h), print('\\n\\n')\n",
        "\n",
        "# they're the same! (meaning default=zeros)\n",
        "print(h1-h2)"
      ],
      "metadata": {
        "colab": {
          "base_uri": "https://localhost:8080/"
        },
        "id": "GpGfh7Tvss7x",
        "outputId": "1c2815e7-4545-4ec2-974b-aa05fe0dd54a"
      },
      "execution_count": 5,
      "outputs": [
        {
          "output_type": "stream",
          "name": "stdout",
          "text": [
            "tensor([[[-0.2087,  0.2513,  0.5269,  0.4155,  0.4718,  0.1919,  0.1799,\n",
            "           0.2200, -0.0055,  0.7245,  0.1246,  0.6388,  0.1293,  0.2924,\n",
            "           0.4164,  0.6553],\n",
            "         [ 0.0058,  0.1659,  0.4529,  0.6000,  0.3870,  0.2117,  0.0750,\n",
            "           0.0519,  0.1599,  0.6219,  0.1927,  0.6066,  0.2927,  0.2415,\n",
            "           0.5760,  0.7715]]], grad_fn=<StackBackward0>)\n",
            "\n",
            "\n",
            "\n",
            "tensor([[[-0.2087,  0.2513,  0.5269,  0.4155,  0.4718,  0.1919,  0.1799,\n",
            "           0.2200, -0.0055,  0.7245,  0.1246,  0.6388,  0.1293,  0.2924,\n",
            "           0.4164,  0.6553],\n",
            "         [ 0.0058,  0.1659,  0.4529,  0.6000,  0.3870,  0.2117,  0.0750,\n",
            "           0.0519,  0.1599,  0.6219,  0.1927,  0.6066,  0.2927,  0.2415,\n",
            "           0.5760,  0.7715]]], grad_fn=<StackBackward0>)\n",
            "\n",
            "\n",
            "\n",
            "tensor([[[0., 0., 0., 0., 0., 0., 0., 0., 0., 0., 0., 0., 0., 0., 0., 0.],\n",
            "         [0., 0., 0., 0., 0., 0., 0., 0., 0., 0., 0., 0., 0., 0., 0., 0.]]],\n",
            "       grad_fn=<SubBackward0>)\n"
          ]
        }
      ]
    },
    {
      "cell_type": "code",
      "source": [
        "# check out the learned parameters and their sizes\n",
        "for p in rnn.named_parameters():\n",
        "    if 'weight' in p[0]:\n",
        "        print(f'{p[0]} has size {list(p[1].shape)}')"
      ],
      "metadata": {
        "colab": {
          "base_uri": "https://localhost:8080/"
        },
        "id": "Z56N4GL3tN3T",
        "outputId": "b9456365-2f95-421c-e37d-1cfa9ab0c3ce"
      },
      "execution_count": 6,
      "outputs": [
        {
          "output_type": "stream",
          "name": "stdout",
          "text": [
            "weight_ih_l0 has size [16, 9]\n",
            "weight_hh_l0 has size [16, 16]\n"
          ]
        }
      ]
    },
    {
      "cell_type": "markdown",
      "source": [
        "## Create a DL model class"
      ],
      "metadata": {
        "id": "Ewxn4NFMtmx9"
      }
    },
    {
      "cell_type": "code",
      "source": [
        "class RNNnet(nn.Module):\n",
        "    def __init__(self, input_size, num_hidden, num_layers):\n",
        "        super().__init__()\n",
        "\n",
        "        # store parameters\n",
        "        self.input_size = input_size\n",
        "        self.num_hidden = num_hidden\n",
        "        self.num_layers = num_layers\n",
        "\n",
        "        ## RNN Layer\n",
        "        self.rnn = nn.RNN(input_size, num_hidden, num_layers)\n",
        "\n",
        "        # linear layer for output\n",
        "        self.out = nn.Linear(num_hidden, 1)\n",
        "\n",
        "    def forward(self, x):\n",
        "\n",
        "        print(f'Input: {list(x.shape)}')\n",
        "\n",
        "        # initialize hidden state for first input\n",
        "        hidden= torch.zeros(self.num_layers, batchsize, self.num_hidden)\n",
        "        print(f'Hidden: {list(hidden.shape)}')\n",
        "\n",
        "        # run through the RNN layer\n",
        "        y, hidden = self.rnn(x, hidden)\n",
        "        print(f'RNN-out: {list(y.shape)}')\n",
        "        print(f'RNN-hidden: {list(hidden.shape)}')\n",
        "\n",
        "        # pass the RNN output through the linear output layer\n",
        "        o = self.out(y) \n",
        "        print(f'Output: {list(o.shape)}')\n",
        "\n",
        "        return o, hidden\n",
        "\n"
      ],
      "metadata": {
        "id": "9KuNjiYQtrly"
      },
      "execution_count": 7,
      "outputs": []
    },
    {
      "cell_type": "code",
      "source": [
        "# create an instance of the model and inspect\n",
        "net = RNNnet(input_size, hidden_size, num_layers)\n",
        "print(net), print(' ')\n",
        "\n",
        "# and checkout all learnable parameters\n",
        "for p in net.named_parameters():\n",
        "    print(f'{p[0]} has size {list(p[1].shape)}')"
      ],
      "metadata": {
        "colab": {
          "base_uri": "https://localhost:8080/"
        },
        "id": "f4INqmX4vHxT",
        "outputId": "1c80f23e-e97a-4203-ae96-285aa49836d2"
      },
      "execution_count": 8,
      "outputs": [
        {
          "output_type": "stream",
          "name": "stdout",
          "text": [
            "RNNnet(\n",
            "  (rnn): RNN(9, 16)\n",
            "  (out): Linear(in_features=16, out_features=1, bias=True)\n",
            ")\n",
            " \n",
            "rnn.weight_ih_l0 has size [16, 9]\n",
            "rnn.weight_hh_l0 has size [16, 16]\n",
            "rnn.bias_ih_l0 has size [16]\n",
            "rnn.bias_hh_l0 has size [16]\n",
            "out.weight has size [1, 16]\n",
            "out.bias has size [1]\n"
          ]
        }
      ]
    },
    {
      "cell_type": "code",
      "source": [
        "# test the model with some fake data\n",
        "# create some data\n",
        "X = torch.rand(seqlength, batchsize, input_size)\n",
        "y = torch.rand(seqlength, batchsize, 1)\n",
        "yHat, y = net(X)\n",
        "\n",
        "# try a loss function\n",
        "lossfun = nn.MSELoss()\n",
        "lossfun(yHat, y)"
      ],
      "metadata": {
        "colab": {
          "base_uri": "https://localhost:8080/"
        },
        "id": "PBkSKjjjv-Cp",
        "outputId": "85970aaa-12d8-4351-af07-9f4277fe8499"
      },
      "execution_count": 10,
      "outputs": [
        {
          "output_type": "stream",
          "name": "stdout",
          "text": [
            "Input: [5, 2, 9]\n",
            "Hidden: [1, 2, 16]\n",
            "RNN-out: [5, 2, 16]\n",
            "RNN-hidden: [1, 2, 16]\n",
            "Output: [5, 2, 1]\n"
          ]
        },
        {
          "output_type": "stream",
          "name": "stderr",
          "text": [
            "/usr/local/lib/python3.7/dist-packages/torch/nn/modules/loss.py:530: UserWarning: Using a target size (torch.Size([1, 2, 16])) that is different to the input size (torch.Size([5, 2, 1])). This will likely lead to incorrect results due to broadcasting. Please ensure they have the same size.\n",
            "  return F.mse_loss(input, target, reduction=self.reduction)\n"
          ]
        },
        {
          "output_type": "execute_result",
          "data": {
            "text/plain": [
              "tensor(0.1312, grad_fn=<MseLossBackward0>)"
            ]
          },
          "metadata": {},
          "execution_count": 10
        }
      ]
    },
    {
      "cell_type": "code",
      "source": [
        ""
      ],
      "metadata": {
        "id": "goJtfeDmwVP0"
      },
      "execution_count": null,
      "outputs": []
    }
  ]
}