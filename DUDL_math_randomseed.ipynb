{
  "nbformat": 4,
  "nbformat_minor": 0,
  "metadata": {
    "colab": {
      "name": "DUDL_math_randomseed.ipynb",
      "provenance": [],
      "authorship_tag": "ABX9TyM9n8srEdZL4O6qFjMeA96h",
      "include_colab_link": true
    },
    "kernelspec": {
      "name": "python3",
      "display_name": "Python 3"
    },
    "language_info": {
      "name": "python"
    }
  },
  "cells": [
    {
      "cell_type": "markdown",
      "metadata": {
        "id": "view-in-github",
        "colab_type": "text"
      },
      "source": [
        "<a href=\"https://colab.research.google.com/github/mamuncseru/deep_understanding_deep_learning/blob/main/DUDL_math_randomseed.ipynb\" target=\"_parent\"><img src=\"https://colab.research.google.com/assets/colab-badge.svg\" alt=\"Open In Colab\"/></a>"
      ]
    },
    {
      "cell_type": "code",
      "source": [
        "# import libaries\n",
        "import numpy as np\n",
        "import torch\n"
      ],
      "metadata": {
        "id": "BekoJ4ssemfr"
      },
      "execution_count": 1,
      "outputs": []
    },
    {
      "cell_type": "code",
      "source": [
        "# generate a few random numbers\n",
        "np.random.randn(5)"
      ],
      "metadata": {
        "colab": {
          "base_uri": "https://localhost:8080/"
        },
        "id": "e5i4mgkSeuLg",
        "outputId": "f5487b99-d407-4382-c0e9-edb3734afbd8"
      },
      "execution_count": 5,
      "outputs": [
        {
          "output_type": "execute_result",
          "data": {
            "text/plain": [
              "array([ 2.171257  ,  1.15231025, -1.81881234, -0.13804934,  0.53983961])"
            ]
          },
          "metadata": {},
          "execution_count": 5
        }
      ]
    },
    {
      "cell_type": "code",
      "source": [
        "# repeat after fixing the seed (old-but-still-widely-used method)\n",
        "np.random.seed(17)\n",
        "print(np.random.randn(5))\n",
        "print(np.random.randn(5))\n",
        "\n",
        "# [ 0.27626589 -1.85462808  0.62390111  1.14531129  1.03719047]\n",
        "# [ 1.88663893 -0.11169829 -0.36210134  0.14867505 -0.43778315]"
      ],
      "metadata": {
        "colab": {
          "base_uri": "https://localhost:8080/"
        },
        "id": "wnpDxv1beyrK",
        "outputId": "cffa277e-a7f3-4bd7-a626-c8018cc4d020"
      },
      "execution_count": 8,
      "outputs": [
        {
          "output_type": "stream",
          "name": "stdout",
          "text": [
            "[ 0.27626589 -1.85462808  0.62390111  1.14531129  1.03719047]\n",
            "[ 1.88663893 -0.11169829 -0.36210134  0.14867505 -0.43778315]\n"
          ]
        }
      ]
    },
    {
      "cell_type": "markdown",
      "source": [
        "## New seed mechanism in numpy"
      ],
      "metadata": {
        "id": "-jH5KKDBe91i"
      }
    },
    {
      "cell_type": "code",
      "source": [
        "randseed1 = np.random.RandomState(17)\n",
        "randseed2 = np.random.RandomState(20210530)\n",
        "\n",
        "print(randseed1.randn(5)) # same sequence\n",
        "print(randseed2.randn(5)) # different from above, but same each time\n",
        "print(randseed1.randn(5)) # same as two up\n",
        "print(randseed2.randn(5)) # same as two up\n",
        "print(np.random.randn(5)) # different every time\n",
        "\n",
        "# [ 0.27626589 -1.85462808  0.62390111  1.14531129  1.03719047]\n",
        "# [-0.24972681 -1.01951826  2.23461339  0.72764703  1.2921122 ]\n",
        "# [ 1.88663893 -0.11169829 -0.36210134  0.14867505 -0.43778315]\n",
        "# [ 1.15494929 -0.0015467  -0.11196868 -1.08136725  0.10265891]\n",
        "# [ 0.44122749 -0.33087015  2.43077119 -0.25209213  0.10960984]"
      ],
      "metadata": {
        "colab": {
          "base_uri": "https://localhost:8080/"
        },
        "id": "xFtEn11BfS9L",
        "outputId": "aeeab480-f99a-4316-e63f-92c19a14fae6"
      },
      "execution_count": 13,
      "outputs": [
        {
          "output_type": "stream",
          "name": "stdout",
          "text": [
            "[ 0.27626589 -1.85462808  0.62390111  1.14531129  1.03719047]\n",
            "[-0.24972681 -1.01951826  2.23461339  0.72764703  1.2921122 ]\n",
            "[ 1.88663893 -0.11169829 -0.36210134  0.14867505 -0.43778315]\n",
            "[ 1.15494929 -0.0015467  -0.11196868 -1.08136725  0.10265891]\n",
            "[-1.19276461 -0.20487651 -0.35882895  0.6034716  -1.66478853]\n"
          ]
        }
      ]
    },
    {
      "cell_type": "markdown",
      "source": [
        "## Using pytorch"
      ],
      "metadata": {
        "id": "-FW_3zU8f8PC"
      }
    },
    {
      "cell_type": "code",
      "source": [
        "torch.randn(5)"
      ],
      "metadata": {
        "colab": {
          "base_uri": "https://localhost:8080/"
        },
        "id": "o0Yalf86gn41",
        "outputId": "969a155c-f100-4a71-8d1d-61d731e36c8b"
      },
      "execution_count": 15,
      "outputs": [
        {
          "output_type": "execute_result",
          "data": {
            "text/plain": [
              "tensor([-1.4012,  0.9051,  0.3183, -1.5953, -0.2892])"
            ]
          },
          "metadata": {},
          "execution_count": 15
        }
      ]
    },
    {
      "cell_type": "code",
      "source": [
        "torch.manual_seed(17)\n",
        "print(torch.randn(5))\n",
        "\n",
        "# torch's seed doesn't spread to numpy\n",
        "print(np.random.randn(5))"
      ],
      "metadata": {
        "colab": {
          "base_uri": "https://localhost:8080/"
        },
        "id": "_LyC0ssugpa7",
        "outputId": "a5a012fb-34d4-4fb5-86e0-124486829ffc"
      },
      "execution_count": 18,
      "outputs": [
        {
          "output_type": "stream",
          "name": "stdout",
          "text": [
            "tensor([-1.4135,  0.2336,  0.0340,  0.3499, -0.0145])\n",
            "[-0.98060789 -0.85685315 -0.87187918 -0.42250793  0.99643983]\n"
          ]
        }
      ]
    },
    {
      "cell_type": "code",
      "source": [
        ""
      ],
      "metadata": {
        "id": "7FwRvAv2gyny"
      },
      "execution_count": null,
      "outputs": []
    }
  ]
}