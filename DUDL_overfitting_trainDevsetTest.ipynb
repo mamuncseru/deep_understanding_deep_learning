{
  "nbformat": 4,
  "nbformat_minor": 0,
  "metadata": {
    "colab": {
      "name": "DUDL_overfitting_trainDevsetTest.ipynb",
      "provenance": [],
      "authorship_tag": "ABX9TyOIAwIYTfXcoE/7rVlO7KmI",
      "include_colab_link": true
    },
    "kernelspec": {
      "name": "python3",
      "display_name": "Python 3"
    },
    "language_info": {
      "name": "python"
    }
  },
  "cells": [
    {
      "cell_type": "markdown",
      "metadata": {
        "id": "view-in-github",
        "colab_type": "text"
      },
      "source": [
        "<a href=\"https://colab.research.google.com/github/mamuncseru/deep_understanding_deep_learning/blob/main/DUDL_overfitting_trainDevsetTest.ipynb\" target=\"_parent\"><img src=\"https://colab.research.google.com/assets/colab-badge.svg\" alt=\"Open In Colab\"/></a>"
      ]
    },
    {
      "cell_type": "code",
      "execution_count": 1,
      "metadata": {
        "id": "aj_WeczpjbhU"
      },
      "outputs": [],
      "source": [
        "#import libraries\n",
        "import numpy as np\n",
        "from sklearn.model_selection import train_test_split"
      ]
    },
    {
      "cell_type": "code",
      "source": [
        "## create fake dataset\n",
        "fakedata = np.tile(np.array([1, 2, 3, 4]), (10, 1)) + np.tile(10*np.arange(1, 11), (4, 1)).T\n",
        "fakelabels = np.arange(10) > 4\n",
        "print(fakedata), print(' ')\n",
        "print(fakelabels)"
      ],
      "metadata": {
        "colab": {
          "base_uri": "https://localhost:8080/"
        },
        "id": "ulsP5knSjrFT",
        "outputId": "4fe57560-da76-48b0-8481-a42d9b703795"
      },
      "execution_count": 2,
      "outputs": [
        {
          "output_type": "stream",
          "name": "stdout",
          "text": [
            "[[ 11  12  13  14]\n",
            " [ 21  22  23  24]\n",
            " [ 31  32  33  34]\n",
            " [ 41  42  43  44]\n",
            " [ 51  52  53  54]\n",
            " [ 61  62  63  64]\n",
            " [ 71  72  73  74]\n",
            " [ 81  82  83  84]\n",
            " [ 91  92  93  94]\n",
            " [101 102 103 104]]\n",
            " \n",
            "[False False False False False  True  True  True  True  True]\n"
          ]
        }
      ]
    },
    {
      "cell_type": "markdown",
      "source": [
        "## Using train_test_split"
      ],
      "metadata": {
        "id": "OQwW260okAZm"
      }
    },
    {
      "cell_type": "code",
      "source": [
        "# specify sizes of the partitions\n",
        "# oder is train, devset, test\n",
        "partitions = [.8, .1, .1]\n",
        "\n",
        "# split the data (not ethe third input, and the TMP in the variable name)\n",
        "train_data, testTMP_data, train_labels, testTMP_labels = \\\n",
        "            train_test_split(fakedata, fakelabels, train_size=partitions[0])\n",
        "\n",
        "# now split the TMP data\n",
        "split = partitions[1] / np.sum(partitions[1:])\n",
        "devset_data, test_data, devset_labels, test_labels = \\\n",
        "    train_test_split(testTMP_data, testTMP_labels, train_size=split)\n",
        "\n",
        "# print out the sizes\n",
        "print('Training data size: ' + str(train_data.shape))\n",
        "print('TestTMP data size: ' + str(testTMP_data.shape))\n",
        "print('Devset data size: ' + str(devset_data.shape))\n",
        "print('Test data size: ' + str(test_data.shape))\n",
        "print(' ')\n",
        "\n",
        "# print out the train/test data\n",
        "print('Training data: ')\n",
        "print(train_data)\n",
        "\n",
        "print('Devset data: ')\n",
        "print(devset_data)\n",
        "\n",
        "print('Test data: ')\n",
        "print(test_data)"
      ],
      "metadata": {
        "colab": {
          "base_uri": "https://localhost:8080/"
        },
        "id": "yjOSwXdMkIgA",
        "outputId": "790fe636-dec9-4979-a2aa-0af920feb4fc"
      },
      "execution_count": 6,
      "outputs": [
        {
          "output_type": "stream",
          "name": "stdout",
          "text": [
            "Training data size: (8, 4)\n",
            "TestTMP data size: (2, 4)\n",
            "Devset data size: (1, 4)\n",
            "Test data size: (1, 4)\n",
            " \n",
            "Training data: \n",
            "[[ 51  52  53  54]\n",
            " [ 11  12  13  14]\n",
            " [ 31  32  33  34]\n",
            " [ 21  22  23  24]\n",
            " [101 102 103 104]\n",
            " [ 41  42  43  44]\n",
            " [ 61  62  63  64]\n",
            " [ 91  92  93  94]]\n",
            "Devset data: \n",
            "[[81 82 83 84]]\n",
            "Test data: \n",
            "[[71 72 73 74]]\n"
          ]
        }
      ]
    },
    {
      "cell_type": "markdown",
      "source": [
        "# splitting the data manually using numpy"
      ],
      "metadata": {
        "id": "uAT_wAIHmIUD"
      }
    },
    {
      "cell_type": "code",
      "source": [
        "# partition sizes in proportion\n",
        "partitions = np.array([.8, .1, .1])\n",
        "print('Partition proportions:')\n",
        "print(partitions)\n",
        "print(' ')\n",
        "\n",
        "# convert those into integers\n",
        "partitionBnd = np.cumsum(partitions * len(fakelabels)).astype(int)\n",
        "print('Partition boundaries:')\n",
        "print(partitionBnd)\n",
        "print(' ')\n",
        "\n",
        "# random indices\n",
        "randindices = np.random.permutation(range(len(fakelabels)))\n",
        "print('Randomized data indices:')\n",
        "print(randindices)\n",
        "print(' ')"
      ],
      "metadata": {
        "colab": {
          "base_uri": "https://localhost:8080/"
        },
        "id": "3l4lszYKm16r",
        "outputId": "11b17368-facf-487a-f688-fe053b7a50c4"
      },
      "execution_count": 9,
      "outputs": [
        {
          "output_type": "stream",
          "name": "stdout",
          "text": [
            "Partition proportions:\n",
            "[0.8 0.1 0.1]\n",
            " \n",
            "Partition boundaries:\n",
            "[ 8  9 10]\n",
            " \n",
            "Randomized data indices:\n",
            "[2 9 8 0 3 6 7 1 5 4]\n",
            " \n"
          ]
        }
      ]
    },
    {
      "cell_type": "code",
      "source": [
        "# select rows for the training data\n",
        "train_dataN = fakedata[randindices[:partitionBnd[0]], :]\n",
        "train_labelsN = fakedata[randindices[:partitionBnd[0]]]\n",
        "\n",
        "# select rows for the deveset data\n",
        "devset_dataN = fakedata[randindices[partitionBnd[0]:partitionBnd[1]], :]\n",
        "devset_labelsN = fakelabels[randindices[partitionBnd[0]:partitionBnd[1]]]\n",
        "\n",
        "# select rows for the testset data\n",
        "test_dataN = fakedata[randindices[partitionBnd[1]:], :]\n",
        "test_labelsN = fakelabels[randindices[partitionBnd[1]:]]"
      ],
      "metadata": {
        "id": "xnT7lSi1oABU"
      },
      "execution_count": 10,
      "outputs": []
    },
    {
      "cell_type": "code",
      "source": [
        "train_dataN"
      ],
      "metadata": {
        "colab": {
          "base_uri": "https://localhost:8080/"
        },
        "id": "1E9l7MmZpO-x",
        "outputId": "b72541bb-ab5f-4dfa-856b-e86183ce0173"
      },
      "execution_count": 11,
      "outputs": [
        {
          "output_type": "execute_result",
          "data": {
            "text/plain": [
              "array([[ 31,  32,  33,  34],\n",
              "       [101, 102, 103, 104],\n",
              "       [ 91,  92,  93,  94],\n",
              "       [ 11,  12,  13,  14],\n",
              "       [ 41,  42,  43,  44],\n",
              "       [ 71,  72,  73,  74],\n",
              "       [ 81,  82,  83,  84],\n",
              "       [ 21,  22,  23,  24]])"
            ]
          },
          "metadata": {},
          "execution_count": 11
        }
      ]
    },
    {
      "cell_type": "code",
      "source": [
        "devset_dataN"
      ],
      "metadata": {
        "colab": {
          "base_uri": "https://localhost:8080/"
        },
        "id": "2-TtYHXPpTR3",
        "outputId": "e2b8ba16-7cf9-43ad-be89-68326ba5b255"
      },
      "execution_count": 14,
      "outputs": [
        {
          "output_type": "execute_result",
          "data": {
            "text/plain": [
              "array([[61, 62, 63, 64]])"
            ]
          },
          "metadata": {},
          "execution_count": 14
        }
      ]
    },
    {
      "cell_type": "code",
      "source": [
        "test_dataN"
      ],
      "metadata": {
        "colab": {
          "base_uri": "https://localhost:8080/"
        },
        "id": "09eJHaBLpVX3",
        "outputId": "dc40f4b1-a4c2-4085-b079-4d45c1ad3b89"
      },
      "execution_count": 15,
      "outputs": [
        {
          "output_type": "execute_result",
          "data": {
            "text/plain": [
              "array([[51, 52, 53, 54]])"
            ]
          },
          "metadata": {},
          "execution_count": 15
        }
      ]
    },
    {
      "cell_type": "code",
      "source": [
        ""
      ],
      "metadata": {
        "id": "2I9yIV0ipWeE"
      },
      "execution_count": null,
      "outputs": []
    }
  ]
}