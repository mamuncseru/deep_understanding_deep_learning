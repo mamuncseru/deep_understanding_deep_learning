{
  "nbformat": 4,
  "nbformat_minor": 0,
  "metadata": {
    "colab": {
      "name": "DUDL_convolution_pooling.ipynb",
      "provenance": [],
      "authorship_tag": "ABX9TyPoMInxnQiC2l+RaDqSjVQY",
      "include_colab_link": true
    },
    "kernelspec": {
      "name": "python3",
      "display_name": "Python 3"
    },
    "language_info": {
      "name": "python"
    }
  },
  "cells": [
    {
      "cell_type": "markdown",
      "metadata": {
        "id": "view-in-github",
        "colab_type": "text"
      },
      "source": [
        "<a href=\"https://colab.research.google.com/github/mamuncseru/deep_understanding_deep_learning/blob/main/DUDL_convolution_pooling.ipynb\" target=\"_parent\"><img src=\"https://colab.research.google.com/assets/colab-badge.svg\" alt=\"Open In Colab\"/></a>"
      ]
    },
    {
      "cell_type": "code",
      "execution_count": 1,
      "metadata": {
        "id": "ADUcDkT_9jc4"
      },
      "outputs": [],
      "source": [
        "# import libraries\n",
        "import numpy as np\n",
        "import torch\n",
        "import torch.nn as nn\n",
        "import matplotlib.pyplot as plt"
      ]
    },
    {
      "cell_type": "markdown",
      "source": [
        "## Create a maxpool instance"
      ],
      "metadata": {
        "id": "l_omrZM4-6u3"
      }
    },
    {
      "cell_type": "code",
      "source": [
        "# create a pool class instance with parameters\n",
        "\n",
        "# parameters\n",
        "poolsize = 3\n",
        "stride = 3\n",
        "\n",
        "# create the instance\n",
        "p2 = nn.MaxPool2d(poolsize, stride=3)\n",
        "p3 = nn.MaxPool3d(poolsize, stride=3)\n",
        "\n",
        "# let's have a look at them\n",
        "print(p2)\n",
        "print(p3)"
      ],
      "metadata": {
        "colab": {
          "base_uri": "https://localhost:8080/"
        },
        "id": "0ZtDIZ8XAiiA",
        "outputId": "ae19eb8a-960b-4db6-ee1c-f45536d00508"
      },
      "execution_count": 2,
      "outputs": [
        {
          "output_type": "stream",
          "name": "stdout",
          "text": [
            "MaxPool2d(kernel_size=3, stride=3, padding=0, dilation=1, ceil_mode=False)\n",
            "MaxPool3d(kernel_size=3, stride=3, padding=0, dilation=1, ceil_mode=False)\n"
          ]
        }
      ]
    },
    {
      "cell_type": "code",
      "source": [
        "# create image and apply maxpooling\n",
        "\n",
        "# create a 2D and a 3D image\n",
        "img2 = torch.randn(1, 1, 30, 30)\n",
        "img3 = torch.randn(1, 3, 30, 30)\n",
        "\n",
        "# all combinations of image and maxpool dimensionality\n",
        "img2Pool2 = p2(img2)\n",
        "print(f'2D image, 2D maxpool: {img2Pool2.shape}\\n')\n",
        "\n",
        "# img2Pool3 = p3(img2)\n",
        "# print(f'2D image, 3D maxpool: {img2Pool3.shape}\\n')\n",
        "\n",
        "img3Pool2 = p2(img3)\n",
        "print(f'3D image, 2D maxpool: {img3Pool2.shape}\\n')\n",
        "\n",
        "img3Pool3 = p3(img3)\n",
        "print(f'3D image, 3D maxpool: {img3Pool3.shape}\\n')\n"
      ],
      "metadata": {
        "colab": {
          "base_uri": "https://localhost:8080/"
        },
        "id": "eaU_oScyA0CK",
        "outputId": "67a5b2c1-a361-4f0f-83e9-47cd6b2d4d83"
      },
      "execution_count": 5,
      "outputs": [
        {
          "output_type": "stream",
          "name": "stdout",
          "text": [
            "2D image, 2D maxpool: torch.Size([1, 1, 10, 10])\n",
            "\n",
            "3D image, 2D maxpool: torch.Size([1, 3, 10, 10])\n",
            "\n",
            "3D image, 3D maxpool: torch.Size([1, 1, 10, 10])\n",
            "\n"
          ]
        }
      ]
    },
    {
      "cell_type": "markdown",
      "source": [
        "## Create a simple CNN"
      ],
      "metadata": {
        "id": "wxzB5fu3CjsY"
      }
    },
    {
      "cell_type": "code",
      "source": [
        "littlenet = nn.Sequential(\n",
        "\n",
        "    ## the conv-pool block\n",
        "    nn.Conv2d(3, 10, 5, 3, 2),  # convolution layer\n",
        "    nn.ReLU(),                  # activation layer\n",
        "    nn.AvgPool3d(3, 3),         # average-pool\n",
        "\n",
        "    ## The FFN block\n",
        "    nn.Flatten(),               # vectorize to get from image to linear\n",
        "    nn.Linear(588, 1),          # FC linear layer\n",
        "    nn.Sigmoid()                # output activation\n",
        "\n",
        ") "
      ],
      "metadata": {
        "id": "stelQbZeB5lH"
      },
      "execution_count": 6,
      "outputs": []
    },
    {
      "cell_type": "code",
      "source": [
        "# test with a bit of data\n",
        "img = torch.rand(1, 3, 128, 128)\n",
        "littlenet(img)"
      ],
      "metadata": {
        "colab": {
          "base_uri": "https://localhost:8080/"
        },
        "id": "EuJ8-ATKDM-D",
        "outputId": "a55ec532-7e1b-4b9f-b127-4bb64c40af98"
      },
      "execution_count": 7,
      "outputs": [
        {
          "output_type": "execute_result",
          "data": {
            "text/plain": [
              "tensor([[0.4718]], grad_fn=<SigmoidBackward0>)"
            ]
          },
          "metadata": {},
          "execution_count": 7
        }
      ]
    },
    {
      "cell_type": "code",
      "source": [
        ""
      ],
      "metadata": {
        "id": "B1bvadYxDpMz"
      },
      "execution_count": null,
      "outputs": []
    }
  ]
}