{
  "nbformat": 4,
  "nbformat_minor": 0,
  "metadata": {
    "colab": {
      "name": "DUDL_math_ttest.ipynb",
      "provenance": [],
      "authorship_tag": "ABX9TyNd3XnPVPUlm5qZmqZ0N9vs",
      "include_colab_link": true
    },
    "kernelspec": {
      "name": "python3",
      "display_name": "Python 3"
    },
    "language_info": {
      "name": "python"
    }
  },
  "cells": [
    {
      "cell_type": "markdown",
      "metadata": {
        "id": "view-in-github",
        "colab_type": "text"
      },
      "source": [
        "<a href=\"https://colab.research.google.com/github/mamuncseru/deep_understanding_deep_learning/blob/main/DUDL_math_ttest.ipynb\" target=\"_parent\"><img src=\"https://colab.research.google.com/assets/colab-badge.svg\" alt=\"Open In Colab\"/></a>"
      ]
    },
    {
      "cell_type": "code",
      "execution_count": 1,
      "metadata": {
        "id": "4cL2wBhykR17"
      },
      "outputs": [],
      "source": [
        "# import libraries\n",
        "import numpy as np\n",
        "import matplotlib.pyplot as plt\n",
        "\n",
        "# NEW!\n",
        "import scipy.stats as stats"
      ]
    },
    {
      "cell_type": "code",
      "source": [
        "# parameters\n",
        "n1 = 30\n",
        "n2 = 40\n",
        "mu1 = 1\n",
        "mu2 = 2\n",
        "\n",
        "# generate the data\n",
        "data1 = mu1 + np.random.randn(n1)\n",
        "data2 = mu2 + np.random.randn(n2)\n",
        "\n",
        "\n",
        "#plot them\n",
        "plt.plot(np.zeros(n1), data1, 'ro', markerfacecolor='w', markersize=14)\n",
        "plt.plot(np.ones(n2), data2, 'bs', markerfacecolor='w', markersize=14)\n",
        "plt.xlim([-1, 2])\n",
        "plt.xticks([0, 1], labels=['Group 1', 'Group 2'])\n",
        "plt.show()"
      ],
      "metadata": {
        "colab": {
          "base_uri": "https://localhost:8080/",
          "height": 265
        },
        "id": "wH_iAJlVkcv-",
        "outputId": "436e1e07-4d04-4e31-fbbf-6fbb5b6893b6"
      },
      "execution_count": 2,
      "outputs": [
        {
          "output_type": "display_data",
          "data": {
            "image/png": "[encoded data removed]",
            "text/plain": [
              "<Figure size 432x288 with 1 Axes>"
            ]
          },
          "metadata": {
            "needs_background": "light"
          }
        }
      ]
    },
    {
      "cell_type": "code",
      "source": [
        "# t-test via stats package\n",
        "\n",
        "# _ind = independent samples\n",
        "t, p = stats.ttest_ind(data1, data2)\n",
        "print(t)\n",
        "print(p)\n"
      ],
      "metadata": {
        "colab": {
          "base_uri": "https://localhost:8080/"
        },
        "id": "G_xD2trVlM-W",
        "outputId": "5fe86240-79ed-4d32-efad-29b0f1e363a2"
      },
      "execution_count": 3,
      "outputs": [
        {
          "output_type": "stream",
          "name": "stdout",
          "text": [
            "-4.038396335024309\n",
            "0.00013917718758001338\n"
          ]
        }
      ]
    },
    {
      "cell_type": "code",
      "source": [
        "# common way to show t-test results in a plot\n",
        "fig = plt.figure(figsize=(10, 4))\n",
        "plt.rcParams.update({'font.size': 12}) # change the font size\n",
        "\n",
        "plt.plot(0 + np.random.randn(n1) / 15, data1, 'ro', markerfacecolor='w', markersize=14)\n",
        "plt.plot(1 + np.random.randn(n2) / 15, data2, 'bs', markerfacecolor='w', markersize=14)\n",
        "plt.xlim([-1, 2])\n",
        "plt.xticks([0, 1], labels=['Group 1', 'Group 2'])\n",
        "\n",
        "# set the title to include the t-value and p-value\n",
        "plt.title(f't = {t:.2f}, p={p:.3f}')\n",
        "\n",
        "plt.show()\n"
      ],
      "metadata": {
        "colab": {
          "base_uri": "https://localhost:8080/",
          "height": 285
        },
        "id": "PGlm-A22lo7t",
        "outputId": "96eb240f-dd85-47e5-86a0-11d85bbcff70"
      },
      "execution_count": 4,
      "outputs": [
        {
          "output_type": "display_data",
          "data": {
            "image/png": "[encoded data removed]",
            "text/plain": [
              "<Figure size 720x288 with 1 Axes>"
            ]
          },
          "metadata": {
            "needs_background": "light"
          }
        }
      ]
    },
    {
      "cell_type": "code",
      "source": [
        ""
      ],
      "metadata": {
        "id": "XrQ_lTWhmx7v"
      },
      "execution_count": null,
      "outputs": []
    }
  ]
}