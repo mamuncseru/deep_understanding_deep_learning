{
  "nbformat": 4,
  "nbformat_minor": 0,
  "metadata": {
    "colab": {
      "name": "DUDL_math_argmin.ipynb",
      "provenance": [],
      "authorship_tag": "ABX9TyOwLqkkzs4WrvQJI5trYJmc",
      "include_colab_link": true
    },
    "kernelspec": {
      "name": "python3",
      "display_name": "Python 3"
    },
    "language_info": {
      "name": "python"
    }
  },
  "cells": [
    {
      "cell_type": "markdown",
      "metadata": {
        "id": "view-in-github",
        "colab_type": "text"
      },
      "source": [
        "<a href=\"https://colab.research.google.com/github/mamuncseru/deep_understanding_deep_learning/blob/main/DUDL_math_argmin.ipynb\" target=\"_parent\"><img src=\"https://colab.research.google.com/assets/colab-badge.svg\" alt=\"Open In Colab\"/></a>"
      ]
    },
    {
      "cell_type": "code",
      "execution_count": 1,
      "metadata": {
        "id": "MGWV-QSPFCH5"
      },
      "outputs": [],
      "source": [
        "# import libraries\n",
        "import numpy as np\n",
        "import torch\n",
        "import torch.nn as nn"
      ]
    },
    {
      "cell_type": "markdown",
      "source": [
        "### Using Numpy"
      ],
      "metadata": {
        "id": "7JpUlzMiFMe-"
      }
    },
    {
      "cell_type": "code",
      "source": [
        "# create a vector\n",
        "v = np.array([1, 40, 2, -3])\n",
        "\n",
        "# find and report the maximum and minimum values\n",
        "minval = np.min(v)\n",
        "maxval = np.max(v)\n",
        "\n",
        "print(\"Min, max: %g, %g\" %(minval, maxval))"
      ],
      "metadata": {
        "colab": {
          "base_uri": "https://localhost:8080/"
        },
        "id": "z4lHxsi8FOEM",
        "outputId": "b1b7fde5-a4fb-44f5-ec10-b6a5de6aaa70"
      },
      "execution_count": 2,
      "outputs": [
        {
          "output_type": "stream",
          "name": "stdout",
          "text": [
            "Min, max: -3, 40\n"
          ]
        }
      ]
    },
    {
      "cell_type": "code",
      "source": [
        "# now for the argmin/max\n",
        "minidx = np.argmin(v)\n",
        "maxidx = np.argmax(v)\n",
        "\n",
        "print('Min, Max indices: %g, %g' %(minidx, maxidx) ), print(' ')\n",
        "\n",
        "# confirm\n",
        "print(f\"Min val is {v[minidx] }, max val is { v[maxidx] }\")"
      ],
      "metadata": {
        "colab": {
          "base_uri": "https://localhost:8080/"
        },
        "id": "e1IdMuPIFgFV",
        "outputId": "a40ccbf5-e4e6-4dec-83bc-e50e7ac5583c"
      },
      "execution_count": 4,
      "outputs": [
        {
          "output_type": "stream",
          "name": "stdout",
          "text": [
            "Min, Max indices: 3, 1\n",
            " \n",
            "Min val is -3, max val is 40\n"
          ]
        }
      ]
    },
    {
      "cell_type": "code",
      "source": [
        "# repeat with matrix\n",
        "M = np.array([ [0, 1, 10], [20, 8, 5] ])\n",
        "print(M), print(' ')\n",
        "\n",
        "# various minima in this matrix!\n",
        "minvals1 = np.min(M) # minimum from entire matrix\n",
        "minvals2= np.min(M, axis=0) # minimum of each column (across rows)\n",
        "minvals3 = np.min(M, axis=1) # minimum of each row (across columns)\n",
        "\n",
        "# print them out\n",
        "print(minvals1)\n",
        "print(minvals2)\n",
        "print(minvals3)\n"
      ],
      "metadata": {
        "colab": {
          "base_uri": "https://localhost:8080/"
        },
        "id": "jvVOyIsNF0WU",
        "outputId": "3f14f662-d316-4be2-e6a6-30bb933755ce"
      },
      "execution_count": 5,
      "outputs": [
        {
          "output_type": "stream",
          "name": "stdout",
          "text": [
            "[[ 0  1 10]\n",
            " [20  8  5]]\n",
            " \n",
            "0\n",
            "[0 1 5]\n",
            "[0 5]\n"
          ]
        }
      ]
    },
    {
      "cell_type": "code",
      "source": [
        "# various minima in this matrix!\n",
        "minidx1 = np.argmin(M)  # minimum from entire matrix\n",
        "minidx2 = np.argmin(M, axis=0) # minimum of each column (across rows)\n",
        "minidx3 = np.argmin(M, axis=1) # minimum of each row (across columns)\n",
        "\n",
        "# print them out\n",
        "print(M), print(' ') # reminder\n",
        "print(minidx1)\n",
        "print(minidx2)\n",
        "print(minidx3)"
      ],
      "metadata": {
        "colab": {
          "base_uri": "https://localhost:8080/"
        },
        "id": "ScSli0pgGrnE",
        "outputId": "60d075c3-65eb-4a1d-cdb7-246d76a6851a"
      },
      "execution_count": 6,
      "outputs": [
        {
          "output_type": "stream",
          "name": "stdout",
          "text": [
            "[[ 0  1 10]\n",
            " [20  8  5]]\n",
            " \n",
            "0\n",
            "[0 0 1]\n",
            "[0 2]\n"
          ]
        }
      ]
    },
    {
      "cell_type": "markdown",
      "source": [
        "### Using pytorch"
      ],
      "metadata": {
        "id": "Cngr7R0OHm_X"
      }
    },
    {
      "cell_type": "code",
      "source": [
        "# create a vector\n",
        "v = torch.tensor([1, 40, 2, -3])\n",
        "\n",
        "# find and report the maximum and minimum values\n",
        "minval = torch.min(v)\n",
        "maxval = torch.max(v)\n",
        "\n",
        "print(\"Min, max: %g, %g\" %(minval, maxval))"
      ],
      "metadata": {
        "colab": {
          "base_uri": "https://localhost:8080/"
        },
        "id": "3LlFayoOHtIf",
        "outputId": "9fee2461-130d-4a70-86b6-88c6d7c4cdf1"
      },
      "execution_count": 7,
      "outputs": [
        {
          "output_type": "stream",
          "name": "stdout",
          "text": [
            "Min, max: -3, 40\n"
          ]
        }
      ]
    },
    {
      "cell_type": "code",
      "source": [
        "# now for the argmin/max\n",
        "minidx = torch.argmin(v)\n",
        "maxidx = torch.argmax(v)\n",
        "\n",
        "print('Min, Max indices: %g, %g' %(minidx, maxidx) ), print(' ')\n",
        "\n",
        "# confirm\n",
        "print(f\"Min val is {v[minidx] }, max val is { v[maxidx] }\")"
      ],
      "metadata": {
        "colab": {
          "base_uri": "https://localhost:8080/"
        },
        "id": "L4_Q5gz_IDu0",
        "outputId": "137f7c52-fba2-4a38-b824-a5a89459c1fd"
      },
      "execution_count": 8,
      "outputs": [
        {
          "output_type": "stream",
          "name": "stdout",
          "text": [
            "Min, Max indices: 3, 1\n",
            " \n",
            "Min val is -3, max val is 40\n"
          ]
        }
      ]
    },
    {
      "cell_type": "code",
      "source": [
        "# repeat with matrix\n",
        "M = torch.tensor([ [0, 1, 10], [20, 8, 5] ])\n",
        "print(M), print(' ')\n",
        "\n",
        "# various minima in this matrix!\n",
        "minvals1 = torch.min(M) # minimum from entire matrix\n",
        "minvals2= torch.min(M, axis=0) # minimum of each column (across rows)\n",
        "minvals3 = torch.min(M, axis=1) # minimum of each row (across columns)\n",
        "\n",
        "# print them out\n",
        "print(minvals1)\n",
        "print(minvals2)\n",
        "print(minvals3)\n"
      ],
      "metadata": {
        "colab": {
          "base_uri": "https://localhost:8080/"
        },
        "id": "o8qeyhTyILs0",
        "outputId": "5b741fdb-a038-4fd5-e8b2-bf81c6c0cb2a"
      },
      "execution_count": 9,
      "outputs": [
        {
          "output_type": "stream",
          "name": "stdout",
          "text": [
            "tensor([[ 0,  1, 10],\n",
            "        [20,  8,  5]])\n",
            " \n",
            "tensor(0)\n",
            "torch.return_types.min(\n",
            "values=tensor([0, 1, 5]),\n",
            "indices=tensor([0, 0, 1]))\n",
            "torch.return_types.min(\n",
            "values=tensor([0, 5]),\n",
            "indices=tensor([0, 2]))\n"
          ]
        }
      ]
    },
    {
      "cell_type": "code",
      "source": [
        "# various minima in this matrix!\n",
        "minidx1 = torch.argmin(M)  # minimum from entire matrix\n",
        "minidx2 = torch.argmin(M, axis=0) # minimum of each column (across rows)\n",
        "minidx3 = torch.argmin(M, axis=1) # minimum of each row (across columns)\n",
        "\n",
        "# print them out\n",
        "print(M), print(' ') # reminder\n",
        "print(minidx1)\n",
        "print(minidx2)\n",
        "print(minidx3)"
      ],
      "metadata": {
        "colab": {
          "base_uri": "https://localhost:8080/"
        },
        "id": "qg7QsdLIIW6M",
        "outputId": "a1abc661-2ffb-4f7e-9b65-36a3f37d96e8"
      },
      "execution_count": 10,
      "outputs": [
        {
          "output_type": "stream",
          "name": "stdout",
          "text": [
            "tensor([[ 0,  1, 10],\n",
            "        [20,  8,  5]])\n",
            " \n",
            "tensor(0)\n",
            "tensor([0, 0, 1])\n",
            "tensor([0, 2])\n"
          ]
        }
      ]
    },
    {
      "cell_type": "code",
      "source": [
        "minvals2.values"
      ],
      "metadata": {
        "colab": {
          "base_uri": "https://localhost:8080/"
        },
        "id": "wT-_TWDJIiN1",
        "outputId": "a85ae384-6b7b-4340-ec2e-6875d3369617"
      },
      "execution_count": 11,
      "outputs": [
        {
          "output_type": "execute_result",
          "data": {
            "text/plain": [
              "tensor([0, 1, 5])"
            ]
          },
          "metadata": {},
          "execution_count": 11
        }
      ]
    },
    {
      "cell_type": "code",
      "source": [
        "minvals2.indices"
      ],
      "metadata": {
        "colab": {
          "base_uri": "https://localhost:8080/"
        },
        "id": "-MvKDakCI9Zu",
        "outputId": "a57c4b01-363d-4c54-8df1-5ccf696bb7fb"
      },
      "execution_count": 12,
      "outputs": [
        {
          "output_type": "execute_result",
          "data": {
            "text/plain": [
              "tensor([0, 0, 1])"
            ]
          },
          "metadata": {},
          "execution_count": 12
        }
      ]
    },
    {
      "cell_type": "code",
      "source": [
        ""
      ],
      "metadata": {
        "id": "52-v_K8gJApd"
      },
      "execution_count": null,
      "outputs": []
    }
  ]
}