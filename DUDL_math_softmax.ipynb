{
  "nbformat": 4,
  "nbformat_minor": 0,
  "metadata": {
    "colab": {
      "name": "DUDL_math_softmax.ipynb",
      "provenance": [],
      "authorship_tag": "ABX9TyOAWsUQ71Yfm57HPB6rssJW",
      "include_colab_link": true
    },
    "kernelspec": {
      "name": "python3",
      "display_name": "Python 3"
    },
    "language_info": {
      "name": "python"
    }
  },
  "cells": [
    {
      "cell_type": "markdown",
      "metadata": {
        "id": "view-in-github",
        "colab_type": "text"
      },
      "source": [
        "<a href=\"https://colab.research.google.com/github/mamuncseru/deep_understanding_deep_learning/blob/main/DUDL_math_softmax.ipynb\" target=\"_parent\"><img src=\"https://colab.research.google.com/assets/colab-badge.svg\" alt=\"Open In Colab\"/></a>"
      ]
    },
    {
      "cell_type": "code",
      "execution_count": 1,
      "metadata": {
        "id": "NfeV8UiZ0cbD"
      },
      "outputs": [],
      "source": [
        "#import libraries\n",
        "import numpy as np\n",
        "import torch\n",
        "import torch.nn as nn\n",
        "import matplotlib.pyplot as plt"
      ]
    },
    {
      "cell_type": "code",
      "source": [
        "# \"manually\" in numpy\n",
        "\n",
        "# the list of numbers\n",
        "z = [1, 2, 3]\n",
        "\n",
        "# compute the softmax result\n",
        "num = np.exp(z)\n",
        "den = np.sum(np.exp(z))\n",
        "sigma = num / den\n",
        "\n",
        "print(sigma)\n",
        "print(np.sum(sigma))"
      ],
      "metadata": {
        "colab": {
          "base_uri": "https://localhost:8080/"
        },
        "id": "ZORe1Y0F0xuH",
        "outputId": "112d69c5-874b-41eb-c137-83294c22368d"
      },
      "execution_count": 10,
      "outputs": [
        {
          "output_type": "stream",
          "name": "stdout",
          "text": [
            "[0.09003057 0.24472847 0.66524096]\n",
            "1.0\n"
          ]
        }
      ]
    },
    {
      "cell_type": "code",
      "source": [
        "# repeat with some random integers\n",
        "z = np.random.randint(-5, high=15, size=25)\n",
        "print(z)\n",
        "\n",
        "# compute the softmax result\n",
        "num = np.exp(z)\n",
        "den = np.sum( num )\n",
        "sigma = num / den\n",
        "\n",
        "# compare\n",
        "plt.plot(z, sigma, 'ko')\n",
        "plt.xlabel('Original number (z)')\n",
        "plt.ylabel('Softmaxified $\\sigma$')\n",
        "plt.title('$\\sum\\sigma$ = %g' %np.sum(sigma))\n",
        "plt.show()"
      ],
      "metadata": {
        "colab": {
          "base_uri": "https://localhost:8080/",
          "height": 334
        },
        "id": "SKwCHJOT1HWR",
        "outputId": "0267c20a-23ae-4571-f4ee-ce70b0f52825"
      },
      "execution_count": 13,
      "outputs": [
        {
          "output_type": "stream",
          "name": "stdout",
          "text": [
            "[14  1 -2 -1 -3  6 12  3 -2 -5 -1  6  8 -2  0 -3  2 -3  6  4 13 -1  5  2\n",
            " 11]\n"
          ]
        },
        {
          "output_type": "display_data",
          "data": {
            "image/png": "[encoded data removed]",
            "text/plain": [
              "<Figure size 432x288 with 1 Axes>"
            ]
          },
          "metadata": {
            "needs_background": "light"
          }
        }
      ]
    },
    {
      "cell_type": "markdown",
      "source": [
        "# Using pytorch"
      ],
      "metadata": {
        "id": "7TpXrMDm1RTJ"
      }
    },
    {
      "cell_type": "code",
      "source": [
        "# slightly more involved using torch.nn\n",
        "\n",
        "# create an instance of the softmax activation class\n",
        "softfun = nn.Softmax(dim=0)\n",
        "\n",
        "# then apply the data to that function\n",
        "sigmaT = softfun( torch.Tensor(z) )\n",
        "# now we get the results\n",
        "print(sigmaT)"
      ],
      "metadata": {
        "colab": {
          "base_uri": "https://localhost:8080/"
        },
        "id": "TBuGCjiR26kS",
        "outputId": "7cac5bef-fdc5-40c3-b01d-91e9bc0f551e"
      },
      "execution_count": 19,
      "outputs": [
        {
          "output_type": "stream",
          "name": "stdout",
          "text": [
            "tensor([6.4239e-01, 1.4520e-06, 7.2291e-08, 1.9651e-07, 2.6595e-08, 2.1550e-04,\n",
            "        8.6938e-02, 1.0729e-05, 7.2291e-08, 3.5992e-09, 1.9651e-07, 2.1550e-04,\n",
            "        1.5923e-03, 7.2291e-08, 5.3416e-07, 2.6595e-08, 3.9470e-06, 2.6595e-08,\n",
            "        2.1550e-04, 2.9164e-05, 2.3632e-01, 1.9651e-07, 7.9277e-05, 3.9470e-06,\n",
            "        3.1983e-02])\n"
          ]
        }
      ]
    },
    {
      "cell_type": "code",
      "source": [
        "# show that they are the same\n",
        "plt.plot(sigma, sigmaT, 'ko')\n",
        "plt.xlabel('\"Manual\" softmax')\n",
        "plt.ylabel('Pytorch nn.Softmax')\n",
        "plt.title(f'The two methods correlate at r={np.corrcoef(sigma, sigmaT)[0, 1]}')\n",
        "plt.show()"
      ],
      "metadata": {
        "colab": {
          "base_uri": "https://localhost:8080/",
          "height": 295
        },
        "id": "jEJzg0XI3Lly",
        "outputId": "1a2a8524-51e9-4533-a670-4b0f8bde83c3"
      },
      "execution_count": 20,
      "outputs": [
        {
          "output_type": "display_data",
          "data": {
            "image/png": "[encoded data removed]",
            "text/plain": [
              "<Figure size 432x288 with 1 Axes>"
            ]
          },
          "metadata": {
            "needs_background": "light"
          }
        }
      ]
    },
    {
      "cell_type": "code",
      "source": [
        ""
      ],
      "metadata": {
        "id": "23689QBH4I-y"
      },
      "execution_count": null,
      "outputs": []
    }
  ]
}