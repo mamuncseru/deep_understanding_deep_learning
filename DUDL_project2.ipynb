{
  "nbformat": 4,
  "nbformat_minor": 0,
  "metadata": {
    "colab": {
      "name": "DUDL_project2.ipynb",
      "provenance": [],
      "authorship_tag": "ABX9TyOtTq6dg/a6rkm1rH+SYD7L",
      "include_colab_link": true
    },
    "kernelspec": {
      "name": "python3",
      "display_name": "Python 3"
    },
    "language_info": {
      "name": "python"
    }
  },
  "cells": [
    {
      "cell_type": "markdown",
      "metadata": {
        "id": "view-in-github",
        "colab_type": "text"
      },
      "source": [
        "<a href=\"https://colab.research.google.com/github/mamuncseru/deep_understanding_deep_learning/blob/main/DUDL_project2.ipynb\" target=\"_parent\"><img src=\"https://colab.research.google.com/assets/colab-badge.svg\" alt=\"Open In Colab\"/></a>"
      ]
    },
    {
      "cell_type": "code",
      "execution_count": 76,
      "metadata": {
        "id": "81s4AV3tmjji"
      },
      "outputs": [],
      "source": [
        "# import libraries\n",
        "import numpy as np\n",
        "import matplotlib.pyplot as plt\n",
        "import pandas as pd\n",
        "\n",
        "from sklearn.model_selection import train_test_split\n",
        "\n",
        "import time\n",
        "import seaborn as sns\n",
        "\n",
        "import torch\n",
        "import torch.nn as nn\n",
        "import torch.nn.functional as F\n",
        "from torch.utils.data import DataLoader, TensorDataset\n",
        "from IPython import display\n",
        "display.set_matplotlib_formats('svg')"
      ]
    },
    {
      "cell_type": "markdown",
      "source": [
        "## Import and process data"
      ],
      "metadata": {
        "id": "q3ReiJyHmvUi"
      }
    },
    {
      "cell_type": "code",
      "source": [
        "url = 'https://archive.ics.uci.edu/ml/machine-learning-databases/heart-disease/processed.cleveland.data'\n",
        "data = pd.read_csv(url, sep=',', header=None)\n",
        "data.columns = ['age', 'sex', 'cp', 'trestbps', 'chol', 'fbs', 'restecg', 'thalach', 'exang', 'oldpeak', 'slope', 'ca', 'thal', 'DISEASE']\n",
        "\n",
        "# data contain some ?'s; replace with NaN and drop those rows\n",
        "data = data.replace('?', np.nan).dropna()\n",
        "\n",
        "data"
      ],
      "metadata": {
        "colab": {
          "base_uri": "https://localhost:8080/",
          "height": 424
        },
        "id": "EWCkeOOmmy_s",
        "outputId": "0b04ba49-8ae8-436d-e9a6-0e5edf38db59"
      },
      "execution_count": 73,
      "outputs": [
        {
          "output_type": "execute_result",
          "data": {
            "text/plain": [
              "      age  sex   cp  trestbps   chol  fbs  restecg  thalach  exang  oldpeak  \\\n",
              "0    63.0  1.0  1.0     145.0  233.0  1.0      2.0    150.0    0.0      2.3   \n",
              "1    67.0  1.0  4.0     160.0  286.0  0.0      2.0    108.0    1.0      1.5   \n",
              "2    67.0  1.0  4.0     120.0  229.0  0.0      2.0    129.0    1.0      2.6   \n",
              "3    37.0  1.0  3.0     130.0  250.0  0.0      0.0    187.0    0.0      3.5   \n",
              "4    41.0  0.0  2.0     130.0  204.0  0.0      2.0    172.0    0.0      1.4   \n",
              "..    ...  ...  ...       ...    ...  ...      ...      ...    ...      ...   \n",
              "297  57.0  0.0  4.0     140.0  241.0  0.0      0.0    123.0    1.0      0.2   \n",
              "298  45.0  1.0  1.0     110.0  264.0  0.0      0.0    132.0    0.0      1.2   \n",
              "299  68.0  1.0  4.0     144.0  193.0  1.0      0.0    141.0    0.0      3.4   \n",
              "300  57.0  1.0  4.0     130.0  131.0  0.0      0.0    115.0    1.0      1.2   \n",
              "301  57.0  0.0  2.0     130.0  236.0  0.0      2.0    174.0    0.0      0.0   \n",
              "\n",
              "     slope   ca thal  DISEASE  \n",
              "0      3.0  0.0  6.0        0  \n",
              "1      2.0  3.0  3.0        2  \n",
              "2      2.0  2.0  7.0        1  \n",
              "3      3.0  0.0  3.0        0  \n",
              "4      1.0  0.0  3.0        0  \n",
              "..     ...  ...  ...      ...  \n",
              "297    2.0  0.0  7.0        1  \n",
              "298    2.0  0.0  7.0        1  \n",
              "299    2.0  2.0  7.0        2  \n",
              "300    2.0  1.0  7.0        3  \n",
              "301    2.0  1.0  3.0        1  \n",
              "\n",
              "[297 rows x 14 columns]"
            ],
            "text/html": [
              "\n",
              "  <div id=\"df-d9e4439f-a7ca-44d5-a242-940310269915\">\n",
              "    <div class=\"colab-df-container\">\n",
              "      <div>\n",
              "<style scoped>\n",
              "    .dataframe tbody tr th:only-of-type {\n",
              "        vertical-align: middle;\n",
              "    }\n",
              "\n",
              "    .dataframe tbody tr th {\n",
              "        vertical-align: top;\n",
              "    }\n",
              "\n",
              "    .dataframe thead th {\n",
              "        text-align: right;\n",
              "    }\n",
              "</style>\n",
              "<table border=\"1\" class=\"dataframe\">\n",
              "  <thead>\n",
              "    <tr style=\"text-align: right;\">\n",
              "      <th></th>\n",
              "      <th>age</th>\n",
              "      <th>sex</th>\n",
              "      <th>cp</th>\n",
              "      <th>trestbps</th>\n",
              "      <th>chol</th>\n",
              "      <th>fbs</th>\n",
              "      <th>restecg</th>\n",
              "      <th>thalach</th>\n",
              "      <th>exang</th>\n",
              "      <th>oldpeak</th>\n",
              "      <th>slope</th>\n",
              "      <th>ca</th>\n",
              "      <th>thal</th>\n",
              "      <th>DISEASE</th>\n",
              "    </tr>\n",
              "  </thead>\n",
              "  <tbody>\n",
              "    <tr>\n",
              "      <th>0</th>\n",
              "      <td>63.0</td>\n",
              "      <td>1.0</td>\n",
              "      <td>1.0</td>\n",
              "      <td>145.0</td>\n",
              "      <td>233.0</td>\n",
              "      <td>1.0</td>\n",
              "      <td>2.0</td>\n",
              "      <td>150.0</td>\n",
              "      <td>0.0</td>\n",
              "      <td>2.3</td>\n",
              "      <td>3.0</td>\n",
              "      <td>0.0</td>\n",
              "      <td>6.0</td>\n",
              "      <td>0</td>\n",
              "    </tr>\n",
              "    <tr>\n",
              "      <th>1</th>\n",
              "      <td>67.0</td>\n",
              "      <td>1.0</td>\n",
              "      <td>4.0</td>\n",
              "      <td>160.0</td>\n",
              "      <td>286.0</td>\n",
              "      <td>0.0</td>\n",
              "      <td>2.0</td>\n",
              "      <td>108.0</td>\n",
              "      <td>1.0</td>\n",
              "      <td>1.5</td>\n",
              "      <td>2.0</td>\n",
              "      <td>3.0</td>\n",
              "      <td>3.0</td>\n",
              "      <td>2</td>\n",
              "    </tr>\n",
              "    <tr>\n",
              "      <th>2</th>\n",
              "      <td>67.0</td>\n",
              "      <td>1.0</td>\n",
              "      <td>4.0</td>\n",
              "      <td>120.0</td>\n",
              "      <td>229.0</td>\n",
              "      <td>0.0</td>\n",
              "      <td>2.0</td>\n",
              "      <td>129.0</td>\n",
              "      <td>1.0</td>\n",
              "      <td>2.6</td>\n",
              "      <td>2.0</td>\n",
              "      <td>2.0</td>\n",
              "      <td>7.0</td>\n",
              "      <td>1</td>\n",
              "    </tr>\n",
              "    <tr>\n",
              "      <th>3</th>\n",
              "      <td>37.0</td>\n",
              "      <td>1.0</td>\n",
              "      <td>3.0</td>\n",
              "      <td>130.0</td>\n",
              "      <td>250.0</td>\n",
              "      <td>0.0</td>\n",
              "      <td>0.0</td>\n",
              "      <td>187.0</td>\n",
              "      <td>0.0</td>\n",
              "      <td>3.5</td>\n",
              "      <td>3.0</td>\n",
              "      <td>0.0</td>\n",
              "      <td>3.0</td>\n",
              "      <td>0</td>\n",
              "    </tr>\n",
              "    <tr>\n",
              "      <th>4</th>\n",
              "      <td>41.0</td>\n",
              "      <td>0.0</td>\n",
              "      <td>2.0</td>\n",
              "      <td>130.0</td>\n",
              "      <td>204.0</td>\n",
              "      <td>0.0</td>\n",
              "      <td>2.0</td>\n",
              "      <td>172.0</td>\n",
              "      <td>0.0</td>\n",
              "      <td>1.4</td>\n",
              "      <td>1.0</td>\n",
              "      <td>0.0</td>\n",
              "      <td>3.0</td>\n",
              "      <td>0</td>\n",
              "    </tr>\n",
              "    <tr>\n",
              "      <th>...</th>\n",
              "      <td>...</td>\n",
              "      <td>...</td>\n",
              "      <td>...</td>\n",
              "      <td>...</td>\n",
              "      <td>...</td>\n",
              "      <td>...</td>\n",
              "      <td>...</td>\n",
              "      <td>...</td>\n",
              "      <td>...</td>\n",
              "      <td>...</td>\n",
              "      <td>...</td>\n",
              "      <td>...</td>\n",
              "      <td>...</td>\n",
              "      <td>...</td>\n",
              "    </tr>\n",
              "    <tr>\n",
              "      <th>297</th>\n",
              "      <td>57.0</td>\n",
              "      <td>0.0</td>\n",
              "      <td>4.0</td>\n",
              "      <td>140.0</td>\n",
              "      <td>241.0</td>\n",
              "      <td>0.0</td>\n",
              "      <td>0.0</td>\n",
              "      <td>123.0</td>\n",
              "      <td>1.0</td>\n",
              "      <td>0.2</td>\n",
              "      <td>2.0</td>\n",
              "      <td>0.0</td>\n",
              "      <td>7.0</td>\n",
              "      <td>1</td>\n",
              "    </tr>\n",
              "    <tr>\n",
              "      <th>298</th>\n",
              "      <td>45.0</td>\n",
              "      <td>1.0</td>\n",
              "      <td>1.0</td>\n",
              "      <td>110.0</td>\n",
              "      <td>264.0</td>\n",
              "      <td>0.0</td>\n",
              "      <td>0.0</td>\n",
              "      <td>132.0</td>\n",
              "      <td>0.0</td>\n",
              "      <td>1.2</td>\n",
              "      <td>2.0</td>\n",
              "      <td>0.0</td>\n",
              "      <td>7.0</td>\n",
              "      <td>1</td>\n",
              "    </tr>\n",
              "    <tr>\n",
              "      <th>299</th>\n",
              "      <td>68.0</td>\n",
              "      <td>1.0</td>\n",
              "      <td>4.0</td>\n",
              "      <td>144.0</td>\n",
              "      <td>193.0</td>\n",
              "      <td>1.0</td>\n",
              "      <td>0.0</td>\n",
              "      <td>141.0</td>\n",
              "      <td>0.0</td>\n",
              "      <td>3.4</td>\n",
              "      <td>2.0</td>\n",
              "      <td>2.0</td>\n",
              "      <td>7.0</td>\n",
              "      <td>2</td>\n",
              "    </tr>\n",
              "    <tr>\n",
              "      <th>300</th>\n",
              "      <td>57.0</td>\n",
              "      <td>1.0</td>\n",
              "      <td>4.0</td>\n",
              "      <td>130.0</td>\n",
              "      <td>131.0</td>\n",
              "      <td>0.0</td>\n",
              "      <td>0.0</td>\n",
              "      <td>115.0</td>\n",
              "      <td>1.0</td>\n",
              "      <td>1.2</td>\n",
              "      <td>2.0</td>\n",
              "      <td>1.0</td>\n",
              "      <td>7.0</td>\n",
              "      <td>3</td>\n",
              "    </tr>\n",
              "    <tr>\n",
              "      <th>301</th>\n",
              "      <td>57.0</td>\n",
              "      <td>0.0</td>\n",
              "      <td>2.0</td>\n",
              "      <td>130.0</td>\n",
              "      <td>236.0</td>\n",
              "      <td>0.0</td>\n",
              "      <td>2.0</td>\n",
              "      <td>174.0</td>\n",
              "      <td>0.0</td>\n",
              "      <td>0.0</td>\n",
              "      <td>2.0</td>\n",
              "      <td>1.0</td>\n",
              "      <td>3.0</td>\n",
              "      <td>1</td>\n",
              "    </tr>\n",
              "  </tbody>\n",
              "</table>\n",
              "<p>297 rows × 14 columns</p>\n",
              "</div>\n",
              "      <button class=\"colab-df-convert\" onclick=\"convertToInteractive('df-d9e4439f-a7ca-44d5-a242-940310269915')\"\n",
              "              title=\"Convert this dataframe to an interactive table.\"\n",
              "              style=\"display:none;\">\n",
              "        \n",
              "  <svg xmlns=\"http://www.w3.org/2000/svg\" height=\"24px\"viewBox=\"0 0 24 24\"\n",
              "       width=\"24px\">\n",
              "    <path d=\"M0 0h24v24H0V0z\" fill=\"none\"/>\n",
              "    <path d=\"M18.56 5.44l.94 2.06.94-2.06 2.06-.94-2.06-.94-.94-2.06-.94 2.06-2.06.94zm-11 1L8.5 8.5l.94-2.06 2.06-.94-2.06-.94L8.5 2.5l-.94 2.06-2.06.94zm10 10l.94 2.06.94-2.06 2.06-.94-2.06-.94-.94-2.06-.94 2.06-2.06.94z\"/><path d=\"M17.41 7.96l-1.37-1.37c-.4-.4-.92-.59-1.43-.59-.52 0-1.04.2-1.43.59L10.3 9.45l-7.72 7.72c-.78.78-.78 2.05 0 2.83L4 21.41c.39.39.9.59 1.41.59.51 0 1.02-.2 1.41-.59l7.78-7.78 2.81-2.81c.8-.78.8-2.07 0-2.86zM5.41 20L4 18.59l7.72-7.72 1.47 1.35L5.41 20z\"/>\n",
              "  </svg>\n",
              "      </button>\n",
              "      \n",
              "  <style>\n",
              "    .colab-df-container {\n",
              "      display:flex;\n",
              "      flex-wrap:wrap;\n",
              "      gap: 12px;\n",
              "    }\n",
              "\n",
              "    .colab-df-convert {\n",
              "      background-color: #E8F0FE;\n",
              "      border: none;\n",
              "      border-radius: 50%;\n",
              "      cursor: pointer;\n",
              "      display: none;\n",
              "      fill: #1967D2;\n",
              "      height: 32px;\n",
              "      padding: 0 0 0 0;\n",
              "      width: 32px;\n",
              "    }\n",
              "\n",
              "    .colab-df-convert:hover {\n",
              "      background-color: #E2EBFA;\n",
              "      box-shadow: 0px 1px 2px rgba(60, 64, 67, 0.3), 0px 1px 3px 1px rgba(60, 64, 67, 0.15);\n",
              "      fill: #174EA6;\n",
              "    }\n",
              "\n",
              "    [theme=dark] .colab-df-convert {\n",
              "      background-color: #3B4455;\n",
              "      fill: #D2E3FC;\n",
              "    }\n",
              "\n",
              "    [theme=dark] .colab-df-convert:hover {\n",
              "      background-color: #434B5C;\n",
              "      box-shadow: 0px 1px 3px 1px rgba(0, 0, 0, 0.15);\n",
              "      filter: drop-shadow(0px 1px 2px rgba(0, 0, 0, 0.3));\n",
              "      fill: #FFFFFF;\n",
              "    }\n",
              "  </style>\n",
              "\n",
              "      <script>\n",
              "        const buttonEl =\n",
              "          document.querySelector('#df-d9e4439f-a7ca-44d5-a242-940310269915 button.colab-df-convert');\n",
              "        buttonEl.style.display =\n",
              "          google.colab.kernel.accessAllowed ? 'block' : 'none';\n",
              "\n",
              "        async function convertToInteractive(key) {\n",
              "          const element = document.querySelector('#df-d9e4439f-a7ca-44d5-a242-940310269915');\n",
              "          const dataTable =\n",
              "            await google.colab.kernel.invokeFunction('convertToInteractive',\n",
              "                                                     [key], {});\n",
              "          if (!dataTable) return;\n",
              "\n",
              "          const docLinkHtml = 'Like what you see? Visit the ' +\n",
              "            '<a target=\"_blank\" href=https://colab.research.google.com/notebooks/data_table.ipynb>data table notebook</a>'\n",
              "            + ' to learn more about interactive tables.';\n",
              "          element.innerHTML = '';\n",
              "          dataTable['output_type'] = 'display_data';\n",
              "          await google.colab.output.renderOutput(dataTable, element);\n",
              "          const docLink = document.createElement('div');\n",
              "          docLink.innerHTML = docLinkHtml;\n",
              "          element.appendChild(docLink);\n",
              "        }\n",
              "      </script>\n",
              "    </div>\n",
              "  </div>\n",
              "  "
            ]
          },
          "metadata": {},
          "execution_count": 73
        }
      ]
    },
    {
      "cell_type": "code",
      "source": [
        "# describe the data\n",
        "data.describe()"
      ],
      "metadata": {
        "colab": {
          "base_uri": "https://localhost:8080/",
          "height": 300
        },
        "id": "rZMgh8VOndTh",
        "outputId": "1a94a07a-7adc-4cec-b8ad-207ab723daf9"
      },
      "execution_count": 74,
      "outputs": [
        {
          "output_type": "execute_result",
          "data": {
            "text/plain": [
              "              age         sex          cp    trestbps        chol         fbs  \\\n",
              "count  297.000000  297.000000  297.000000  297.000000  297.000000  297.000000   \n",
              "mean    54.542088    0.676768    3.158249  131.693603  247.350168    0.144781   \n",
              "std      9.049736    0.468500    0.964859   17.762806   51.997583    0.352474   \n",
              "min     29.000000    0.000000    1.000000   94.000000  126.000000    0.000000   \n",
              "25%     48.000000    0.000000    3.000000  120.000000  211.000000    0.000000   \n",
              "50%     56.000000    1.000000    3.000000  130.000000  243.000000    0.000000   \n",
              "75%     61.000000    1.000000    4.000000  140.000000  276.000000    0.000000   \n",
              "max     77.000000    1.000000    4.000000  200.000000  564.000000    1.000000   \n",
              "\n",
              "          restecg     thalach       exang     oldpeak       slope     DISEASE  \n",
              "count  297.000000  297.000000  297.000000  297.000000  297.000000  297.000000  \n",
              "mean     0.996633  149.599327    0.326599    1.055556    1.602694    0.946128  \n",
              "std      0.994914   22.941562    0.469761    1.166123    0.618187    1.234551  \n",
              "min      0.000000   71.000000    0.000000    0.000000    1.000000    0.000000  \n",
              "25%      0.000000  133.000000    0.000000    0.000000    1.000000    0.000000  \n",
              "50%      1.000000  153.000000    0.000000    0.800000    2.000000    0.000000  \n",
              "75%      2.000000  166.000000    1.000000    1.600000    2.000000    2.000000  \n",
              "max      2.000000  202.000000    1.000000    6.200000    3.000000    4.000000  "
            ],
            "text/html": [
              "\n",
              "  <div id=\"df-e0083305-9d38-4d0b-b486-592236b07f76\">\n",
              "    <div class=\"colab-df-container\">\n",
              "      <div>\n",
              "<style scoped>\n",
              "    .dataframe tbody tr th:only-of-type {\n",
              "        vertical-align: middle;\n",
              "    }\n",
              "\n",
              "    .dataframe tbody tr th {\n",
              "        vertical-align: top;\n",
              "    }\n",
              "\n",
              "    .dataframe thead th {\n",
              "        text-align: right;\n",
              "    }\n",
              "</style>\n",
              "<table border=\"1\" class=\"dataframe\">\n",
              "  <thead>\n",
              "    <tr style=\"text-align: right;\">\n",
              "      <th></th>\n",
              "      <th>age</th>\n",
              "      <th>sex</th>\n",
              "      <th>cp</th>\n",
              "      <th>trestbps</th>\n",
              "      <th>chol</th>\n",
              "      <th>fbs</th>\n",
              "      <th>restecg</th>\n",
              "      <th>thalach</th>\n",
              "      <th>exang</th>\n",
              "      <th>oldpeak</th>\n",
              "      <th>slope</th>\n",
              "      <th>DISEASE</th>\n",
              "    </tr>\n",
              "  </thead>\n",
              "  <tbody>\n",
              "    <tr>\n",
              "      <th>count</th>\n",
              "      <td>297.000000</td>\n",
              "      <td>297.000000</td>\n",
              "      <td>297.000000</td>\n",
              "      <td>297.000000</td>\n",
              "      <td>297.000000</td>\n",
              "      <td>297.000000</td>\n",
              "      <td>297.000000</td>\n",
              "      <td>297.000000</td>\n",
              "      <td>297.000000</td>\n",
              "      <td>297.000000</td>\n",
              "      <td>297.000000</td>\n",
              "      <td>297.000000</td>\n",
              "    </tr>\n",
              "    <tr>\n",
              "      <th>mean</th>\n",
              "      <td>54.542088</td>\n",
              "      <td>0.676768</td>\n",
              "      <td>3.158249</td>\n",
              "      <td>131.693603</td>\n",
              "      <td>247.350168</td>\n",
              "      <td>0.144781</td>\n",
              "      <td>0.996633</td>\n",
              "      <td>149.599327</td>\n",
              "      <td>0.326599</td>\n",
              "      <td>1.055556</td>\n",
              "      <td>1.602694</td>\n",
              "      <td>0.946128</td>\n",
              "    </tr>\n",
              "    <tr>\n",
              "      <th>std</th>\n",
              "      <td>9.049736</td>\n",
              "      <td>0.468500</td>\n",
              "      <td>0.964859</td>\n",
              "      <td>17.762806</td>\n",
              "      <td>51.997583</td>\n",
              "      <td>0.352474</td>\n",
              "      <td>0.994914</td>\n",
              "      <td>22.941562</td>\n",
              "      <td>0.469761</td>\n",
              "      <td>1.166123</td>\n",
              "      <td>0.618187</td>\n",
              "      <td>1.234551</td>\n",
              "    </tr>\n",
              "    <tr>\n",
              "      <th>min</th>\n",
              "      <td>29.000000</td>\n",
              "      <td>0.000000</td>\n",
              "      <td>1.000000</td>\n",
              "      <td>94.000000</td>\n",
              "      <td>126.000000</td>\n",
              "      <td>0.000000</td>\n",
              "      <td>0.000000</td>\n",
              "      <td>71.000000</td>\n",
              "      <td>0.000000</td>\n",
              "      <td>0.000000</td>\n",
              "      <td>1.000000</td>\n",
              "      <td>0.000000</td>\n",
              "    </tr>\n",
              "    <tr>\n",
              "      <th>25%</th>\n",
              "      <td>48.000000</td>\n",
              "      <td>0.000000</td>\n",
              "      <td>3.000000</td>\n",
              "      <td>120.000000</td>\n",
              "      <td>211.000000</td>\n",
              "      <td>0.000000</td>\n",
              "      <td>0.000000</td>\n",
              "      <td>133.000000</td>\n",
              "      <td>0.000000</td>\n",
              "      <td>0.000000</td>\n",
              "      <td>1.000000</td>\n",
              "      <td>0.000000</td>\n",
              "    </tr>\n",
              "    <tr>\n",
              "      <th>50%</th>\n",
              "      <td>56.000000</td>\n",
              "      <td>1.000000</td>\n",
              "      <td>3.000000</td>\n",
              "      <td>130.000000</td>\n",
              "      <td>243.000000</td>\n",
              "      <td>0.000000</td>\n",
              "      <td>1.000000</td>\n",
              "      <td>153.000000</td>\n",
              "      <td>0.000000</td>\n",
              "      <td>0.800000</td>\n",
              "      <td>2.000000</td>\n",
              "      <td>0.000000</td>\n",
              "    </tr>\n",
              "    <tr>\n",
              "      <th>75%</th>\n",
              "      <td>61.000000</td>\n",
              "      <td>1.000000</td>\n",
              "      <td>4.000000</td>\n",
              "      <td>140.000000</td>\n",
              "      <td>276.000000</td>\n",
              "      <td>0.000000</td>\n",
              "      <td>2.000000</td>\n",
              "      <td>166.000000</td>\n",
              "      <td>1.000000</td>\n",
              "      <td>1.600000</td>\n",
              "      <td>2.000000</td>\n",
              "      <td>2.000000</td>\n",
              "    </tr>\n",
              "    <tr>\n",
              "      <th>max</th>\n",
              "      <td>77.000000</td>\n",
              "      <td>1.000000</td>\n",
              "      <td>4.000000</td>\n",
              "      <td>200.000000</td>\n",
              "      <td>564.000000</td>\n",
              "      <td>1.000000</td>\n",
              "      <td>2.000000</td>\n",
              "      <td>202.000000</td>\n",
              "      <td>1.000000</td>\n",
              "      <td>6.200000</td>\n",
              "      <td>3.000000</td>\n",
              "      <td>4.000000</td>\n",
              "    </tr>\n",
              "  </tbody>\n",
              "</table>\n",
              "</div>\n",
              "      <button class=\"colab-df-convert\" onclick=\"convertToInteractive('df-e0083305-9d38-4d0b-b486-592236b07f76')\"\n",
              "              title=\"Convert this dataframe to an interactive table.\"\n",
              "              style=\"display:none;\">\n",
              "        \n",
              "  <svg xmlns=\"http://www.w3.org/2000/svg\" height=\"24px\"viewBox=\"0 0 24 24\"\n",
              "       width=\"24px\">\n",
              "    <path d=\"M0 0h24v24H0V0z\" fill=\"none\"/>\n",
              "    <path d=\"M18.56 5.44l.94 2.06.94-2.06 2.06-.94-2.06-.94-.94-2.06-.94 2.06-2.06.94zm-11 1L8.5 8.5l.94-2.06 2.06-.94-2.06-.94L8.5 2.5l-.94 2.06-2.06.94zm10 10l.94 2.06.94-2.06 2.06-.94-2.06-.94-.94-2.06-.94 2.06-2.06.94z\"/><path d=\"M17.41 7.96l-1.37-1.37c-.4-.4-.92-.59-1.43-.59-.52 0-1.04.2-1.43.59L10.3 9.45l-7.72 7.72c-.78.78-.78 2.05 0 2.83L4 21.41c.39.39.9.59 1.41.59.51 0 1.02-.2 1.41-.59l7.78-7.78 2.81-2.81c.8-.78.8-2.07 0-2.86zM5.41 20L4 18.59l7.72-7.72 1.47 1.35L5.41 20z\"/>\n",
              "  </svg>\n",
              "      </button>\n",
              "      \n",
              "  <style>\n",
              "    .colab-df-container {\n",
              "      display:flex;\n",
              "      flex-wrap:wrap;\n",
              "      gap: 12px;\n",
              "    }\n",
              "\n",
              "    .colab-df-convert {\n",
              "      background-color: #E8F0FE;\n",
              "      border: none;\n",
              "      border-radius: 50%;\n",
              "      cursor: pointer;\n",
              "      display: none;\n",
              "      fill: #1967D2;\n",
              "      height: 32px;\n",
              "      padding: 0 0 0 0;\n",
              "      width: 32px;\n",
              "    }\n",
              "\n",
              "    .colab-df-convert:hover {\n",
              "      background-color: #E2EBFA;\n",
              "      box-shadow: 0px 1px 2px rgba(60, 64, 67, 0.3), 0px 1px 3px 1px rgba(60, 64, 67, 0.15);\n",
              "      fill: #174EA6;\n",
              "    }\n",
              "\n",
              "    [theme=dark] .colab-df-convert {\n",
              "      background-color: #3B4455;\n",
              "      fill: #D2E3FC;\n",
              "    }\n",
              "\n",
              "    [theme=dark] .colab-df-convert:hover {\n",
              "      background-color: #434B5C;\n",
              "      box-shadow: 0px 1px 3px 1px rgba(0, 0, 0, 0.15);\n",
              "      filter: drop-shadow(0px 1px 2px rgba(0, 0, 0, 0.3));\n",
              "      fill: #FFFFFF;\n",
              "    }\n",
              "  </style>\n",
              "\n",
              "      <script>\n",
              "        const buttonEl =\n",
              "          document.querySelector('#df-e0083305-9d38-4d0b-b486-592236b07f76 button.colab-df-convert');\n",
              "        buttonEl.style.display =\n",
              "          google.colab.kernel.accessAllowed ? 'block' : 'none';\n",
              "\n",
              "        async function convertToInteractive(key) {\n",
              "          const element = document.querySelector('#df-e0083305-9d38-4d0b-b486-592236b07f76');\n",
              "          const dataTable =\n",
              "            await google.colab.kernel.invokeFunction('convertToInteractive',\n",
              "                                                     [key], {});\n",
              "          if (!dataTable) return;\n",
              "\n",
              "          const docLinkHtml = 'Like what you see? Visit the ' +\n",
              "            '<a target=\"_blank\" href=https://colab.research.google.com/notebooks/data_table.ipynb>data table notebook</a>'\n",
              "            + ' to learn more about interactive tables.';\n",
              "          element.innerHTML = '';\n",
              "          dataTable['output_type'] = 'display_data';\n",
              "          await google.colab.output.renderOutput(dataTable, element);\n",
              "          const docLink = document.createElement('div');\n",
              "          docLink.innerHTML = docLinkHtml;\n",
              "          element.appendChild(docLink);\n",
              "        }\n",
              "      </script>\n",
              "    </div>\n",
              "  </div>\n",
              "  "
            ]
          },
          "metadata": {},
          "execution_count": 74
        }
      ]
    },
    {
      "cell_type": "code",
      "source": [
        "# check the distributions\n",
        "fig, ax = plt.subplots(1, figsize=(17, 4))\n",
        "ax = sns.boxplot(data=data)\n",
        "ax.set_xticklabels(ax.get_xticklabels(), rotation=90)\n",
        "plt.show()"
      ],
      "metadata": {
        "colab": {
          "base_uri": "https://localhost:8080/",
          "height": 397
        },
        "id": "SCGoJ4rI21g4",
        "outputId": "bf01f7e1-af92-4cb8-e5c9-1bd99d8d9bbf"
      },
      "execution_count": 77,
      "outputs": [
        {
          "output_type": "display_data",
          "data": {
            "text/plain": [
              "<Figure size 1224x288 with 1 Axes>"
            ],
            "image/svg+xml": "<?xml version=\"1.0\" encoding=\"utf-8\" standalone=\"no\"?>\n<!DOCTYPE svg PUBLIC \"-//W3C//DTD SVG 1.1//EN\"\n  \"http://www.w3.org/Graphics/SVG/1.1/DTD/svg11.dtd\">\n<!-- Created with matplotlib (https://matplotlib.org/) -->\n<svg height=\"281.665pt\" version=\"1.1\" viewBox=\"0 0 989.0875 281.665\" width=\"989.0875pt\" xmlns=\"http://www.w3.org/2000/svg\" xmlns:xlink=\"http://www.w3.org/1999/xlink\">\n <defs>\n  <style type=\"text/css\">\n*{stroke-linecap:butt;stroke-linejoin:round;}\n  </style>\n </defs>\n <g id=\"figure_1\">\n  <g id=\"patch_1\">\n   <path d=\"M 0 281.665 \nL 989.0875 281.665 \nL 989.0875 0 \nL 0 0 \nz\n\" style=\"fill:none;\"/>\n  </g>\n  <g id=\"axes_1\">\n   <g id=\"patch_2\">\n    <path d=\"M 33.2875 224.64 \nL 981.8875 224.64 \nL 981.8875 7.2 \nL 33.2875 7.2 \nz\n\" style=\"fill:#ffffff;\"/>\n   </g>\n   <g id=\"patch_3\">\n    <path clip-path=\"url(#peba6719a81)\" d=\"M 41.1925 197.933153 \nL 104.4325 197.933153 \nL 104.4325 193.376867 \nL 41.1925 193.376867 \nL 41.1925 197.933153 \nz\n\" style=\"fill:#ea96a3;stroke:#464646;stroke-linejoin:miter;stroke-width:1.5;\"/>\n   </g>\n   <g id=\"patch_4\">\n    <path clip-path=\"url(#peba6719a81)\" d=\"M 120.2425 214.756364 \nL 183.4825 214.756364 \nL 183.4825 214.40588 \nL 120.2425 214.40588 \nL 120.2425 214.756364 \nz\n\" style=\"fill:#e19153;stroke:#464646;stroke-linejoin:miter;stroke-width:1.5;\"/>\n   </g>\n   <g id=\"patch_5\">\n    <path clip-path=\"url(#peba6719a81)\" d=\"M 199.2925 213.704913 \nL 262.5325 213.704913 \nL 262.5325 213.354429 \nL 199.2925 213.354429 \nL 199.2925 213.704913 \nz\n\" style=\"fill:#b89c49;stroke:#464646;stroke-linejoin:miter;stroke-width:1.5;\"/>\n   </g>\n   <g id=\"patch_6\">\n    <path clip-path=\"url(#peba6719a81)\" d=\"M 278.3425 172.698337 \nL 341.5825 172.698337 \nL 341.5825 165.688665 \nL 278.3425 165.688665 \nL 278.3425 172.698337 \nz\n\" style=\"fill:#98a246;stroke:#464646;stroke-linejoin:miter;stroke-width:1.5;\"/>\n   </g>\n   <g id=\"patch_7\">\n    <path clip-path=\"url(#peba6719a81)\" d=\"M 357.3925 140.804333 \nL 420.6325 140.804333 \nL 420.6325 118.022901 \nL 357.3925 118.022901 \nL 357.3925 140.804333 \nz\n\" style=\"fill:#60ae47;stroke:#464646;stroke-linejoin:miter;stroke-width:1.5;\"/>\n   </g>\n   <g id=\"patch_8\">\n    <path clip-path=\"url(#peba6719a81)\" d=\"M 436.4425 214.756364 \nL 499.6825 214.756364 \nL 499.6825 214.756364 \nL 436.4425 214.756364 \nL 436.4425 214.756364 \nz\n\" style=\"fill:#4aae8a;stroke:#464646;stroke-linejoin:miter;stroke-width:1.5;\"/>\n   </g>\n   <g id=\"patch_9\">\n    <path clip-path=\"url(#peba6719a81)\" d=\"M 515.4925 214.756364 \nL 578.7325 214.756364 \nL 578.7325 214.055397 \nL 515.4925 214.055397 \nL 515.4925 214.756364 \nz\n\" style=\"fill:#4baba4;stroke:#464646;stroke-linejoin:miter;stroke-width:1.5;\"/>\n   </g>\n   <g id=\"patch_10\">\n    <path clip-path=\"url(#peba6719a81)\" d=\"M 594.5425 168.14205 \nL 657.7825 168.14205 \nL 657.7825 156.576093 \nL 594.5425 156.576093 \nL 594.5425 168.14205 \nz\n\" style=\"fill:#4fabbc;stroke:#464646;stroke-linejoin:miter;stroke-width:1.5;\"/>\n   </g>\n   <g id=\"patch_11\">\n    <path clip-path=\"url(#peba6719a81)\" d=\"M 673.5925 214.756364 \nL 736.8325 214.756364 \nL 736.8325 214.40588 \nL 673.5925 214.40588 \nL 673.5925 214.756364 \nz\n\" style=\"fill:#6daee2;stroke:#464646;stroke-linejoin:miter;stroke-width:1.5;\"/>\n   </g>\n   <g id=\"patch_12\">\n    <path clip-path=\"url(#peba6719a81)\" d=\"M 752.6425 214.756364 \nL 815.8825 214.756364 \nL 815.8825 214.19559 \nL 752.6425 214.19559 \nL 752.6425 214.756364 \nz\n\" style=\"fill:#b6a8eb;stroke:#464646;stroke-linejoin:miter;stroke-width:1.5;\"/>\n   </g>\n   <g id=\"patch_13\">\n    <path clip-path=\"url(#peba6719a81)\" d=\"M 831.6925 214.40588 \nL 894.9325 214.40588 \nL 894.9325 214.055397 \nL 831.6925 214.055397 \nL 831.6925 214.40588 \nz\n\" style=\"fill:#df8fe7;stroke:#464646;stroke-linejoin:miter;stroke-width:1.5;\"/>\n   </g>\n   <g id=\"patch_14\">\n    <path clip-path=\"url(#peba6719a81)\" d=\"M 910.7425 214.756364 \nL 973.9825 214.756364 \nL 973.9825 214.055397 \nL 910.7425 214.055397 \nL 910.7425 214.756364 \nz\n\" style=\"fill:#e890c6;stroke:#464646;stroke-linejoin:miter;stroke-width:1.5;\"/>\n   </g>\n   <g id=\"matplotlib.axis_1\">\n    <g id=\"xtick_1\">\n     <g id=\"line2d_1\">\n      <defs>\n       <path d=\"M 0 0 \nL 0 3.5 \n\" id=\"m2ce6613242\" style=\"stroke:#000000;stroke-width:0.8;\"/>\n      </defs>\n      <g>\n       <use style=\"stroke:#000000;stroke-width:0.8;\" x=\"72.8125\" xlink:href=\"#m2ce6613242\" y=\"224.64\"/>\n      </g>\n     </g>\n     <g id=\"text_1\">\n      <!-- age -->\n      <defs>\n       <path d=\"M 34.28125 27.484375 \nQ 23.390625 27.484375 19.1875 25 \nQ 14.984375 22.515625 14.984375 16.5 \nQ 14.984375 11.71875 18.140625 8.90625 \nQ 21.296875 6.109375 26.703125 6.109375 \nQ 34.1875 6.109375 38.703125 11.40625 \nQ 43.21875 16.703125 43.21875 25.484375 \nL 43.21875 27.484375 \nz\nM 52.203125 31.203125 \nL 52.203125 0 \nL 43.21875 0 \nL 43.21875 8.296875 \nQ 40.140625 3.328125 35.546875 0.953125 \nQ 30.953125 -1.421875 24.3125 -1.421875 \nQ 15.921875 -1.421875 10.953125 3.296875 \nQ 6 8.015625 6 15.921875 \nQ 6 25.140625 12.171875 29.828125 \nQ 18.359375 34.515625 30.609375 34.515625 \nL 43.21875 34.515625 \nL 43.21875 35.40625 \nQ 43.21875 41.609375 39.140625 45 \nQ 35.0625 48.390625 27.6875 48.390625 \nQ 23 48.390625 18.546875 47.265625 \nQ 14.109375 46.140625 10.015625 43.890625 \nL 10.015625 52.203125 \nQ 14.9375 54.109375 19.578125 55.046875 \nQ 24.21875 56 28.609375 56 \nQ 40.484375 56 46.34375 49.84375 \nQ 52.203125 43.703125 52.203125 31.203125 \nz\n\" id=\"DejaVuSans-97\"/>\n       <path d=\"M 45.40625 27.984375 \nQ 45.40625 37.75 41.375 43.109375 \nQ 37.359375 48.484375 30.078125 48.484375 \nQ 22.859375 48.484375 18.828125 43.109375 \nQ 14.796875 37.75 14.796875 27.984375 \nQ 14.796875 18.265625 18.828125 12.890625 \nQ 22.859375 7.515625 30.078125 7.515625 \nQ 37.359375 7.515625 41.375 12.890625 \nQ 45.40625 18.265625 45.40625 27.984375 \nz\nM 54.390625 6.78125 \nQ 54.390625 -7.171875 48.1875 -13.984375 \nQ 42 -20.796875 29.203125 -20.796875 \nQ 24.46875 -20.796875 20.265625 -20.09375 \nQ 16.0625 -19.390625 12.109375 -17.921875 \nL 12.109375 -9.1875 \nQ 16.0625 -11.328125 19.921875 -12.34375 \nQ 23.78125 -13.375 27.78125 -13.375 \nQ 36.625 -13.375 41.015625 -8.765625 \nQ 45.40625 -4.15625 45.40625 5.171875 \nL 45.40625 9.625 \nQ 42.625 4.78125 38.28125 2.390625 \nQ 33.9375 0 27.875 0 \nQ 17.828125 0 11.671875 7.65625 \nQ 5.515625 15.328125 5.515625 27.984375 \nQ 5.515625 40.671875 11.671875 48.328125 \nQ 17.828125 56 27.875 56 \nQ 33.9375 56 38.28125 53.609375 \nQ 42.625 51.21875 45.40625 46.390625 \nL 45.40625 54.6875 \nL 54.390625 54.6875 \nz\n\" id=\"DejaVuSans-103\"/>\n       <path d=\"M 56.203125 29.59375 \nL 56.203125 25.203125 \nL 14.890625 25.203125 \nQ 15.484375 15.921875 20.484375 11.0625 \nQ 25.484375 6.203125 34.421875 6.203125 \nQ 39.59375 6.203125 44.453125 7.46875 \nQ 49.3125 8.734375 54.109375 11.28125 \nL 54.109375 2.78125 \nQ 49.265625 0.734375 44.1875 -0.34375 \nQ 39.109375 -1.421875 33.890625 -1.421875 \nQ 20.796875 -1.421875 13.15625 6.1875 \nQ 5.515625 13.8125 5.515625 26.8125 \nQ 5.515625 40.234375 12.765625 48.109375 \nQ 20.015625 56 32.328125 56 \nQ 43.359375 56 49.78125 48.890625 \nQ 56.203125 41.796875 56.203125 29.59375 \nz\nM 47.21875 32.234375 \nQ 47.125 39.59375 43.09375 43.984375 \nQ 39.0625 48.390625 32.421875 48.390625 \nQ 24.90625 48.390625 20.390625 44.140625 \nQ 15.875 39.890625 15.1875 32.171875 \nz\n\" id=\"DejaVuSans-101\"/>\n      </defs>\n      <g transform=\"translate(75.571875 250.269687)rotate(-90)scale(0.1 -0.1)\">\n       <use xlink:href=\"#DejaVuSans-97\"/>\n       <use x=\"61.279297\" xlink:href=\"#DejaVuSans-103\"/>\n       <use x=\"124.755859\" xlink:href=\"#DejaVuSans-101\"/>\n      </g>\n     </g>\n    </g>\n    <g id=\"xtick_2\">\n     <g id=\"line2d_2\">\n      <g>\n       <use style=\"stroke:#000000;stroke-width:0.8;\" x=\"151.8625\" xlink:href=\"#m2ce6613242\" y=\"224.64\"/>\n      </g>\n     </g>\n     <g id=\"text_2\">\n      <!-- sex -->\n      <defs>\n       <path d=\"M 44.28125 53.078125 \nL 44.28125 44.578125 \nQ 40.484375 46.53125 36.375 47.5 \nQ 32.28125 48.484375 27.875 48.484375 \nQ 21.1875 48.484375 17.84375 46.4375 \nQ 14.5 44.390625 14.5 40.28125 \nQ 14.5 37.15625 16.890625 35.375 \nQ 19.28125 33.59375 26.515625 31.984375 \nL 29.59375 31.296875 \nQ 39.15625 29.25 43.1875 25.515625 \nQ 47.21875 21.78125 47.21875 15.09375 \nQ 47.21875 7.46875 41.1875 3.015625 \nQ 35.15625 -1.421875 24.609375 -1.421875 \nQ 20.21875 -1.421875 15.453125 -0.5625 \nQ 10.6875 0.296875 5.421875 2 \nL 5.421875 11.28125 \nQ 10.40625 8.6875 15.234375 7.390625 \nQ 20.0625 6.109375 24.8125 6.109375 \nQ 31.15625 6.109375 34.5625 8.28125 \nQ 37.984375 10.453125 37.984375 14.40625 \nQ 37.984375 18.0625 35.515625 20.015625 \nQ 33.0625 21.96875 24.703125 23.78125 \nL 21.578125 24.515625 \nQ 13.234375 26.265625 9.515625 29.90625 \nQ 5.8125 33.546875 5.8125 39.890625 \nQ 5.8125 47.609375 11.28125 51.796875 \nQ 16.75 56 26.8125 56 \nQ 31.78125 56 36.171875 55.265625 \nQ 40.578125 54.546875 44.28125 53.078125 \nz\n\" id=\"DejaVuSans-115\"/>\n       <path d=\"M 54.890625 54.6875 \nL 35.109375 28.078125 \nL 55.90625 0 \nL 45.3125 0 \nL 29.390625 21.484375 \nL 13.484375 0 \nL 2.875 0 \nL 24.125 28.609375 \nL 4.6875 54.6875 \nL 15.28125 54.6875 \nL 29.78125 35.203125 \nL 44.28125 54.6875 \nz\n\" id=\"DejaVuSans-120\"/>\n      </defs>\n      <g transform=\"translate(154.621875 248.74625)rotate(-90)scale(0.1 -0.1)\">\n       <use xlink:href=\"#DejaVuSans-115\"/>\n       <use x=\"52.099609\" xlink:href=\"#DejaVuSans-101\"/>\n       <use x=\"111.873047\" xlink:href=\"#DejaVuSans-120\"/>\n      </g>\n     </g>\n    </g>\n    <g id=\"xtick_3\">\n     <g id=\"line2d_3\">\n      <g>\n       <use style=\"stroke:#000000;stroke-width:0.8;\" x=\"230.9125\" xlink:href=\"#m2ce6613242\" y=\"224.64\"/>\n      </g>\n     </g>\n     <g id=\"text_3\">\n      <!-- cp -->\n      <defs>\n       <path d=\"M 48.78125 52.59375 \nL 48.78125 44.1875 \nQ 44.96875 46.296875 41.140625 47.34375 \nQ 37.3125 48.390625 33.40625 48.390625 \nQ 24.65625 48.390625 19.8125 42.84375 \nQ 14.984375 37.3125 14.984375 27.296875 \nQ 14.984375 17.28125 19.8125 11.734375 \nQ 24.65625 6.203125 33.40625 6.203125 \nQ 37.3125 6.203125 41.140625 7.25 \nQ 44.96875 8.296875 48.78125 10.40625 \nL 48.78125 2.09375 \nQ 45.015625 0.34375 40.984375 -0.53125 \nQ 36.96875 -1.421875 32.421875 -1.421875 \nQ 20.0625 -1.421875 12.78125 6.34375 \nQ 5.515625 14.109375 5.515625 27.296875 \nQ 5.515625 40.671875 12.859375 48.328125 \nQ 20.21875 56 33.015625 56 \nQ 37.15625 56 41.109375 55.140625 \nQ 45.0625 54.296875 48.78125 52.59375 \nz\n\" id=\"DejaVuSans-99\"/>\n       <path d=\"M 18.109375 8.203125 \nL 18.109375 -20.796875 \nL 9.078125 -20.796875 \nL 9.078125 54.6875 \nL 18.109375 54.6875 \nL 18.109375 46.390625 \nQ 20.953125 51.265625 25.265625 53.625 \nQ 29.59375 56 35.59375 56 \nQ 45.5625 56 51.78125 48.09375 \nQ 58.015625 40.1875 58.015625 27.296875 \nQ 58.015625 14.40625 51.78125 6.484375 \nQ 45.5625 -1.421875 35.59375 -1.421875 \nQ 29.59375 -1.421875 25.265625 0.953125 \nQ 20.953125 3.328125 18.109375 8.203125 \nz\nM 48.6875 27.296875 \nQ 48.6875 37.203125 44.609375 42.84375 \nQ 40.53125 48.484375 33.40625 48.484375 \nQ 26.265625 48.484375 22.1875 42.84375 \nQ 18.109375 37.203125 18.109375 27.296875 \nQ 18.109375 17.390625 22.1875 11.75 \nQ 26.265625 6.109375 33.40625 6.109375 \nQ 40.53125 6.109375 44.609375 11.75 \nQ 48.6875 17.390625 48.6875 27.296875 \nz\n\" id=\"DejaVuSans-112\"/>\n      </defs>\n      <g transform=\"translate(233.671875 243.486875)rotate(-90)scale(0.1 -0.1)\">\n       <use xlink:href=\"#DejaVuSans-99\"/>\n       <use x=\"54.980469\" xlink:href=\"#DejaVuSans-112\"/>\n      </g>\n     </g>\n    </g>\n    <g id=\"xtick_4\">\n     <g id=\"line2d_4\">\n      <g>\n       <use style=\"stroke:#000000;stroke-width:0.8;\" x=\"309.9625\" xlink:href=\"#m2ce6613242\" y=\"224.64\"/>\n      </g>\n     </g>\n     <g id=\"text_4\">\n      <!-- trestbps -->\n      <defs>\n       <path d=\"M 18.3125 70.21875 \nL 18.3125 54.6875 \nL 36.8125 54.6875 \nL 36.8125 47.703125 \nL 18.3125 47.703125 \nL 18.3125 18.015625 \nQ 18.3125 11.328125 20.140625 9.421875 \nQ 21.96875 7.515625 27.59375 7.515625 \nL 36.8125 7.515625 \nL 36.8125 0 \nL 27.59375 0 \nQ 17.1875 0 13.234375 3.875 \nQ 9.28125 7.765625 9.28125 18.015625 \nL 9.28125 47.703125 \nL 2.6875 47.703125 \nL 2.6875 54.6875 \nL 9.28125 54.6875 \nL 9.28125 70.21875 \nz\n\" id=\"DejaVuSans-116\"/>\n       <path d=\"M 41.109375 46.296875 \nQ 39.59375 47.171875 37.8125 47.578125 \nQ 36.03125 48 33.890625 48 \nQ 26.265625 48 22.1875 43.046875 \nQ 18.109375 38.09375 18.109375 28.8125 \nL 18.109375 0 \nL 9.078125 0 \nL 9.078125 54.6875 \nL 18.109375 54.6875 \nL 18.109375 46.1875 \nQ 20.953125 51.171875 25.484375 53.578125 \nQ 30.03125 56 36.53125 56 \nQ 37.453125 56 38.578125 55.875 \nQ 39.703125 55.765625 41.0625 55.515625 \nz\n\" id=\"DejaVuSans-114\"/>\n       <path d=\"M 48.6875 27.296875 \nQ 48.6875 37.203125 44.609375 42.84375 \nQ 40.53125 48.484375 33.40625 48.484375 \nQ 26.265625 48.484375 22.1875 42.84375 \nQ 18.109375 37.203125 18.109375 27.296875 \nQ 18.109375 17.390625 22.1875 11.75 \nQ 26.265625 6.109375 33.40625 6.109375 \nQ 40.53125 6.109375 44.609375 11.75 \nQ 48.6875 17.390625 48.6875 27.296875 \nz\nM 18.109375 46.390625 \nQ 20.953125 51.265625 25.265625 53.625 \nQ 29.59375 56 35.59375 56 \nQ 45.5625 56 51.78125 48.09375 \nQ 58.015625 40.1875 58.015625 27.296875 \nQ 58.015625 14.40625 51.78125 6.484375 \nQ 45.5625 -1.421875 35.59375 -1.421875 \nQ 29.59375 -1.421875 25.265625 0.953125 \nQ 20.953125 3.328125 18.109375 8.203125 \nL 18.109375 0 \nL 9.078125 0 \nL 9.078125 75.984375 \nL 18.109375 75.984375 \nz\n\" id=\"DejaVuSans-98\"/>\n      </defs>\n      <g transform=\"translate(312.721875 272.635312)rotate(-90)scale(0.1 -0.1)\">\n       <use xlink:href=\"#DejaVuSans-116\"/>\n       <use x=\"39.208984\" xlink:href=\"#DejaVuSans-114\"/>\n       <use x=\"78.072266\" xlink:href=\"#DejaVuSans-101\"/>\n       <use x=\"139.595703\" xlink:href=\"#DejaVuSans-115\"/>\n       <use x=\"191.695312\" xlink:href=\"#DejaVuSans-116\"/>\n       <use x=\"230.904297\" xlink:href=\"#DejaVuSans-98\"/>\n       <use x=\"294.380859\" xlink:href=\"#DejaVuSans-112\"/>\n       <use x=\"357.857422\" xlink:href=\"#DejaVuSans-115\"/>\n      </g>\n     </g>\n    </g>\n    <g id=\"xtick_5\">\n     <g id=\"line2d_5\">\n      <g>\n       <use style=\"stroke:#000000;stroke-width:0.8;\" x=\"389.0125\" xlink:href=\"#m2ce6613242\" y=\"224.64\"/>\n      </g>\n     </g>\n     <g id=\"text_5\">\n      <!-- chol -->\n      <defs>\n       <path d=\"M 54.890625 33.015625 \nL 54.890625 0 \nL 45.90625 0 \nL 45.90625 32.71875 \nQ 45.90625 40.484375 42.875 44.328125 \nQ 39.84375 48.1875 33.796875 48.1875 \nQ 26.515625 48.1875 22.3125 43.546875 \nQ 18.109375 38.921875 18.109375 30.90625 \nL 18.109375 0 \nL 9.078125 0 \nL 9.078125 75.984375 \nL 18.109375 75.984375 \nL 18.109375 46.1875 \nQ 21.34375 51.125 25.703125 53.5625 \nQ 30.078125 56 35.796875 56 \nQ 45.21875 56 50.046875 50.171875 \nQ 54.890625 44.34375 54.890625 33.015625 \nz\n\" id=\"DejaVuSans-104\"/>\n       <path d=\"M 30.609375 48.390625 \nQ 23.390625 48.390625 19.1875 42.75 \nQ 14.984375 37.109375 14.984375 27.296875 \nQ 14.984375 17.484375 19.15625 11.84375 \nQ 23.34375 6.203125 30.609375 6.203125 \nQ 37.796875 6.203125 41.984375 11.859375 \nQ 46.1875 17.53125 46.1875 27.296875 \nQ 46.1875 37.015625 41.984375 42.703125 \nQ 37.796875 48.390625 30.609375 48.390625 \nz\nM 30.609375 56 \nQ 42.328125 56 49.015625 48.375 \nQ 55.71875 40.765625 55.71875 27.296875 \nQ 55.71875 13.875 49.015625 6.21875 \nQ 42.328125 -1.421875 30.609375 -1.421875 \nQ 18.84375 -1.421875 12.171875 6.21875 \nQ 5.515625 13.875 5.515625 27.296875 \nQ 5.515625 40.765625 12.171875 48.375 \nQ 18.84375 56 30.609375 56 \nz\n\" id=\"DejaVuSans-111\"/>\n       <path d=\"M 9.421875 75.984375 \nL 18.40625 75.984375 \nL 18.40625 0 \nL 9.421875 0 \nz\n\" id=\"DejaVuSans-108\"/>\n      </defs>\n      <g transform=\"translate(391.771875 252.372812)rotate(-90)scale(0.1 -0.1)\">\n       <use xlink:href=\"#DejaVuSans-99\"/>\n       <use x=\"54.980469\" xlink:href=\"#DejaVuSans-104\"/>\n       <use x=\"118.359375\" xlink:href=\"#DejaVuSans-111\"/>\n       <use x=\"179.541016\" xlink:href=\"#DejaVuSans-108\"/>\n      </g>\n     </g>\n    </g>\n    <g id=\"xtick_6\">\n     <g id=\"line2d_6\">\n      <g>\n       <use style=\"stroke:#000000;stroke-width:0.8;\" x=\"468.0625\" xlink:href=\"#m2ce6613242\" y=\"224.64\"/>\n      </g>\n     </g>\n     <g id=\"text_6\">\n      <!-- fbs -->\n      <defs>\n       <path d=\"M 37.109375 75.984375 \nL 37.109375 68.5 \nL 28.515625 68.5 \nQ 23.6875 68.5 21.796875 66.546875 \nQ 19.921875 64.59375 19.921875 59.515625 \nL 19.921875 54.6875 \nL 34.71875 54.6875 \nL 34.71875 47.703125 \nL 19.921875 47.703125 \nL 19.921875 0 \nL 10.890625 0 \nL 10.890625 47.703125 \nL 2.296875 47.703125 \nL 2.296875 54.6875 \nL 10.890625 54.6875 \nL 10.890625 58.5 \nQ 10.890625 67.625 15.140625 71.796875 \nQ 19.390625 75.984375 28.609375 75.984375 \nz\n\" id=\"DejaVuSans-102\"/>\n      </defs>\n      <g transform=\"translate(470.821875 246.718125)rotate(-90)scale(0.1 -0.1)\">\n       <use xlink:href=\"#DejaVuSans-102\"/>\n       <use x=\"35.205078\" xlink:href=\"#DejaVuSans-98\"/>\n       <use x=\"98.681641\" xlink:href=\"#DejaVuSans-115\"/>\n      </g>\n     </g>\n    </g>\n    <g id=\"xtick_7\">\n     <g id=\"line2d_7\">\n      <g>\n       <use style=\"stroke:#000000;stroke-width:0.8;\" x=\"547.1125\" xlink:href=\"#m2ce6613242\" y=\"224.64\"/>\n      </g>\n     </g>\n     <g id=\"text_7\">\n      <!-- restecg -->\n      <g transform=\"translate(549.871875 268.80875)rotate(-90)scale(0.1 -0.1)\">\n       <use xlink:href=\"#DejaVuSans-114\"/>\n       <use x=\"38.863281\" xlink:href=\"#DejaVuSans-101\"/>\n       <use x=\"100.386719\" xlink:href=\"#DejaVuSans-115\"/>\n       <use x=\"152.486328\" xlink:href=\"#DejaVuSans-116\"/>\n       <use x=\"191.695312\" xlink:href=\"#DejaVuSans-101\"/>\n       <use x=\"253.21875\" xlink:href=\"#DejaVuSans-99\"/>\n       <use x=\"308.199219\" xlink:href=\"#DejaVuSans-103\"/>\n      </g>\n     </g>\n    </g>\n    <g id=\"xtick_8\">\n     <g id=\"line2d_8\">\n      <g>\n       <use style=\"stroke:#000000;stroke-width:0.8;\" x=\"626.1625\" xlink:href=\"#m2ce6613242\" y=\"224.64\"/>\n      </g>\n     </g>\n     <g id=\"text_8\">\n      <!-- thalach -->\n      <g transform=\"translate(628.921875 268.768125)rotate(-90)scale(0.1 -0.1)\">\n       <use xlink:href=\"#DejaVuSans-116\"/>\n       <use x=\"39.208984\" xlink:href=\"#DejaVuSans-104\"/>\n       <use x=\"102.587891\" xlink:href=\"#DejaVuSans-97\"/>\n       <use x=\"163.867188\" xlink:href=\"#DejaVuSans-108\"/>\n       <use x=\"191.650391\" xlink:href=\"#DejaVuSans-97\"/>\n       <use x=\"252.929688\" xlink:href=\"#DejaVuSans-99\"/>\n       <use x=\"307.910156\" xlink:href=\"#DejaVuSans-104\"/>\n      </g>\n     </g>\n    </g>\n    <g id=\"xtick_9\">\n     <g id=\"line2d_9\">\n      <g>\n       <use style=\"stroke:#000000;stroke-width:0.8;\" x=\"705.2125\" xlink:href=\"#m2ce6613242\" y=\"224.64\"/>\n      </g>\n     </g>\n     <g id=\"text_9\">\n      <!-- exang -->\n      <defs>\n       <path d=\"M 54.890625 33.015625 \nL 54.890625 0 \nL 45.90625 0 \nL 45.90625 32.71875 \nQ 45.90625 40.484375 42.875 44.328125 \nQ 39.84375 48.1875 33.796875 48.1875 \nQ 26.515625 48.1875 22.3125 43.546875 \nQ 18.109375 38.921875 18.109375 30.90625 \nL 18.109375 0 \nL 9.078125 0 \nL 9.078125 54.6875 \nL 18.109375 54.6875 \nL 18.109375 46.1875 \nQ 21.34375 51.125 25.703125 53.5625 \nQ 30.078125 56 35.796875 56 \nQ 45.21875 56 50.046875 50.171875 \nQ 54.890625 44.34375 54.890625 33.015625 \nz\n\" id=\"DejaVuSans-110\"/>\n      </defs>\n      <g transform=\"translate(707.971875 262.350937)rotate(-90)scale(0.1 -0.1)\">\n       <use xlink:href=\"#DejaVuSans-101\"/>\n       <use x=\"59.773438\" xlink:href=\"#DejaVuSans-120\"/>\n       <use x=\"118.953125\" xlink:href=\"#DejaVuSans-97\"/>\n       <use x=\"180.232422\" xlink:href=\"#DejaVuSans-110\"/>\n       <use x=\"243.611328\" xlink:href=\"#DejaVuSans-103\"/>\n      </g>\n     </g>\n    </g>\n    <g id=\"xtick_10\">\n     <g id=\"line2d_10\">\n      <g>\n       <use style=\"stroke:#000000;stroke-width:0.8;\" x=\"784.2625\" xlink:href=\"#m2ce6613242\" y=\"224.64\"/>\n      </g>\n     </g>\n     <g id=\"text_10\">\n      <!-- oldpeak -->\n      <defs>\n       <path d=\"M 45.40625 46.390625 \nL 45.40625 75.984375 \nL 54.390625 75.984375 \nL 54.390625 0 \nL 45.40625 0 \nL 45.40625 8.203125 \nQ 42.578125 3.328125 38.25 0.953125 \nQ 33.9375 -1.421875 27.875 -1.421875 \nQ 17.96875 -1.421875 11.734375 6.484375 \nQ 5.515625 14.40625 5.515625 27.296875 \nQ 5.515625 40.1875 11.734375 48.09375 \nQ 17.96875 56 27.875 56 \nQ 33.9375 56 38.25 53.625 \nQ 42.578125 51.265625 45.40625 46.390625 \nz\nM 14.796875 27.296875 \nQ 14.796875 17.390625 18.875 11.75 \nQ 22.953125 6.109375 30.078125 6.109375 \nQ 37.203125 6.109375 41.296875 11.75 \nQ 45.40625 17.390625 45.40625 27.296875 \nQ 45.40625 37.203125 41.296875 42.84375 \nQ 37.203125 48.484375 30.078125 48.484375 \nQ 22.953125 48.484375 18.875 42.84375 \nQ 14.796875 37.203125 14.796875 27.296875 \nz\n\" id=\"DejaVuSans-100\"/>\n       <path d=\"M 9.078125 75.984375 \nL 18.109375 75.984375 \nL 18.109375 31.109375 \nL 44.921875 54.6875 \nL 56.390625 54.6875 \nL 27.390625 29.109375 \nL 57.625 0 \nL 45.90625 0 \nL 18.109375 26.703125 \nL 18.109375 0 \nL 9.078125 0 \nz\n\" id=\"DejaVuSans-107\"/>\n      </defs>\n      <g transform=\"translate(787.021875 271.305625)rotate(-90)scale(0.1 -0.1)\">\n       <use xlink:href=\"#DejaVuSans-111\"/>\n       <use x=\"61.181641\" xlink:href=\"#DejaVuSans-108\"/>\n       <use x=\"88.964844\" xlink:href=\"#DejaVuSans-100\"/>\n       <use x=\"152.441406\" xlink:href=\"#DejaVuSans-112\"/>\n       <use x=\"215.917969\" xlink:href=\"#DejaVuSans-101\"/>\n       <use x=\"277.441406\" xlink:href=\"#DejaVuSans-97\"/>\n       <use x=\"338.720703\" xlink:href=\"#DejaVuSans-107\"/>\n      </g>\n     </g>\n    </g>\n    <g id=\"xtick_11\">\n     <g id=\"line2d_11\">\n      <g>\n       <use style=\"stroke:#000000;stroke-width:0.8;\" x=\"863.3125\" xlink:href=\"#m2ce6613242\" y=\"224.64\"/>\n      </g>\n     </g>\n     <g id=\"text_11\">\n      <!-- slope -->\n      <g transform=\"translate(866.071875 258.247812)rotate(-90)scale(0.1 -0.1)\">\n       <use xlink:href=\"#DejaVuSans-115\"/>\n       <use x=\"52.099609\" xlink:href=\"#DejaVuSans-108\"/>\n       <use x=\"79.882812\" xlink:href=\"#DejaVuSans-111\"/>\n       <use x=\"141.064453\" xlink:href=\"#DejaVuSans-112\"/>\n       <use x=\"204.541016\" xlink:href=\"#DejaVuSans-101\"/>\n      </g>\n     </g>\n    </g>\n    <g id=\"xtick_12\">\n     <g id=\"line2d_12\">\n      <g>\n       <use style=\"stroke:#000000;stroke-width:0.8;\" x=\"942.3625\" xlink:href=\"#m2ce6613242\" y=\"224.64\"/>\n      </g>\n     </g>\n     <g id=\"text_12\">\n      <!-- DISEASE -->\n      <defs>\n       <path d=\"M 19.671875 64.796875 \nL 19.671875 8.109375 \nL 31.59375 8.109375 \nQ 46.6875 8.109375 53.6875 14.9375 \nQ 60.6875 21.78125 60.6875 36.53125 \nQ 60.6875 51.171875 53.6875 57.984375 \nQ 46.6875 64.796875 31.59375 64.796875 \nz\nM 9.8125 72.90625 \nL 30.078125 72.90625 \nQ 51.265625 72.90625 61.171875 64.09375 \nQ 71.09375 55.28125 71.09375 36.53125 \nQ 71.09375 17.671875 61.125 8.828125 \nQ 51.171875 0 30.078125 0 \nL 9.8125 0 \nz\n\" id=\"DejaVuSans-68\"/>\n       <path d=\"M 9.8125 72.90625 \nL 19.671875 72.90625 \nL 19.671875 0 \nL 9.8125 0 \nz\n\" id=\"DejaVuSans-73\"/>\n       <path d=\"M 53.515625 70.515625 \nL 53.515625 60.890625 \nQ 47.90625 63.578125 42.921875 64.890625 \nQ 37.9375 66.21875 33.296875 66.21875 \nQ 25.25 66.21875 20.875 63.09375 \nQ 16.5 59.96875 16.5 54.203125 \nQ 16.5 49.359375 19.40625 46.890625 \nQ 22.3125 44.4375 30.421875 42.921875 \nL 36.375 41.703125 \nQ 47.40625 39.59375 52.65625 34.296875 \nQ 57.90625 29 57.90625 20.125 \nQ 57.90625 9.515625 50.796875 4.046875 \nQ 43.703125 -1.421875 29.984375 -1.421875 \nQ 24.8125 -1.421875 18.96875 -0.25 \nQ 13.140625 0.921875 6.890625 3.21875 \nL 6.890625 13.375 \nQ 12.890625 10.015625 18.65625 8.296875 \nQ 24.421875 6.59375 29.984375 6.59375 \nQ 38.421875 6.59375 43.015625 9.90625 \nQ 47.609375 13.234375 47.609375 19.390625 \nQ 47.609375 24.75 44.3125 27.78125 \nQ 41.015625 30.8125 33.5 32.328125 \nL 27.484375 33.5 \nQ 16.453125 35.6875 11.515625 40.375 \nQ 6.59375 45.0625 6.59375 53.421875 \nQ 6.59375 63.09375 13.40625 68.65625 \nQ 20.21875 74.21875 32.171875 74.21875 \nQ 37.3125 74.21875 42.625 73.28125 \nQ 47.953125 72.359375 53.515625 70.515625 \nz\n\" id=\"DejaVuSans-83\"/>\n       <path d=\"M 9.8125 72.90625 \nL 55.90625 72.90625 \nL 55.90625 64.59375 \nL 19.671875 64.59375 \nL 19.671875 43.015625 \nL 54.390625 43.015625 \nL 54.390625 34.71875 \nL 19.671875 34.71875 \nL 19.671875 8.296875 \nL 56.78125 8.296875 \nL 56.78125 0 \nL 9.8125 0 \nz\n\" id=\"DejaVuSans-69\"/>\n       <path d=\"M 34.1875 63.1875 \nL 20.796875 26.90625 \nL 47.609375 26.90625 \nz\nM 28.609375 72.90625 \nL 39.796875 72.90625 \nL 67.578125 0 \nL 57.328125 0 \nL 50.6875 18.703125 \nL 17.828125 18.703125 \nL 11.1875 0 \nL 0.78125 0 \nz\n\" id=\"DejaVuSans-65\"/>\n      </defs>\n      <g transform=\"translate(945.121875 274.465)rotate(-90)scale(0.1 -0.1)\">\n       <use xlink:href=\"#DejaVuSans-68\"/>\n       <use x=\"77.001953\" xlink:href=\"#DejaVuSans-73\"/>\n       <use x=\"106.494141\" xlink:href=\"#DejaVuSans-83\"/>\n       <use x=\"169.970703\" xlink:href=\"#DejaVuSans-69\"/>\n       <use x=\"233.154297\" xlink:href=\"#DejaVuSans-65\"/>\n       <use x=\"301.5625\" xlink:href=\"#DejaVuSans-83\"/>\n       <use x=\"365.039062\" xlink:href=\"#DejaVuSans-69\"/>\n      </g>\n     </g>\n    </g>\n   </g>\n   <g id=\"matplotlib.axis_2\">\n    <g id=\"ytick_1\">\n     <g id=\"line2d_13\">\n      <defs>\n       <path d=\"M 0 0 \nL -3.5 0 \n\" id=\"m75892f135e\" style=\"stroke:#000000;stroke-width:0.8;\"/>\n      </defs>\n      <g>\n       <use style=\"stroke:#000000;stroke-width:0.8;\" x=\"33.2875\" xlink:href=\"#m75892f135e\" y=\"214.756364\"/>\n      </g>\n     </g>\n     <g id=\"text_13\">\n      <!-- 0 -->\n      <defs>\n       <path d=\"M 31.78125 66.40625 \nQ 24.171875 66.40625 20.328125 58.90625 \nQ 16.5 51.421875 16.5 36.375 \nQ 16.5 21.390625 20.328125 13.890625 \nQ 24.171875 6.390625 31.78125 6.390625 \nQ 39.453125 6.390625 43.28125 13.890625 \nQ 47.125 21.390625 47.125 36.375 \nQ 47.125 51.421875 43.28125 58.90625 \nQ 39.453125 66.40625 31.78125 66.40625 \nz\nM 31.78125 74.21875 \nQ 44.046875 74.21875 50.515625 64.515625 \nQ 56.984375 54.828125 56.984375 36.375 \nQ 56.984375 17.96875 50.515625 8.265625 \nQ 44.046875 -1.421875 31.78125 -1.421875 \nQ 19.53125 -1.421875 13.0625 8.265625 \nQ 6.59375 17.96875 6.59375 36.375 \nQ 6.59375 54.828125 13.0625 64.515625 \nQ 19.53125 74.21875 31.78125 74.21875 \nz\n\" id=\"DejaVuSans-48\"/>\n      </defs>\n      <g transform=\"translate(19.925 218.555582)scale(0.1 -0.1)\">\n       <use xlink:href=\"#DejaVuSans-48\"/>\n      </g>\n     </g>\n    </g>\n    <g id=\"ytick_2\">\n     <g id=\"line2d_14\">\n      <g>\n       <use style=\"stroke:#000000;stroke-width:0.8;\" x=\"33.2875\" xlink:href=\"#m75892f135e\" y=\"179.708008\"/>\n      </g>\n     </g>\n     <g id=\"text_14\">\n      <!-- 100 -->\n      <defs>\n       <path d=\"M 12.40625 8.296875 \nL 28.515625 8.296875 \nL 28.515625 63.921875 \nL 10.984375 60.40625 \nL 10.984375 69.390625 \nL 28.421875 72.90625 \nL 38.28125 72.90625 \nL 38.28125 8.296875 \nL 54.390625 8.296875 \nL 54.390625 0 \nL 12.40625 0 \nz\n\" id=\"DejaVuSans-49\"/>\n      </defs>\n      <g transform=\"translate(7.2 183.507226)scale(0.1 -0.1)\">\n       <use xlink:href=\"#DejaVuSans-49\"/>\n       <use x=\"63.623047\" xlink:href=\"#DejaVuSans-48\"/>\n       <use x=\"127.246094\" xlink:href=\"#DejaVuSans-48\"/>\n      </g>\n     </g>\n    </g>\n    <g id=\"ytick_3\">\n     <g id=\"line2d_15\">\n      <g>\n       <use style=\"stroke:#000000;stroke-width:0.8;\" x=\"33.2875\" xlink:href=\"#m75892f135e\" y=\"144.659652\"/>\n      </g>\n     </g>\n     <g id=\"text_15\">\n      <!-- 200 -->\n      <defs>\n       <path d=\"M 19.1875 8.296875 \nL 53.609375 8.296875 \nL 53.609375 0 \nL 7.328125 0 \nL 7.328125 8.296875 \nQ 12.9375 14.109375 22.625 23.890625 \nQ 32.328125 33.6875 34.8125 36.53125 \nQ 39.546875 41.84375 41.421875 45.53125 \nQ 43.3125 49.21875 43.3125 52.78125 \nQ 43.3125 58.59375 39.234375 62.25 \nQ 35.15625 65.921875 28.609375 65.921875 \nQ 23.96875 65.921875 18.8125 64.3125 \nQ 13.671875 62.703125 7.8125 59.421875 \nL 7.8125 69.390625 \nQ 13.765625 71.78125 18.9375 73 \nQ 24.125 74.21875 28.421875 74.21875 \nQ 39.75 74.21875 46.484375 68.546875 \nQ 53.21875 62.890625 53.21875 53.421875 \nQ 53.21875 48.921875 51.53125 44.890625 \nQ 49.859375 40.875 45.40625 35.40625 \nQ 44.1875 33.984375 37.640625 27.21875 \nQ 31.109375 20.453125 19.1875 8.296875 \nz\n\" id=\"DejaVuSans-50\"/>\n      </defs>\n      <g transform=\"translate(7.2 148.458871)scale(0.1 -0.1)\">\n       <use xlink:href=\"#DejaVuSans-50\"/>\n       <use x=\"63.623047\" xlink:href=\"#DejaVuSans-48\"/>\n       <use x=\"127.246094\" xlink:href=\"#DejaVuSans-48\"/>\n      </g>\n     </g>\n    </g>\n    <g id=\"ytick_4\">\n     <g id=\"line2d_16\">\n      <g>\n       <use style=\"stroke:#000000;stroke-width:0.8;\" x=\"33.2875\" xlink:href=\"#m75892f135e\" y=\"109.611296\"/>\n      </g>\n     </g>\n     <g id=\"text_16\">\n      <!-- 300 -->\n      <defs>\n       <path d=\"M 40.578125 39.3125 \nQ 47.65625 37.796875 51.625 33 \nQ 55.609375 28.21875 55.609375 21.1875 \nQ 55.609375 10.40625 48.1875 4.484375 \nQ 40.765625 -1.421875 27.09375 -1.421875 \nQ 22.515625 -1.421875 17.65625 -0.515625 \nQ 12.796875 0.390625 7.625 2.203125 \nL 7.625 11.71875 \nQ 11.71875 9.328125 16.59375 8.109375 \nQ 21.484375 6.890625 26.8125 6.890625 \nQ 36.078125 6.890625 40.9375 10.546875 \nQ 45.796875 14.203125 45.796875 21.1875 \nQ 45.796875 27.640625 41.28125 31.265625 \nQ 36.765625 34.90625 28.71875 34.90625 \nL 20.21875 34.90625 \nL 20.21875 43.015625 \nL 29.109375 43.015625 \nQ 36.375 43.015625 40.234375 45.921875 \nQ 44.09375 48.828125 44.09375 54.296875 \nQ 44.09375 59.90625 40.109375 62.90625 \nQ 36.140625 65.921875 28.71875 65.921875 \nQ 24.65625 65.921875 20.015625 65.03125 \nQ 15.375 64.15625 9.8125 62.3125 \nL 9.8125 71.09375 \nQ 15.4375 72.65625 20.34375 73.4375 \nQ 25.25 74.21875 29.59375 74.21875 \nQ 40.828125 74.21875 47.359375 69.109375 \nQ 53.90625 64.015625 53.90625 55.328125 \nQ 53.90625 49.265625 50.4375 45.09375 \nQ 46.96875 40.921875 40.578125 39.3125 \nz\n\" id=\"DejaVuSans-51\"/>\n      </defs>\n      <g transform=\"translate(7.2 113.410515)scale(0.1 -0.1)\">\n       <use xlink:href=\"#DejaVuSans-51\"/>\n       <use x=\"63.623047\" xlink:href=\"#DejaVuSans-48\"/>\n       <use x=\"127.246094\" xlink:href=\"#DejaVuSans-48\"/>\n      </g>\n     </g>\n    </g>\n    <g id=\"ytick_5\">\n     <g id=\"line2d_17\">\n      <g>\n       <use style=\"stroke:#000000;stroke-width:0.8;\" x=\"33.2875\" xlink:href=\"#m75892f135e\" y=\"74.56294\"/>\n      </g>\n     </g>\n     <g id=\"text_17\">\n      <!-- 400 -->\n      <defs>\n       <path d=\"M 37.796875 64.3125 \nL 12.890625 25.390625 \nL 37.796875 25.390625 \nz\nM 35.203125 72.90625 \nL 47.609375 72.90625 \nL 47.609375 25.390625 \nL 58.015625 25.390625 \nL 58.015625 17.1875 \nL 47.609375 17.1875 \nL 47.609375 0 \nL 37.796875 0 \nL 37.796875 17.1875 \nL 4.890625 17.1875 \nL 4.890625 26.703125 \nz\n\" id=\"DejaVuSans-52\"/>\n      </defs>\n      <g transform=\"translate(7.2 78.362159)scale(0.1 -0.1)\">\n       <use xlink:href=\"#DejaVuSans-52\"/>\n       <use x=\"63.623047\" xlink:href=\"#DejaVuSans-48\"/>\n       <use x=\"127.246094\" xlink:href=\"#DejaVuSans-48\"/>\n      </g>\n     </g>\n    </g>\n    <g id=\"ytick_6\">\n     <g id=\"line2d_18\">\n      <g>\n       <use style=\"stroke:#000000;stroke-width:0.8;\" x=\"33.2875\" xlink:href=\"#m75892f135e\" y=\"39.514584\"/>\n      </g>\n     </g>\n     <g id=\"text_18\">\n      <!-- 500 -->\n      <defs>\n       <path d=\"M 10.796875 72.90625 \nL 49.515625 72.90625 \nL 49.515625 64.59375 \nL 19.828125 64.59375 \nL 19.828125 46.734375 \nQ 21.96875 47.46875 24.109375 47.828125 \nQ 26.265625 48.1875 28.421875 48.1875 \nQ 40.625 48.1875 47.75 41.5 \nQ 54.890625 34.8125 54.890625 23.390625 \nQ 54.890625 11.625 47.5625 5.09375 \nQ 40.234375 -1.421875 26.90625 -1.421875 \nQ 22.3125 -1.421875 17.546875 -0.640625 \nQ 12.796875 0.140625 7.71875 1.703125 \nL 7.71875 11.625 \nQ 12.109375 9.234375 16.796875 8.0625 \nQ 21.484375 6.890625 26.703125 6.890625 \nQ 35.15625 6.890625 40.078125 11.328125 \nQ 45.015625 15.765625 45.015625 23.390625 \nQ 45.015625 31 40.078125 35.4375 \nQ 35.15625 39.890625 26.703125 39.890625 \nQ 22.75 39.890625 18.8125 39.015625 \nQ 14.890625 38.140625 10.796875 36.28125 \nz\n\" id=\"DejaVuSans-53\"/>\n      </defs>\n      <g transform=\"translate(7.2 43.313803)scale(0.1 -0.1)\">\n       <use xlink:href=\"#DejaVuSans-53\"/>\n       <use x=\"63.623047\" xlink:href=\"#DejaVuSans-48\"/>\n       <use x=\"127.246094\" xlink:href=\"#DejaVuSans-48\"/>\n      </g>\n     </g>\n    </g>\n   </g>\n   <g id=\"line2d_19\">\n    <path clip-path=\"url(#peba6719a81)\" d=\"M 72.8125 197.933153 \nL 72.8125 204.59234 \n\" style=\"fill:none;stroke:#464646;stroke-linecap:square;stroke-width:1.5;\"/>\n   </g>\n   <g id=\"line2d_20\">\n    <path clip-path=\"url(#peba6719a81)\" d=\"M 72.8125 193.376867 \nL 72.8125 187.76913 \n\" style=\"fill:none;stroke:#464646;stroke-linecap:square;stroke-width:1.5;\"/>\n   </g>\n   <g id=\"line2d_21\">\n    <path clip-path=\"url(#peba6719a81)\" d=\"M 57.0025 204.59234 \nL 88.6225 204.59234 \n\" style=\"fill:none;stroke:#464646;stroke-linecap:square;stroke-width:1.5;\"/>\n   </g>\n   <g id=\"line2d_22\">\n    <path clip-path=\"url(#peba6719a81)\" d=\"M 57.0025 187.76913 \nL 88.6225 187.76913 \n\" style=\"fill:none;stroke:#464646;stroke-linecap:square;stroke-width:1.5;\"/>\n   </g>\n   <g id=\"line2d_23\"/>\n   <g id=\"line2d_24\">\n    <path clip-path=\"url(#peba6719a81)\" d=\"M 151.8625 214.756364 \nL 151.8625 214.756364 \n\" style=\"fill:none;stroke:#464646;stroke-linecap:square;stroke-width:1.5;\"/>\n   </g>\n   <g id=\"line2d_25\">\n    <path clip-path=\"url(#peba6719a81)\" d=\"M 151.8625 214.40588 \nL 151.8625 214.40588 \n\" style=\"fill:none;stroke:#464646;stroke-linecap:square;stroke-width:1.5;\"/>\n   </g>\n   <g id=\"line2d_26\">\n    <path clip-path=\"url(#peba6719a81)\" d=\"M 136.0525 214.756364 \nL 167.6725 214.756364 \n\" style=\"fill:none;stroke:#464646;stroke-linecap:square;stroke-width:1.5;\"/>\n   </g>\n   <g id=\"line2d_27\">\n    <path clip-path=\"url(#peba6719a81)\" d=\"M 136.0525 214.40588 \nL 167.6725 214.40588 \n\" style=\"fill:none;stroke:#464646;stroke-linecap:square;stroke-width:1.5;\"/>\n   </g>\n   <g id=\"line2d_28\"/>\n   <g id=\"line2d_29\">\n    <path clip-path=\"url(#peba6719a81)\" d=\"M 230.9125 213.704913 \nL 230.9125 214.055397 \n\" style=\"fill:none;stroke:#464646;stroke-linecap:square;stroke-width:1.5;\"/>\n   </g>\n   <g id=\"line2d_30\">\n    <path clip-path=\"url(#peba6719a81)\" d=\"M 230.9125 213.354429 \nL 230.9125 213.354429 \n\" style=\"fill:none;stroke:#464646;stroke-linecap:square;stroke-width:1.5;\"/>\n   </g>\n   <g id=\"line2d_31\">\n    <path clip-path=\"url(#peba6719a81)\" d=\"M 215.1025 214.055397 \nL 246.7225 214.055397 \n\" style=\"fill:none;stroke:#464646;stroke-linecap:square;stroke-width:1.5;\"/>\n   </g>\n   <g id=\"line2d_32\">\n    <path clip-path=\"url(#peba6719a81)\" d=\"M 215.1025 213.354429 \nL 246.7225 213.354429 \n\" style=\"fill:none;stroke:#464646;stroke-linecap:square;stroke-width:1.5;\"/>\n   </g>\n   <g id=\"line2d_33\">\n    <defs>\n     <path d=\"M -0 3.535534 \nL 2.12132 0 \nL -0 -3.535534 \nL -2.12132 -0 \nz\n\" id=\"m51946da591\" style=\"stroke:#464646;stroke-linejoin:miter;\"/>\n    </defs>\n    <g clip-path=\"url(#peba6719a81)\">\n     <use style=\"fill:#464646;stroke:#464646;stroke-linejoin:miter;\" x=\"230.9125\" xlink:href=\"#m51946da591\" y=\"214.40588\"/>\n     <use style=\"fill:#464646;stroke:#464646;stroke-linejoin:miter;\" x=\"230.9125\" xlink:href=\"#m51946da591\" y=\"214.40588\"/>\n     <use style=\"fill:#464646;stroke:#464646;stroke-linejoin:miter;\" x=\"230.9125\" xlink:href=\"#m51946da591\" y=\"214.40588\"/>\n     <use style=\"fill:#464646;stroke:#464646;stroke-linejoin:miter;\" x=\"230.9125\" xlink:href=\"#m51946da591\" y=\"214.40588\"/>\n     <use style=\"fill:#464646;stroke:#464646;stroke-linejoin:miter;\" x=\"230.9125\" xlink:href=\"#m51946da591\" y=\"214.40588\"/>\n     <use style=\"fill:#464646;stroke:#464646;stroke-linejoin:miter;\" x=\"230.9125\" xlink:href=\"#m51946da591\" y=\"214.40588\"/>\n     <use style=\"fill:#464646;stroke:#464646;stroke-linejoin:miter;\" x=\"230.9125\" xlink:href=\"#m51946da591\" y=\"214.40588\"/>\n     <use style=\"fill:#464646;stroke:#464646;stroke-linejoin:miter;\" x=\"230.9125\" xlink:href=\"#m51946da591\" y=\"214.40588\"/>\n     <use style=\"fill:#464646;stroke:#464646;stroke-linejoin:miter;\" x=\"230.9125\" xlink:href=\"#m51946da591\" y=\"214.40588\"/>\n     <use style=\"fill:#464646;stroke:#464646;stroke-linejoin:miter;\" x=\"230.9125\" xlink:href=\"#m51946da591\" y=\"214.40588\"/>\n     <use style=\"fill:#464646;stroke:#464646;stroke-linejoin:miter;\" x=\"230.9125\" xlink:href=\"#m51946da591\" y=\"214.40588\"/>\n     <use style=\"fill:#464646;stroke:#464646;stroke-linejoin:miter;\" x=\"230.9125\" xlink:href=\"#m51946da591\" y=\"214.40588\"/>\n     <use style=\"fill:#464646;stroke:#464646;stroke-linejoin:miter;\" x=\"230.9125\" xlink:href=\"#m51946da591\" y=\"214.40588\"/>\n     <use style=\"fill:#464646;stroke:#464646;stroke-linejoin:miter;\" x=\"230.9125\" xlink:href=\"#m51946da591\" y=\"214.40588\"/>\n     <use style=\"fill:#464646;stroke:#464646;stroke-linejoin:miter;\" x=\"230.9125\" xlink:href=\"#m51946da591\" y=\"214.40588\"/>\n     <use style=\"fill:#464646;stroke:#464646;stroke-linejoin:miter;\" x=\"230.9125\" xlink:href=\"#m51946da591\" y=\"214.40588\"/>\n     <use style=\"fill:#464646;stroke:#464646;stroke-linejoin:miter;\" x=\"230.9125\" xlink:href=\"#m51946da591\" y=\"214.40588\"/>\n     <use style=\"fill:#464646;stroke:#464646;stroke-linejoin:miter;\" x=\"230.9125\" xlink:href=\"#m51946da591\" y=\"214.40588\"/>\n     <use style=\"fill:#464646;stroke:#464646;stroke-linejoin:miter;\" x=\"230.9125\" xlink:href=\"#m51946da591\" y=\"214.40588\"/>\n     <use style=\"fill:#464646;stroke:#464646;stroke-linejoin:miter;\" x=\"230.9125\" xlink:href=\"#m51946da591\" y=\"214.40588\"/>\n     <use style=\"fill:#464646;stroke:#464646;stroke-linejoin:miter;\" x=\"230.9125\" xlink:href=\"#m51946da591\" y=\"214.40588\"/>\n     <use style=\"fill:#464646;stroke:#464646;stroke-linejoin:miter;\" x=\"230.9125\" xlink:href=\"#m51946da591\" y=\"214.40588\"/>\n     <use style=\"fill:#464646;stroke:#464646;stroke-linejoin:miter;\" x=\"230.9125\" xlink:href=\"#m51946da591\" y=\"214.40588\"/>\n    </g>\n   </g>\n   <g id=\"line2d_34\">\n    <path clip-path=\"url(#peba6719a81)\" d=\"M 309.9625 172.698337 \nL 309.9625 181.810909 \n\" style=\"fill:none;stroke:#464646;stroke-linecap:square;stroke-width:1.5;\"/>\n   </g>\n   <g id=\"line2d_35\">\n    <path clip-path=\"url(#peba6719a81)\" d=\"M 309.9625 165.688665 \nL 309.9625 155.174159 \n\" style=\"fill:none;stroke:#464646;stroke-linecap:square;stroke-width:1.5;\"/>\n   </g>\n   <g id=\"line2d_36\">\n    <path clip-path=\"url(#peba6719a81)\" d=\"M 294.1525 181.810909 \nL 325.7725 181.810909 \n\" style=\"fill:none;stroke:#464646;stroke-linecap:square;stroke-width:1.5;\"/>\n   </g>\n   <g id=\"line2d_37\">\n    <path clip-path=\"url(#peba6719a81)\" d=\"M 294.1525 155.174159 \nL 325.7725 155.174159 \n\" style=\"fill:none;stroke:#464646;stroke-linecap:square;stroke-width:1.5;\"/>\n   </g>\n   <g id=\"line2d_38\">\n    <g clip-path=\"url(#peba6719a81)\">\n     <use style=\"fill:#464646;stroke:#464646;stroke-linejoin:miter;\" x=\"309.9625\" xlink:href=\"#m51946da591\" y=\"154.473191\"/>\n     <use style=\"fill:#464646;stroke:#464646;stroke-linejoin:miter;\" x=\"309.9625\" xlink:href=\"#m51946da591\" y=\"151.669323\"/>\n     <use style=\"fill:#464646;stroke:#464646;stroke-linejoin:miter;\" x=\"309.9625\" xlink:href=\"#m51946da591\" y=\"144.659652\"/>\n     <use style=\"fill:#464646;stroke:#464646;stroke-linejoin:miter;\" x=\"309.9625\" xlink:href=\"#m51946da591\" y=\"153.772224\"/>\n     <use style=\"fill:#464646;stroke:#464646;stroke-linejoin:miter;\" x=\"309.9625\" xlink:href=\"#m51946da591\" y=\"152.37029\"/>\n     <use style=\"fill:#464646;stroke:#464646;stroke-linejoin:miter;\" x=\"309.9625\" xlink:href=\"#m51946da591\" y=\"147.46352\"/>\n     <use style=\"fill:#464646;stroke:#464646;stroke-linejoin:miter;\" x=\"309.9625\" xlink:href=\"#m51946da591\" y=\"151.669323\"/>\n     <use style=\"fill:#464646;stroke:#464646;stroke-linejoin:miter;\" x=\"309.9625\" xlink:href=\"#m51946da591\" y=\"152.37029\"/>\n     <use style=\"fill:#464646;stroke:#464646;stroke-linejoin:miter;\" x=\"309.9625\" xlink:href=\"#m51946da591\" y=\"151.669323\"/>\n    </g>\n   </g>\n   <g id=\"line2d_39\">\n    <path clip-path=\"url(#peba6719a81)\" d=\"M 389.0125 140.804333 \nL 389.0125 170.595435 \n\" style=\"fill:none;stroke:#464646;stroke-linecap:square;stroke-width:1.5;\"/>\n   </g>\n   <g id=\"line2d_40\">\n    <path clip-path=\"url(#peba6719a81)\" d=\"M 389.0125 118.022901 \nL 389.0125 88.582282 \n\" style=\"fill:none;stroke:#464646;stroke-linecap:square;stroke-width:1.5;\"/>\n   </g>\n   <g id=\"line2d_41\">\n    <path clip-path=\"url(#peba6719a81)\" d=\"M 373.2025 170.595435 \nL 404.8225 170.595435 \n\" style=\"fill:none;stroke:#464646;stroke-linecap:square;stroke-width:1.5;\"/>\n   </g>\n   <g id=\"line2d_42\">\n    <path clip-path=\"url(#peba6719a81)\" d=\"M 373.2025 88.582282 \nL 404.8225 88.582282 \n\" style=\"fill:none;stroke:#464646;stroke-linecap:square;stroke-width:1.5;\"/>\n   </g>\n   <g id=\"line2d_43\">\n    <g clip-path=\"url(#peba6719a81)\">\n     <use style=\"fill:#464646;stroke:#464646;stroke-linejoin:miter;\" x=\"389.0125\" xlink:href=\"#m51946da591\" y=\"68.60472\"/>\n     <use style=\"fill:#464646;stroke:#464646;stroke-linejoin:miter;\" x=\"389.0125\" xlink:href=\"#m51946da591\" y=\"72.109555\"/>\n     <use style=\"fill:#464646;stroke:#464646;stroke-linejoin:miter;\" x=\"389.0125\" xlink:href=\"#m51946da591\" y=\"17.083636\"/>\n     <use style=\"fill:#464646;stroke:#464646;stroke-linejoin:miter;\" x=\"389.0125\" xlink:href=\"#m51946da591\" y=\"76.665841\"/>\n     <use style=\"fill:#464646;stroke:#464646;stroke-linejoin:miter;\" x=\"389.0125\" xlink:href=\"#m51946da591\" y=\"71.408588\"/>\n    </g>\n   </g>\n   <g id=\"line2d_44\">\n    <path clip-path=\"url(#peba6719a81)\" d=\"M 468.0625 214.756364 \nL 468.0625 214.756364 \n\" style=\"fill:none;stroke:#464646;stroke-linecap:square;stroke-width:1.5;\"/>\n   </g>\n   <g id=\"line2d_45\">\n    <path clip-path=\"url(#peba6719a81)\" d=\"M 468.0625 214.756364 \nL 468.0625 214.756364 \n\" style=\"fill:none;stroke:#464646;stroke-linecap:square;stroke-width:1.5;\"/>\n   </g>\n   <g id=\"line2d_46\">\n    <path clip-path=\"url(#peba6719a81)\" d=\"M 452.2525 214.756364 \nL 483.8725 214.756364 \n\" style=\"fill:none;stroke:#464646;stroke-linecap:square;stroke-width:1.5;\"/>\n   </g>\n   <g id=\"line2d_47\">\n    <path clip-path=\"url(#peba6719a81)\" d=\"M 452.2525 214.756364 \nL 483.8725 214.756364 \n\" style=\"fill:none;stroke:#464646;stroke-linecap:square;stroke-width:1.5;\"/>\n   </g>\n   <g id=\"line2d_48\">\n    <g clip-path=\"url(#peba6719a81)\">\n     <use style=\"fill:#464646;stroke:#464646;stroke-linejoin:miter;\" x=\"468.0625\" xlink:href=\"#m51946da591\" y=\"214.40588\"/>\n     <use style=\"fill:#464646;stroke:#464646;stroke-linejoin:miter;\" x=\"468.0625\" xlink:href=\"#m51946da591\" y=\"214.40588\"/>\n     <use style=\"fill:#464646;stroke:#464646;stroke-linejoin:miter;\" x=\"468.0625\" xlink:href=\"#m51946da591\" y=\"214.40588\"/>\n     <use style=\"fill:#464646;stroke:#464646;stroke-linejoin:miter;\" x=\"468.0625\" xlink:href=\"#m51946da591\" y=\"214.40588\"/>\n     <use style=\"fill:#464646;stroke:#464646;stroke-linejoin:miter;\" x=\"468.0625\" xlink:href=\"#m51946da591\" y=\"214.40588\"/>\n     <use style=\"fill:#464646;stroke:#464646;stroke-linejoin:miter;\" x=\"468.0625\" xlink:href=\"#m51946da591\" y=\"214.40588\"/>\n     <use style=\"fill:#464646;stroke:#464646;stroke-linejoin:miter;\" x=\"468.0625\" xlink:href=\"#m51946da591\" y=\"214.40588\"/>\n     <use style=\"fill:#464646;stroke:#464646;stroke-linejoin:miter;\" x=\"468.0625\" xlink:href=\"#m51946da591\" y=\"214.40588\"/>\n     <use style=\"fill:#464646;stroke:#464646;stroke-linejoin:miter;\" x=\"468.0625\" xlink:href=\"#m51946da591\" y=\"214.40588\"/>\n     <use style=\"fill:#464646;stroke:#464646;stroke-linejoin:miter;\" x=\"468.0625\" xlink:href=\"#m51946da591\" y=\"214.40588\"/>\n     <use style=\"fill:#464646;stroke:#464646;stroke-linejoin:miter;\" x=\"468.0625\" xlink:href=\"#m51946da591\" y=\"214.40588\"/>\n     <use style=\"fill:#464646;stroke:#464646;stroke-linejoin:miter;\" x=\"468.0625\" xlink:href=\"#m51946da591\" y=\"214.40588\"/>\n     <use style=\"fill:#464646;stroke:#464646;stroke-linejoin:miter;\" x=\"468.0625\" xlink:href=\"#m51946da591\" y=\"214.40588\"/>\n     <use style=\"fill:#464646;stroke:#464646;stroke-linejoin:miter;\" x=\"468.0625\" xlink:href=\"#m51946da591\" y=\"214.40588\"/>\n     <use style=\"fill:#464646;stroke:#464646;stroke-linejoin:miter;\" x=\"468.0625\" xlink:href=\"#m51946da591\" y=\"214.40588\"/>\n     <use style=\"fill:#464646;stroke:#464646;stroke-linejoin:miter;\" x=\"468.0625\" xlink:href=\"#m51946da591\" y=\"214.40588\"/>\n     <use style=\"fill:#464646;stroke:#464646;stroke-linejoin:miter;\" x=\"468.0625\" xlink:href=\"#m51946da591\" y=\"214.40588\"/>\n     <use style=\"fill:#464646;stroke:#464646;stroke-linejoin:miter;\" x=\"468.0625\" xlink:href=\"#m51946da591\" y=\"214.40588\"/>\n     <use style=\"fill:#464646;stroke:#464646;stroke-linejoin:miter;\" x=\"468.0625\" xlink:href=\"#m51946da591\" y=\"214.40588\"/>\n     <use style=\"fill:#464646;stroke:#464646;stroke-linejoin:miter;\" x=\"468.0625\" xlink:href=\"#m51946da591\" y=\"214.40588\"/>\n     <use style=\"fill:#464646;stroke:#464646;stroke-linejoin:miter;\" x=\"468.0625\" xlink:href=\"#m51946da591\" y=\"214.40588\"/>\n     <use style=\"fill:#464646;stroke:#464646;stroke-linejoin:miter;\" x=\"468.0625\" xlink:href=\"#m51946da591\" y=\"214.40588\"/>\n     <use style=\"fill:#464646;stroke:#464646;stroke-linejoin:miter;\" x=\"468.0625\" xlink:href=\"#m51946da591\" y=\"214.40588\"/>\n     <use style=\"fill:#464646;stroke:#464646;stroke-linejoin:miter;\" x=\"468.0625\" xlink:href=\"#m51946da591\" y=\"214.40588\"/>\n     <use style=\"fill:#464646;stroke:#464646;stroke-linejoin:miter;\" x=\"468.0625\" xlink:href=\"#m51946da591\" y=\"214.40588\"/>\n     <use style=\"fill:#464646;stroke:#464646;stroke-linejoin:miter;\" x=\"468.0625\" xlink:href=\"#m51946da591\" y=\"214.40588\"/>\n     <use style=\"fill:#464646;stroke:#464646;stroke-linejoin:miter;\" x=\"468.0625\" xlink:href=\"#m51946da591\" y=\"214.40588\"/>\n     <use style=\"fill:#464646;stroke:#464646;stroke-linejoin:miter;\" x=\"468.0625\" xlink:href=\"#m51946da591\" y=\"214.40588\"/>\n     <use style=\"fill:#464646;stroke:#464646;stroke-linejoin:miter;\" x=\"468.0625\" xlink:href=\"#m51946da591\" y=\"214.40588\"/>\n     <use style=\"fill:#464646;stroke:#464646;stroke-linejoin:miter;\" x=\"468.0625\" xlink:href=\"#m51946da591\" y=\"214.40588\"/>\n     <use style=\"fill:#464646;stroke:#464646;stroke-linejoin:miter;\" x=\"468.0625\" xlink:href=\"#m51946da591\" y=\"214.40588\"/>\n     <use style=\"fill:#464646;stroke:#464646;stroke-linejoin:miter;\" x=\"468.0625\" xlink:href=\"#m51946da591\" y=\"214.40588\"/>\n     <use style=\"fill:#464646;stroke:#464646;stroke-linejoin:miter;\" x=\"468.0625\" xlink:href=\"#m51946da591\" y=\"214.40588\"/>\n     <use style=\"fill:#464646;stroke:#464646;stroke-linejoin:miter;\" x=\"468.0625\" xlink:href=\"#m51946da591\" y=\"214.40588\"/>\n     <use style=\"fill:#464646;stroke:#464646;stroke-linejoin:miter;\" x=\"468.0625\" xlink:href=\"#m51946da591\" y=\"214.40588\"/>\n     <use style=\"fill:#464646;stroke:#464646;stroke-linejoin:miter;\" x=\"468.0625\" xlink:href=\"#m51946da591\" y=\"214.40588\"/>\n     <use style=\"fill:#464646;stroke:#464646;stroke-linejoin:miter;\" x=\"468.0625\" xlink:href=\"#m51946da591\" y=\"214.40588\"/>\n     <use style=\"fill:#464646;stroke:#464646;stroke-linejoin:miter;\" x=\"468.0625\" xlink:href=\"#m51946da591\" y=\"214.40588\"/>\n     <use style=\"fill:#464646;stroke:#464646;stroke-linejoin:miter;\" x=\"468.0625\" xlink:href=\"#m51946da591\" y=\"214.40588\"/>\n     <use style=\"fill:#464646;stroke:#464646;stroke-linejoin:miter;\" x=\"468.0625\" xlink:href=\"#m51946da591\" y=\"214.40588\"/>\n     <use style=\"fill:#464646;stroke:#464646;stroke-linejoin:miter;\" x=\"468.0625\" xlink:href=\"#m51946da591\" y=\"214.40588\"/>\n     <use style=\"fill:#464646;stroke:#464646;stroke-linejoin:miter;\" x=\"468.0625\" xlink:href=\"#m51946da591\" y=\"214.40588\"/>\n     <use style=\"fill:#464646;stroke:#464646;stroke-linejoin:miter;\" x=\"468.0625\" xlink:href=\"#m51946da591\" y=\"214.40588\"/>\n    </g>\n   </g>\n   <g id=\"line2d_49\">\n    <path clip-path=\"url(#peba6719a81)\" d=\"M 547.1125 214.756364 \nL 547.1125 214.756364 \n\" style=\"fill:none;stroke:#464646;stroke-linecap:square;stroke-width:1.5;\"/>\n   </g>\n   <g id=\"line2d_50\">\n    <path clip-path=\"url(#peba6719a81)\" d=\"M 547.1125 214.055397 \nL 547.1125 214.055397 \n\" style=\"fill:none;stroke:#464646;stroke-linecap:square;stroke-width:1.5;\"/>\n   </g>\n   <g id=\"line2d_51\">\n    <path clip-path=\"url(#peba6719a81)\" d=\"M 531.3025 214.756364 \nL 562.9225 214.756364 \n\" style=\"fill:none;stroke:#464646;stroke-linecap:square;stroke-width:1.5;\"/>\n   </g>\n   <g id=\"line2d_52\">\n    <path clip-path=\"url(#peba6719a81)\" d=\"M 531.3025 214.055397 \nL 562.9225 214.055397 \n\" style=\"fill:none;stroke:#464646;stroke-linecap:square;stroke-width:1.5;\"/>\n   </g>\n   <g id=\"line2d_53\"/>\n   <g id=\"line2d_54\">\n    <path clip-path=\"url(#peba6719a81)\" d=\"M 626.1625 168.14205 \nL 626.1625 183.91381 \n\" style=\"fill:none;stroke:#464646;stroke-linecap:square;stroke-width:1.5;\"/>\n   </g>\n   <g id=\"line2d_55\">\n    <path clip-path=\"url(#peba6719a81)\" d=\"M 626.1625 156.576093 \nL 626.1625 143.958685 \n\" style=\"fill:none;stroke:#464646;stroke-linecap:square;stroke-width:1.5;\"/>\n   </g>\n   <g id=\"line2d_56\">\n    <path clip-path=\"url(#peba6719a81)\" d=\"M 610.3525 183.91381 \nL 641.9725 183.91381 \n\" style=\"fill:none;stroke:#464646;stroke-linecap:square;stroke-width:1.5;\"/>\n   </g>\n   <g id=\"line2d_57\">\n    <path clip-path=\"url(#peba6719a81)\" d=\"M 610.3525 143.958685 \nL 641.9725 143.958685 \n\" style=\"fill:none;stroke:#464646;stroke-linecap:square;stroke-width:1.5;\"/>\n   </g>\n   <g id=\"line2d_58\">\n    <g clip-path=\"url(#peba6719a81)\">\n     <use style=\"fill:#464646;stroke:#464646;stroke-linejoin:miter;\" x=\"626.1625\" xlink:href=\"#m51946da591\" y=\"189.872031\"/>\n    </g>\n   </g>\n   <g id=\"line2d_59\">\n    <path clip-path=\"url(#peba6719a81)\" d=\"M 705.2125 214.756364 \nL 705.2125 214.756364 \n\" style=\"fill:none;stroke:#464646;stroke-linecap:square;stroke-width:1.5;\"/>\n   </g>\n   <g id=\"line2d_60\">\n    <path clip-path=\"url(#peba6719a81)\" d=\"M 705.2125 214.40588 \nL 705.2125 214.40588 \n\" style=\"fill:none;stroke:#464646;stroke-linecap:square;stroke-width:1.5;\"/>\n   </g>\n   <g id=\"line2d_61\">\n    <path clip-path=\"url(#peba6719a81)\" d=\"M 689.4025 214.756364 \nL 721.0225 214.756364 \n\" style=\"fill:none;stroke:#464646;stroke-linecap:square;stroke-width:1.5;\"/>\n   </g>\n   <g id=\"line2d_62\">\n    <path clip-path=\"url(#peba6719a81)\" d=\"M 689.4025 214.40588 \nL 721.0225 214.40588 \n\" style=\"fill:none;stroke:#464646;stroke-linecap:square;stroke-width:1.5;\"/>\n   </g>\n   <g id=\"line2d_63\"/>\n   <g id=\"line2d_64\">\n    <path clip-path=\"url(#peba6719a81)\" d=\"M 784.2625 214.756364 \nL 784.2625 214.756364 \n\" style=\"fill:none;stroke:#464646;stroke-linecap:square;stroke-width:1.5;\"/>\n   </g>\n   <g id=\"line2d_65\">\n    <path clip-path=\"url(#peba6719a81)\" d=\"M 784.2625 214.19559 \nL 784.2625 213.354429 \n\" style=\"fill:none;stroke:#464646;stroke-linecap:square;stroke-width:1.5;\"/>\n   </g>\n   <g id=\"line2d_66\">\n    <path clip-path=\"url(#peba6719a81)\" d=\"M 768.4525 214.756364 \nL 800.0725 214.756364 \n\" style=\"fill:none;stroke:#464646;stroke-linecap:square;stroke-width:1.5;\"/>\n   </g>\n   <g id=\"line2d_67\">\n    <path clip-path=\"url(#peba6719a81)\" d=\"M 768.4525 213.354429 \nL 800.0725 213.354429 \n\" style=\"fill:none;stroke:#464646;stroke-linecap:square;stroke-width:1.5;\"/>\n   </g>\n   <g id=\"line2d_68\">\n    <g clip-path=\"url(#peba6719a81)\">\n     <use style=\"fill:#464646;stroke:#464646;stroke-linejoin:miter;\" x=\"784.2625\" xlink:href=\"#m51946da591\" y=\"212.583366\"/>\n     <use style=\"fill:#464646;stroke:#464646;stroke-linejoin:miter;\" x=\"784.2625\" xlink:href=\"#m51946da591\" y=\"212.793656\"/>\n     <use style=\"fill:#464646;stroke:#464646;stroke-linejoin:miter;\" x=\"784.2625\" xlink:href=\"#m51946da591\" y=\"213.284333\"/>\n     <use style=\"fill:#464646;stroke:#464646;stroke-linejoin:miter;\" x=\"784.2625\" xlink:href=\"#m51946da591\" y=\"213.284333\"/>\n     <use style=\"fill:#464646;stroke:#464646;stroke-linejoin:miter;\" x=\"784.2625\" xlink:href=\"#m51946da591\" y=\"213.214236\"/>\n    </g>\n   </g>\n   <g id=\"line2d_69\">\n    <path clip-path=\"url(#peba6719a81)\" d=\"M 863.3125 214.40588 \nL 863.3125 214.40588 \n\" style=\"fill:none;stroke:#464646;stroke-linecap:square;stroke-width:1.5;\"/>\n   </g>\n   <g id=\"line2d_70\">\n    <path clip-path=\"url(#peba6719a81)\" d=\"M 863.3125 214.055397 \nL 863.3125 213.704913 \n\" style=\"fill:none;stroke:#464646;stroke-linecap:square;stroke-width:1.5;\"/>\n   </g>\n   <g id=\"line2d_71\">\n    <path clip-path=\"url(#peba6719a81)\" d=\"M 847.5025 214.40588 \nL 879.1225 214.40588 \n\" style=\"fill:none;stroke:#464646;stroke-linecap:square;stroke-width:1.5;\"/>\n   </g>\n   <g id=\"line2d_72\">\n    <path clip-path=\"url(#peba6719a81)\" d=\"M 847.5025 213.704913 \nL 879.1225 213.704913 \n\" style=\"fill:none;stroke:#464646;stroke-linecap:square;stroke-width:1.5;\"/>\n   </g>\n   <g id=\"line2d_73\"/>\n   <g id=\"line2d_74\">\n    <path clip-path=\"url(#peba6719a81)\" d=\"M 942.3625 214.756364 \nL 942.3625 214.756364 \n\" style=\"fill:none;stroke:#464646;stroke-linecap:square;stroke-width:1.5;\"/>\n   </g>\n   <g id=\"line2d_75\">\n    <path clip-path=\"url(#peba6719a81)\" d=\"M 942.3625 214.055397 \nL 942.3625 213.354429 \n\" style=\"fill:none;stroke:#464646;stroke-linecap:square;stroke-width:1.5;\"/>\n   </g>\n   <g id=\"line2d_76\">\n    <path clip-path=\"url(#peba6719a81)\" d=\"M 926.5525 214.756364 \nL 958.1725 214.756364 \n\" style=\"fill:none;stroke:#464646;stroke-linecap:square;stroke-width:1.5;\"/>\n   </g>\n   <g id=\"line2d_77\">\n    <path clip-path=\"url(#peba6719a81)\" d=\"M 926.5525 213.354429 \nL 958.1725 213.354429 \n\" style=\"fill:none;stroke:#464646;stroke-linecap:square;stroke-width:1.5;\"/>\n   </g>\n   <g id=\"line2d_78\"/>\n   <g id=\"line2d_79\">\n    <path clip-path=\"url(#peba6719a81)\" d=\"M 41.1925 195.129284 \nL 104.4325 195.129284 \n\" style=\"fill:none;stroke:#464646;stroke-linecap:square;stroke-width:1.5;\"/>\n   </g>\n   <g id=\"line2d_80\">\n    <path clip-path=\"url(#peba6719a81)\" d=\"M 120.2425 214.40588 \nL 183.4825 214.40588 \n\" style=\"fill:none;stroke:#464646;stroke-linecap:square;stroke-width:1.5;\"/>\n   </g>\n   <g id=\"line2d_81\">\n    <path clip-path=\"url(#peba6719a81)\" d=\"M 199.2925 213.704913 \nL 262.5325 213.704913 \n\" style=\"fill:none;stroke:#464646;stroke-linecap:square;stroke-width:1.5;\"/>\n   </g>\n   <g id=\"line2d_82\">\n    <path clip-path=\"url(#peba6719a81)\" d=\"M 278.3425 169.193501 \nL 341.5825 169.193501 \n\" style=\"fill:none;stroke:#464646;stroke-linecap:square;stroke-width:1.5;\"/>\n   </g>\n   <g id=\"line2d_83\">\n    <path clip-path=\"url(#peba6719a81)\" d=\"M 357.3925 129.588859 \nL 420.6325 129.588859 \n\" style=\"fill:none;stroke:#464646;stroke-linecap:square;stroke-width:1.5;\"/>\n   </g>\n   <g id=\"line2d_84\">\n    <path clip-path=\"url(#peba6719a81)\" d=\"M 436.4425 214.756364 \nL 499.6825 214.756364 \n\" style=\"fill:none;stroke:#464646;stroke-linecap:square;stroke-width:1.5;\"/>\n   </g>\n   <g id=\"line2d_85\">\n    <path clip-path=\"url(#peba6719a81)\" d=\"M 515.4925 214.40588 \nL 578.7325 214.40588 \n\" style=\"fill:none;stroke:#464646;stroke-linecap:square;stroke-width:1.5;\"/>\n   </g>\n   <g id=\"line2d_86\">\n    <path clip-path=\"url(#peba6719a81)\" d=\"M 594.5425 161.132379 \nL 657.7825 161.132379 \n\" style=\"fill:none;stroke:#464646;stroke-linecap:square;stroke-width:1.5;\"/>\n   </g>\n   <g id=\"line2d_87\">\n    <path clip-path=\"url(#peba6719a81)\" d=\"M 673.5925 214.756364 \nL 736.8325 214.756364 \n\" style=\"fill:none;stroke:#464646;stroke-linecap:square;stroke-width:1.5;\"/>\n   </g>\n   <g id=\"line2d_88\">\n    <path clip-path=\"url(#peba6719a81)\" d=\"M 752.6425 214.475977 \nL 815.8825 214.475977 \n\" style=\"fill:none;stroke:#464646;stroke-linecap:square;stroke-width:1.5;\"/>\n   </g>\n   <g id=\"line2d_89\">\n    <path clip-path=\"url(#peba6719a81)\" d=\"M 831.6925 214.055397 \nL 894.9325 214.055397 \n\" style=\"fill:none;stroke:#464646;stroke-linecap:square;stroke-width:1.5;\"/>\n   </g>\n   <g id=\"line2d_90\">\n    <path clip-path=\"url(#peba6719a81)\" d=\"M 910.7425 214.756364 \nL 973.9825 214.756364 \n\" style=\"fill:none;stroke:#464646;stroke-linecap:square;stroke-width:1.5;\"/>\n   </g>\n   <g id=\"patch_15\">\n    <path d=\"M 33.2875 224.64 \nL 33.2875 7.2 \n\" style=\"fill:none;stroke:#000000;stroke-linecap:square;stroke-linejoin:miter;stroke-width:0.8;\"/>\n   </g>\n   <g id=\"patch_16\">\n    <path d=\"M 981.8875 224.64 \nL 981.8875 7.2 \n\" style=\"fill:none;stroke:#000000;stroke-linecap:square;stroke-linejoin:miter;stroke-width:0.8;\"/>\n   </g>\n   <g id=\"patch_17\">\n    <path d=\"M 33.2875 224.64 \nL 981.8875 224.64 \n\" style=\"fill:none;stroke:#000000;stroke-linecap:square;stroke-linejoin:miter;stroke-width:0.8;\"/>\n   </g>\n   <g id=\"patch_18\">\n    <path d=\"M 33.2875 7.2 \nL 981.8875 7.2 \n\" style=\"fill:none;stroke:#000000;stroke-linecap:square;stroke-linejoin:miter;stroke-width:0.8;\"/>\n   </g>\n  </g>\n </g>\n <defs>\n  <clipPath id=\"peba6719a81\">\n   <rect height=\"217.44\" width=\"948.6\" x=\"33.2875\" y=\"7.2\"/>\n  </clipPath>\n </defs>\n</svg>\n"
          },
          "metadata": {
            "needs_background": "light"
          }
        }
      ]
    },
    {
      "cell_type": "code",
      "source": [
        "data.info()"
      ],
      "metadata": {
        "colab": {
          "base_uri": "https://localhost:8080/"
        },
        "id": "wValA5x2nsni",
        "outputId": "b13d08b8-5157-4a9a-f80d-b8408ca6b703"
      },
      "execution_count": 78,
      "outputs": [
        {
          "output_type": "stream",
          "name": "stdout",
          "text": [
            "<class 'pandas.core.frame.DataFrame'>\n",
            "Int64Index: 297 entries, 0 to 301\n",
            "Data columns (total 14 columns):\n",
            " #   Column    Non-Null Count  Dtype  \n",
            "---  ------    --------------  -----  \n",
            " 0   age       297 non-null    float64\n",
            " 1   sex       297 non-null    float64\n",
            " 2   cp        297 non-null    float64\n",
            " 3   trestbps  297 non-null    float64\n",
            " 4   chol      297 non-null    float64\n",
            " 5   fbs       297 non-null    float64\n",
            " 6   restecg   297 non-null    float64\n",
            " 7   thalach   297 non-null    float64\n",
            " 8   exang     297 non-null    float64\n",
            " 9   oldpeak   297 non-null    float64\n",
            " 10  slope     297 non-null    float64\n",
            " 11  ca        297 non-null    object \n",
            " 12  thal      297 non-null    object \n",
            " 13  DISEASE   297 non-null    int64  \n",
            "dtypes: float64(11), int64(1), object(2)\n",
            "memory usage: 34.8+ KB\n"
          ]
        }
      ]
    },
    {
      "cell_type": "code",
      "source": [
        "# z-score the non-categorical columns\n",
        "cols2zscore = data.keys()\n",
        "cols2zscore = cols2zscore.drop(['sex', 'fbs', 'exang', 'DISEASE'])\n",
        "cols2zscore\n",
        "\n",
        "for c in cols2zscore:\n",
        "    d = pd.to_numeric(data[c])\n",
        "    data[c] = (d - d.mean()) / d.std(ddof=1)\n"
      ],
      "metadata": {
        "id": "yBD1YIwZ3Rgo"
      },
      "execution_count": 81,
      "outputs": []
    },
    {
      "cell_type": "code",
      "source": [
        "# check the distributions again\n",
        "fig, ax = plt.subplots(1, figsize=(17, 4))\n",
        "ax = sns.boxplot(data=data)\n",
        "ax.set_xticklabels(ax.get_xticklabels(), rotation=90)\n",
        "plt.show()"
      ],
      "metadata": {
        "colab": {
          "base_uri": "https://localhost:8080/",
          "height": 397
        },
        "id": "EPHoXyEB3zhh",
        "outputId": "54d606f0-268b-4f01-b0c9-829e3fa9fdae"
      },
      "execution_count": 82,
      "outputs": [
        {
          "output_type": "display_data",
          "data": {
            "text/plain": [
              "<Figure size 1224x288 with 1 Axes>"
            ],
            "image/svg+xml": "<?xml version=\"1.0\" encoding=\"utf-8\" standalone=\"no\"?>\n<!DOCTYPE svg PUBLIC \"-//W3C//DTD SVG 1.1//EN\"\n  \"http://www.w3.org/Graphics/SVG/1.1/DTD/svg11.dtd\">\n<!-- Created with matplotlib (https://matplotlib.org/) -->\n<svg height=\"281.665pt\" version=\"1.1\" viewBox=\"0 0 984.742188 281.665\" width=\"984.742188pt\" xmlns=\"http://www.w3.org/2000/svg\" xmlns:xlink=\"http://www.w3.org/1999/xlink\">\n <defs>\n  <style type=\"text/css\">\n*{stroke-linecap:butt;stroke-linejoin:round;}\n  </style>\n </defs>\n <g id=\"figure_1\">\n  <g id=\"patch_1\">\n   <path d=\"M 0 281.665 \nL 984.742188 281.665 \nL 984.742188 0 \nL 0 0 \nz\n\" style=\"fill:none;\"/>\n  </g>\n  <g id=\"axes_1\">\n   <g id=\"patch_2\">\n    <path d=\"M 28.942188 224.64 \nL 977.542188 224.64 \nL 977.542188 7.2 \nL 28.942188 7.2 \nz\n\" style=\"fill:#ffffff;\"/>\n   </g>\n   <g id=\"patch_3\">\n    <path clip-path=\"url(#p3192eb7ade)\" d=\"M 35.717902 158.603089 \nL 89.923616 158.603089 \nL 89.923616 128.762301 \nL 35.717902 128.762301 \nL 35.717902 158.603089 \nz\n\" style=\"fill:#ea96a3;stroke:#474747;stroke-linejoin:miter;stroke-width:1.5;\"/>\n   </g>\n   <g id=\"patch_4\">\n    <path clip-path=\"url(#p3192eb7ade)\" d=\"M 103.475045 143.586085 \nL 157.680759 143.586085 \nL 157.680759 122.812913 \nL 103.475045 122.812913 \nL 103.475045 143.586085 \nz\n\" style=\"fill:#e4946a;stroke:#474747;stroke-linejoin:miter;stroke-width:1.5;\"/>\n   </g>\n   <g id=\"patch_5\">\n    <path clip-path=\"url(#p3192eb7ade)\" d=\"M 171.232188 146.993149 \nL 225.437902 146.993149 \nL 225.437902 125.463408 \nL 171.232188 125.463408 \nL 171.232188 146.993149 \nz\n\" style=\"fill:#c29a4b;stroke:#474747;stroke-linejoin:miter;stroke-width:1.5;\"/>\n   </g>\n   <g id=\"patch_6\">\n    <path clip-path=\"url(#p3192eb7ade)\" d=\"M 238.98933 157.261471 \nL 293.195045 157.261471 \nL 293.195045 133.871955 \nL 238.98933 133.871955 \nL 238.98933 157.261471 \nz\n\" style=\"fill:#a69f46;stroke:#474747;stroke-linejoin:miter;stroke-width:1.5;\"/>\n   </g>\n   <g id=\"patch_7\">\n    <path clip-path=\"url(#p3192eb7ade)\" d=\"M 306.746473 158.108074 \nL 360.952188 158.108074 \nL 360.952188 132.140401 \nL 306.746473 132.140401 \nL 306.746473 158.108074 \nz\n\" style=\"fill:#88a746;stroke:#474747;stroke-linejoin:miter;stroke-width:1.5;\"/>\n   </g>\n   <g id=\"patch_8\">\n    <path clip-path=\"url(#p3192eb7ade)\" d=\"M 374.503616 143.586085 \nL 428.70933 143.586085 \nL 428.70933 143.586085 \nL 374.503616 143.586085 \nL 374.503616 143.586085 \nz\n\" style=\"fill:#48b05e;stroke:#474747;stroke-linejoin:miter;stroke-width:1.5;\"/>\n   </g>\n   <g id=\"patch_9\">\n    <path clip-path=\"url(#p3192eb7ade)\" d=\"M 442.260759 164.395153 \nL 496.466473 164.395153 \nL 496.466473 122.636416 \nL 442.260759 122.636416 \nL 442.260759 164.395153 \nz\n\" style=\"fill:#4aad8f;stroke:#474747;stroke-linejoin:miter;stroke-width:1.5;\"/>\n   </g>\n   <g id=\"patch_10\">\n    <path clip-path=\"url(#p3192eb7ade)\" d=\"M 510.017902 158.616477 \nL 564.223616 158.616477 \nL 564.223616 128.73557 \nL 510.017902 128.73557 \nL 510.017902 158.616477 \nz\n\" style=\"fill:#4baba4;stroke:#474747;stroke-linejoin:miter;stroke-width:1.5;\"/>\n   </g>\n   <g id=\"patch_11\">\n    <path clip-path=\"url(#p3192eb7ade)\" d=\"M 577.775045 143.586085 \nL 631.980759 143.586085 \nL 631.980759 122.812913 \nL 577.775045 122.812913 \nL 577.775045 143.586085 \nz\n\" style=\"fill:#4eabb8;stroke:#474747;stroke-linejoin:miter;stroke-width:1.5;\"/>\n   </g>\n   <g id=\"patch_12\">\n    <path clip-path=\"url(#p3192eb7ade)\" d=\"M 645.532188 162.389626 \nL 699.737902 162.389626 \nL 699.737902 133.887417 \nL 645.532188 133.887417 \nL 645.532188 162.389626 \nz\n\" style=\"fill:#55acd7;stroke:#474747;stroke-linejoin:miter;stroke-width:1.5;\"/>\n   </g>\n   <g id=\"patch_13\">\n    <path clip-path=\"url(#p3192eb7ade)\" d=\"M 713.28933 163.838635 \nL 767.495045 163.838635 \nL 767.495045 130.235243 \nL 713.28933 130.235243 \nL 713.28933 163.838635 \nz\n\" style=\"fill:#a0adea;stroke:#474747;stroke-linejoin:miter;stroke-width:1.5;\"/>\n   </g>\n   <g id=\"patch_14\">\n    <path clip-path=\"url(#p3192eb7ade)\" d=\"M 781.046473 158.558548 \nL 835.252188 158.558548 \nL 835.252188 136.435058 \nL 781.046473 136.435058 \nL 781.046473 158.558548 \nz\n\" style=\"fill:#c79fe9;stroke:#474747;stroke-linejoin:miter;stroke-width:1.5;\"/>\n   </g>\n   <g id=\"patch_15\">\n    <path clip-path=\"url(#p3192eb7ade)\" d=\"M 848.803616 162.130574 \nL 903.00933 162.130574 \nL 903.00933 119.268993 \nL 848.803616 119.268993 \nL 848.803616 162.130574 \nz\n\" style=\"fill:#e78ae0;stroke:#474747;stroke-linejoin:miter;stroke-width:1.5;\"/>\n   </g>\n   <g id=\"patch_16\">\n    <path clip-path=\"url(#p3192eb7ade)\" d=\"M 916.560759 143.586085 \nL 970.766473 143.586085 \nL 970.766473 102.039741 \nL 916.560759 102.039741 \nL 916.560759 143.586085 \nz\n\" style=\"fill:#e891c1;stroke:#474747;stroke-linejoin:miter;stroke-width:1.5;\"/>\n   </g>\n   <g id=\"matplotlib.axis_1\">\n    <g id=\"xtick_1\">\n     <g id=\"line2d_1\">\n      <defs>\n       <path d=\"M 0 0 \nL 0 3.5 \n\" id=\"mb7ca76cb28\" style=\"stroke:#000000;stroke-width:0.8;\"/>\n      </defs>\n      <g>\n       <use style=\"stroke:#000000;stroke-width:0.8;\" x=\"62.820759\" xlink:href=\"#mb7ca76cb28\" y=\"224.64\"/>\n      </g>\n     </g>\n     <g id=\"text_1\">\n      <!-- age -->\n      <defs>\n       <path d=\"M 34.28125 27.484375 \nQ 23.390625 27.484375 19.1875 25 \nQ 14.984375 22.515625 14.984375 16.5 \nQ 14.984375 11.71875 18.140625 8.90625 \nQ 21.296875 6.109375 26.703125 6.109375 \nQ 34.1875 6.109375 38.703125 11.40625 \nQ 43.21875 16.703125 43.21875 25.484375 \nL 43.21875 27.484375 \nz\nM 52.203125 31.203125 \nL 52.203125 0 \nL 43.21875 0 \nL 43.21875 8.296875 \nQ 40.140625 3.328125 35.546875 0.953125 \nQ 30.953125 -1.421875 24.3125 -1.421875 \nQ 15.921875 -1.421875 10.953125 3.296875 \nQ 6 8.015625 6 15.921875 \nQ 6 25.140625 12.171875 29.828125 \nQ 18.359375 34.515625 30.609375 34.515625 \nL 43.21875 34.515625 \nL 43.21875 35.40625 \nQ 43.21875 41.609375 39.140625 45 \nQ 35.0625 48.390625 27.6875 48.390625 \nQ 23 48.390625 18.546875 47.265625 \nQ 14.109375 46.140625 10.015625 43.890625 \nL 10.015625 52.203125 \nQ 14.9375 54.109375 19.578125 55.046875 \nQ 24.21875 56 28.609375 56 \nQ 40.484375 56 46.34375 49.84375 \nQ 52.203125 43.703125 52.203125 31.203125 \nz\n\" id=\"DejaVuSans-97\"/>\n       <path d=\"M 45.40625 27.984375 \nQ 45.40625 37.75 41.375 43.109375 \nQ 37.359375 48.484375 30.078125 48.484375 \nQ 22.859375 48.484375 18.828125 43.109375 \nQ 14.796875 37.75 14.796875 27.984375 \nQ 14.796875 18.265625 18.828125 12.890625 \nQ 22.859375 7.515625 30.078125 7.515625 \nQ 37.359375 7.515625 41.375 12.890625 \nQ 45.40625 18.265625 45.40625 27.984375 \nz\nM 54.390625 6.78125 \nQ 54.390625 -7.171875 48.1875 -13.984375 \nQ 42 -20.796875 29.203125 -20.796875 \nQ 24.46875 -20.796875 20.265625 -20.09375 \nQ 16.0625 -19.390625 12.109375 -17.921875 \nL 12.109375 -9.1875 \nQ 16.0625 -11.328125 19.921875 -12.34375 \nQ 23.78125 -13.375 27.78125 -13.375 \nQ 36.625 -13.375 41.015625 -8.765625 \nQ 45.40625 -4.15625 45.40625 5.171875 \nL 45.40625 9.625 \nQ 42.625 4.78125 38.28125 2.390625 \nQ 33.9375 0 27.875 0 \nQ 17.828125 0 11.671875 7.65625 \nQ 5.515625 15.328125 5.515625 27.984375 \nQ 5.515625 40.671875 11.671875 48.328125 \nQ 17.828125 56 27.875 56 \nQ 33.9375 56 38.28125 53.609375 \nQ 42.625 51.21875 45.40625 46.390625 \nL 45.40625 54.6875 \nL 54.390625 54.6875 \nz\n\" id=\"DejaVuSans-103\"/>\n       <path d=\"M 56.203125 29.59375 \nL 56.203125 25.203125 \nL 14.890625 25.203125 \nQ 15.484375 15.921875 20.484375 11.0625 \nQ 25.484375 6.203125 34.421875 6.203125 \nQ 39.59375 6.203125 44.453125 7.46875 \nQ 49.3125 8.734375 54.109375 11.28125 \nL 54.109375 2.78125 \nQ 49.265625 0.734375 44.1875 -0.34375 \nQ 39.109375 -1.421875 33.890625 -1.421875 \nQ 20.796875 -1.421875 13.15625 6.1875 \nQ 5.515625 13.8125 5.515625 26.8125 \nQ 5.515625 40.234375 12.765625 48.109375 \nQ 20.015625 56 32.328125 56 \nQ 43.359375 56 49.78125 48.890625 \nQ 56.203125 41.796875 56.203125 29.59375 \nz\nM 47.21875 32.234375 \nQ 47.125 39.59375 43.09375 43.984375 \nQ 39.0625 48.390625 32.421875 48.390625 \nQ 24.90625 48.390625 20.390625 44.140625 \nQ 15.875 39.890625 15.1875 32.171875 \nz\n\" id=\"DejaVuSans-101\"/>\n      </defs>\n      <g transform=\"translate(65.580134 250.269688)rotate(-90)scale(0.1 -0.1)\">\n       <use xlink:href=\"#DejaVuSans-97\"/>\n       <use x=\"61.279297\" xlink:href=\"#DejaVuSans-103\"/>\n       <use x=\"124.755859\" xlink:href=\"#DejaVuSans-101\"/>\n      </g>\n     </g>\n    </g>\n    <g id=\"xtick_2\">\n     <g id=\"line2d_2\">\n      <g>\n       <use style=\"stroke:#000000;stroke-width:0.8;\" x=\"130.577902\" xlink:href=\"#mb7ca76cb28\" y=\"224.64\"/>\n      </g>\n     </g>\n     <g id=\"text_2\">\n      <!-- sex -->\n      <defs>\n       <path d=\"M 44.28125 53.078125 \nL 44.28125 44.578125 \nQ 40.484375 46.53125 36.375 47.5 \nQ 32.28125 48.484375 27.875 48.484375 \nQ 21.1875 48.484375 17.84375 46.4375 \nQ 14.5 44.390625 14.5 40.28125 \nQ 14.5 37.15625 16.890625 35.375 \nQ 19.28125 33.59375 26.515625 31.984375 \nL 29.59375 31.296875 \nQ 39.15625 29.25 43.1875 25.515625 \nQ 47.21875 21.78125 47.21875 15.09375 \nQ 47.21875 7.46875 41.1875 3.015625 \nQ 35.15625 -1.421875 24.609375 -1.421875 \nQ 20.21875 -1.421875 15.453125 -0.5625 \nQ 10.6875 0.296875 5.421875 2 \nL 5.421875 11.28125 \nQ 10.40625 8.6875 15.234375 7.390625 \nQ 20.0625 6.109375 24.8125 6.109375 \nQ 31.15625 6.109375 34.5625 8.28125 \nQ 37.984375 10.453125 37.984375 14.40625 \nQ 37.984375 18.0625 35.515625 20.015625 \nQ 33.0625 21.96875 24.703125 23.78125 \nL 21.578125 24.515625 \nQ 13.234375 26.265625 9.515625 29.90625 \nQ 5.8125 33.546875 5.8125 39.890625 \nQ 5.8125 47.609375 11.28125 51.796875 \nQ 16.75 56 26.8125 56 \nQ 31.78125 56 36.171875 55.265625 \nQ 40.578125 54.546875 44.28125 53.078125 \nz\n\" id=\"DejaVuSans-115\"/>\n       <path d=\"M 54.890625 54.6875 \nL 35.109375 28.078125 \nL 55.90625 0 \nL 45.3125 0 \nL 29.390625 21.484375 \nL 13.484375 0 \nL 2.875 0 \nL 24.125 28.609375 \nL 4.6875 54.6875 \nL 15.28125 54.6875 \nL 29.78125 35.203125 \nL 44.28125 54.6875 \nz\n\" id=\"DejaVuSans-120\"/>\n      </defs>\n      <g transform=\"translate(133.337277 248.74625)rotate(-90)scale(0.1 -0.1)\">\n       <use xlink:href=\"#DejaVuSans-115\"/>\n       <use x=\"52.099609\" xlink:href=\"#DejaVuSans-101\"/>\n       <use x=\"111.873047\" xlink:href=\"#DejaVuSans-120\"/>\n      </g>\n     </g>\n    </g>\n    <g id=\"xtick_3\">\n     <g id=\"line2d_3\">\n      <g>\n       <use style=\"stroke:#000000;stroke-width:0.8;\" x=\"198.335045\" xlink:href=\"#mb7ca76cb28\" y=\"224.64\"/>\n      </g>\n     </g>\n     <g id=\"text_3\">\n      <!-- cp -->\n      <defs>\n       <path d=\"M 48.78125 52.59375 \nL 48.78125 44.1875 \nQ 44.96875 46.296875 41.140625 47.34375 \nQ 37.3125 48.390625 33.40625 48.390625 \nQ 24.65625 48.390625 19.8125 42.84375 \nQ 14.984375 37.3125 14.984375 27.296875 \nQ 14.984375 17.28125 19.8125 11.734375 \nQ 24.65625 6.203125 33.40625 6.203125 \nQ 37.3125 6.203125 41.140625 7.25 \nQ 44.96875 8.296875 48.78125 10.40625 \nL 48.78125 2.09375 \nQ 45.015625 0.34375 40.984375 -0.53125 \nQ 36.96875 -1.421875 32.421875 -1.421875 \nQ 20.0625 -1.421875 12.78125 6.34375 \nQ 5.515625 14.109375 5.515625 27.296875 \nQ 5.515625 40.671875 12.859375 48.328125 \nQ 20.21875 56 33.015625 56 \nQ 37.15625 56 41.109375 55.140625 \nQ 45.0625 54.296875 48.78125 52.59375 \nz\n\" id=\"DejaVuSans-99\"/>\n       <path d=\"M 18.109375 8.203125 \nL 18.109375 -20.796875 \nL 9.078125 -20.796875 \nL 9.078125 54.6875 \nL 18.109375 54.6875 \nL 18.109375 46.390625 \nQ 20.953125 51.265625 25.265625 53.625 \nQ 29.59375 56 35.59375 56 \nQ 45.5625 56 51.78125 48.09375 \nQ 58.015625 40.1875 58.015625 27.296875 \nQ 58.015625 14.40625 51.78125 6.484375 \nQ 45.5625 -1.421875 35.59375 -1.421875 \nQ 29.59375 -1.421875 25.265625 0.953125 \nQ 20.953125 3.328125 18.109375 8.203125 \nz\nM 48.6875 27.296875 \nQ 48.6875 37.203125 44.609375 42.84375 \nQ 40.53125 48.484375 33.40625 48.484375 \nQ 26.265625 48.484375 22.1875 42.84375 \nQ 18.109375 37.203125 18.109375 27.296875 \nQ 18.109375 17.390625 22.1875 11.75 \nQ 26.265625 6.109375 33.40625 6.109375 \nQ 40.53125 6.109375 44.609375 11.75 \nQ 48.6875 17.390625 48.6875 27.296875 \nz\n\" id=\"DejaVuSans-112\"/>\n      </defs>\n      <g transform=\"translate(201.09442 243.486875)rotate(-90)scale(0.1 -0.1)\">\n       <use xlink:href=\"#DejaVuSans-99\"/>\n       <use x=\"54.980469\" xlink:href=\"#DejaVuSans-112\"/>\n      </g>\n     </g>\n    </g>\n    <g id=\"xtick_4\">\n     <g id=\"line2d_4\">\n      <g>\n       <use style=\"stroke:#000000;stroke-width:0.8;\" x=\"266.092188\" xlink:href=\"#mb7ca76cb28\" y=\"224.64\"/>\n      </g>\n     </g>\n     <g id=\"text_4\">\n      <!-- trestbps -->\n      <defs>\n       <path d=\"M 18.3125 70.21875 \nL 18.3125 54.6875 \nL 36.8125 54.6875 \nL 36.8125 47.703125 \nL 18.3125 47.703125 \nL 18.3125 18.015625 \nQ 18.3125 11.328125 20.140625 9.421875 \nQ 21.96875 7.515625 27.59375 7.515625 \nL 36.8125 7.515625 \nL 36.8125 0 \nL 27.59375 0 \nQ 17.1875 0 13.234375 3.875 \nQ 9.28125 7.765625 9.28125 18.015625 \nL 9.28125 47.703125 \nL 2.6875 47.703125 \nL 2.6875 54.6875 \nL 9.28125 54.6875 \nL 9.28125 70.21875 \nz\n\" id=\"DejaVuSans-116\"/>\n       <path d=\"M 41.109375 46.296875 \nQ 39.59375 47.171875 37.8125 47.578125 \nQ 36.03125 48 33.890625 48 \nQ 26.265625 48 22.1875 43.046875 \nQ 18.109375 38.09375 18.109375 28.8125 \nL 18.109375 0 \nL 9.078125 0 \nL 9.078125 54.6875 \nL 18.109375 54.6875 \nL 18.109375 46.1875 \nQ 20.953125 51.171875 25.484375 53.578125 \nQ 30.03125 56 36.53125 56 \nQ 37.453125 56 38.578125 55.875 \nQ 39.703125 55.765625 41.0625 55.515625 \nz\n\" id=\"DejaVuSans-114\"/>\n       <path d=\"M 48.6875 27.296875 \nQ 48.6875 37.203125 44.609375 42.84375 \nQ 40.53125 48.484375 33.40625 48.484375 \nQ 26.265625 48.484375 22.1875 42.84375 \nQ 18.109375 37.203125 18.109375 27.296875 \nQ 18.109375 17.390625 22.1875 11.75 \nQ 26.265625 6.109375 33.40625 6.109375 \nQ 40.53125 6.109375 44.609375 11.75 \nQ 48.6875 17.390625 48.6875 27.296875 \nz\nM 18.109375 46.390625 \nQ 20.953125 51.265625 25.265625 53.625 \nQ 29.59375 56 35.59375 56 \nQ 45.5625 56 51.78125 48.09375 \nQ 58.015625 40.1875 58.015625 27.296875 \nQ 58.015625 14.40625 51.78125 6.484375 \nQ 45.5625 -1.421875 35.59375 -1.421875 \nQ 29.59375 -1.421875 25.265625 0.953125 \nQ 20.953125 3.328125 18.109375 8.203125 \nL 18.109375 0 \nL 9.078125 0 \nL 9.078125 75.984375 \nL 18.109375 75.984375 \nz\n\" id=\"DejaVuSans-98\"/>\n      </defs>\n      <g transform=\"translate(268.851562 272.635312)rotate(-90)scale(0.1 -0.1)\">\n       <use xlink:href=\"#DejaVuSans-116\"/>\n       <use x=\"39.208984\" xlink:href=\"#DejaVuSans-114\"/>\n       <use x=\"78.072266\" xlink:href=\"#DejaVuSans-101\"/>\n       <use x=\"139.595703\" xlink:href=\"#DejaVuSans-115\"/>\n       <use x=\"191.695312\" xlink:href=\"#DejaVuSans-116\"/>\n       <use x=\"230.904297\" xlink:href=\"#DejaVuSans-98\"/>\n       <use x=\"294.380859\" xlink:href=\"#DejaVuSans-112\"/>\n       <use x=\"357.857422\" xlink:href=\"#DejaVuSans-115\"/>\n      </g>\n     </g>\n    </g>\n    <g id=\"xtick_5\">\n     <g id=\"line2d_5\">\n      <g>\n       <use style=\"stroke:#000000;stroke-width:0.8;\" x=\"333.84933\" xlink:href=\"#mb7ca76cb28\" y=\"224.64\"/>\n      </g>\n     </g>\n     <g id=\"text_5\">\n      <!-- chol -->\n      <defs>\n       <path d=\"M 54.890625 33.015625 \nL 54.890625 0 \nL 45.90625 0 \nL 45.90625 32.71875 \nQ 45.90625 40.484375 42.875 44.328125 \nQ 39.84375 48.1875 33.796875 48.1875 \nQ 26.515625 48.1875 22.3125 43.546875 \nQ 18.109375 38.921875 18.109375 30.90625 \nL 18.109375 0 \nL 9.078125 0 \nL 9.078125 75.984375 \nL 18.109375 75.984375 \nL 18.109375 46.1875 \nQ 21.34375 51.125 25.703125 53.5625 \nQ 30.078125 56 35.796875 56 \nQ 45.21875 56 50.046875 50.171875 \nQ 54.890625 44.34375 54.890625 33.015625 \nz\n\" id=\"DejaVuSans-104\"/>\n       <path d=\"M 30.609375 48.390625 \nQ 23.390625 48.390625 19.1875 42.75 \nQ 14.984375 37.109375 14.984375 27.296875 \nQ 14.984375 17.484375 19.15625 11.84375 \nQ 23.34375 6.203125 30.609375 6.203125 \nQ 37.796875 6.203125 41.984375 11.859375 \nQ 46.1875 17.53125 46.1875 27.296875 \nQ 46.1875 37.015625 41.984375 42.703125 \nQ 37.796875 48.390625 30.609375 48.390625 \nz\nM 30.609375 56 \nQ 42.328125 56 49.015625 48.375 \nQ 55.71875 40.765625 55.71875 27.296875 \nQ 55.71875 13.875 49.015625 6.21875 \nQ 42.328125 -1.421875 30.609375 -1.421875 \nQ 18.84375 -1.421875 12.171875 6.21875 \nQ 5.515625 13.875 5.515625 27.296875 \nQ 5.515625 40.765625 12.171875 48.375 \nQ 18.84375 56 30.609375 56 \nz\n\" id=\"DejaVuSans-111\"/>\n       <path d=\"M 9.421875 75.984375 \nL 18.40625 75.984375 \nL 18.40625 0 \nL 9.421875 0 \nz\n\" id=\"DejaVuSans-108\"/>\n      </defs>\n      <g transform=\"translate(336.608705 252.372813)rotate(-90)scale(0.1 -0.1)\">\n       <use xlink:href=\"#DejaVuSans-99\"/>\n       <use x=\"54.980469\" xlink:href=\"#DejaVuSans-104\"/>\n       <use x=\"118.359375\" xlink:href=\"#DejaVuSans-111\"/>\n       <use x=\"179.541016\" xlink:href=\"#DejaVuSans-108\"/>\n      </g>\n     </g>\n    </g>\n    <g id=\"xtick_6\">\n     <g id=\"line2d_6\">\n      <g>\n       <use style=\"stroke:#000000;stroke-width:0.8;\" x=\"401.606473\" xlink:href=\"#mb7ca76cb28\" y=\"224.64\"/>\n      </g>\n     </g>\n     <g id=\"text_6\">\n      <!-- fbs -->\n      <defs>\n       <path d=\"M 37.109375 75.984375 \nL 37.109375 68.5 \nL 28.515625 68.5 \nQ 23.6875 68.5 21.796875 66.546875 \nQ 19.921875 64.59375 19.921875 59.515625 \nL 19.921875 54.6875 \nL 34.71875 54.6875 \nL 34.71875 47.703125 \nL 19.921875 47.703125 \nL 19.921875 0 \nL 10.890625 0 \nL 10.890625 47.703125 \nL 2.296875 47.703125 \nL 2.296875 54.6875 \nL 10.890625 54.6875 \nL 10.890625 58.5 \nQ 10.890625 67.625 15.140625 71.796875 \nQ 19.390625 75.984375 28.609375 75.984375 \nz\n\" id=\"DejaVuSans-102\"/>\n      </defs>\n      <g transform=\"translate(404.365848 246.718125)rotate(-90)scale(0.1 -0.1)\">\n       <use xlink:href=\"#DejaVuSans-102\"/>\n       <use x=\"35.205078\" xlink:href=\"#DejaVuSans-98\"/>\n       <use x=\"98.681641\" xlink:href=\"#DejaVuSans-115\"/>\n      </g>\n     </g>\n    </g>\n    <g id=\"xtick_7\">\n     <g id=\"line2d_7\">\n      <g>\n       <use style=\"stroke:#000000;stroke-width:0.8;\" x=\"469.363616\" xlink:href=\"#mb7ca76cb28\" y=\"224.64\"/>\n      </g>\n     </g>\n     <g id=\"text_7\">\n      <!-- restecg -->\n      <g transform=\"translate(472.122991 268.80875)rotate(-90)scale(0.1 -0.1)\">\n       <use xlink:href=\"#DejaVuSans-114\"/>\n       <use x=\"38.863281\" xlink:href=\"#DejaVuSans-101\"/>\n       <use x=\"100.386719\" xlink:href=\"#DejaVuSans-115\"/>\n       <use x=\"152.486328\" xlink:href=\"#DejaVuSans-116\"/>\n       <use x=\"191.695312\" xlink:href=\"#DejaVuSans-101\"/>\n       <use x=\"253.21875\" xlink:href=\"#DejaVuSans-99\"/>\n       <use x=\"308.199219\" xlink:href=\"#DejaVuSans-103\"/>\n      </g>\n     </g>\n    </g>\n    <g id=\"xtick_8\">\n     <g id=\"line2d_8\">\n      <g>\n       <use style=\"stroke:#000000;stroke-width:0.8;\" x=\"537.120759\" xlink:href=\"#mb7ca76cb28\" y=\"224.64\"/>\n      </g>\n     </g>\n     <g id=\"text_8\">\n      <!-- thalach -->\n      <g transform=\"translate(539.880134 268.768125)rotate(-90)scale(0.1 -0.1)\">\n       <use xlink:href=\"#DejaVuSans-116\"/>\n       <use x=\"39.208984\" xlink:href=\"#DejaVuSans-104\"/>\n       <use x=\"102.587891\" xlink:href=\"#DejaVuSans-97\"/>\n       <use x=\"163.867188\" xlink:href=\"#DejaVuSans-108\"/>\n       <use x=\"191.650391\" xlink:href=\"#DejaVuSans-97\"/>\n       <use x=\"252.929688\" xlink:href=\"#DejaVuSans-99\"/>\n       <use x=\"307.910156\" xlink:href=\"#DejaVuSans-104\"/>\n      </g>\n     </g>\n    </g>\n    <g id=\"xtick_9\">\n     <g id=\"line2d_9\">\n      <g>\n       <use style=\"stroke:#000000;stroke-width:0.8;\" x=\"604.877902\" xlink:href=\"#mb7ca76cb28\" y=\"224.64\"/>\n      </g>\n     </g>\n     <g id=\"text_9\">\n      <!-- exang -->\n      <defs>\n       <path d=\"M 54.890625 33.015625 \nL 54.890625 0 \nL 45.90625 0 \nL 45.90625 32.71875 \nQ 45.90625 40.484375 42.875 44.328125 \nQ 39.84375 48.1875 33.796875 48.1875 \nQ 26.515625 48.1875 22.3125 43.546875 \nQ 18.109375 38.921875 18.109375 30.90625 \nL 18.109375 0 \nL 9.078125 0 \nL 9.078125 54.6875 \nL 18.109375 54.6875 \nL 18.109375 46.1875 \nQ 21.34375 51.125 25.703125 53.5625 \nQ 30.078125 56 35.796875 56 \nQ 45.21875 56 50.046875 50.171875 \nQ 54.890625 44.34375 54.890625 33.015625 \nz\n\" id=\"DejaVuSans-110\"/>\n      </defs>\n      <g transform=\"translate(607.637277 262.350937)rotate(-90)scale(0.1 -0.1)\">\n       <use xlink:href=\"#DejaVuSans-101\"/>\n       <use x=\"59.773438\" xlink:href=\"#DejaVuSans-120\"/>\n       <use x=\"118.953125\" xlink:href=\"#DejaVuSans-97\"/>\n       <use x=\"180.232422\" xlink:href=\"#DejaVuSans-110\"/>\n       <use x=\"243.611328\" xlink:href=\"#DejaVuSans-103\"/>\n      </g>\n     </g>\n    </g>\n    <g id=\"xtick_10\">\n     <g id=\"line2d_10\">\n      <g>\n       <use style=\"stroke:#000000;stroke-width:0.8;\" x=\"672.635045\" xlink:href=\"#mb7ca76cb28\" y=\"224.64\"/>\n      </g>\n     </g>\n     <g id=\"text_10\">\n      <!-- oldpeak -->\n      <defs>\n       <path d=\"M 45.40625 46.390625 \nL 45.40625 75.984375 \nL 54.390625 75.984375 \nL 54.390625 0 \nL 45.40625 0 \nL 45.40625 8.203125 \nQ 42.578125 3.328125 38.25 0.953125 \nQ 33.9375 -1.421875 27.875 -1.421875 \nQ 17.96875 -1.421875 11.734375 6.484375 \nQ 5.515625 14.40625 5.515625 27.296875 \nQ 5.515625 40.1875 11.734375 48.09375 \nQ 17.96875 56 27.875 56 \nQ 33.9375 56 38.25 53.625 \nQ 42.578125 51.265625 45.40625 46.390625 \nz\nM 14.796875 27.296875 \nQ 14.796875 17.390625 18.875 11.75 \nQ 22.953125 6.109375 30.078125 6.109375 \nQ 37.203125 6.109375 41.296875 11.75 \nQ 45.40625 17.390625 45.40625 27.296875 \nQ 45.40625 37.203125 41.296875 42.84375 \nQ 37.203125 48.484375 30.078125 48.484375 \nQ 22.953125 48.484375 18.875 42.84375 \nQ 14.796875 37.203125 14.796875 27.296875 \nz\n\" id=\"DejaVuSans-100\"/>\n       <path d=\"M 9.078125 75.984375 \nL 18.109375 75.984375 \nL 18.109375 31.109375 \nL 44.921875 54.6875 \nL 56.390625 54.6875 \nL 27.390625 29.109375 \nL 57.625 0 \nL 45.90625 0 \nL 18.109375 26.703125 \nL 18.109375 0 \nL 9.078125 0 \nz\n\" id=\"DejaVuSans-107\"/>\n      </defs>\n      <g transform=\"translate(675.39442 271.305625)rotate(-90)scale(0.1 -0.1)\">\n       <use xlink:href=\"#DejaVuSans-111\"/>\n       <use x=\"61.181641\" xlink:href=\"#DejaVuSans-108\"/>\n       <use x=\"88.964844\" xlink:href=\"#DejaVuSans-100\"/>\n       <use x=\"152.441406\" xlink:href=\"#DejaVuSans-112\"/>\n       <use x=\"215.917969\" xlink:href=\"#DejaVuSans-101\"/>\n       <use x=\"277.441406\" xlink:href=\"#DejaVuSans-97\"/>\n       <use x=\"338.720703\" xlink:href=\"#DejaVuSans-107\"/>\n      </g>\n     </g>\n    </g>\n    <g id=\"xtick_11\">\n     <g id=\"line2d_11\">\n      <g>\n       <use style=\"stroke:#000000;stroke-width:0.8;\" x=\"740.392188\" xlink:href=\"#mb7ca76cb28\" y=\"224.64\"/>\n      </g>\n     </g>\n     <g id=\"text_11\">\n      <!-- slope -->\n      <g transform=\"translate(743.151563 258.247813)rotate(-90)scale(0.1 -0.1)\">\n       <use xlink:href=\"#DejaVuSans-115\"/>\n       <use x=\"52.099609\" xlink:href=\"#DejaVuSans-108\"/>\n       <use x=\"79.882812\" xlink:href=\"#DejaVuSans-111\"/>\n       <use x=\"141.064453\" xlink:href=\"#DejaVuSans-112\"/>\n       <use x=\"204.541016\" xlink:href=\"#DejaVuSans-101\"/>\n      </g>\n     </g>\n    </g>\n    <g id=\"xtick_12\">\n     <g id=\"line2d_12\">\n      <g>\n       <use style=\"stroke:#000000;stroke-width:0.8;\" x=\"808.14933\" xlink:href=\"#mb7ca76cb28\" y=\"224.64\"/>\n      </g>\n     </g>\n     <g id=\"text_12\">\n      <!-- ca -->\n      <g transform=\"translate(810.908705 243.266563)rotate(-90)scale(0.1 -0.1)\">\n       <use xlink:href=\"#DejaVuSans-99\"/>\n       <use x=\"54.980469\" xlink:href=\"#DejaVuSans-97\"/>\n      </g>\n     </g>\n    </g>\n    <g id=\"xtick_13\">\n     <g id=\"line2d_13\">\n      <g>\n       <use style=\"stroke:#000000;stroke-width:0.8;\" x=\"875.906473\" xlink:href=\"#mb7ca76cb28\" y=\"224.64\"/>\n      </g>\n     </g>\n     <g id=\"text_13\">\n      <!-- thal -->\n      <g transform=\"translate(878.665848 250.804063)rotate(-90)scale(0.1 -0.1)\">\n       <use xlink:href=\"#DejaVuSans-116\"/>\n       <use x=\"39.208984\" xlink:href=\"#DejaVuSans-104\"/>\n       <use x=\"102.587891\" xlink:href=\"#DejaVuSans-97\"/>\n       <use x=\"163.867188\" xlink:href=\"#DejaVuSans-108\"/>\n      </g>\n     </g>\n    </g>\n    <g id=\"xtick_14\">\n     <g id=\"line2d_14\">\n      <g>\n       <use style=\"stroke:#000000;stroke-width:0.8;\" x=\"943.663616\" xlink:href=\"#mb7ca76cb28\" y=\"224.64\"/>\n      </g>\n     </g>\n     <g id=\"text_14\">\n      <!-- DISEASE -->\n      <defs>\n       <path d=\"M 19.671875 64.796875 \nL 19.671875 8.109375 \nL 31.59375 8.109375 \nQ 46.6875 8.109375 53.6875 14.9375 \nQ 60.6875 21.78125 60.6875 36.53125 \nQ 60.6875 51.171875 53.6875 57.984375 \nQ 46.6875 64.796875 31.59375 64.796875 \nz\nM 9.8125 72.90625 \nL 30.078125 72.90625 \nQ 51.265625 72.90625 61.171875 64.09375 \nQ 71.09375 55.28125 71.09375 36.53125 \nQ 71.09375 17.671875 61.125 8.828125 \nQ 51.171875 0 30.078125 0 \nL 9.8125 0 \nz\n\" id=\"DejaVuSans-68\"/>\n       <path d=\"M 9.8125 72.90625 \nL 19.671875 72.90625 \nL 19.671875 0 \nL 9.8125 0 \nz\n\" id=\"DejaVuSans-73\"/>\n       <path d=\"M 53.515625 70.515625 \nL 53.515625 60.890625 \nQ 47.90625 63.578125 42.921875 64.890625 \nQ 37.9375 66.21875 33.296875 66.21875 \nQ 25.25 66.21875 20.875 63.09375 \nQ 16.5 59.96875 16.5 54.203125 \nQ 16.5 49.359375 19.40625 46.890625 \nQ 22.3125 44.4375 30.421875 42.921875 \nL 36.375 41.703125 \nQ 47.40625 39.59375 52.65625 34.296875 \nQ 57.90625 29 57.90625 20.125 \nQ 57.90625 9.515625 50.796875 4.046875 \nQ 43.703125 -1.421875 29.984375 -1.421875 \nQ 24.8125 -1.421875 18.96875 -0.25 \nQ 13.140625 0.921875 6.890625 3.21875 \nL 6.890625 13.375 \nQ 12.890625 10.015625 18.65625 8.296875 \nQ 24.421875 6.59375 29.984375 6.59375 \nQ 38.421875 6.59375 43.015625 9.90625 \nQ 47.609375 13.234375 47.609375 19.390625 \nQ 47.609375 24.75 44.3125 27.78125 \nQ 41.015625 30.8125 33.5 32.328125 \nL 27.484375 33.5 \nQ 16.453125 35.6875 11.515625 40.375 \nQ 6.59375 45.0625 6.59375 53.421875 \nQ 6.59375 63.09375 13.40625 68.65625 \nQ 20.21875 74.21875 32.171875 74.21875 \nQ 37.3125 74.21875 42.625 73.28125 \nQ 47.953125 72.359375 53.515625 70.515625 \nz\n\" id=\"DejaVuSans-83\"/>\n       <path d=\"M 9.8125 72.90625 \nL 55.90625 72.90625 \nL 55.90625 64.59375 \nL 19.671875 64.59375 \nL 19.671875 43.015625 \nL 54.390625 43.015625 \nL 54.390625 34.71875 \nL 19.671875 34.71875 \nL 19.671875 8.296875 \nL 56.78125 8.296875 \nL 56.78125 0 \nL 9.8125 0 \nz\n\" id=\"DejaVuSans-69\"/>\n       <path d=\"M 34.1875 63.1875 \nL 20.796875 26.90625 \nL 47.609375 26.90625 \nz\nM 28.609375 72.90625 \nL 39.796875 72.90625 \nL 67.578125 0 \nL 57.328125 0 \nL 50.6875 18.703125 \nL 17.828125 18.703125 \nL 11.1875 0 \nL 0.78125 0 \nz\n\" id=\"DejaVuSans-65\"/>\n      </defs>\n      <g transform=\"translate(946.422991 274.465)rotate(-90)scale(0.1 -0.1)\">\n       <use xlink:href=\"#DejaVuSans-68\"/>\n       <use x=\"77.001953\" xlink:href=\"#DejaVuSans-73\"/>\n       <use x=\"106.494141\" xlink:href=\"#DejaVuSans-83\"/>\n       <use x=\"169.970703\" xlink:href=\"#DejaVuSans-69\"/>\n       <use x=\"233.154297\" xlink:href=\"#DejaVuSans-65\"/>\n       <use x=\"301.5625\" xlink:href=\"#DejaVuSans-83\"/>\n       <use x=\"365.039062\" xlink:href=\"#DejaVuSans-69\"/>\n      </g>\n     </g>\n    </g>\n   </g>\n   <g id=\"matplotlib.axis_2\">\n    <g id=\"ytick_1\">\n     <g id=\"line2d_15\">\n      <defs>\n       <path d=\"M 0 0 \nL -3.5 0 \n\" id=\"m3be4795b81\" style=\"stroke:#000000;stroke-width:0.8;\"/>\n      </defs>\n      <g>\n       <use style=\"stroke:#000000;stroke-width:0.8;\" x=\"28.942188\" xlink:href=\"#m3be4795b81\" y=\"185.13243\"/>\n      </g>\n     </g>\n     <g id=\"text_15\">\n      <!-- −2 -->\n      <defs>\n       <path d=\"M 10.59375 35.5 \nL 73.1875 35.5 \nL 73.1875 27.203125 \nL 10.59375 27.203125 \nz\n\" id=\"DejaVuSans-8722\"/>\n       <path d=\"M 19.1875 8.296875 \nL 53.609375 8.296875 \nL 53.609375 0 \nL 7.328125 0 \nL 7.328125 8.296875 \nQ 12.9375 14.109375 22.625 23.890625 \nQ 32.328125 33.6875 34.8125 36.53125 \nQ 39.546875 41.84375 41.421875 45.53125 \nQ 43.3125 49.21875 43.3125 52.78125 \nQ 43.3125 58.59375 39.234375 62.25 \nQ 35.15625 65.921875 28.609375 65.921875 \nQ 23.96875 65.921875 18.8125 64.3125 \nQ 13.671875 62.703125 7.8125 59.421875 \nL 7.8125 69.390625 \nQ 13.765625 71.78125 18.9375 73 \nQ 24.125 74.21875 28.421875 74.21875 \nQ 39.75 74.21875 46.484375 68.546875 \nQ 53.21875 62.890625 53.21875 53.421875 \nQ 53.21875 48.921875 51.53125 44.890625 \nQ 49.859375 40.875 45.40625 35.40625 \nQ 44.1875 33.984375 37.640625 27.21875 \nQ 31.109375 20.453125 19.1875 8.296875 \nz\n\" id=\"DejaVuSans-50\"/>\n      </defs>\n      <g transform=\"translate(7.2 188.931649)scale(0.1 -0.1)\">\n       <use xlink:href=\"#DejaVuSans-8722\"/>\n       <use x=\"83.789062\" xlink:href=\"#DejaVuSans-50\"/>\n      </g>\n     </g>\n    </g>\n    <g id=\"ytick_2\">\n     <g id=\"line2d_16\">\n      <g>\n       <use style=\"stroke:#000000;stroke-width:0.8;\" x=\"28.942188\" xlink:href=\"#m3be4795b81\" y=\"143.586085\"/>\n      </g>\n     </g>\n     <g id=\"text_16\">\n      <!-- 0 -->\n      <defs>\n       <path d=\"M 31.78125 66.40625 \nQ 24.171875 66.40625 20.328125 58.90625 \nQ 16.5 51.421875 16.5 36.375 \nQ 16.5 21.390625 20.328125 13.890625 \nQ 24.171875 6.390625 31.78125 6.390625 \nQ 39.453125 6.390625 43.28125 13.890625 \nQ 47.125 21.390625 47.125 36.375 \nQ 47.125 51.421875 43.28125 58.90625 \nQ 39.453125 66.40625 31.78125 66.40625 \nz\nM 31.78125 74.21875 \nQ 44.046875 74.21875 50.515625 64.515625 \nQ 56.984375 54.828125 56.984375 36.375 \nQ 56.984375 17.96875 50.515625 8.265625 \nQ 44.046875 -1.421875 31.78125 -1.421875 \nQ 19.53125 -1.421875 13.0625 8.265625 \nQ 6.59375 17.96875 6.59375 36.375 \nQ 6.59375 54.828125 13.0625 64.515625 \nQ 19.53125 74.21875 31.78125 74.21875 \nz\n\" id=\"DejaVuSans-48\"/>\n      </defs>\n      <g transform=\"translate(15.579688 147.385304)scale(0.1 -0.1)\">\n       <use xlink:href=\"#DejaVuSans-48\"/>\n      </g>\n     </g>\n    </g>\n    <g id=\"ytick_3\">\n     <g id=\"line2d_17\">\n      <g>\n       <use style=\"stroke:#000000;stroke-width:0.8;\" x=\"28.942188\" xlink:href=\"#m3be4795b81\" y=\"102.039741\"/>\n      </g>\n     </g>\n     <g id=\"text_17\">\n      <!-- 2 -->\n      <g transform=\"translate(15.579688 105.838959)scale(0.1 -0.1)\">\n       <use xlink:href=\"#DejaVuSans-50\"/>\n      </g>\n     </g>\n    </g>\n    <g id=\"ytick_4\">\n     <g id=\"line2d_18\">\n      <g>\n       <use style=\"stroke:#000000;stroke-width:0.8;\" x=\"28.942188\" xlink:href=\"#m3be4795b81\" y=\"60.493396\"/>\n      </g>\n     </g>\n     <g id=\"text_18\">\n      <!-- 4 -->\n      <defs>\n       <path d=\"M 37.796875 64.3125 \nL 12.890625 25.390625 \nL 37.796875 25.390625 \nz\nM 35.203125 72.90625 \nL 47.609375 72.90625 \nL 47.609375 25.390625 \nL 58.015625 25.390625 \nL 58.015625 17.1875 \nL 47.609375 17.1875 \nL 47.609375 0 \nL 37.796875 0 \nL 37.796875 17.1875 \nL 4.890625 17.1875 \nL 4.890625 26.703125 \nz\n\" id=\"DejaVuSans-52\"/>\n      </defs>\n      <g transform=\"translate(15.579688 64.292615)scale(0.1 -0.1)\">\n       <use xlink:href=\"#DejaVuSans-52\"/>\n      </g>\n     </g>\n    </g>\n    <g id=\"ytick_5\">\n     <g id=\"line2d_19\">\n      <g>\n       <use style=\"stroke:#000000;stroke-width:0.8;\" x=\"28.942188\" xlink:href=\"#m3be4795b81\" y=\"18.947051\"/>\n      </g>\n     </g>\n     <g id=\"text_19\">\n      <!-- 6 -->\n      <defs>\n       <path d=\"M 33.015625 40.375 \nQ 26.375 40.375 22.484375 35.828125 \nQ 18.609375 31.296875 18.609375 23.390625 \nQ 18.609375 15.53125 22.484375 10.953125 \nQ 26.375 6.390625 33.015625 6.390625 \nQ 39.65625 6.390625 43.53125 10.953125 \nQ 47.40625 15.53125 47.40625 23.390625 \nQ 47.40625 31.296875 43.53125 35.828125 \nQ 39.65625 40.375 33.015625 40.375 \nz\nM 52.59375 71.296875 \nL 52.59375 62.3125 \nQ 48.875 64.0625 45.09375 64.984375 \nQ 41.3125 65.921875 37.59375 65.921875 \nQ 27.828125 65.921875 22.671875 59.328125 \nQ 17.53125 52.734375 16.796875 39.40625 \nQ 19.671875 43.65625 24.015625 45.921875 \nQ 28.375 48.1875 33.59375 48.1875 \nQ 44.578125 48.1875 50.953125 41.515625 \nQ 57.328125 34.859375 57.328125 23.390625 \nQ 57.328125 12.15625 50.6875 5.359375 \nQ 44.046875 -1.421875 33.015625 -1.421875 \nQ 20.359375 -1.421875 13.671875 8.265625 \nQ 6.984375 17.96875 6.984375 36.375 \nQ 6.984375 53.65625 15.1875 63.9375 \nQ 23.390625 74.21875 37.203125 74.21875 \nQ 40.921875 74.21875 44.703125 73.484375 \nQ 48.484375 72.75 52.59375 71.296875 \nz\n\" id=\"DejaVuSans-54\"/>\n      </defs>\n      <g transform=\"translate(15.579688 22.74627)scale(0.1 -0.1)\">\n       <use xlink:href=\"#DejaVuSans-54\"/>\n      </g>\n     </g>\n    </g>\n   </g>\n   <g id=\"line2d_20\">\n    <path clip-path=\"url(#p3192eb7ade)\" d=\"M 62.820759 158.603089 \nL 62.820759 202.216548 \n\" style=\"fill:none;stroke:#474747;stroke-linecap:square;stroke-width:1.5;\"/>\n   </g>\n   <g id=\"line2d_21\">\n    <path clip-path=\"url(#p3192eb7ade)\" d=\"M 62.820759 128.762301 \nL 62.820759 92.035178 \n\" style=\"fill:none;stroke:#474747;stroke-linecap:square;stroke-width:1.5;\"/>\n   </g>\n   <g id=\"line2d_22\">\n    <path clip-path=\"url(#p3192eb7ade)\" d=\"M 49.26933 202.216548 \nL 76.372188 202.216548 \n\" style=\"fill:none;stroke:#474747;stroke-linecap:square;stroke-width:1.5;\"/>\n   </g>\n   <g id=\"line2d_23\">\n    <path clip-path=\"url(#p3192eb7ade)\" d=\"M 49.26933 92.035178 \nL 76.372188 92.035178 \n\" style=\"fill:none;stroke:#474747;stroke-linecap:square;stroke-width:1.5;\"/>\n   </g>\n   <g id=\"line2d_24\"/>\n   <g id=\"line2d_25\">\n    <path clip-path=\"url(#p3192eb7ade)\" d=\"M 130.577902 143.586085 \nL 130.577902 143.586085 \n\" style=\"fill:none;stroke:#474747;stroke-linecap:square;stroke-width:1.5;\"/>\n   </g>\n   <g id=\"line2d_26\">\n    <path clip-path=\"url(#p3192eb7ade)\" d=\"M 130.577902 122.812913 \nL 130.577902 122.812913 \n\" style=\"fill:none;stroke:#474747;stroke-linecap:square;stroke-width:1.5;\"/>\n   </g>\n   <g id=\"line2d_27\">\n    <path clip-path=\"url(#p3192eb7ade)\" d=\"M 117.026473 143.586085 \nL 144.12933 143.586085 \n\" style=\"fill:none;stroke:#474747;stroke-linecap:square;stroke-width:1.5;\"/>\n   </g>\n   <g id=\"line2d_28\">\n    <path clip-path=\"url(#p3192eb7ade)\" d=\"M 117.026473 122.812913 \nL 144.12933 122.812913 \n\" style=\"fill:none;stroke:#474747;stroke-linecap:square;stroke-width:1.5;\"/>\n   </g>\n   <g id=\"line2d_29\"/>\n   <g id=\"line2d_30\">\n    <path clip-path=\"url(#p3192eb7ade)\" d=\"M 198.335045 146.993149 \nL 198.335045 168.522889 \n\" style=\"fill:none;stroke:#474747;stroke-linecap:square;stroke-width:1.5;\"/>\n   </g>\n   <g id=\"line2d_31\">\n    <path clip-path=\"url(#p3192eb7ade)\" d=\"M 198.335045 125.463408 \nL 198.335045 125.463408 \n\" style=\"fill:none;stroke:#474747;stroke-linecap:square;stroke-width:1.5;\"/>\n   </g>\n   <g id=\"line2d_32\">\n    <path clip-path=\"url(#p3192eb7ade)\" d=\"M 184.783616 168.522889 \nL 211.886473 168.522889 \n\" style=\"fill:none;stroke:#474747;stroke-linecap:square;stroke-width:1.5;\"/>\n   </g>\n   <g id=\"line2d_33\">\n    <path clip-path=\"url(#p3192eb7ade)\" d=\"M 184.783616 125.463408 \nL 211.886473 125.463408 \n\" style=\"fill:none;stroke:#474747;stroke-linecap:square;stroke-width:1.5;\"/>\n   </g>\n   <g id=\"line2d_34\">\n    <defs>\n     <path d=\"M -0 3.535534 \nL 2.12132 0 \nL -0 -3.535534 \nL -2.12132 -0 \nz\n\" id=\"m69b49dde3d\" style=\"stroke:#474747;stroke-linejoin:miter;\"/>\n    </defs>\n    <g clip-path=\"url(#p3192eb7ade)\">\n     <use style=\"fill:#474747;stroke:#474747;stroke-linejoin:miter;\" x=\"198.335045\" xlink:href=\"#m69b49dde3d\" y=\"190.052629\"/>\n     <use style=\"fill:#474747;stroke:#474747;stroke-linejoin:miter;\" x=\"198.335045\" xlink:href=\"#m69b49dde3d\" y=\"190.052629\"/>\n     <use style=\"fill:#474747;stroke:#474747;stroke-linejoin:miter;\" x=\"198.335045\" xlink:href=\"#m69b49dde3d\" y=\"190.052629\"/>\n     <use style=\"fill:#474747;stroke:#474747;stroke-linejoin:miter;\" x=\"198.335045\" xlink:href=\"#m69b49dde3d\" y=\"190.052629\"/>\n     <use style=\"fill:#474747;stroke:#474747;stroke-linejoin:miter;\" x=\"198.335045\" xlink:href=\"#m69b49dde3d\" y=\"190.052629\"/>\n     <use style=\"fill:#474747;stroke:#474747;stroke-linejoin:miter;\" x=\"198.335045\" xlink:href=\"#m69b49dde3d\" y=\"190.052629\"/>\n     <use style=\"fill:#474747;stroke:#474747;stroke-linejoin:miter;\" x=\"198.335045\" xlink:href=\"#m69b49dde3d\" y=\"190.052629\"/>\n     <use style=\"fill:#474747;stroke:#474747;stroke-linejoin:miter;\" x=\"198.335045\" xlink:href=\"#m69b49dde3d\" y=\"190.052629\"/>\n     <use style=\"fill:#474747;stroke:#474747;stroke-linejoin:miter;\" x=\"198.335045\" xlink:href=\"#m69b49dde3d\" y=\"190.052629\"/>\n     <use style=\"fill:#474747;stroke:#474747;stroke-linejoin:miter;\" x=\"198.335045\" xlink:href=\"#m69b49dde3d\" y=\"190.052629\"/>\n     <use style=\"fill:#474747;stroke:#474747;stroke-linejoin:miter;\" x=\"198.335045\" xlink:href=\"#m69b49dde3d\" y=\"190.052629\"/>\n     <use style=\"fill:#474747;stroke:#474747;stroke-linejoin:miter;\" x=\"198.335045\" xlink:href=\"#m69b49dde3d\" y=\"190.052629\"/>\n     <use style=\"fill:#474747;stroke:#474747;stroke-linejoin:miter;\" x=\"198.335045\" xlink:href=\"#m69b49dde3d\" y=\"190.052629\"/>\n     <use style=\"fill:#474747;stroke:#474747;stroke-linejoin:miter;\" x=\"198.335045\" xlink:href=\"#m69b49dde3d\" y=\"190.052629\"/>\n     <use style=\"fill:#474747;stroke:#474747;stroke-linejoin:miter;\" x=\"198.335045\" xlink:href=\"#m69b49dde3d\" y=\"190.052629\"/>\n     <use style=\"fill:#474747;stroke:#474747;stroke-linejoin:miter;\" x=\"198.335045\" xlink:href=\"#m69b49dde3d\" y=\"190.052629\"/>\n     <use style=\"fill:#474747;stroke:#474747;stroke-linejoin:miter;\" x=\"198.335045\" xlink:href=\"#m69b49dde3d\" y=\"190.052629\"/>\n     <use style=\"fill:#474747;stroke:#474747;stroke-linejoin:miter;\" x=\"198.335045\" xlink:href=\"#m69b49dde3d\" y=\"190.052629\"/>\n     <use style=\"fill:#474747;stroke:#474747;stroke-linejoin:miter;\" x=\"198.335045\" xlink:href=\"#m69b49dde3d\" y=\"190.052629\"/>\n     <use style=\"fill:#474747;stroke:#474747;stroke-linejoin:miter;\" x=\"198.335045\" xlink:href=\"#m69b49dde3d\" y=\"190.052629\"/>\n     <use style=\"fill:#474747;stroke:#474747;stroke-linejoin:miter;\" x=\"198.335045\" xlink:href=\"#m69b49dde3d\" y=\"190.052629\"/>\n     <use style=\"fill:#474747;stroke:#474747;stroke-linejoin:miter;\" x=\"198.335045\" xlink:href=\"#m69b49dde3d\" y=\"190.052629\"/>\n     <use style=\"fill:#474747;stroke:#474747;stroke-linejoin:miter;\" x=\"198.335045\" xlink:href=\"#m69b49dde3d\" y=\"190.052629\"/>\n    </g>\n   </g>\n   <g id=\"line2d_35\">\n    <path clip-path=\"url(#p3192eb7ade)\" d=\"M 266.092188 157.261471 \nL 266.092188 187.667842 \n\" style=\"fill:none;stroke:#474747;stroke-linecap:square;stroke-width:1.5;\"/>\n   </g>\n   <g id=\"line2d_36\">\n    <path clip-path=\"url(#p3192eb7ade)\" d=\"M 266.092188 133.871955 \nL 266.092188 98.78768 \n\" style=\"fill:none;stroke:#474747;stroke-linecap:square;stroke-width:1.5;\"/>\n   </g>\n   <g id=\"line2d_37\">\n    <path clip-path=\"url(#p3192eb7ade)\" d=\"M 252.540759 187.667842 \nL 279.643616 187.667842 \n\" style=\"fill:none;stroke:#474747;stroke-linecap:square;stroke-width:1.5;\"/>\n   </g>\n   <g id=\"line2d_38\">\n    <path clip-path=\"url(#p3192eb7ade)\" d=\"M 252.540759 98.78768 \nL 279.643616 98.78768 \n\" style=\"fill:none;stroke:#474747;stroke-linecap:square;stroke-width:1.5;\"/>\n   </g>\n   <g id=\"line2d_39\">\n    <g clip-path=\"url(#p3192eb7ade)\">\n     <use style=\"fill:#474747;stroke:#474747;stroke-linejoin:miter;\" x=\"266.092188\" xlink:href=\"#m69b49dde3d\" y=\"96.448729\"/>\n     <use style=\"fill:#474747;stroke:#474747;stroke-linejoin:miter;\" x=\"266.092188\" xlink:href=\"#m69b49dde3d\" y=\"87.092922\"/>\n     <use style=\"fill:#474747;stroke:#474747;stroke-linejoin:miter;\" x=\"266.092188\" xlink:href=\"#m69b49dde3d\" y=\"63.703406\"/>\n     <use style=\"fill:#474747;stroke:#474747;stroke-linejoin:miter;\" x=\"266.092188\" xlink:href=\"#m69b49dde3d\" y=\"94.109777\"/>\n     <use style=\"fill:#474747;stroke:#474747;stroke-linejoin:miter;\" x=\"266.092188\" xlink:href=\"#m69b49dde3d\" y=\"89.431874\"/>\n     <use style=\"fill:#474747;stroke:#474747;stroke-linejoin:miter;\" x=\"266.092188\" xlink:href=\"#m69b49dde3d\" y=\"73.059212\"/>\n     <use style=\"fill:#474747;stroke:#474747;stroke-linejoin:miter;\" x=\"266.092188\" xlink:href=\"#m69b49dde3d\" y=\"87.092922\"/>\n     <use style=\"fill:#474747;stroke:#474747;stroke-linejoin:miter;\" x=\"266.092188\" xlink:href=\"#m69b49dde3d\" y=\"89.431874\"/>\n     <use style=\"fill:#474747;stroke:#474747;stroke-linejoin:miter;\" x=\"266.092188\" xlink:href=\"#m69b49dde3d\" y=\"87.092922\"/>\n    </g>\n   </g>\n   <g id=\"line2d_40\">\n    <path clip-path=\"url(#p3192eb7ade)\" d=\"M 333.84933 158.108074 \nL 333.84933 192.0658 \n\" style=\"fill:none;stroke:#474747;stroke-linecap:square;stroke-width:1.5;\"/>\n   </g>\n   <g id=\"line2d_41\">\n    <path clip-path=\"url(#p3192eb7ade)\" d=\"M 333.84933 132.140401 \nL 333.84933 98.582178 \n\" style=\"fill:none;stroke:#474747;stroke-linecap:square;stroke-width:1.5;\"/>\n   </g>\n   <g id=\"line2d_42\">\n    <path clip-path=\"url(#p3192eb7ade)\" d=\"M 320.297902 192.0658 \nL 347.400759 192.0658 \n\" style=\"fill:none;stroke:#474747;stroke-linecap:square;stroke-width:1.5;\"/>\n   </g>\n   <g id=\"line2d_43\">\n    <path clip-path=\"url(#p3192eb7ade)\" d=\"M 320.297902 98.582178 \nL 347.400759 98.582178 \n\" style=\"fill:none;stroke:#474747;stroke-linecap:square;stroke-width:1.5;\"/>\n   </g>\n   <g id=\"line2d_44\">\n    <g clip-path=\"url(#p3192eb7ade)\">\n     <use style=\"fill:#474747;stroke:#474747;stroke-linejoin:miter;\" x=\"333.84933\" xlink:href=\"#m69b49dde3d\" y=\"75.810527\"/>\n     <use style=\"fill:#474747;stroke:#474747;stroke-linejoin:miter;\" x=\"333.84933\" xlink:href=\"#m69b49dde3d\" y=\"79.805553\"/>\n     <use style=\"fill:#474747;stroke:#474747;stroke-linejoin:miter;\" x=\"333.84933\" xlink:href=\"#m69b49dde3d\" y=\"17.083636\"/>\n     <use style=\"fill:#474747;stroke:#474747;stroke-linejoin:miter;\" x=\"333.84933\" xlink:href=\"#m69b49dde3d\" y=\"84.999088\"/>\n     <use style=\"fill:#474747;stroke:#474747;stroke-linejoin:miter;\" x=\"333.84933\" xlink:href=\"#m69b49dde3d\" y=\"79.006548\"/>\n    </g>\n   </g>\n   <g id=\"line2d_45\">\n    <path clip-path=\"url(#p3192eb7ade)\" d=\"M 401.606473 143.586085 \nL 401.606473 143.586085 \n\" style=\"fill:none;stroke:#474747;stroke-linecap:square;stroke-width:1.5;\"/>\n   </g>\n   <g id=\"line2d_46\">\n    <path clip-path=\"url(#p3192eb7ade)\" d=\"M 401.606473 143.586085 \nL 401.606473 143.586085 \n\" style=\"fill:none;stroke:#474747;stroke-linecap:square;stroke-width:1.5;\"/>\n   </g>\n   <g id=\"line2d_47\">\n    <path clip-path=\"url(#p3192eb7ade)\" d=\"M 388.055045 143.586085 \nL 415.157902 143.586085 \n\" style=\"fill:none;stroke:#474747;stroke-linecap:square;stroke-width:1.5;\"/>\n   </g>\n   <g id=\"line2d_48\">\n    <path clip-path=\"url(#p3192eb7ade)\" d=\"M 388.055045 143.586085 \nL 415.157902 143.586085 \n\" style=\"fill:none;stroke:#474747;stroke-linecap:square;stroke-width:1.5;\"/>\n   </g>\n   <g id=\"line2d_49\">\n    <g clip-path=\"url(#p3192eb7ade)\">\n     <use style=\"fill:#474747;stroke:#474747;stroke-linejoin:miter;\" x=\"401.606473\" xlink:href=\"#m69b49dde3d\" y=\"122.812913\"/>\n     <use style=\"fill:#474747;stroke:#474747;stroke-linejoin:miter;\" x=\"401.606473\" xlink:href=\"#m69b49dde3d\" y=\"122.812913\"/>\n     <use style=\"fill:#474747;stroke:#474747;stroke-linejoin:miter;\" x=\"401.606473\" xlink:href=\"#m69b49dde3d\" y=\"122.812913\"/>\n     <use style=\"fill:#474747;stroke:#474747;stroke-linejoin:miter;\" x=\"401.606473\" xlink:href=\"#m69b49dde3d\" y=\"122.812913\"/>\n     <use style=\"fill:#474747;stroke:#474747;stroke-linejoin:miter;\" x=\"401.606473\" xlink:href=\"#m69b49dde3d\" y=\"122.812913\"/>\n     <use style=\"fill:#474747;stroke:#474747;stroke-linejoin:miter;\" x=\"401.606473\" xlink:href=\"#m69b49dde3d\" y=\"122.812913\"/>\n     <use style=\"fill:#474747;stroke:#474747;stroke-linejoin:miter;\" x=\"401.606473\" xlink:href=\"#m69b49dde3d\" y=\"122.812913\"/>\n     <use style=\"fill:#474747;stroke:#474747;stroke-linejoin:miter;\" x=\"401.606473\" xlink:href=\"#m69b49dde3d\" y=\"122.812913\"/>\n     <use style=\"fill:#474747;stroke:#474747;stroke-linejoin:miter;\" x=\"401.606473\" xlink:href=\"#m69b49dde3d\" y=\"122.812913\"/>\n     <use style=\"fill:#474747;stroke:#474747;stroke-linejoin:miter;\" x=\"401.606473\" xlink:href=\"#m69b49dde3d\" y=\"122.812913\"/>\n     <use style=\"fill:#474747;stroke:#474747;stroke-linejoin:miter;\" x=\"401.606473\" xlink:href=\"#m69b49dde3d\" y=\"122.812913\"/>\n     <use style=\"fill:#474747;stroke:#474747;stroke-linejoin:miter;\" x=\"401.606473\" xlink:href=\"#m69b49dde3d\" y=\"122.812913\"/>\n     <use style=\"fill:#474747;stroke:#474747;stroke-linejoin:miter;\" x=\"401.606473\" xlink:href=\"#m69b49dde3d\" y=\"122.812913\"/>\n     <use style=\"fill:#474747;stroke:#474747;stroke-linejoin:miter;\" x=\"401.606473\" xlink:href=\"#m69b49dde3d\" y=\"122.812913\"/>\n     <use style=\"fill:#474747;stroke:#474747;stroke-linejoin:miter;\" x=\"401.606473\" xlink:href=\"#m69b49dde3d\" y=\"122.812913\"/>\n     <use style=\"fill:#474747;stroke:#474747;stroke-linejoin:miter;\" x=\"401.606473\" xlink:href=\"#m69b49dde3d\" y=\"122.812913\"/>\n     <use style=\"fill:#474747;stroke:#474747;stroke-linejoin:miter;\" x=\"401.606473\" xlink:href=\"#m69b49dde3d\" y=\"122.812913\"/>\n     <use style=\"fill:#474747;stroke:#474747;stroke-linejoin:miter;\" x=\"401.606473\" xlink:href=\"#m69b49dde3d\" y=\"122.812913\"/>\n     <use style=\"fill:#474747;stroke:#474747;stroke-linejoin:miter;\" x=\"401.606473\" xlink:href=\"#m69b49dde3d\" y=\"122.812913\"/>\n     <use style=\"fill:#474747;stroke:#474747;stroke-linejoin:miter;\" x=\"401.606473\" xlink:href=\"#m69b49dde3d\" y=\"122.812913\"/>\n     <use style=\"fill:#474747;stroke:#474747;stroke-linejoin:miter;\" x=\"401.606473\" xlink:href=\"#m69b49dde3d\" y=\"122.812913\"/>\n     <use style=\"fill:#474747;stroke:#474747;stroke-linejoin:miter;\" x=\"401.606473\" xlink:href=\"#m69b49dde3d\" y=\"122.812913\"/>\n     <use style=\"fill:#474747;stroke:#474747;stroke-linejoin:miter;\" x=\"401.606473\" xlink:href=\"#m69b49dde3d\" y=\"122.812913\"/>\n     <use style=\"fill:#474747;stroke:#474747;stroke-linejoin:miter;\" x=\"401.606473\" xlink:href=\"#m69b49dde3d\" y=\"122.812913\"/>\n     <use style=\"fill:#474747;stroke:#474747;stroke-linejoin:miter;\" x=\"401.606473\" xlink:href=\"#m69b49dde3d\" y=\"122.812913\"/>\n     <use style=\"fill:#474747;stroke:#474747;stroke-linejoin:miter;\" x=\"401.606473\" xlink:href=\"#m69b49dde3d\" y=\"122.812913\"/>\n     <use style=\"fill:#474747;stroke:#474747;stroke-linejoin:miter;\" x=\"401.606473\" xlink:href=\"#m69b49dde3d\" y=\"122.812913\"/>\n     <use style=\"fill:#474747;stroke:#474747;stroke-linejoin:miter;\" x=\"401.606473\" xlink:href=\"#m69b49dde3d\" y=\"122.812913\"/>\n     <use style=\"fill:#474747;stroke:#474747;stroke-linejoin:miter;\" x=\"401.606473\" xlink:href=\"#m69b49dde3d\" y=\"122.812913\"/>\n     <use style=\"fill:#474747;stroke:#474747;stroke-linejoin:miter;\" x=\"401.606473\" xlink:href=\"#m69b49dde3d\" y=\"122.812913\"/>\n     <use style=\"fill:#474747;stroke:#474747;stroke-linejoin:miter;\" x=\"401.606473\" xlink:href=\"#m69b49dde3d\" y=\"122.812913\"/>\n     <use style=\"fill:#474747;stroke:#474747;stroke-linejoin:miter;\" x=\"401.606473\" xlink:href=\"#m69b49dde3d\" y=\"122.812913\"/>\n     <use style=\"fill:#474747;stroke:#474747;stroke-linejoin:miter;\" x=\"401.606473\" xlink:href=\"#m69b49dde3d\" y=\"122.812913\"/>\n     <use style=\"fill:#474747;stroke:#474747;stroke-linejoin:miter;\" x=\"401.606473\" xlink:href=\"#m69b49dde3d\" y=\"122.812913\"/>\n     <use style=\"fill:#474747;stroke:#474747;stroke-linejoin:miter;\" x=\"401.606473\" xlink:href=\"#m69b49dde3d\" y=\"122.812913\"/>\n     <use style=\"fill:#474747;stroke:#474747;stroke-linejoin:miter;\" x=\"401.606473\" xlink:href=\"#m69b49dde3d\" y=\"122.812913\"/>\n     <use style=\"fill:#474747;stroke:#474747;stroke-linejoin:miter;\" x=\"401.606473\" xlink:href=\"#m69b49dde3d\" y=\"122.812913\"/>\n     <use style=\"fill:#474747;stroke:#474747;stroke-linejoin:miter;\" x=\"401.606473\" xlink:href=\"#m69b49dde3d\" y=\"122.812913\"/>\n     <use style=\"fill:#474747;stroke:#474747;stroke-linejoin:miter;\" x=\"401.606473\" xlink:href=\"#m69b49dde3d\" y=\"122.812913\"/>\n     <use style=\"fill:#474747;stroke:#474747;stroke-linejoin:miter;\" x=\"401.606473\" xlink:href=\"#m69b49dde3d\" y=\"122.812913\"/>\n     <use style=\"fill:#474747;stroke:#474747;stroke-linejoin:miter;\" x=\"401.606473\" xlink:href=\"#m69b49dde3d\" y=\"122.812913\"/>\n     <use style=\"fill:#474747;stroke:#474747;stroke-linejoin:miter;\" x=\"401.606473\" xlink:href=\"#m69b49dde3d\" y=\"122.812913\"/>\n     <use style=\"fill:#474747;stroke:#474747;stroke-linejoin:miter;\" x=\"401.606473\" xlink:href=\"#m69b49dde3d\" y=\"122.812913\"/>\n    </g>\n   </g>\n   <g id=\"line2d_50\">\n    <path clip-path=\"url(#p3192eb7ade)\" d=\"M 469.363616 164.395153 \nL 469.363616 164.395153 \n\" style=\"fill:none;stroke:#474747;stroke-linecap:square;stroke-width:1.5;\"/>\n   </g>\n   <g id=\"line2d_51\">\n    <path clip-path=\"url(#p3192eb7ade)\" d=\"M 469.363616 122.636416 \nL 469.363616 122.636416 \n\" style=\"fill:none;stroke:#474747;stroke-linecap:square;stroke-width:1.5;\"/>\n   </g>\n   <g id=\"line2d_52\">\n    <path clip-path=\"url(#p3192eb7ade)\" d=\"M 455.812188 164.395153 \nL 482.915045 164.395153 \n\" style=\"fill:none;stroke:#474747;stroke-linecap:square;stroke-width:1.5;\"/>\n   </g>\n   <g id=\"line2d_53\">\n    <path clip-path=\"url(#p3192eb7ade)\" d=\"M 455.812188 122.636416 \nL 482.915045 122.636416 \n\" style=\"fill:none;stroke:#474747;stroke-linecap:square;stroke-width:1.5;\"/>\n   </g>\n   <g id=\"line2d_54\"/>\n   <g id=\"line2d_55\">\n    <path clip-path=\"url(#p3192eb7ade)\" d=\"M 537.120759 158.616477 \nL 537.120759 199.363169 \n\" style=\"fill:none;stroke:#474747;stroke-linecap:square;stroke-width:1.5;\"/>\n   </g>\n   <g id=\"line2d_56\">\n    <path clip-path=\"url(#p3192eb7ade)\" d=\"M 537.120759 128.73557 \nL 537.120759 96.138217 \n\" style=\"fill:none;stroke:#474747;stroke-linecap:square;stroke-width:1.5;\"/>\n   </g>\n   <g id=\"line2d_57\">\n    <path clip-path=\"url(#p3192eb7ade)\" d=\"M 523.56933 199.363169 \nL 550.672188 199.363169 \n\" style=\"fill:none;stroke:#474747;stroke-linecap:square;stroke-width:1.5;\"/>\n   </g>\n   <g id=\"line2d_58\">\n    <path clip-path=\"url(#p3192eb7ade)\" d=\"M 523.56933 96.138217 \nL 550.672188 96.138217 \n\" style=\"fill:none;stroke:#474747;stroke-linecap:square;stroke-width:1.5;\"/>\n   </g>\n   <g id=\"line2d_59\">\n    <g clip-path=\"url(#p3192eb7ade)\">\n     <use style=\"fill:#474747;stroke:#474747;stroke-linejoin:miter;\" x=\"537.120759\" xlink:href=\"#m69b49dde3d\" y=\"214.756364\"/>\n    </g>\n   </g>\n   <g id=\"line2d_60\">\n    <path clip-path=\"url(#p3192eb7ade)\" d=\"M 604.877902 143.586085 \nL 604.877902 143.586085 \n\" style=\"fill:none;stroke:#474747;stroke-linecap:square;stroke-width:1.5;\"/>\n   </g>\n   <g id=\"line2d_61\">\n    <path clip-path=\"url(#p3192eb7ade)\" d=\"M 604.877902 122.812913 \nL 604.877902 122.812913 \n\" style=\"fill:none;stroke:#474747;stroke-linecap:square;stroke-width:1.5;\"/>\n   </g>\n   <g id=\"line2d_62\">\n    <path clip-path=\"url(#p3192eb7ade)\" d=\"M 591.326473 143.586085 \nL 618.42933 143.586085 \n\" style=\"fill:none;stroke:#474747;stroke-linecap:square;stroke-width:1.5;\"/>\n   </g>\n   <g id=\"line2d_63\">\n    <path clip-path=\"url(#p3192eb7ade)\" d=\"M 591.326473 122.812913 \nL 618.42933 122.812913 \n\" style=\"fill:none;stroke:#474747;stroke-linecap:square;stroke-width:1.5;\"/>\n   </g>\n   <g id=\"line2d_64\"/>\n   <g id=\"line2d_65\">\n    <path clip-path=\"url(#p3192eb7ade)\" d=\"M 672.635045 162.389626 \nL 672.635045 162.389626 \n\" style=\"fill:none;stroke:#474747;stroke-linecap:square;stroke-width:1.5;\"/>\n   </g>\n   <g id=\"line2d_66\">\n    <path clip-path=\"url(#p3192eb7ade)\" d=\"M 672.635045 133.887417 \nL 672.635045 91.134103 \n\" style=\"fill:none;stroke:#474747;stroke-linecap:square;stroke-width:1.5;\"/>\n   </g>\n   <g id=\"line2d_67\">\n    <path clip-path=\"url(#p3192eb7ade)\" d=\"M 659.083616 162.389626 \nL 686.186473 162.389626 \n\" style=\"fill:none;stroke:#474747;stroke-linecap:square;stroke-width:1.5;\"/>\n   </g>\n   <g id=\"line2d_68\">\n    <path clip-path=\"url(#p3192eb7ade)\" d=\"M 659.083616 91.134103 \nL 686.186473 91.134103 \n\" style=\"fill:none;stroke:#474747;stroke-linecap:square;stroke-width:1.5;\"/>\n   </g>\n   <g id=\"line2d_69\">\n    <g clip-path=\"url(#p3192eb7ade)\">\n     <use style=\"fill:#474747;stroke:#474747;stroke-linejoin:miter;\" x=\"672.635045\" xlink:href=\"#m69b49dde3d\" y=\"51.943565\"/>\n     <use style=\"fill:#474747;stroke:#474747;stroke-linejoin:miter;\" x=\"672.635045\" xlink:href=\"#m69b49dde3d\" y=\"62.631893\"/>\n     <use style=\"fill:#474747;stroke:#474747;stroke-linejoin:miter;\" x=\"672.635045\" xlink:href=\"#m69b49dde3d\" y=\"87.571326\"/>\n     <use style=\"fill:#474747;stroke:#474747;stroke-linejoin:miter;\" x=\"672.635045\" xlink:href=\"#m69b49dde3d\" y=\"87.571326\"/>\n     <use style=\"fill:#474747;stroke:#474747;stroke-linejoin:miter;\" x=\"672.635045\" xlink:href=\"#m69b49dde3d\" y=\"84.00855\"/>\n    </g>\n   </g>\n   <g id=\"line2d_70\">\n    <path clip-path=\"url(#p3192eb7ade)\" d=\"M 740.392188 163.838635 \nL 740.392188 163.838635 \n\" style=\"fill:none;stroke:#474747;stroke-linecap:square;stroke-width:1.5;\"/>\n   </g>\n   <g id=\"line2d_71\">\n    <path clip-path=\"url(#p3192eb7ade)\" d=\"M 740.392188 130.235243 \nL 740.392188 96.631851 \n\" style=\"fill:none;stroke:#474747;stroke-linecap:square;stroke-width:1.5;\"/>\n   </g>\n   <g id=\"line2d_72\">\n    <path clip-path=\"url(#p3192eb7ade)\" d=\"M 726.840759 163.838635 \nL 753.943616 163.838635 \n\" style=\"fill:none;stroke:#474747;stroke-linecap:square;stroke-width:1.5;\"/>\n   </g>\n   <g id=\"line2d_73\">\n    <path clip-path=\"url(#p3192eb7ade)\" d=\"M 726.840759 96.631851 \nL 753.943616 96.631851 \n\" style=\"fill:none;stroke:#474747;stroke-linecap:square;stroke-width:1.5;\"/>\n   </g>\n   <g id=\"line2d_74\"/>\n   <g id=\"line2d_75\">\n    <path clip-path=\"url(#p3192eb7ade)\" d=\"M 808.14933 158.558548 \nL 808.14933 158.558548 \n\" style=\"fill:none;stroke:#474747;stroke-linecap:square;stroke-width:1.5;\"/>\n   </g>\n   <g id=\"line2d_76\">\n    <path clip-path=\"url(#p3192eb7ade)\" d=\"M 808.14933 136.435058 \nL 808.14933 114.311568 \n\" style=\"fill:none;stroke:#474747;stroke-linecap:square;stroke-width:1.5;\"/>\n   </g>\n   <g id=\"line2d_77\">\n    <path clip-path=\"url(#p3192eb7ade)\" d=\"M 794.597902 158.558548 \nL 821.700759 158.558548 \n\" style=\"fill:none;stroke:#474747;stroke-linecap:square;stroke-width:1.5;\"/>\n   </g>\n   <g id=\"line2d_78\">\n    <path clip-path=\"url(#p3192eb7ade)\" d=\"M 794.597902 114.311568 \nL 821.700759 114.311568 \n\" style=\"fill:none;stroke:#474747;stroke-linecap:square;stroke-width:1.5;\"/>\n   </g>\n   <g id=\"line2d_79\">\n    <g clip-path=\"url(#p3192eb7ade)\">\n     <use style=\"fill:#474747;stroke:#474747;stroke-linejoin:miter;\" x=\"808.14933\" xlink:href=\"#m69b49dde3d\" y=\"92.188078\"/>\n     <use style=\"fill:#474747;stroke:#474747;stroke-linejoin:miter;\" x=\"808.14933\" xlink:href=\"#m69b49dde3d\" y=\"92.188078\"/>\n     <use style=\"fill:#474747;stroke:#474747;stroke-linejoin:miter;\" x=\"808.14933\" xlink:href=\"#m69b49dde3d\" y=\"92.188078\"/>\n     <use style=\"fill:#474747;stroke:#474747;stroke-linejoin:miter;\" x=\"808.14933\" xlink:href=\"#m69b49dde3d\" y=\"92.188078\"/>\n     <use style=\"fill:#474747;stroke:#474747;stroke-linejoin:miter;\" x=\"808.14933\" xlink:href=\"#m69b49dde3d\" y=\"92.188078\"/>\n     <use style=\"fill:#474747;stroke:#474747;stroke-linejoin:miter;\" x=\"808.14933\" xlink:href=\"#m69b49dde3d\" y=\"92.188078\"/>\n     <use style=\"fill:#474747;stroke:#474747;stroke-linejoin:miter;\" x=\"808.14933\" xlink:href=\"#m69b49dde3d\" y=\"92.188078\"/>\n     <use style=\"fill:#474747;stroke:#474747;stroke-linejoin:miter;\" x=\"808.14933\" xlink:href=\"#m69b49dde3d\" y=\"92.188078\"/>\n     <use style=\"fill:#474747;stroke:#474747;stroke-linejoin:miter;\" x=\"808.14933\" xlink:href=\"#m69b49dde3d\" y=\"92.188078\"/>\n     <use style=\"fill:#474747;stroke:#474747;stroke-linejoin:miter;\" x=\"808.14933\" xlink:href=\"#m69b49dde3d\" y=\"92.188078\"/>\n     <use style=\"fill:#474747;stroke:#474747;stroke-linejoin:miter;\" x=\"808.14933\" xlink:href=\"#m69b49dde3d\" y=\"92.188078\"/>\n     <use style=\"fill:#474747;stroke:#474747;stroke-linejoin:miter;\" x=\"808.14933\" xlink:href=\"#m69b49dde3d\" y=\"92.188078\"/>\n     <use style=\"fill:#474747;stroke:#474747;stroke-linejoin:miter;\" x=\"808.14933\" xlink:href=\"#m69b49dde3d\" y=\"92.188078\"/>\n     <use style=\"fill:#474747;stroke:#474747;stroke-linejoin:miter;\" x=\"808.14933\" xlink:href=\"#m69b49dde3d\" y=\"92.188078\"/>\n     <use style=\"fill:#474747;stroke:#474747;stroke-linejoin:miter;\" x=\"808.14933\" xlink:href=\"#m69b49dde3d\" y=\"92.188078\"/>\n     <use style=\"fill:#474747;stroke:#474747;stroke-linejoin:miter;\" x=\"808.14933\" xlink:href=\"#m69b49dde3d\" y=\"92.188078\"/>\n     <use style=\"fill:#474747;stroke:#474747;stroke-linejoin:miter;\" x=\"808.14933\" xlink:href=\"#m69b49dde3d\" y=\"92.188078\"/>\n     <use style=\"fill:#474747;stroke:#474747;stroke-linejoin:miter;\" x=\"808.14933\" xlink:href=\"#m69b49dde3d\" y=\"92.188078\"/>\n     <use style=\"fill:#474747;stroke:#474747;stroke-linejoin:miter;\" x=\"808.14933\" xlink:href=\"#m69b49dde3d\" y=\"92.188078\"/>\n     <use style=\"fill:#474747;stroke:#474747;stroke-linejoin:miter;\" x=\"808.14933\" xlink:href=\"#m69b49dde3d\" y=\"92.188078\"/>\n    </g>\n   </g>\n   <g id=\"line2d_80\">\n    <path clip-path=\"url(#p3192eb7ade)\" d=\"M 875.906473 162.130574 \nL 875.906473 162.130574 \n\" style=\"fill:none;stroke:#474747;stroke-linecap:square;stroke-width:1.5;\"/>\n   </g>\n   <g id=\"line2d_81\">\n    <path clip-path=\"url(#p3192eb7ade)\" d=\"M 875.906473 119.268993 \nL 875.906473 119.268993 \n\" style=\"fill:none;stroke:#474747;stroke-linecap:square;stroke-width:1.5;\"/>\n   </g>\n   <g id=\"line2d_82\">\n    <path clip-path=\"url(#p3192eb7ade)\" d=\"M 862.355045 162.130574 \nL 889.457902 162.130574 \n\" style=\"fill:none;stroke:#474747;stroke-linecap:square;stroke-width:1.5;\"/>\n   </g>\n   <g id=\"line2d_83\">\n    <path clip-path=\"url(#p3192eb7ade)\" d=\"M 862.355045 119.268993 \nL 889.457902 119.268993 \n\" style=\"fill:none;stroke:#474747;stroke-linecap:square;stroke-width:1.5;\"/>\n   </g>\n   <g id=\"line2d_84\"/>\n   <g id=\"line2d_85\">\n    <path clip-path=\"url(#p3192eb7ade)\" d=\"M 943.663616 143.586085 \nL 943.663616 143.586085 \n\" style=\"fill:none;stroke:#474747;stroke-linecap:square;stroke-width:1.5;\"/>\n   </g>\n   <g id=\"line2d_86\">\n    <path clip-path=\"url(#p3192eb7ade)\" d=\"M 943.663616 102.039741 \nL 943.663616 60.493396 \n\" style=\"fill:none;stroke:#474747;stroke-linecap:square;stroke-width:1.5;\"/>\n   </g>\n   <g id=\"line2d_87\">\n    <path clip-path=\"url(#p3192eb7ade)\" d=\"M 930.112188 143.586085 \nL 957.215045 143.586085 \n\" style=\"fill:none;stroke:#474747;stroke-linecap:square;stroke-width:1.5;\"/>\n   </g>\n   <g id=\"line2d_88\">\n    <path clip-path=\"url(#p3192eb7ade)\" d=\"M 930.112188 60.493396 \nL 957.215045 60.493396 \n\" style=\"fill:none;stroke:#474747;stroke-linecap:square;stroke-width:1.5;\"/>\n   </g>\n   <g id=\"line2d_89\"/>\n   <g id=\"line2d_90\">\n    <path clip-path=\"url(#p3192eb7ade)\" d=\"M 35.717902 140.239527 \nL 89.923616 140.239527 \n\" style=\"fill:none;stroke:#474747;stroke-linecap:square;stroke-width:1.5;\"/>\n   </g>\n   <g id=\"line2d_91\">\n    <path clip-path=\"url(#p3192eb7ade)\" d=\"M 103.475045 122.812913 \nL 157.680759 122.812913 \n\" style=\"fill:none;stroke:#474747;stroke-linecap:square;stroke-width:1.5;\"/>\n   </g>\n   <g id=\"line2d_92\">\n    <path clip-path=\"url(#p3192eb7ade)\" d=\"M 171.232188 146.993149 \nL 225.437902 146.993149 \n\" style=\"fill:none;stroke:#474747;stroke-linecap:square;stroke-width:1.5;\"/>\n   </g>\n   <g id=\"line2d_93\">\n    <path clip-path=\"url(#p3192eb7ade)\" d=\"M 238.98933 145.566713 \nL 293.195045 145.566713 \n\" style=\"fill:none;stroke:#474747;stroke-linecap:square;stroke-width:1.5;\"/>\n   </g>\n   <g id=\"line2d_94\">\n    <path clip-path=\"url(#p3192eb7ade)\" d=\"M 306.746473 145.323989 \nL 360.952188 145.323989 \n\" style=\"fill:none;stroke:#474747;stroke-linecap:square;stroke-width:1.5;\"/>\n   </g>\n   <g id=\"line2d_95\">\n    <path clip-path=\"url(#p3192eb7ade)\" d=\"M 374.503616 143.586085 \nL 428.70933 143.586085 \n\" style=\"fill:none;stroke:#474747;stroke-linecap:square;stroke-width:1.5;\"/>\n   </g>\n   <g id=\"line2d_96\">\n    <path clip-path=\"url(#p3192eb7ade)\" d=\"M 442.260759 143.515784 \nL 496.466473 143.515784 \n\" style=\"fill:none;stroke:#474747;stroke-linecap:square;stroke-width:1.5;\"/>\n   </g>\n   <g id=\"line2d_97\">\n    <path clip-path=\"url(#p3192eb7ade)\" d=\"M 510.017902 140.506837 \nL 564.223616 140.506837 \n\" style=\"fill:none;stroke:#474747;stroke-linecap:square;stroke-width:1.5;\"/>\n   </g>\n   <g id=\"line2d_98\">\n    <path clip-path=\"url(#p3192eb7ade)\" d=\"M 577.775045 143.586085 \nL 631.980759 143.586085 \n\" style=\"fill:none;stroke:#474747;stroke-linecap:square;stroke-width:1.5;\"/>\n   </g>\n   <g id=\"line2d_99\">\n    <path clip-path=\"url(#p3192eb7ade)\" d=\"M 645.532188 148.138521 \nL 699.737902 148.138521 \n\" style=\"fill:none;stroke:#474747;stroke-linecap:square;stroke-width:1.5;\"/>\n   </g>\n   <g id=\"line2d_100\">\n    <path clip-path=\"url(#p3192eb7ade)\" d=\"M 713.28933 130.235243 \nL 767.495045 130.235243 \n\" style=\"fill:none;stroke:#474747;stroke-linecap:square;stroke-width:1.5;\"/>\n   </g>\n   <g id=\"line2d_101\">\n    <path clip-path=\"url(#p3192eb7ade)\" d=\"M 781.046473 158.558548 \nL 835.252188 158.558548 \n\" style=\"fill:none;stroke:#474747;stroke-linecap:square;stroke-width:1.5;\"/>\n   </g>\n   <g id=\"line2d_102\">\n    <path clip-path=\"url(#p3192eb7ade)\" d=\"M 848.803616 162.130574 \nL 903.00933 162.130574 \n\" style=\"fill:none;stroke:#474747;stroke-linecap:square;stroke-width:1.5;\"/>\n   </g>\n   <g id=\"line2d_103\">\n    <path clip-path=\"url(#p3192eb7ade)\" d=\"M 916.560759 143.586085 \nL 970.766473 143.586085 \n\" style=\"fill:none;stroke:#474747;stroke-linecap:square;stroke-width:1.5;\"/>\n   </g>\n   <g id=\"patch_17\">\n    <path d=\"M 28.942188 224.64 \nL 28.942188 7.2 \n\" style=\"fill:none;stroke:#000000;stroke-linecap:square;stroke-linejoin:miter;stroke-width:0.8;\"/>\n   </g>\n   <g id=\"patch_18\">\n    <path d=\"M 977.542188 224.64 \nL 977.542188 7.2 \n\" style=\"fill:none;stroke:#000000;stroke-linecap:square;stroke-linejoin:miter;stroke-width:0.8;\"/>\n   </g>\n   <g id=\"patch_19\">\n    <path d=\"M 28.942188 224.64 \nL 977.542188 224.64 \n\" style=\"fill:none;stroke:#000000;stroke-linecap:square;stroke-linejoin:miter;stroke-width:0.8;\"/>\n   </g>\n   <g id=\"patch_20\">\n    <path d=\"M 28.942188 7.2 \nL 977.542188 7.2 \n\" style=\"fill:none;stroke:#000000;stroke-linecap:square;stroke-linejoin:miter;stroke-width:0.8;\"/>\n   </g>\n  </g>\n </g>\n <defs>\n  <clipPath id=\"p3192eb7ade\">\n   <rect height=\"217.44\" width=\"948.6\" x=\"28.942188\" y=\"7.2\"/>\n  </clipPath>\n </defs>\n</svg>\n"
          },
          "metadata": {
            "needs_background": "light"
          }
        }
      ]
    },
    {
      "cell_type": "code",
      "source": [
        "data['DISEASE'].value_counts()"
      ],
      "metadata": {
        "colab": {
          "base_uri": "https://localhost:8080/"
        },
        "id": "8fEghx_noe22",
        "outputId": "aa961c1f-256d-419b-8c50-d5a1c5a78546"
      },
      "execution_count": 83,
      "outputs": [
        {
          "output_type": "execute_result",
          "data": {
            "text/plain": [
              "0    160\n",
              "1     54\n",
              "2     35\n",
              "3     35\n",
              "4     13\n",
              "Name: DISEASE, dtype: int64"
            ]
          },
          "metadata": {},
          "execution_count": 83
        }
      ]
    },
    {
      "cell_type": "code",
      "source": [
        "data['DISEASE'] = (data['DISEASE'] > 0).astype('int')"
      ],
      "metadata": {
        "id": "CrVgtuiDn6he"
      },
      "execution_count": 84,
      "outputs": []
    },
    {
      "cell_type": "code",
      "source": [
        "data['DISEASE'].value_counts()"
      ],
      "metadata": {
        "colab": {
          "base_uri": "https://localhost:8080/"
        },
        "id": "yT_fP1v_ojny",
        "outputId": "49ef0c2d-e0bb-4671-a0ef-e34c2d63da73"
      },
      "execution_count": 85,
      "outputs": [
        {
          "output_type": "execute_result",
          "data": {
            "text/plain": [
              "0    160\n",
              "1    137\n",
              "Name: DISEASE, dtype: int64"
            ]
          },
          "metadata": {},
          "execution_count": 85
        }
      ]
    },
    {
      "cell_type": "code",
      "source": [
        "labels = data['DISEASE']\n",
        "data = data.drop(['DISEASE'], axis=1)\n",
        "print(labels.shape)\n",
        "print(data.shape)"
      ],
      "metadata": {
        "colab": {
          "base_uri": "https://localhost:8080/"
        },
        "id": "-sNBeqQiomFf",
        "outputId": "6c14442b-28e9-4dc6-bb34-cfe183331a9f"
      },
      "execution_count": 86,
      "outputs": [
        {
          "output_type": "stream",
          "name": "stdout",
          "text": [
            "(297,)\n",
            "(297, 13)\n"
          ]
        }
      ]
    },
    {
      "cell_type": "code",
      "source": [
        "type(data.values)"
      ],
      "metadata": {
        "colab": {
          "base_uri": "https://localhost:8080/"
        },
        "id": "BhBf9sR5pMCK",
        "outputId": "9c71c437-4589-4b34-f812-b5f5c6abeba0"
      },
      "execution_count": 22,
      "outputs": [
        {
          "output_type": "execute_result",
          "data": {
            "text/plain": [
              "numpy.ndarray"
            ]
          },
          "metadata": {},
          "execution_count": 22
        }
      ]
    },
    {
      "cell_type": "code",
      "source": [
        "labels = labels.values.reshape(-1, 1)"
      ],
      "metadata": {
        "id": "c904oXpko1BQ"
      },
      "execution_count": 87,
      "outputs": []
    },
    {
      "cell_type": "code",
      "source": [
        "# convert into train test loader\n",
        "# converting to tensor\n",
        "dataT = torch.tensor(data.values).float()\n",
        "labelsT = torch.tensor(labels).float()\n",
        "\n",
        "# split into train devset test\n",
        "train_data, devtest_data, train_labels, devtest_labels = train_test_split(dataT, labelsT, train_size=.9, shuffle=True)\n",
        "dev_data, test_data, dev_labels, test_labels = train_test_split(devtest_data, devtest_labels, train_size=.5, shuffle=True)\n",
        "\n",
        "# convert to pytorch dataset\n",
        "train_data = TensorDataset(train_data, train_labels)\n",
        "dev_data = TensorDataset(dev_data, dev_labels)\n",
        "test_data = TensorDataset(test_data, test_labels)\n",
        "\n",
        "# translate to dataloader\n",
        "batchsize = 16\n",
        "train_loader = DataLoader(train_data, batch_size=batchsize, shuffle=True, drop_last=True)\n",
        "dev_loader = DataLoader(dev_data, batch_size=dev_data.tensors[0].shape[0])\n",
        "test_loader = DataLoader(test_data, batch_size=test_data.tensors[0].shape[0])\n",
        "\n",
        "print(f'total number of batch {len(train_loader)} with everybatch {batchsize} samples')\n"
      ],
      "metadata": {
        "colab": {
          "base_uri": "https://localhost:8080/"
        },
        "id": "WBLurus5o4Ue",
        "outputId": "263381af-cb94-419d-fbf2-0d3d67232773"
      },
      "execution_count": 88,
      "outputs": [
        {
          "output_type": "stream",
          "name": "stdout",
          "text": [
            "total number of batch 16 with everybatch 16 samples\n"
          ]
        }
      ]
    },
    {
      "cell_type": "code",
      "source": [
        "# shapes\n",
        "print('train: ', train_data.tensors[0].shape)\n",
        "print('dev: ', dev_data.tensors[0].shape)\n",
        "print('test: ', test_data.tensors[0].shape)"
      ],
      "metadata": {
        "colab": {
          "base_uri": "https://localhost:8080/"
        },
        "id": "mUrEgjDrpkdR",
        "outputId": "ed689f47-5b17-47df-a9ad-4fbcf14ae5b5"
      },
      "execution_count": 89,
      "outputs": [
        {
          "output_type": "stream",
          "name": "stdout",
          "text": [
            "train:  torch.Size([267, 13])\n",
            "dev:  torch.Size([15, 13])\n",
            "test:  torch.Size([15, 13])\n"
          ]
        }
      ]
    },
    {
      "cell_type": "markdown",
      "source": [
        "## Creating Model"
      ],
      "metadata": {
        "id": "dbw7kI6vpnzr"
      }
    },
    {
      "cell_type": "code",
      "source": [
        "class HDModel(nn.Module):\n",
        "    def __init__(self):\n",
        "        super().__init__()\n",
        "\n",
        "        self.input = nn.Linear(13, 64)\n",
        "        self.fc1 = nn.Linear(64, 128)\n",
        "        self.fc2 = nn.Linear(128, 128)\n",
        "        self.fc3 = nn.Linear(128, 64)\n",
        "        self.fc4 = nn.Linear(64, 32)\n",
        "        self.output = nn.Linear(32, 1)\n",
        "\n",
        "    # forward pass\n",
        "    def forward(self, x):\n",
        "        \n",
        "        x = F.relu(self.input(x))\n",
        "        x = F.relu(self.fc1(x))\n",
        "        x = F.relu(self.fc2(x))\n",
        "        x = F.relu(self.fc3(x))\n",
        "        x = F.relu(self.fc4(x))\n",
        "        x = F.relu(self.output(x))\n",
        "\n",
        "        return x"
      ],
      "metadata": {
        "id": "cMVSaPuOpuAc"
      },
      "execution_count": 90,
      "outputs": []
    },
    {
      "cell_type": "code",
      "source": [
        "# test the model\n",
        "net = HDModel()\n",
        "print(net)\n",
        "net(torch.randn(10, 13))"
      ],
      "metadata": {
        "colab": {
          "base_uri": "https://localhost:8080/"
        },
        "id": "37XFxiXDqb9u",
        "outputId": "d5fb19bb-a0d3-432d-fb84-71c488016411"
      },
      "execution_count": 91,
      "outputs": [
        {
          "output_type": "stream",
          "name": "stdout",
          "text": [
            "HDModel(\n",
            "  (input): Linear(in_features=13, out_features=64, bias=True)\n",
            "  (fc1): Linear(in_features=64, out_features=128, bias=True)\n",
            "  (fc2): Linear(in_features=128, out_features=128, bias=True)\n",
            "  (fc3): Linear(in_features=128, out_features=64, bias=True)\n",
            "  (fc4): Linear(in_features=64, out_features=32, bias=True)\n",
            "  (output): Linear(in_features=32, out_features=1, bias=True)\n",
            ")\n"
          ]
        },
        {
          "output_type": "execute_result",
          "data": {
            "text/plain": [
              "tensor([[0.],\n",
              "        [0.],\n",
              "        [0.],\n",
              "        [0.],\n",
              "        [0.],\n",
              "        [0.],\n",
              "        [0.],\n",
              "        [0.],\n",
              "        [0.],\n",
              "        [0.]], grad_fn=<ReluBackward0>)"
            ]
          },
          "metadata": {},
          "execution_count": 91
        }
      ]
    },
    {
      "cell_type": "markdown",
      "source": [
        "# A function to train the model"
      ],
      "metadata": {
        "id": "UJDE4gz1qoX3"
      }
    },
    {
      "cell_type": "code",
      "source": [
        "def function2TrainTheModel():\n",
        "\n",
        "    numepochs = 300\n",
        "\n",
        "    HDnet = HDModel()\n",
        "\n",
        "    lossfun = nn.BCEWithLogitsLoss()\n",
        "\n",
        "    optimizer = torch.optim.Adam(HDnet.parameters(), lr=0.0001)\n",
        "\n",
        "    trainAcc = []\n",
        "    devAcc = []\n",
        "    losses = torch.zeros(numepochs)\n",
        "\n",
        "    for epochi in range(numepochs):\n",
        "        HDnet.train()\n",
        "\n",
        "        batchAcc = []\n",
        "        batchLoss = []\n",
        "\n",
        "        for X, y in train_loader:\n",
        "            \n",
        "            # forward pass\n",
        "            yHat = HDnet(X)\n",
        "\n",
        "            loss = lossfun(yHat, y)\n",
        "\n",
        "            # backward pass\n",
        "            optimizer.zero_grad()\n",
        "            loss.backward()\n",
        "            optimizer.step()\n",
        "\n",
        "            batchLoss.append(loss.item())\n",
        "            predictions = (torch.sigmoid(yHat) > .5).float()\n",
        "            batchAcc.append(100*torch.mean((predictions == y).float()))\n",
        "\n",
        "        losses[epochi] = np.mean(batchLoss)\n",
        "        trainAcc.append(np.mean(batchAcc))\n",
        "\n",
        "        # eval\n",
        "        HDnet.eval()\n",
        "        X, y = next(iter(dev_loader))\n",
        "        with torch.no_grad():\n",
        "            yHat = HDnet(X)\n",
        "        \n",
        "        predictions = (torch.sigmoid(yHat) > .5).float()\n",
        "        devAcc.append(100*torch.mean((predictions == y).float()).item())\n",
        "\n",
        "    # return output\n",
        "    return trainAcc, devAcc, losses, HDnet\n",
        "\n",
        "            "
      ],
      "metadata": {
        "id": "IEimFzCrq0Sm"
      },
      "execution_count": 102,
      "outputs": []
    },
    {
      "cell_type": "code",
      "source": [
        "# now it's time to train a model\n",
        "trainAcc, devAcc, losses, HDnet = function2TrainTheModel()"
      ],
      "metadata": {
        "id": "rQDIGqMRtFk6"
      },
      "execution_count": 103,
      "outputs": []
    },
    {
      "cell_type": "code",
      "source": [
        "fig, ax = plt.subplots(1, 2, figsize=(16, 5))\n",
        "\n",
        "ax[0].plot(losses)\n",
        "ax[0].set_xlabel('Epochs')\n",
        "ax[0].set_ylabel('Loss')\n",
        "# ax[0].set_ylim([0, 3])\n",
        "ax[0].set_title('Model loss')\n",
        "\n",
        "ax[1].plot(trainAcc, label='Train')\n",
        "ax[1].plot(devAcc, label='Dev')\n",
        "ax[1].set_xlabel('Epochs')\n",
        "ax[1].set_ylabel('Accuracy (%)')\n",
        "ax[1].set_title(f'Final model test accuracy: {devAcc[-1]:.2f}%')\n",
        "ax[1].set_ylim([10, 100])\n",
        "ax[1].legend()\n",
        "\n",
        "plt.show()"
      ],
      "metadata": {
        "colab": {
          "base_uri": "https://localhost:8080/",
          "height": 464
        },
        "id": "KIkwwCN3tRxA",
        "outputId": "5fe12c8f-4a3b-4c49-976b-ae322d92fe31"
      },
      "execution_count": 105,
      "outputs": [
        {
          "output_type": "display_data",
          "data": {
            "text/plain": [
              "<Figure size 1152x360 with 2 Axes>"
            ],
            "image/svg+xml": "<?xml version=\"1.0\" encoding=\"utf-8\" standalone=\"no\"?>\n<!DOCTYPE svg PUBLIC \"-//W3C//DTD SVG 1.1//EN\"\n  \"http://www.w3.org/Graphics/SVG/1.1/DTD/svg11.dtd\">\n<!-- Created with matplotlib (https://matplotlib.org/) -->\n<svg height=\"331.674375pt\" version=\"1.1\" viewBox=\"0 0 950.14375 331.674375\" width=\"950.14375pt\" xmlns=\"http://www.w3.org/2000/svg\" xmlns:xlink=\"http://www.w3.org/1999/xlink\">\n <defs>\n  <style type=\"text/css\">\n*{stroke-linecap:butt;stroke-linejoin:round;}\n  </style>\n </defs>\n <g id=\"figure_1\">\n  <g id=\"patch_1\">\n   <path d=\"M 0 331.674375 \nL 950.14375 331.674375 \nL 950.14375 0 \nL 0 0 \nz\n\" style=\"fill:none;\"/>\n  </g>\n  <g id=\"axes_1\">\n   <g id=\"patch_2\">\n    <path d=\"M 50.14375 294.118125 \nL 455.961932 294.118125 \nL 455.961932 22.318125 \nL 50.14375 22.318125 \nz\n\" style=\"fill:#ffffff;\"/>\n   </g>\n   <g id=\"matplotlib.axis_1\">\n    <g id=\"xtick_1\">\n     <g id=\"line2d_1\">\n      <defs>\n       <path d=\"M 0 0 \nL 0 3.5 \n\" id=\"m97343c0dd3\" style=\"stroke:#000000;stroke-width:0.8;\"/>\n      </defs>\n      <g>\n       <use style=\"stroke:#000000;stroke-width:0.8;\" x=\"68.590031\" xlink:href=\"#m97343c0dd3\" y=\"294.118125\"/>\n      </g>\n     </g>\n     <g id=\"text_1\">\n      <!-- 0 -->\n      <defs>\n       <path d=\"M 31.78125 66.40625 \nQ 24.171875 66.40625 20.328125 58.90625 \nQ 16.5 51.421875 16.5 36.375 \nQ 16.5 21.390625 20.328125 13.890625 \nQ 24.171875 6.390625 31.78125 6.390625 \nQ 39.453125 6.390625 43.28125 13.890625 \nQ 47.125 21.390625 47.125 36.375 \nQ 47.125 51.421875 43.28125 58.90625 \nQ 39.453125 66.40625 31.78125 66.40625 \nz\nM 31.78125 74.21875 \nQ 44.046875 74.21875 50.515625 64.515625 \nQ 56.984375 54.828125 56.984375 36.375 \nQ 56.984375 17.96875 50.515625 8.265625 \nQ 44.046875 -1.421875 31.78125 -1.421875 \nQ 19.53125 -1.421875 13.0625 8.265625 \nQ 6.59375 17.96875 6.59375 36.375 \nQ 6.59375 54.828125 13.0625 64.515625 \nQ 19.53125 74.21875 31.78125 74.21875 \nz\n\" id=\"DejaVuSans-48\"/>\n      </defs>\n      <g transform=\"translate(65.408781 308.716563)scale(0.1 -0.1)\">\n       <use xlink:href=\"#DejaVuSans-48\"/>\n      </g>\n     </g>\n    </g>\n    <g id=\"xtick_2\">\n     <g id=\"line2d_2\">\n      <g>\n       <use style=\"stroke:#000000;stroke-width:0.8;\" x=\"130.283278\" xlink:href=\"#m97343c0dd3\" y=\"294.118125\"/>\n      </g>\n     </g>\n     <g id=\"text_2\">\n      <!-- 50 -->\n      <defs>\n       <path d=\"M 10.796875 72.90625 \nL 49.515625 72.90625 \nL 49.515625 64.59375 \nL 19.828125 64.59375 \nL 19.828125 46.734375 \nQ 21.96875 47.46875 24.109375 47.828125 \nQ 26.265625 48.1875 28.421875 48.1875 \nQ 40.625 48.1875 47.75 41.5 \nQ 54.890625 34.8125 54.890625 23.390625 \nQ 54.890625 11.625 47.5625 5.09375 \nQ 40.234375 -1.421875 26.90625 -1.421875 \nQ 22.3125 -1.421875 17.546875 -0.640625 \nQ 12.796875 0.140625 7.71875 1.703125 \nL 7.71875 11.625 \nQ 12.109375 9.234375 16.796875 8.0625 \nQ 21.484375 6.890625 26.703125 6.890625 \nQ 35.15625 6.890625 40.078125 11.328125 \nQ 45.015625 15.765625 45.015625 23.390625 \nQ 45.015625 31 40.078125 35.4375 \nQ 35.15625 39.890625 26.703125 39.890625 \nQ 22.75 39.890625 18.8125 39.015625 \nQ 14.890625 38.140625 10.796875 36.28125 \nz\n\" id=\"DejaVuSans-53\"/>\n      </defs>\n      <g transform=\"translate(123.920778 308.716563)scale(0.1 -0.1)\">\n       <use xlink:href=\"#DejaVuSans-53\"/>\n       <use x=\"63.623047\" xlink:href=\"#DejaVuSans-48\"/>\n      </g>\n     </g>\n    </g>\n    <g id=\"xtick_3\">\n     <g id=\"line2d_3\">\n      <g>\n       <use style=\"stroke:#000000;stroke-width:0.8;\" x=\"191.976526\" xlink:href=\"#m97343c0dd3\" y=\"294.118125\"/>\n      </g>\n     </g>\n     <g id=\"text_3\">\n      <!-- 100 -->\n      <defs>\n       <path d=\"M 12.40625 8.296875 \nL 28.515625 8.296875 \nL 28.515625 63.921875 \nL 10.984375 60.40625 \nL 10.984375 69.390625 \nL 28.421875 72.90625 \nL 38.28125 72.90625 \nL 38.28125 8.296875 \nL 54.390625 8.296875 \nL 54.390625 0 \nL 12.40625 0 \nz\n\" id=\"DejaVuSans-49\"/>\n      </defs>\n      <g transform=\"translate(182.432776 308.716563)scale(0.1 -0.1)\">\n       <use xlink:href=\"#DejaVuSans-49\"/>\n       <use x=\"63.623047\" xlink:href=\"#DejaVuSans-48\"/>\n       <use x=\"127.246094\" xlink:href=\"#DejaVuSans-48\"/>\n      </g>\n     </g>\n    </g>\n    <g id=\"xtick_4\">\n     <g id=\"line2d_4\">\n      <g>\n       <use style=\"stroke:#000000;stroke-width:0.8;\" x=\"253.669773\" xlink:href=\"#m97343c0dd3\" y=\"294.118125\"/>\n      </g>\n     </g>\n     <g id=\"text_4\">\n      <!-- 150 -->\n      <g transform=\"translate(244.126023 308.716563)scale(0.1 -0.1)\">\n       <use xlink:href=\"#DejaVuSans-49\"/>\n       <use x=\"63.623047\" xlink:href=\"#DejaVuSans-53\"/>\n       <use x=\"127.246094\" xlink:href=\"#DejaVuSans-48\"/>\n      </g>\n     </g>\n    </g>\n    <g id=\"xtick_5\">\n     <g id=\"line2d_5\">\n      <g>\n       <use style=\"stroke:#000000;stroke-width:0.8;\" x=\"315.363021\" xlink:href=\"#m97343c0dd3\" y=\"294.118125\"/>\n      </g>\n     </g>\n     <g id=\"text_5\">\n      <!-- 200 -->\n      <defs>\n       <path d=\"M 19.1875 8.296875 \nL 53.609375 8.296875 \nL 53.609375 0 \nL 7.328125 0 \nL 7.328125 8.296875 \nQ 12.9375 14.109375 22.625 23.890625 \nQ 32.328125 33.6875 34.8125 36.53125 \nQ 39.546875 41.84375 41.421875 45.53125 \nQ 43.3125 49.21875 43.3125 52.78125 \nQ 43.3125 58.59375 39.234375 62.25 \nQ 35.15625 65.921875 28.609375 65.921875 \nQ 23.96875 65.921875 18.8125 64.3125 \nQ 13.671875 62.703125 7.8125 59.421875 \nL 7.8125 69.390625 \nQ 13.765625 71.78125 18.9375 73 \nQ 24.125 74.21875 28.421875 74.21875 \nQ 39.75 74.21875 46.484375 68.546875 \nQ 53.21875 62.890625 53.21875 53.421875 \nQ 53.21875 48.921875 51.53125 44.890625 \nQ 49.859375 40.875 45.40625 35.40625 \nQ 44.1875 33.984375 37.640625 27.21875 \nQ 31.109375 20.453125 19.1875 8.296875 \nz\n\" id=\"DejaVuSans-50\"/>\n      </defs>\n      <g transform=\"translate(305.819271 308.716563)scale(0.1 -0.1)\">\n       <use xlink:href=\"#DejaVuSans-50\"/>\n       <use x=\"63.623047\" xlink:href=\"#DejaVuSans-48\"/>\n       <use x=\"127.246094\" xlink:href=\"#DejaVuSans-48\"/>\n      </g>\n     </g>\n    </g>\n    <g id=\"xtick_6\">\n     <g id=\"line2d_6\">\n      <g>\n       <use style=\"stroke:#000000;stroke-width:0.8;\" x=\"377.056268\" xlink:href=\"#m97343c0dd3\" y=\"294.118125\"/>\n      </g>\n     </g>\n     <g id=\"text_6\">\n      <!-- 250 -->\n      <g transform=\"translate(367.512518 308.716563)scale(0.1 -0.1)\">\n       <use xlink:href=\"#DejaVuSans-50\"/>\n       <use x=\"63.623047\" xlink:href=\"#DejaVuSans-53\"/>\n       <use x=\"127.246094\" xlink:href=\"#DejaVuSans-48\"/>\n      </g>\n     </g>\n    </g>\n    <g id=\"xtick_7\">\n     <g id=\"line2d_7\">\n      <g>\n       <use style=\"stroke:#000000;stroke-width:0.8;\" x=\"438.749516\" xlink:href=\"#m97343c0dd3\" y=\"294.118125\"/>\n      </g>\n     </g>\n     <g id=\"text_7\">\n      <!-- 300 -->\n      <defs>\n       <path d=\"M 40.578125 39.3125 \nQ 47.65625 37.796875 51.625 33 \nQ 55.609375 28.21875 55.609375 21.1875 \nQ 55.609375 10.40625 48.1875 4.484375 \nQ 40.765625 -1.421875 27.09375 -1.421875 \nQ 22.515625 -1.421875 17.65625 -0.515625 \nQ 12.796875 0.390625 7.625 2.203125 \nL 7.625 11.71875 \nQ 11.71875 9.328125 16.59375 8.109375 \nQ 21.484375 6.890625 26.8125 6.890625 \nQ 36.078125 6.890625 40.9375 10.546875 \nQ 45.796875 14.203125 45.796875 21.1875 \nQ 45.796875 27.640625 41.28125 31.265625 \nQ 36.765625 34.90625 28.71875 34.90625 \nL 20.21875 34.90625 \nL 20.21875 43.015625 \nL 29.109375 43.015625 \nQ 36.375 43.015625 40.234375 45.921875 \nQ 44.09375 48.828125 44.09375 54.296875 \nQ 44.09375 59.90625 40.109375 62.90625 \nQ 36.140625 65.921875 28.71875 65.921875 \nQ 24.65625 65.921875 20.015625 65.03125 \nQ 15.375 64.15625 9.8125 62.3125 \nL 9.8125 71.09375 \nQ 15.4375 72.65625 20.34375 73.4375 \nQ 25.25 74.21875 29.59375 74.21875 \nQ 40.828125 74.21875 47.359375 69.109375 \nQ 53.90625 64.015625 53.90625 55.328125 \nQ 53.90625 49.265625 50.4375 45.09375 \nQ 46.96875 40.921875 40.578125 39.3125 \nz\n\" id=\"DejaVuSans-51\"/>\n      </defs>\n      <g transform=\"translate(429.205766 308.716563)scale(0.1 -0.1)\">\n       <use xlink:href=\"#DejaVuSans-51\"/>\n       <use x=\"63.623047\" xlink:href=\"#DejaVuSans-48\"/>\n       <use x=\"127.246094\" xlink:href=\"#DejaVuSans-48\"/>\n      </g>\n     </g>\n    </g>\n    <g id=\"text_8\">\n     <!-- Epochs -->\n     <defs>\n      <path d=\"M 9.8125 72.90625 \nL 55.90625 72.90625 \nL 55.90625 64.59375 \nL 19.671875 64.59375 \nL 19.671875 43.015625 \nL 54.390625 43.015625 \nL 54.390625 34.71875 \nL 19.671875 34.71875 \nL 19.671875 8.296875 \nL 56.78125 8.296875 \nL 56.78125 0 \nL 9.8125 0 \nz\n\" id=\"DejaVuSans-69\"/>\n      <path d=\"M 18.109375 8.203125 \nL 18.109375 -20.796875 \nL 9.078125 -20.796875 \nL 9.078125 54.6875 \nL 18.109375 54.6875 \nL 18.109375 46.390625 \nQ 20.953125 51.265625 25.265625 53.625 \nQ 29.59375 56 35.59375 56 \nQ 45.5625 56 51.78125 48.09375 \nQ 58.015625 40.1875 58.015625 27.296875 \nQ 58.015625 14.40625 51.78125 6.484375 \nQ 45.5625 -1.421875 35.59375 -1.421875 \nQ 29.59375 -1.421875 25.265625 0.953125 \nQ 20.953125 3.328125 18.109375 8.203125 \nz\nM 48.6875 27.296875 \nQ 48.6875 37.203125 44.609375 42.84375 \nQ 40.53125 48.484375 33.40625 48.484375 \nQ 26.265625 48.484375 22.1875 42.84375 \nQ 18.109375 37.203125 18.109375 27.296875 \nQ 18.109375 17.390625 22.1875 11.75 \nQ 26.265625 6.109375 33.40625 6.109375 \nQ 40.53125 6.109375 44.609375 11.75 \nQ 48.6875 17.390625 48.6875 27.296875 \nz\n\" id=\"DejaVuSans-112\"/>\n      <path d=\"M 30.609375 48.390625 \nQ 23.390625 48.390625 19.1875 42.75 \nQ 14.984375 37.109375 14.984375 27.296875 \nQ 14.984375 17.484375 19.15625 11.84375 \nQ 23.34375 6.203125 30.609375 6.203125 \nQ 37.796875 6.203125 41.984375 11.859375 \nQ 46.1875 17.53125 46.1875 27.296875 \nQ 46.1875 37.015625 41.984375 42.703125 \nQ 37.796875 48.390625 30.609375 48.390625 \nz\nM 30.609375 56 \nQ 42.328125 56 49.015625 48.375 \nQ 55.71875 40.765625 55.71875 27.296875 \nQ 55.71875 13.875 49.015625 6.21875 \nQ 42.328125 -1.421875 30.609375 -1.421875 \nQ 18.84375 -1.421875 12.171875 6.21875 \nQ 5.515625 13.875 5.515625 27.296875 \nQ 5.515625 40.765625 12.171875 48.375 \nQ 18.84375 56 30.609375 56 \nz\n\" id=\"DejaVuSans-111\"/>\n      <path d=\"M 48.78125 52.59375 \nL 48.78125 44.1875 \nQ 44.96875 46.296875 41.140625 47.34375 \nQ 37.3125 48.390625 33.40625 48.390625 \nQ 24.65625 48.390625 19.8125 42.84375 \nQ 14.984375 37.3125 14.984375 27.296875 \nQ 14.984375 17.28125 19.8125 11.734375 \nQ 24.65625 6.203125 33.40625 6.203125 \nQ 37.3125 6.203125 41.140625 7.25 \nQ 44.96875 8.296875 48.78125 10.40625 \nL 48.78125 2.09375 \nQ 45.015625 0.34375 40.984375 -0.53125 \nQ 36.96875 -1.421875 32.421875 -1.421875 \nQ 20.0625 -1.421875 12.78125 6.34375 \nQ 5.515625 14.109375 5.515625 27.296875 \nQ 5.515625 40.671875 12.859375 48.328125 \nQ 20.21875 56 33.015625 56 \nQ 37.15625 56 41.109375 55.140625 \nQ 45.0625 54.296875 48.78125 52.59375 \nz\n\" id=\"DejaVuSans-99\"/>\n      <path d=\"M 54.890625 33.015625 \nL 54.890625 0 \nL 45.90625 0 \nL 45.90625 32.71875 \nQ 45.90625 40.484375 42.875 44.328125 \nQ 39.84375 48.1875 33.796875 48.1875 \nQ 26.515625 48.1875 22.3125 43.546875 \nQ 18.109375 38.921875 18.109375 30.90625 \nL 18.109375 0 \nL 9.078125 0 \nL 9.078125 75.984375 \nL 18.109375 75.984375 \nL 18.109375 46.1875 \nQ 21.34375 51.125 25.703125 53.5625 \nQ 30.078125 56 35.796875 56 \nQ 45.21875 56 50.046875 50.171875 \nQ 54.890625 44.34375 54.890625 33.015625 \nz\n\" id=\"DejaVuSans-104\"/>\n      <path d=\"M 44.28125 53.078125 \nL 44.28125 44.578125 \nQ 40.484375 46.53125 36.375 47.5 \nQ 32.28125 48.484375 27.875 48.484375 \nQ 21.1875 48.484375 17.84375 46.4375 \nQ 14.5 44.390625 14.5 40.28125 \nQ 14.5 37.15625 16.890625 35.375 \nQ 19.28125 33.59375 26.515625 31.984375 \nL 29.59375 31.296875 \nQ 39.15625 29.25 43.1875 25.515625 \nQ 47.21875 21.78125 47.21875 15.09375 \nQ 47.21875 7.46875 41.1875 3.015625 \nQ 35.15625 -1.421875 24.609375 -1.421875 \nQ 20.21875 -1.421875 15.453125 -0.5625 \nQ 10.6875 0.296875 5.421875 2 \nL 5.421875 11.28125 \nQ 10.40625 8.6875 15.234375 7.390625 \nQ 20.0625 6.109375 24.8125 6.109375 \nQ 31.15625 6.109375 34.5625 8.28125 \nQ 37.984375 10.453125 37.984375 14.40625 \nQ 37.984375 18.0625 35.515625 20.015625 \nQ 33.0625 21.96875 24.703125 23.78125 \nL 21.578125 24.515625 \nQ 13.234375 26.265625 9.515625 29.90625 \nQ 5.8125 33.546875 5.8125 39.890625 \nQ 5.8125 47.609375 11.28125 51.796875 \nQ 16.75 56 26.8125 56 \nQ 31.78125 56 36.171875 55.265625 \nQ 40.578125 54.546875 44.28125 53.078125 \nz\n\" id=\"DejaVuSans-115\"/>\n     </defs>\n     <g transform=\"translate(235.137216 322.394687)scale(0.1 -0.1)\">\n      <use xlink:href=\"#DejaVuSans-69\"/>\n      <use x=\"63.183594\" xlink:href=\"#DejaVuSans-112\"/>\n      <use x=\"126.660156\" xlink:href=\"#DejaVuSans-111\"/>\n      <use x=\"187.841797\" xlink:href=\"#DejaVuSans-99\"/>\n      <use x=\"242.822266\" xlink:href=\"#DejaVuSans-104\"/>\n      <use x=\"306.201172\" xlink:href=\"#DejaVuSans-115\"/>\n     </g>\n    </g>\n   </g>\n   <g id=\"matplotlib.axis_2\">\n    <g id=\"ytick_1\">\n     <g id=\"line2d_8\">\n      <defs>\n       <path d=\"M 0 0 \nL -3.5 0 \n\" id=\"m28b7de5ffa\" style=\"stroke:#000000;stroke-width:0.8;\"/>\n      </defs>\n      <g>\n       <use style=\"stroke:#000000;stroke-width:0.8;\" x=\"50.14375\" xlink:href=\"#m28b7de5ffa\" y=\"291.794232\"/>\n      </g>\n     </g>\n     <g id=\"text_9\">\n      <!-- 0.40 -->\n      <defs>\n       <path d=\"M 10.6875 12.40625 \nL 21 12.40625 \nL 21 0 \nL 10.6875 0 \nz\n\" id=\"DejaVuSans-46\"/>\n       <path d=\"M 37.796875 64.3125 \nL 12.890625 25.390625 \nL 37.796875 25.390625 \nz\nM 35.203125 72.90625 \nL 47.609375 72.90625 \nL 47.609375 25.390625 \nL 58.015625 25.390625 \nL 58.015625 17.1875 \nL 47.609375 17.1875 \nL 47.609375 0 \nL 37.796875 0 \nL 37.796875 17.1875 \nL 4.890625 17.1875 \nL 4.890625 26.703125 \nz\n\" id=\"DejaVuSans-52\"/>\n      </defs>\n      <g transform=\"translate(20.878125 295.59345)scale(0.1 -0.1)\">\n       <use xlink:href=\"#DejaVuSans-48\"/>\n       <use x=\"63.623047\" xlink:href=\"#DejaVuSans-46\"/>\n       <use x=\"95.410156\" xlink:href=\"#DejaVuSans-52\"/>\n       <use x=\"159.033203\" xlink:href=\"#DejaVuSans-48\"/>\n      </g>\n     </g>\n    </g>\n    <g id=\"ytick_2\">\n     <g id=\"line2d_9\">\n      <g>\n       <use style=\"stroke:#000000;stroke-width:0.8;\" x=\"50.14375\" xlink:href=\"#m28b7de5ffa\" y=\"249.360583\"/>\n      </g>\n     </g>\n     <g id=\"text_10\">\n      <!-- 0.45 -->\n      <g transform=\"translate(20.878125 253.159802)scale(0.1 -0.1)\">\n       <use xlink:href=\"#DejaVuSans-48\"/>\n       <use x=\"63.623047\" xlink:href=\"#DejaVuSans-46\"/>\n       <use x=\"95.410156\" xlink:href=\"#DejaVuSans-52\"/>\n       <use x=\"159.033203\" xlink:href=\"#DejaVuSans-53\"/>\n      </g>\n     </g>\n    </g>\n    <g id=\"ytick_3\">\n     <g id=\"line2d_10\">\n      <g>\n       <use style=\"stroke:#000000;stroke-width:0.8;\" x=\"50.14375\" xlink:href=\"#m28b7de5ffa\" y=\"206.926935\"/>\n      </g>\n     </g>\n     <g id=\"text_11\">\n      <!-- 0.50 -->\n      <g transform=\"translate(20.878125 210.726154)scale(0.1 -0.1)\">\n       <use xlink:href=\"#DejaVuSans-48\"/>\n       <use x=\"63.623047\" xlink:href=\"#DejaVuSans-46\"/>\n       <use x=\"95.410156\" xlink:href=\"#DejaVuSans-53\"/>\n       <use x=\"159.033203\" xlink:href=\"#DejaVuSans-48\"/>\n      </g>\n     </g>\n    </g>\n    <g id=\"ytick_4\">\n     <g id=\"line2d_11\">\n      <g>\n       <use style=\"stroke:#000000;stroke-width:0.8;\" x=\"50.14375\" xlink:href=\"#m28b7de5ffa\" y=\"164.493287\"/>\n      </g>\n     </g>\n     <g id=\"text_12\">\n      <!-- 0.55 -->\n      <g transform=\"translate(20.878125 168.292506)scale(0.1 -0.1)\">\n       <use xlink:href=\"#DejaVuSans-48\"/>\n       <use x=\"63.623047\" xlink:href=\"#DejaVuSans-46\"/>\n       <use x=\"95.410156\" xlink:href=\"#DejaVuSans-53\"/>\n       <use x=\"159.033203\" xlink:href=\"#DejaVuSans-53\"/>\n      </g>\n     </g>\n    </g>\n    <g id=\"ytick_5\">\n     <g id=\"line2d_12\">\n      <g>\n       <use style=\"stroke:#000000;stroke-width:0.8;\" x=\"50.14375\" xlink:href=\"#m28b7de5ffa\" y=\"122.059639\"/>\n      </g>\n     </g>\n     <g id=\"text_13\">\n      <!-- 0.60 -->\n      <defs>\n       <path d=\"M 33.015625 40.375 \nQ 26.375 40.375 22.484375 35.828125 \nQ 18.609375 31.296875 18.609375 23.390625 \nQ 18.609375 15.53125 22.484375 10.953125 \nQ 26.375 6.390625 33.015625 6.390625 \nQ 39.65625 6.390625 43.53125 10.953125 \nQ 47.40625 15.53125 47.40625 23.390625 \nQ 47.40625 31.296875 43.53125 35.828125 \nQ 39.65625 40.375 33.015625 40.375 \nz\nM 52.59375 71.296875 \nL 52.59375 62.3125 \nQ 48.875 64.0625 45.09375 64.984375 \nQ 41.3125 65.921875 37.59375 65.921875 \nQ 27.828125 65.921875 22.671875 59.328125 \nQ 17.53125 52.734375 16.796875 39.40625 \nQ 19.671875 43.65625 24.015625 45.921875 \nQ 28.375 48.1875 33.59375 48.1875 \nQ 44.578125 48.1875 50.953125 41.515625 \nQ 57.328125 34.859375 57.328125 23.390625 \nQ 57.328125 12.15625 50.6875 5.359375 \nQ 44.046875 -1.421875 33.015625 -1.421875 \nQ 20.359375 -1.421875 13.671875 8.265625 \nQ 6.984375 17.96875 6.984375 36.375 \nQ 6.984375 53.65625 15.1875 63.9375 \nQ 23.390625 74.21875 37.203125 74.21875 \nQ 40.921875 74.21875 44.703125 73.484375 \nQ 48.484375 72.75 52.59375 71.296875 \nz\n\" id=\"DejaVuSans-54\"/>\n      </defs>\n      <g transform=\"translate(20.878125 125.858858)scale(0.1 -0.1)\">\n       <use xlink:href=\"#DejaVuSans-48\"/>\n       <use x=\"63.623047\" xlink:href=\"#DejaVuSans-46\"/>\n       <use x=\"95.410156\" xlink:href=\"#DejaVuSans-54\"/>\n       <use x=\"159.033203\" xlink:href=\"#DejaVuSans-48\"/>\n      </g>\n     </g>\n    </g>\n    <g id=\"ytick_6\">\n     <g id=\"line2d_13\">\n      <g>\n       <use style=\"stroke:#000000;stroke-width:0.8;\" x=\"50.14375\" xlink:href=\"#m28b7de5ffa\" y=\"79.625991\"/>\n      </g>\n     </g>\n     <g id=\"text_14\">\n      <!-- 0.65 -->\n      <g transform=\"translate(20.878125 83.425209)scale(0.1 -0.1)\">\n       <use xlink:href=\"#DejaVuSans-48\"/>\n       <use x=\"63.623047\" xlink:href=\"#DejaVuSans-46\"/>\n       <use x=\"95.410156\" xlink:href=\"#DejaVuSans-54\"/>\n       <use x=\"159.033203\" xlink:href=\"#DejaVuSans-53\"/>\n      </g>\n     </g>\n    </g>\n    <g id=\"ytick_7\">\n     <g id=\"line2d_14\">\n      <g>\n       <use style=\"stroke:#000000;stroke-width:0.8;\" x=\"50.14375\" xlink:href=\"#m28b7de5ffa\" y=\"37.192342\"/>\n      </g>\n     </g>\n     <g id=\"text_15\">\n      <!-- 0.70 -->\n      <defs>\n       <path d=\"M 8.203125 72.90625 \nL 55.078125 72.90625 \nL 55.078125 68.703125 \nL 28.609375 0 \nL 18.3125 0 \nL 43.21875 64.59375 \nL 8.203125 64.59375 \nz\n\" id=\"DejaVuSans-55\"/>\n      </defs>\n      <g transform=\"translate(20.878125 40.991561)scale(0.1 -0.1)\">\n       <use xlink:href=\"#DejaVuSans-48\"/>\n       <use x=\"63.623047\" xlink:href=\"#DejaVuSans-46\"/>\n       <use x=\"95.410156\" xlink:href=\"#DejaVuSans-55\"/>\n       <use x=\"159.033203\" xlink:href=\"#DejaVuSans-48\"/>\n      </g>\n     </g>\n    </g>\n    <g id=\"text_16\">\n     <!-- Loss -->\n     <defs>\n      <path d=\"M 9.8125 72.90625 \nL 19.671875 72.90625 \nL 19.671875 8.296875 \nL 55.171875 8.296875 \nL 55.171875 0 \nL 9.8125 0 \nz\n\" id=\"DejaVuSans-76\"/>\n     </defs>\n     <g transform=\"translate(14.798437 169.185313)rotate(-90)scale(0.1 -0.1)\">\n      <use xlink:href=\"#DejaVuSans-76\"/>\n      <use x=\"53.962891\" xlink:href=\"#DejaVuSans-111\"/>\n      <use x=\"115.144531\" xlink:href=\"#DejaVuSans-115\"/>\n      <use x=\"167.244141\" xlink:href=\"#DejaVuSans-115\"/>\n     </g>\n    </g>\n   </g>\n   <g id=\"line2d_15\">\n    <path clip-path=\"url(#p685e1aef5e)\" d=\"M 68.590031 34.67267 \nL 72.291626 41.953044 \nL 73.525491 44.164665 \nL 74.759356 47.105364 \nL 75.993221 53.461654 \nL 78.460951 68.085836 \nL 79.694816 77.041277 \nL 82.162545 103.305639 \nL 83.39641 120.718058 \nL 84.630275 136.521726 \nL 85.86414 147.646549 \nL 87.098005 163.487397 \nL 88.33187 171.679715 \nL 89.565735 175.557448 \nL 90.7996 184.228299 \nL 92.033465 191.942084 \nL 93.26733 193.751554 \nL 94.501195 192.966832 \nL 95.73506 193.696366 \nL 96.968925 193.115703 \nL 98.20279 193.249702 \nL 99.436655 204.477769 \nL 100.67052 197.836939 \nL 101.904385 206.67654 \nL 103.13825 199.310071 \nL 104.372115 208.118765 \nL 105.605979 205.065059 \nL 106.839844 219.2793 \nL 108.073709 209.518599 \nL 109.307574 209.214989 \nL 110.541439 215.892923 \nL 111.775304 216.014175 \nL 113.009169 208.396956 \nL 114.243034 206.157843 \nL 115.476899 215.89138 \nL 116.710764 219.393319 \nL 117.944629 222.144882 \nL 119.178494 229.373432 \nL 120.412359 222.158944 \nL 121.646224 224.480764 \nL 122.880089 223.527619 \nL 124.113954 220.042348 \nL 125.347819 230.159545 \nL 126.581684 231.566386 \nL 127.815549 232.535566 \nL 129.049414 238.979141 \nL 130.283278 230.437787 \nL 131.517143 231.595093 \nL 132.751008 233.96818 \nL 133.984873 241.252525 \nL 135.218738 240.859784 \nL 136.452603 243.337304 \nL 137.686468 243.028837 \nL 138.920333 238.449087 \nL 140.154198 240.458874 \nL 141.388063 250.18978 \nL 142.621928 250.00679 \nL 143.855793 242.439625 \nL 145.089658 243.124771 \nL 146.323523 249.089737 \nL 148.791253 255.71959 \nL 151.258983 253.26195 \nL 152.492848 252.439921 \nL 153.726712 257.252943 \nL 154.960577 260.964809 \nL 156.194442 253.267616 \nL 157.428307 263.545825 \nL 158.662172 263.506849 \nL 159.896037 259.796628 \nL 161.129902 259.440232 \nL 162.363767 264.858982 \nL 163.597632 263.312502 \nL 164.831497 267.689255 \nL 166.065362 268.446839 \nL 167.299227 259.773283 \nL 168.533092 266.949376 \nL 169.766957 266.033158 \nL 171.000822 263.932091 \nL 172.234687 259.832568 \nL 173.468552 265.702586 \nL 174.702417 262.707634 \nL 175.936282 265.21988 \nL 177.170147 273.025679 \nL 178.404011 271.376689 \nL 179.637876 267.259512 \nL 180.871741 261.753781 \nL 182.105606 261.445997 \nL 183.339471 272.914468 \nL 184.573336 263.872502 \nL 185.807201 266.637015 \nL 187.041066 262.418339 \nL 188.274931 273.927227 \nL 189.508796 273.472217 \nL 190.742661 273.659811 \nL 191.976526 269.218688 \nL 193.210391 269.028995 \nL 194.444256 276.373207 \nL 195.678121 274.597603 \nL 196.911986 272.242044 \nL 198.145851 272.334589 \nL 199.379716 279.605579 \nL 200.613581 269.997139 \nL 201.847446 277.327086 \nL 203.08131 270.046762 \nL 204.315175 275.185323 \nL 205.54904 277.358044 \nL 206.782905 268.793042 \nL 208.01677 263.862638 \nL 209.250635 270.769468 \nL 210.4845 270.910853 \nL 211.718365 268.799821 \nL 212.95223 275.775446 \nL 214.186095 268.742204 \nL 215.41996 273.753797 \nL 216.653825 273.719728 \nL 217.88769 266.81525 \nL 219.121555 273.640614 \nL 220.35542 278.460111 \nL 221.589285 278.296292 \nL 222.82315 269.29019 \nL 224.057015 271.357846 \nL 225.29088 273.870775 \nL 226.524744 273.879324 \nL 227.758609 271.153306 \nL 228.992474 271.270031 \nL 230.226339 273.610414 \nL 231.460204 273.941973 \nL 232.694069 267.09802 \nL 233.927934 280.760963 \nL 235.161799 276.261668 \nL 236.395664 276.440991 \nL 237.629529 269.540964 \nL 238.863394 269.320743 \nL 240.097259 274.010819 \nL 241.331124 273.80896 \nL 242.564989 271.606167 \nL 243.798854 274.294979 \nL 246.266584 278.813345 \nL 247.500449 265.116131 \nL 248.734314 272.021519 \nL 249.968179 267.367763 \nL 251.202043 276.581364 \nL 252.435908 262.895835 \nL 253.669773 272.1237 \nL 254.903638 271.9961 \nL 256.137503 272.010163 \nL 257.371368 274.328289 \nL 258.605233 272.034089 \nL 259.839098 274.22196 \nL 261.072963 278.785472 \nL 262.306828 274.029763 \nL 263.540693 276.500631 \nL 266.008423 272.173021 \nL 268.476153 272.096233 \nL 269.710018 276.836286 \nL 270.943883 272.233596 \nL 272.177748 269.819611 \nL 273.411613 272.22965 \nL 274.645478 267.771102 \nL 275.879342 281.524844 \nL 277.113207 269.980774 \nL 278.347072 276.892208 \nL 280.814802 272.189587 \nL 282.048667 272.221911 \nL 283.282532 279.054938 \nL 284.516397 276.726441 \nL 285.750262 272.211541 \nL 286.984127 274.595554 \nL 288.217992 278.70183 \nL 289.451857 276.638955 \nL 290.685722 269.982317 \nL 293.153452 270.107439 \nL 294.387317 274.766076 \nL 295.621182 269.789741 \nL 296.855047 274.184451 \nL 298.088912 276.607036 \nL 299.322777 274.538343 \nL 300.556641 270.188096 \nL 301.790506 274.762712 \nL 303.024371 272.452603 \nL 304.258236 274.624059 \nL 305.492101 281.468392 \nL 306.725966 274.681675 \nL 307.959831 279.35349 \nL 309.193696 272.524813 \nL 310.427561 277.013232 \nL 311.661426 272.375562 \nL 312.895291 272.361753 \nL 314.129156 277.02909 \nL 315.363021 277.091892 \nL 317.830751 272.463757 \nL 319.064616 269.953408 \nL 320.298481 270.064341 \nL 322.766211 274.763926 \nL 324.000075 276.871316 \nL 325.23394 270.082324 \nL 326.467805 279.342892 \nL 327.70167 270.248798 \nL 328.935535 265.546304 \nL 330.1694 265.595321 \nL 331.403265 270.12919 \nL 333.870995 270.230512 \nL 336.338725 279.491789 \nL 337.57259 270.32245 \nL 338.806455 270.024935 \nL 340.04032 274.696092 \nL 341.274185 281.593513 \nL 342.50805 274.793898 \nL 343.741915 274.857407 \nL 344.97578 267.996179 \nL 346.209645 274.932627 \nL 347.44351 274.738887 \nL 348.677374 281.558104 \nL 349.911239 277.034174 \nL 351.145104 267.938158 \nL 352.378969 281.76358 \nL 353.612834 272.609037 \nL 356.080564 277.252119 \nL 357.314429 274.885406 \nL 358.548294 279.330347 \nL 359.782159 270.13263 \nL 361.016024 272.514114 \nL 362.249889 277.16271 \nL 363.483754 270.312889 \nL 364.717619 272.637491 \nL 365.951484 270.383759 \nL 367.185349 279.56109 \nL 368.419214 272.651427 \nL 369.653079 270.271005 \nL 370.886944 277.147257 \nL 373.354673 272.617004 \nL 374.588538 274.939582 \nL 375.822403 274.962067 \nL 377.056268 279.570473 \nL 378.290133 279.444972 \nL 379.523998 274.682864 \nL 381.991728 279.410398 \nL 383.225593 268.001516 \nL 384.459458 270.3527 \nL 385.693323 279.561849 \nL 386.927188 270.381179 \nL 388.161053 270.391549 \nL 389.394918 277.071632 \nL 390.628783 267.994636 \nL 393.096513 277.102691 \nL 394.330378 272.595227 \nL 396.798108 277.258265 \nL 398.031972 270.382292 \nL 399.265837 274.990192 \nL 400.499702 277.294585 \nL 401.733567 268.082831 \nL 402.967432 270.116924 \nL 404.201297 270.11705 \nL 405.435162 274.848934 \nL 406.669027 272.627475 \nL 407.902892 268.073473 \nL 409.136757 279.565693 \nL 410.370622 277.29633 \nL 411.604487 270.407989 \nL 414.072217 275.013486 \nL 415.306082 272.727456 \nL 416.539947 267.983305 \nL 417.773812 274.705096 \nL 419.007677 272.468032 \nL 420.241542 274.830293 \nL 421.475406 274.910723 \nL 422.709271 279.551909 \nL 423.943136 268.089382 \nL 425.177001 270.398631 \nL 426.410866 275.004912 \nL 428.878596 274.99214 \nL 430.112461 274.666525 \nL 431.346326 267.861901 \nL 432.580191 272.568442 \nL 433.814056 268.06672 \nL 435.047921 279.563998 \nL 436.281786 274.992848 \nL 437.515651 275.003041 \nL 437.515651 275.003041 \n\" style=\"fill:none;stroke:#1f77b4;stroke-linecap:square;stroke-width:1.5;\"/>\n   </g>\n   <g id=\"patch_3\">\n    <path d=\"M 50.14375 294.118125 \nL 50.14375 22.318125 \n\" style=\"fill:none;stroke:#000000;stroke-linecap:square;stroke-linejoin:miter;stroke-width:0.8;\"/>\n   </g>\n   <g id=\"patch_4\">\n    <path d=\"M 455.961932 294.118125 \nL 455.961932 22.318125 \n\" style=\"fill:none;stroke:#000000;stroke-linecap:square;stroke-linejoin:miter;stroke-width:0.8;\"/>\n   </g>\n   <g id=\"patch_5\">\n    <path d=\"M 50.14375 294.118125 \nL 455.961932 294.118125 \n\" style=\"fill:none;stroke:#000000;stroke-linecap:square;stroke-linejoin:miter;stroke-width:0.8;\"/>\n   </g>\n   <g id=\"patch_6\">\n    <path d=\"M 50.14375 22.318125 \nL 455.961932 22.318125 \n\" style=\"fill:none;stroke:#000000;stroke-linecap:square;stroke-linejoin:miter;stroke-width:0.8;\"/>\n   </g>\n   <g id=\"text_17\">\n    <!-- Model loss -->\n    <defs>\n     <path d=\"M 9.8125 72.90625 \nL 24.515625 72.90625 \nL 43.109375 23.296875 \nL 61.8125 72.90625 \nL 76.515625 72.90625 \nL 76.515625 0 \nL 66.890625 0 \nL 66.890625 64.015625 \nL 48.09375 14.015625 \nL 38.1875 14.015625 \nL 19.390625 64.015625 \nL 19.390625 0 \nL 9.8125 0 \nz\n\" id=\"DejaVuSans-77\"/>\n     <path d=\"M 45.40625 46.390625 \nL 45.40625 75.984375 \nL 54.390625 75.984375 \nL 54.390625 0 \nL 45.40625 0 \nL 45.40625 8.203125 \nQ 42.578125 3.328125 38.25 0.953125 \nQ 33.9375 -1.421875 27.875 -1.421875 \nQ 17.96875 -1.421875 11.734375 6.484375 \nQ 5.515625 14.40625 5.515625 27.296875 \nQ 5.515625 40.1875 11.734375 48.09375 \nQ 17.96875 56 27.875 56 \nQ 33.9375 56 38.25 53.625 \nQ 42.578125 51.265625 45.40625 46.390625 \nz\nM 14.796875 27.296875 \nQ 14.796875 17.390625 18.875 11.75 \nQ 22.953125 6.109375 30.078125 6.109375 \nQ 37.203125 6.109375 41.296875 11.75 \nQ 45.40625 17.390625 45.40625 27.296875 \nQ 45.40625 37.203125 41.296875 42.84375 \nQ 37.203125 48.484375 30.078125 48.484375 \nQ 22.953125 48.484375 18.875 42.84375 \nQ 14.796875 37.203125 14.796875 27.296875 \nz\n\" id=\"DejaVuSans-100\"/>\n     <path d=\"M 56.203125 29.59375 \nL 56.203125 25.203125 \nL 14.890625 25.203125 \nQ 15.484375 15.921875 20.484375 11.0625 \nQ 25.484375 6.203125 34.421875 6.203125 \nQ 39.59375 6.203125 44.453125 7.46875 \nQ 49.3125 8.734375 54.109375 11.28125 \nL 54.109375 2.78125 \nQ 49.265625 0.734375 44.1875 -0.34375 \nQ 39.109375 -1.421875 33.890625 -1.421875 \nQ 20.796875 -1.421875 13.15625 6.1875 \nQ 5.515625 13.8125 5.515625 26.8125 \nQ 5.515625 40.234375 12.765625 48.109375 \nQ 20.015625 56 32.328125 56 \nQ 43.359375 56 49.78125 48.890625 \nQ 56.203125 41.796875 56.203125 29.59375 \nz\nM 47.21875 32.234375 \nQ 47.125 39.59375 43.09375 43.984375 \nQ 39.0625 48.390625 32.421875 48.390625 \nQ 24.90625 48.390625 20.390625 44.140625 \nQ 15.875 39.890625 15.1875 32.171875 \nz\n\" id=\"DejaVuSans-101\"/>\n     <path d=\"M 9.421875 75.984375 \nL 18.40625 75.984375 \nL 18.40625 0 \nL 9.421875 0 \nz\n\" id=\"DejaVuSans-108\"/>\n     <path id=\"DejaVuSans-32\"/>\n    </defs>\n    <g transform=\"translate(221.540653 16.318125)scale(0.12 -0.12)\">\n     <use xlink:href=\"#DejaVuSans-77\"/>\n     <use x=\"86.279297\" xlink:href=\"#DejaVuSans-111\"/>\n     <use x=\"147.460938\" xlink:href=\"#DejaVuSans-100\"/>\n     <use x=\"210.9375\" xlink:href=\"#DejaVuSans-101\"/>\n     <use x=\"272.460938\" xlink:href=\"#DejaVuSans-108\"/>\n     <use x=\"300.244141\" xlink:href=\"#DejaVuSans-32\"/>\n     <use x=\"332.03125\" xlink:href=\"#DejaVuSans-108\"/>\n     <use x=\"359.814453\" xlink:href=\"#DejaVuSans-111\"/>\n     <use x=\"420.996094\" xlink:href=\"#DejaVuSans-115\"/>\n     <use x=\"473.095703\" xlink:href=\"#DejaVuSans-115\"/>\n    </g>\n   </g>\n  </g>\n  <g id=\"axes_2\">\n   <g id=\"patch_7\">\n    <path d=\"M 537.125568 294.118125 \nL 942.94375 294.118125 \nL 942.94375 22.318125 \nL 537.125568 22.318125 \nz\n\" style=\"fill:#ffffff;\"/>\n   </g>\n   <g id=\"matplotlib.axis_3\">\n    <g id=\"xtick_8\">\n     <g id=\"line2d_16\">\n      <g>\n       <use style=\"stroke:#000000;stroke-width:0.8;\" x=\"555.571849\" xlink:href=\"#m97343c0dd3\" y=\"294.118125\"/>\n      </g>\n     </g>\n     <g id=\"text_18\">\n      <!-- 0 -->\n      <g transform=\"translate(552.390599 308.716563)scale(0.1 -0.1)\">\n       <use xlink:href=\"#DejaVuSans-48\"/>\n      </g>\n     </g>\n    </g>\n    <g id=\"xtick_9\">\n     <g id=\"line2d_17\">\n      <g>\n       <use style=\"stroke:#000000;stroke-width:0.8;\" x=\"617.265097\" xlink:href=\"#m97343c0dd3\" y=\"294.118125\"/>\n      </g>\n     </g>\n     <g id=\"text_19\">\n      <!-- 50 -->\n      <g transform=\"translate(610.902597 308.716563)scale(0.1 -0.1)\">\n       <use xlink:href=\"#DejaVuSans-53\"/>\n       <use x=\"63.623047\" xlink:href=\"#DejaVuSans-48\"/>\n      </g>\n     </g>\n    </g>\n    <g id=\"xtick_10\">\n     <g id=\"line2d_18\">\n      <g>\n       <use style=\"stroke:#000000;stroke-width:0.8;\" x=\"678.958344\" xlink:href=\"#m97343c0dd3\" y=\"294.118125\"/>\n      </g>\n     </g>\n     <g id=\"text_20\">\n      <!-- 100 -->\n      <g transform=\"translate(669.414594 308.716563)scale(0.1 -0.1)\">\n       <use xlink:href=\"#DejaVuSans-49\"/>\n       <use x=\"63.623047\" xlink:href=\"#DejaVuSans-48\"/>\n       <use x=\"127.246094\" xlink:href=\"#DejaVuSans-48\"/>\n      </g>\n     </g>\n    </g>\n    <g id=\"xtick_11\">\n     <g id=\"line2d_19\">\n      <g>\n       <use style=\"stroke:#000000;stroke-width:0.8;\" x=\"740.651592\" xlink:href=\"#m97343c0dd3\" y=\"294.118125\"/>\n      </g>\n     </g>\n     <g id=\"text_21\">\n      <!-- 150 -->\n      <g transform=\"translate(731.107842 308.716563)scale(0.1 -0.1)\">\n       <use xlink:href=\"#DejaVuSans-49\"/>\n       <use x=\"63.623047\" xlink:href=\"#DejaVuSans-53\"/>\n       <use x=\"127.246094\" xlink:href=\"#DejaVuSans-48\"/>\n      </g>\n     </g>\n    </g>\n    <g id=\"xtick_12\">\n     <g id=\"line2d_20\">\n      <g>\n       <use style=\"stroke:#000000;stroke-width:0.8;\" x=\"802.344839\" xlink:href=\"#m97343c0dd3\" y=\"294.118125\"/>\n      </g>\n     </g>\n     <g id=\"text_22\">\n      <!-- 200 -->\n      <g transform=\"translate(792.801089 308.716563)scale(0.1 -0.1)\">\n       <use xlink:href=\"#DejaVuSans-50\"/>\n       <use x=\"63.623047\" xlink:href=\"#DejaVuSans-48\"/>\n       <use x=\"127.246094\" xlink:href=\"#DejaVuSans-48\"/>\n      </g>\n     </g>\n    </g>\n    <g id=\"xtick_13\">\n     <g id=\"line2d_21\">\n      <g>\n       <use style=\"stroke:#000000;stroke-width:0.8;\" x=\"864.038086\" xlink:href=\"#m97343c0dd3\" y=\"294.118125\"/>\n      </g>\n     </g>\n     <g id=\"text_23\">\n      <!-- 250 -->\n      <g transform=\"translate(854.494336 308.716563)scale(0.1 -0.1)\">\n       <use xlink:href=\"#DejaVuSans-50\"/>\n       <use x=\"63.623047\" xlink:href=\"#DejaVuSans-53\"/>\n       <use x=\"127.246094\" xlink:href=\"#DejaVuSans-48\"/>\n      </g>\n     </g>\n    </g>\n    <g id=\"xtick_14\">\n     <g id=\"line2d_22\">\n      <g>\n       <use style=\"stroke:#000000;stroke-width:0.8;\" x=\"925.731334\" xlink:href=\"#m97343c0dd3\" y=\"294.118125\"/>\n      </g>\n     </g>\n     <g id=\"text_24\">\n      <!-- 300 -->\n      <g transform=\"translate(916.187584 308.716563)scale(0.1 -0.1)\">\n       <use xlink:href=\"#DejaVuSans-51\"/>\n       <use x=\"63.623047\" xlink:href=\"#DejaVuSans-48\"/>\n       <use x=\"127.246094\" xlink:href=\"#DejaVuSans-48\"/>\n      </g>\n     </g>\n    </g>\n    <g id=\"text_25\">\n     <!-- Epochs -->\n     <g transform=\"translate(722.119034 322.394687)scale(0.1 -0.1)\">\n      <use xlink:href=\"#DejaVuSans-69\"/>\n      <use x=\"63.183594\" xlink:href=\"#DejaVuSans-112\"/>\n      <use x=\"126.660156\" xlink:href=\"#DejaVuSans-111\"/>\n      <use x=\"187.841797\" xlink:href=\"#DejaVuSans-99\"/>\n      <use x=\"242.822266\" xlink:href=\"#DejaVuSans-104\"/>\n      <use x=\"306.201172\" xlink:href=\"#DejaVuSans-115\"/>\n     </g>\n    </g>\n   </g>\n   <g id=\"matplotlib.axis_4\">\n    <g id=\"ytick_8\">\n     <g id=\"line2d_23\">\n      <g>\n       <use style=\"stroke:#000000;stroke-width:0.8;\" x=\"537.125568\" xlink:href=\"#m28b7de5ffa\" y=\"294.118125\"/>\n      </g>\n     </g>\n     <g id=\"text_26\">\n      <!-- 10 -->\n      <g transform=\"translate(517.400568 297.917344)scale(0.1 -0.1)\">\n       <use xlink:href=\"#DejaVuSans-49\"/>\n       <use x=\"63.623047\" xlink:href=\"#DejaVuSans-48\"/>\n      </g>\n     </g>\n    </g>\n    <g id=\"ytick_9\">\n     <g id=\"line2d_24\">\n      <g>\n       <use style=\"stroke:#000000;stroke-width:0.8;\" x=\"537.125568\" xlink:href=\"#m28b7de5ffa\" y=\"263.918125\"/>\n      </g>\n     </g>\n     <g id=\"text_27\">\n      <!-- 20 -->\n      <g transform=\"translate(517.400568 267.717344)scale(0.1 -0.1)\">\n       <use xlink:href=\"#DejaVuSans-50\"/>\n       <use x=\"63.623047\" xlink:href=\"#DejaVuSans-48\"/>\n      </g>\n     </g>\n    </g>\n    <g id=\"ytick_10\">\n     <g id=\"line2d_25\">\n      <g>\n       <use style=\"stroke:#000000;stroke-width:0.8;\" x=\"537.125568\" xlink:href=\"#m28b7de5ffa\" y=\"233.718125\"/>\n      </g>\n     </g>\n     <g id=\"text_28\">\n      <!-- 30 -->\n      <g transform=\"translate(517.400568 237.517344)scale(0.1 -0.1)\">\n       <use xlink:href=\"#DejaVuSans-51\"/>\n       <use x=\"63.623047\" xlink:href=\"#DejaVuSans-48\"/>\n      </g>\n     </g>\n    </g>\n    <g id=\"ytick_11\">\n     <g id=\"line2d_26\">\n      <g>\n       <use style=\"stroke:#000000;stroke-width:0.8;\" x=\"537.125568\" xlink:href=\"#m28b7de5ffa\" y=\"203.518125\"/>\n      </g>\n     </g>\n     <g id=\"text_29\">\n      <!-- 40 -->\n      <g transform=\"translate(517.400568 207.317344)scale(0.1 -0.1)\">\n       <use xlink:href=\"#DejaVuSans-52\"/>\n       <use x=\"63.623047\" xlink:href=\"#DejaVuSans-48\"/>\n      </g>\n     </g>\n    </g>\n    <g id=\"ytick_12\">\n     <g id=\"line2d_27\">\n      <g>\n       <use style=\"stroke:#000000;stroke-width:0.8;\" x=\"537.125568\" xlink:href=\"#m28b7de5ffa\" y=\"173.318125\"/>\n      </g>\n     </g>\n     <g id=\"text_30\">\n      <!-- 50 -->\n      <g transform=\"translate(517.400568 177.117344)scale(0.1 -0.1)\">\n       <use xlink:href=\"#DejaVuSans-53\"/>\n       <use x=\"63.623047\" xlink:href=\"#DejaVuSans-48\"/>\n      </g>\n     </g>\n    </g>\n    <g id=\"ytick_13\">\n     <g id=\"line2d_28\">\n      <g>\n       <use style=\"stroke:#000000;stroke-width:0.8;\" x=\"537.125568\" xlink:href=\"#m28b7de5ffa\" y=\"143.118125\"/>\n      </g>\n     </g>\n     <g id=\"text_31\">\n      <!-- 60 -->\n      <g transform=\"translate(517.400568 146.917344)scale(0.1 -0.1)\">\n       <use xlink:href=\"#DejaVuSans-54\"/>\n       <use x=\"63.623047\" xlink:href=\"#DejaVuSans-48\"/>\n      </g>\n     </g>\n    </g>\n    <g id=\"ytick_14\">\n     <g id=\"line2d_29\">\n      <g>\n       <use style=\"stroke:#000000;stroke-width:0.8;\" x=\"537.125568\" xlink:href=\"#m28b7de5ffa\" y=\"112.918125\"/>\n      </g>\n     </g>\n     <g id=\"text_32\">\n      <!-- 70 -->\n      <g transform=\"translate(517.400568 116.717344)scale(0.1 -0.1)\">\n       <use xlink:href=\"#DejaVuSans-55\"/>\n       <use x=\"63.623047\" xlink:href=\"#DejaVuSans-48\"/>\n      </g>\n     </g>\n    </g>\n    <g id=\"ytick_15\">\n     <g id=\"line2d_30\">\n      <g>\n       <use style=\"stroke:#000000;stroke-width:0.8;\" x=\"537.125568\" xlink:href=\"#m28b7de5ffa\" y=\"82.718125\"/>\n      </g>\n     </g>\n     <g id=\"text_33\">\n      <!-- 80 -->\n      <defs>\n       <path d=\"M 31.78125 34.625 \nQ 24.75 34.625 20.71875 30.859375 \nQ 16.703125 27.09375 16.703125 20.515625 \nQ 16.703125 13.921875 20.71875 10.15625 \nQ 24.75 6.390625 31.78125 6.390625 \nQ 38.8125 6.390625 42.859375 10.171875 \nQ 46.921875 13.96875 46.921875 20.515625 \nQ 46.921875 27.09375 42.890625 30.859375 \nQ 38.875 34.625 31.78125 34.625 \nz\nM 21.921875 38.8125 \nQ 15.578125 40.375 12.03125 44.71875 \nQ 8.5 49.078125 8.5 55.328125 \nQ 8.5 64.0625 14.71875 69.140625 \nQ 20.953125 74.21875 31.78125 74.21875 \nQ 42.671875 74.21875 48.875 69.140625 \nQ 55.078125 64.0625 55.078125 55.328125 \nQ 55.078125 49.078125 51.53125 44.71875 \nQ 48 40.375 41.703125 38.8125 \nQ 48.828125 37.15625 52.796875 32.3125 \nQ 56.78125 27.484375 56.78125 20.515625 \nQ 56.78125 9.90625 50.3125 4.234375 \nQ 43.84375 -1.421875 31.78125 -1.421875 \nQ 19.734375 -1.421875 13.25 4.234375 \nQ 6.78125 9.90625 6.78125 20.515625 \nQ 6.78125 27.484375 10.78125 32.3125 \nQ 14.796875 37.15625 21.921875 38.8125 \nz\nM 18.3125 54.390625 \nQ 18.3125 48.734375 21.84375 45.5625 \nQ 25.390625 42.390625 31.78125 42.390625 \nQ 38.140625 42.390625 41.71875 45.5625 \nQ 45.3125 48.734375 45.3125 54.390625 \nQ 45.3125 60.0625 41.71875 63.234375 \nQ 38.140625 66.40625 31.78125 66.40625 \nQ 25.390625 66.40625 21.84375 63.234375 \nQ 18.3125 60.0625 18.3125 54.390625 \nz\n\" id=\"DejaVuSans-56\"/>\n      </defs>\n      <g transform=\"translate(517.400568 86.517344)scale(0.1 -0.1)\">\n       <use xlink:href=\"#DejaVuSans-56\"/>\n       <use x=\"63.623047\" xlink:href=\"#DejaVuSans-48\"/>\n      </g>\n     </g>\n    </g>\n    <g id=\"ytick_16\">\n     <g id=\"line2d_31\">\n      <g>\n       <use style=\"stroke:#000000;stroke-width:0.8;\" x=\"537.125568\" xlink:href=\"#m28b7de5ffa\" y=\"52.518125\"/>\n      </g>\n     </g>\n     <g id=\"text_34\">\n      <!-- 90 -->\n      <defs>\n       <path d=\"M 10.984375 1.515625 \nL 10.984375 10.5 \nQ 14.703125 8.734375 18.5 7.8125 \nQ 22.3125 6.890625 25.984375 6.890625 \nQ 35.75 6.890625 40.890625 13.453125 \nQ 46.046875 20.015625 46.78125 33.40625 \nQ 43.953125 29.203125 39.59375 26.953125 \nQ 35.25 24.703125 29.984375 24.703125 \nQ 19.046875 24.703125 12.671875 31.3125 \nQ 6.296875 37.9375 6.296875 49.421875 \nQ 6.296875 60.640625 12.9375 67.421875 \nQ 19.578125 74.21875 30.609375 74.21875 \nQ 43.265625 74.21875 49.921875 64.515625 \nQ 56.59375 54.828125 56.59375 36.375 \nQ 56.59375 19.140625 48.40625 8.859375 \nQ 40.234375 -1.421875 26.421875 -1.421875 \nQ 22.703125 -1.421875 18.890625 -0.6875 \nQ 15.09375 0.046875 10.984375 1.515625 \nz\nM 30.609375 32.421875 \nQ 37.25 32.421875 41.125 36.953125 \nQ 45.015625 41.5 45.015625 49.421875 \nQ 45.015625 57.28125 41.125 61.84375 \nQ 37.25 66.40625 30.609375 66.40625 \nQ 23.96875 66.40625 20.09375 61.84375 \nQ 16.21875 57.28125 16.21875 49.421875 \nQ 16.21875 41.5 20.09375 36.953125 \nQ 23.96875 32.421875 30.609375 32.421875 \nz\n\" id=\"DejaVuSans-57\"/>\n      </defs>\n      <g transform=\"translate(517.400568 56.317344)scale(0.1 -0.1)\">\n       <use xlink:href=\"#DejaVuSans-57\"/>\n       <use x=\"63.623047\" xlink:href=\"#DejaVuSans-48\"/>\n      </g>\n     </g>\n    </g>\n    <g id=\"ytick_17\">\n     <g id=\"line2d_32\">\n      <g>\n       <use style=\"stroke:#000000;stroke-width:0.8;\" x=\"537.125568\" xlink:href=\"#m28b7de5ffa\" y=\"22.318125\"/>\n      </g>\n     </g>\n     <g id=\"text_35\">\n      <!-- 100 -->\n      <g transform=\"translate(511.038068 26.117344)scale(0.1 -0.1)\">\n       <use xlink:href=\"#DejaVuSans-49\"/>\n       <use x=\"63.623047\" xlink:href=\"#DejaVuSans-48\"/>\n       <use x=\"127.246094\" xlink:href=\"#DejaVuSans-48\"/>\n      </g>\n     </g>\n    </g>\n    <g id=\"text_36\">\n     <!-- Accuracy (%) -->\n     <defs>\n      <path d=\"M 34.1875 63.1875 \nL 20.796875 26.90625 \nL 47.609375 26.90625 \nz\nM 28.609375 72.90625 \nL 39.796875 72.90625 \nL 67.578125 0 \nL 57.328125 0 \nL 50.6875 18.703125 \nL 17.828125 18.703125 \nL 11.1875 0 \nL 0.78125 0 \nz\n\" id=\"DejaVuSans-65\"/>\n      <path d=\"M 8.5 21.578125 \nL 8.5 54.6875 \nL 17.484375 54.6875 \nL 17.484375 21.921875 \nQ 17.484375 14.15625 20.5 10.265625 \nQ 23.53125 6.390625 29.59375 6.390625 \nQ 36.859375 6.390625 41.078125 11.03125 \nQ 45.3125 15.671875 45.3125 23.6875 \nL 45.3125 54.6875 \nL 54.296875 54.6875 \nL 54.296875 0 \nL 45.3125 0 \nL 45.3125 8.40625 \nQ 42.046875 3.421875 37.71875 1 \nQ 33.40625 -1.421875 27.6875 -1.421875 \nQ 18.265625 -1.421875 13.375 4.4375 \nQ 8.5 10.296875 8.5 21.578125 \nz\nM 31.109375 56 \nz\n\" id=\"DejaVuSans-117\"/>\n      <path d=\"M 41.109375 46.296875 \nQ 39.59375 47.171875 37.8125 47.578125 \nQ 36.03125 48 33.890625 48 \nQ 26.265625 48 22.1875 43.046875 \nQ 18.109375 38.09375 18.109375 28.8125 \nL 18.109375 0 \nL 9.078125 0 \nL 9.078125 54.6875 \nL 18.109375 54.6875 \nL 18.109375 46.1875 \nQ 20.953125 51.171875 25.484375 53.578125 \nQ 30.03125 56 36.53125 56 \nQ 37.453125 56 38.578125 55.875 \nQ 39.703125 55.765625 41.0625 55.515625 \nz\n\" id=\"DejaVuSans-114\"/>\n      <path d=\"M 34.28125 27.484375 \nQ 23.390625 27.484375 19.1875 25 \nQ 14.984375 22.515625 14.984375 16.5 \nQ 14.984375 11.71875 18.140625 8.90625 \nQ 21.296875 6.109375 26.703125 6.109375 \nQ 34.1875 6.109375 38.703125 11.40625 \nQ 43.21875 16.703125 43.21875 25.484375 \nL 43.21875 27.484375 \nz\nM 52.203125 31.203125 \nL 52.203125 0 \nL 43.21875 0 \nL 43.21875 8.296875 \nQ 40.140625 3.328125 35.546875 0.953125 \nQ 30.953125 -1.421875 24.3125 -1.421875 \nQ 15.921875 -1.421875 10.953125 3.296875 \nQ 6 8.015625 6 15.921875 \nQ 6 25.140625 12.171875 29.828125 \nQ 18.359375 34.515625 30.609375 34.515625 \nL 43.21875 34.515625 \nL 43.21875 35.40625 \nQ 43.21875 41.609375 39.140625 45 \nQ 35.0625 48.390625 27.6875 48.390625 \nQ 23 48.390625 18.546875 47.265625 \nQ 14.109375 46.140625 10.015625 43.890625 \nL 10.015625 52.203125 \nQ 14.9375 54.109375 19.578125 55.046875 \nQ 24.21875 56 28.609375 56 \nQ 40.484375 56 46.34375 49.84375 \nQ 52.203125 43.703125 52.203125 31.203125 \nz\n\" id=\"DejaVuSans-97\"/>\n      <path d=\"M 32.171875 -5.078125 \nQ 28.375 -14.84375 24.75 -17.8125 \nQ 21.140625 -20.796875 15.09375 -20.796875 \nL 7.90625 -20.796875 \nL 7.90625 -13.28125 \nL 13.1875 -13.28125 \nQ 16.890625 -13.28125 18.9375 -11.515625 \nQ 21 -9.765625 23.484375 -3.21875 \nL 25.09375 0.875 \nL 2.984375 54.6875 \nL 12.5 54.6875 \nL 29.59375 11.921875 \nL 46.6875 54.6875 \nL 56.203125 54.6875 \nz\n\" id=\"DejaVuSans-121\"/>\n      <path d=\"M 31 75.875 \nQ 24.46875 64.65625 21.28125 53.65625 \nQ 18.109375 42.671875 18.109375 31.390625 \nQ 18.109375 20.125 21.3125 9.0625 \nQ 24.515625 -2 31 -13.1875 \nL 23.1875 -13.1875 \nQ 15.875 -1.703125 12.234375 9.375 \nQ 8.59375 20.453125 8.59375 31.390625 \nQ 8.59375 42.28125 12.203125 53.3125 \nQ 15.828125 64.359375 23.1875 75.875 \nz\n\" id=\"DejaVuSans-40\"/>\n      <path d=\"M 72.703125 32.078125 \nQ 68.453125 32.078125 66.03125 28.46875 \nQ 63.625 24.859375 63.625 18.40625 \nQ 63.625 12.0625 66.03125 8.421875 \nQ 68.453125 4.78125 72.703125 4.78125 \nQ 76.859375 4.78125 79.265625 8.421875 \nQ 81.6875 12.0625 81.6875 18.40625 \nQ 81.6875 24.8125 79.265625 28.4375 \nQ 76.859375 32.078125 72.703125 32.078125 \nz\nM 72.703125 38.28125 \nQ 80.421875 38.28125 84.953125 32.90625 \nQ 89.5 27.546875 89.5 18.40625 \nQ 89.5 9.28125 84.9375 3.921875 \nQ 80.375 -1.421875 72.703125 -1.421875 \nQ 64.890625 -1.421875 60.34375 3.921875 \nQ 55.8125 9.28125 55.8125 18.40625 \nQ 55.8125 27.59375 60.375 32.9375 \nQ 64.9375 38.28125 72.703125 38.28125 \nz\nM 22.3125 68.015625 \nQ 18.109375 68.015625 15.6875 64.375 \nQ 13.28125 60.75 13.28125 54.390625 \nQ 13.28125 47.953125 15.671875 44.328125 \nQ 18.0625 40.71875 22.3125 40.71875 \nQ 26.5625 40.71875 28.96875 44.328125 \nQ 31.390625 47.953125 31.390625 54.390625 \nQ 31.390625 60.6875 28.953125 64.34375 \nQ 26.515625 68.015625 22.3125 68.015625 \nz\nM 66.40625 74.21875 \nL 74.21875 74.21875 \nL 28.609375 -1.421875 \nL 20.796875 -1.421875 \nz\nM 22.3125 74.21875 \nQ 30.03125 74.21875 34.609375 68.875 \nQ 39.203125 63.53125 39.203125 54.390625 \nQ 39.203125 45.171875 34.640625 39.84375 \nQ 30.078125 34.515625 22.3125 34.515625 \nQ 14.546875 34.515625 10.03125 39.859375 \nQ 5.515625 45.21875 5.515625 54.390625 \nQ 5.515625 63.484375 10.046875 68.84375 \nQ 14.59375 74.21875 22.3125 74.21875 \nz\n\" id=\"DejaVuSans-37\"/>\n      <path d=\"M 8.015625 75.875 \nL 15.828125 75.875 \nQ 23.140625 64.359375 26.78125 53.3125 \nQ 30.421875 42.28125 30.421875 31.390625 \nQ 30.421875 20.453125 26.78125 9.375 \nQ 23.140625 -1.703125 15.828125 -13.1875 \nL 8.015625 -13.1875 \nQ 14.5 -2 17.703125 9.0625 \nQ 20.90625 20.125 20.90625 31.390625 \nQ 20.90625 42.671875 17.703125 53.65625 \nQ 14.5 64.65625 8.015625 75.875 \nz\n\" id=\"DejaVuSans-41\"/>\n     </defs>\n     <g transform=\"translate(504.958381 191.287656)rotate(-90)scale(0.1 -0.1)\">\n      <use xlink:href=\"#DejaVuSans-65\"/>\n      <use x=\"66.658203\" xlink:href=\"#DejaVuSans-99\"/>\n      <use x=\"121.638672\" xlink:href=\"#DejaVuSans-99\"/>\n      <use x=\"176.619141\" xlink:href=\"#DejaVuSans-117\"/>\n      <use x=\"239.998047\" xlink:href=\"#DejaVuSans-114\"/>\n      <use x=\"281.111328\" xlink:href=\"#DejaVuSans-97\"/>\n      <use x=\"342.390625\" xlink:href=\"#DejaVuSans-99\"/>\n      <use x=\"397.371094\" xlink:href=\"#DejaVuSans-121\"/>\n      <use x=\"456.550781\" xlink:href=\"#DejaVuSans-32\"/>\n      <use x=\"488.337891\" xlink:href=\"#DejaVuSans-40\"/>\n      <use x=\"527.351562\" xlink:href=\"#DejaVuSans-37\"/>\n      <use x=\"622.371094\" xlink:href=\"#DejaVuSans-41\"/>\n     </g>\n    </g>\n   </g>\n   <g id=\"line2d_33\">\n    <path clip-path=\"url(#p508f6e10d1)\" d=\"M 555.571849 187.474375 \nL 558.039579 182.755625 \nL 559.273444 181.575938 \nL 560.507309 182.755625 \nL 561.741174 185.115 \nL 562.975039 185.115 \nL 564.208904 172.138438 \nL 565.442769 127.310313 \nL 567.910499 97.818125 \nL 569.144364 101.357188 \nL 570.378229 94.279063 \nL 571.612094 90.74 \nL 572.845958 81.3025 \nL 574.079823 78.943125 \nL 575.313688 77.763438 \nL 576.547553 75.404063 \nL 577.781418 68.325938 \nL 579.015283 68.325938 \nL 580.249148 65.966563 \nL 581.483013 67.14625 \nL 582.716878 65.966563 \nL 585.184608 65.966563 \nL 586.418473 61.247813 \nL 587.652338 63.607188 \nL 588.886203 58.888438 \nL 590.120068 61.247813 \nL 591.353933 55.349375 \nL 592.587798 69.505625 \nL 593.821663 51.810313 \nL 595.055528 62.4275 \nL 596.289392 58.888438 \nL 597.523257 60.068125 \nL 599.990987 57.70875 \nL 601.224852 57.70875 \nL 602.458717 62.4275 \nL 603.692582 56.529063 \nL 604.926447 60.068125 \nL 606.160312 56.529063 \nL 607.394177 55.349375 \nL 608.628042 57.70875 \nL 609.861907 58.888438 \nL 611.095772 57.70875 \nL 612.329637 58.888438 \nL 613.563502 56.529063 \nL 614.797367 52.99 \nL 616.031232 54.169688 \nL 617.265097 60.068125 \nL 618.498962 51.810313 \nL 619.732827 55.349375 \nL 620.966691 54.169688 \nL 622.200556 55.349375 \nL 623.434421 57.70875 \nL 624.668286 49.450938 \nL 625.902151 55.349375 \nL 627.136016 52.99 \nL 628.369881 51.810313 \nL 629.603746 55.349375 \nL 630.837611 49.450938 \nL 632.071476 55.349375 \nL 633.305341 50.630625 \nL 634.539206 54.169688 \nL 635.773071 48.27125 \nL 637.006936 54.169688 \nL 638.240801 55.349375 \nL 639.474666 48.27125 \nL 640.708531 50.630625 \nL 641.942396 50.630625 \nL 644.410126 52.99 \nL 646.877855 45.911875 \nL 648.11172 50.630625 \nL 649.345585 50.630625 \nL 650.57945 51.810313 \nL 651.813315 45.911875 \nL 653.04718 51.810313 \nL 654.281045 45.911875 \nL 655.51491 50.630625 \nL 656.748775 48.27125 \nL 657.98264 47.091563 \nL 659.216505 44.732188 \nL 660.45037 51.810313 \nL 661.684235 45.911875 \nL 662.9181 48.27125 \nL 664.151965 45.911875 \nL 665.38583 50.630625 \nL 666.619695 44.732188 \nL 667.85356 48.27125 \nL 670.321289 45.911875 \nL 671.555154 45.911875 \nL 672.789019 44.732188 \nL 674.022884 47.091563 \nL 675.256749 45.911875 \nL 676.490614 47.091563 \nL 677.724479 43.5525 \nL 678.958344 49.450938 \nL 680.192209 41.193125 \nL 681.426074 47.091563 \nL 682.659939 43.5525 \nL 683.893804 47.091563 \nL 685.127669 43.5525 \nL 686.361534 45.911875 \nL 687.595399 47.091563 \nL 688.829264 43.5525 \nL 690.063129 47.091563 \nL 691.296994 44.732188 \nL 692.530859 44.732188 \nL 693.764723 43.5525 \nL 694.998588 47.091563 \nL 696.232453 44.732188 \nL 697.466318 45.911875 \nL 699.934048 43.5525 \nL 701.167913 45.911875 \nL 702.401778 43.5525 \nL 704.869508 45.911875 \nL 706.103373 45.911875 \nL 707.337238 43.5525 \nL 708.571103 44.732188 \nL 709.804968 42.372813 \nL 711.038833 44.732188 \nL 712.272698 44.732188 \nL 713.506563 42.372813 \nL 714.740428 47.091563 \nL 715.974293 42.372813 \nL 719.675887 45.911875 \nL 720.909752 44.732188 \nL 722.143617 42.372813 \nL 723.377482 45.911875 \nL 724.611347 43.5525 \nL 725.845212 44.732188 \nL 727.079077 42.372813 \nL 728.312942 44.732188 \nL 729.546807 43.5525 \nL 734.482267 43.5525 \nL 735.716132 45.911875 \nL 736.949997 44.732188 \nL 738.183862 42.372813 \nL 739.417727 45.911875 \nL 741.885457 41.193125 \nL 743.119321 41.193125 \nL 744.353186 44.732188 \nL 745.587051 45.911875 \nL 746.820916 43.5525 \nL 748.054781 42.372813 \nL 749.288646 45.911875 \nL 750.522511 43.5525 \nL 751.756376 42.372813 \nL 752.990241 44.732188 \nL 755.457971 44.732188 \nL 756.691836 43.5525 \nL 757.925701 44.732188 \nL 759.159566 43.5525 \nL 760.393431 44.732188 \nL 761.627296 44.732188 \nL 762.861161 42.372813 \nL 764.095026 42.372813 \nL 765.328891 44.732188 \nL 766.562756 44.732188 \nL 767.79662 43.5525 \nL 769.030485 43.5525 \nL 770.26435 45.911875 \nL 771.498215 43.5525 \nL 773.965945 43.5525 \nL 775.19981 44.732188 \nL 776.433675 42.372813 \nL 777.66754 44.732188 \nL 778.901405 43.5525 \nL 780.13527 44.732188 \nL 781.369135 44.732188 \nL 782.603 45.911875 \nL 783.836865 43.5525 \nL 785.07073 44.732188 \nL 787.53846 44.732188 \nL 788.772325 43.5525 \nL 790.00619 44.732188 \nL 791.240054 44.732188 \nL 792.473919 42.372813 \nL 794.941649 44.732188 \nL 796.175514 44.732188 \nL 797.409379 45.911875 \nL 798.643244 43.5525 \nL 803.578704 43.5525 \nL 804.812569 42.372813 \nL 806.046434 44.732188 \nL 807.280299 42.372813 \nL 808.514164 44.732188 \nL 809.748029 45.911875 \nL 810.981894 44.732188 \nL 813.449624 44.732188 \nL 814.683489 43.5525 \nL 815.917353 45.911875 \nL 818.385083 43.5525 \nL 819.618948 44.732188 \nL 820.852813 42.372813 \nL 822.086678 44.732188 \nL 824.554408 44.732188 \nL 825.788273 45.911875 \nL 827.022138 44.732188 \nL 828.256003 42.372813 \nL 829.489868 43.5525 \nL 830.723733 43.5525 \nL 831.957598 44.732188 \nL 833.191463 44.732188 \nL 834.425328 45.911875 \nL 835.659193 42.372813 \nL 838.126923 44.732188 \nL 840.594652 44.732188 \nL 841.828517 43.5525 \nL 843.062382 43.5525 \nL 844.296247 45.911875 \nL 845.530112 42.372813 \nL 846.763977 43.5525 \nL 847.997842 43.5525 \nL 849.231707 44.732188 \nL 850.465572 44.732188 \nL 851.699437 43.5525 \nL 852.933302 43.5525 \nL 854.167167 44.732188 \nL 855.401032 43.5525 \nL 856.634897 43.5525 \nL 857.868762 41.193125 \nL 859.102627 43.5525 \nL 864.038086 43.5525 \nL 865.271951 45.911875 \nL 866.505816 43.5525 \nL 867.739681 44.732188 \nL 868.973546 43.5525 \nL 870.207411 43.5525 \nL 871.441276 42.372813 \nL 872.675141 44.732188 \nL 873.909006 42.372813 \nL 876.376736 44.732188 \nL 878.844466 44.732188 \nL 880.078331 43.5525 \nL 881.312196 43.5525 \nL 882.546061 44.732188 \nL 883.779926 43.5525 \nL 885.013791 44.732188 \nL 886.247656 43.5525 \nL 887.481521 43.5525 \nL 888.715385 44.732188 \nL 889.94925 44.732188 \nL 892.41698 42.372813 \nL 893.650845 44.732188 \nL 894.88471 43.5525 \nL 896.118575 43.5525 \nL 897.35244 44.732188 \nL 899.82017 44.732188 \nL 901.054035 43.5525 \nL 902.2879 44.732188 \nL 903.521765 43.5525 \nL 904.75563 44.732188 \nL 905.989495 41.193125 \nL 907.22336 43.5525 \nL 908.457225 44.732188 \nL 909.69109 43.5525 \nL 910.924955 43.5525 \nL 912.15882 44.732188 \nL 917.094279 44.732188 \nL 918.328144 43.5525 \nL 919.562009 43.5525 \nL 920.795874 44.732188 \nL 922.029739 41.193125 \nL 923.263604 42.372813 \nL 924.497469 42.372813 \nL 924.497469 42.372813 \n\" style=\"fill:none;stroke:#1f77b4;stroke-linecap:square;stroke-width:1.5;\"/>\n   </g>\n   <g id=\"line2d_34\">\n    <path clip-path=\"url(#p508f6e10d1)\" d=\"M 555.571849 183.384791 \nL 562.975039 183.384791 \nL 564.208904 143.118118 \nL 565.442769 163.25145 \nL 566.676634 143.118118 \nL 567.910499 143.118118 \nL 569.144364 122.984786 \nL 574.079823 122.984786 \nL 575.313688 102.851454 \nL 576.547553 102.851454 \nL 577.781418 62.584789 \nL 903.521765 62.584789 \nL 904.75563 82.718121 \nL 905.989495 62.584789 \nL 924.497469 62.584789 \nL 924.497469 62.584789 \n\" style=\"fill:none;stroke:#ff7f0e;stroke-linecap:square;stroke-width:1.5;\"/>\n   </g>\n   <g id=\"patch_8\">\n    <path d=\"M 537.125568 294.118125 \nL 537.125568 22.318125 \n\" style=\"fill:none;stroke:#000000;stroke-linecap:square;stroke-linejoin:miter;stroke-width:0.8;\"/>\n   </g>\n   <g id=\"patch_9\">\n    <path d=\"M 942.94375 294.118125 \nL 942.94375 22.318125 \n\" style=\"fill:none;stroke:#000000;stroke-linecap:square;stroke-linejoin:miter;stroke-width:0.8;\"/>\n   </g>\n   <g id=\"patch_10\">\n    <path d=\"M 537.125568 294.118125 \nL 942.94375 294.118125 \n\" style=\"fill:none;stroke:#000000;stroke-linecap:square;stroke-linejoin:miter;stroke-width:0.8;\"/>\n   </g>\n   <g id=\"patch_11\">\n    <path d=\"M 537.125568 22.318125 \nL 942.94375 22.318125 \n\" style=\"fill:none;stroke:#000000;stroke-linecap:square;stroke-linejoin:miter;stroke-width:0.8;\"/>\n   </g>\n   <g id=\"text_37\">\n    <!-- Final model test accuracy: 86.67% -->\n    <defs>\n     <path d=\"M 9.8125 72.90625 \nL 51.703125 72.90625 \nL 51.703125 64.59375 \nL 19.671875 64.59375 \nL 19.671875 43.109375 \nL 48.578125 43.109375 \nL 48.578125 34.8125 \nL 19.671875 34.8125 \nL 19.671875 0 \nL 9.8125 0 \nz\n\" id=\"DejaVuSans-70\"/>\n     <path d=\"M 9.421875 54.6875 \nL 18.40625 54.6875 \nL 18.40625 0 \nL 9.421875 0 \nz\nM 9.421875 75.984375 \nL 18.40625 75.984375 \nL 18.40625 64.59375 \nL 9.421875 64.59375 \nz\n\" id=\"DejaVuSans-105\"/>\n     <path d=\"M 54.890625 33.015625 \nL 54.890625 0 \nL 45.90625 0 \nL 45.90625 32.71875 \nQ 45.90625 40.484375 42.875 44.328125 \nQ 39.84375 48.1875 33.796875 48.1875 \nQ 26.515625 48.1875 22.3125 43.546875 \nQ 18.109375 38.921875 18.109375 30.90625 \nL 18.109375 0 \nL 9.078125 0 \nL 9.078125 54.6875 \nL 18.109375 54.6875 \nL 18.109375 46.1875 \nQ 21.34375 51.125 25.703125 53.5625 \nQ 30.078125 56 35.796875 56 \nQ 45.21875 56 50.046875 50.171875 \nQ 54.890625 44.34375 54.890625 33.015625 \nz\n\" id=\"DejaVuSans-110\"/>\n     <path d=\"M 52 44.1875 \nQ 55.375 50.25 60.0625 53.125 \nQ 64.75 56 71.09375 56 \nQ 79.640625 56 84.28125 50.015625 \nQ 88.921875 44.046875 88.921875 33.015625 \nL 88.921875 0 \nL 79.890625 0 \nL 79.890625 32.71875 \nQ 79.890625 40.578125 77.09375 44.375 \nQ 74.3125 48.1875 68.609375 48.1875 \nQ 61.625 48.1875 57.5625 43.546875 \nQ 53.515625 38.921875 53.515625 30.90625 \nL 53.515625 0 \nL 44.484375 0 \nL 44.484375 32.71875 \nQ 44.484375 40.625 41.703125 44.40625 \nQ 38.921875 48.1875 33.109375 48.1875 \nQ 26.21875 48.1875 22.15625 43.53125 \nQ 18.109375 38.875 18.109375 30.90625 \nL 18.109375 0 \nL 9.078125 0 \nL 9.078125 54.6875 \nL 18.109375 54.6875 \nL 18.109375 46.1875 \nQ 21.1875 51.21875 25.484375 53.609375 \nQ 29.78125 56 35.6875 56 \nQ 41.65625 56 45.828125 52.96875 \nQ 50 49.953125 52 44.1875 \nz\n\" id=\"DejaVuSans-109\"/>\n     <path d=\"M 18.3125 70.21875 \nL 18.3125 54.6875 \nL 36.8125 54.6875 \nL 36.8125 47.703125 \nL 18.3125 47.703125 \nL 18.3125 18.015625 \nQ 18.3125 11.328125 20.140625 9.421875 \nQ 21.96875 7.515625 27.59375 7.515625 \nL 36.8125 7.515625 \nL 36.8125 0 \nL 27.59375 0 \nQ 17.1875 0 13.234375 3.875 \nQ 9.28125 7.765625 9.28125 18.015625 \nL 9.28125 47.703125 \nL 2.6875 47.703125 \nL 2.6875 54.6875 \nL 9.28125 54.6875 \nL 9.28125 70.21875 \nz\n\" id=\"DejaVuSans-116\"/>\n     <path d=\"M 11.71875 12.40625 \nL 22.015625 12.40625 \nL 22.015625 0 \nL 11.71875 0 \nz\nM 11.71875 51.703125 \nL 22.015625 51.703125 \nL 22.015625 39.3125 \nL 11.71875 39.3125 \nz\n\" id=\"DejaVuSans-58\"/>\n    </defs>\n    <g transform=\"translate(636.837472 16.318125)scale(0.12 -0.12)\">\n     <use xlink:href=\"#DejaVuSans-70\"/>\n     <use x=\"50.269531\" xlink:href=\"#DejaVuSans-105\"/>\n     <use x=\"78.052734\" xlink:href=\"#DejaVuSans-110\"/>\n     <use x=\"141.431641\" xlink:href=\"#DejaVuSans-97\"/>\n     <use x=\"202.710938\" xlink:href=\"#DejaVuSans-108\"/>\n     <use x=\"230.494141\" xlink:href=\"#DejaVuSans-32\"/>\n     <use x=\"262.28125\" xlink:href=\"#DejaVuSans-109\"/>\n     <use x=\"359.693359\" xlink:href=\"#DejaVuSans-111\"/>\n     <use x=\"420.875\" xlink:href=\"#DejaVuSans-100\"/>\n     <use x=\"484.351562\" xlink:href=\"#DejaVuSans-101\"/>\n     <use x=\"545.875\" xlink:href=\"#DejaVuSans-108\"/>\n     <use x=\"573.658203\" xlink:href=\"#DejaVuSans-32\"/>\n     <use x=\"605.445312\" xlink:href=\"#DejaVuSans-116\"/>\n     <use x=\"644.654297\" xlink:href=\"#DejaVuSans-101\"/>\n     <use x=\"706.177734\" xlink:href=\"#DejaVuSans-115\"/>\n     <use x=\"758.277344\" xlink:href=\"#DejaVuSans-116\"/>\n     <use x=\"797.486328\" xlink:href=\"#DejaVuSans-32\"/>\n     <use x=\"829.273438\" xlink:href=\"#DejaVuSans-97\"/>\n     <use x=\"890.552734\" xlink:href=\"#DejaVuSans-99\"/>\n     <use x=\"945.533203\" xlink:href=\"#DejaVuSans-99\"/>\n     <use x=\"1000.513672\" xlink:href=\"#DejaVuSans-117\"/>\n     <use x=\"1063.892578\" xlink:href=\"#DejaVuSans-114\"/>\n     <use x=\"1105.005859\" xlink:href=\"#DejaVuSans-97\"/>\n     <use x=\"1166.285156\" xlink:href=\"#DejaVuSans-99\"/>\n     <use x=\"1221.265625\" xlink:href=\"#DejaVuSans-121\"/>\n     <use x=\"1273.195312\" xlink:href=\"#DejaVuSans-58\"/>\n     <use x=\"1306.886719\" xlink:href=\"#DejaVuSans-32\"/>\n     <use x=\"1338.673828\" xlink:href=\"#DejaVuSans-56\"/>\n     <use x=\"1402.296875\" xlink:href=\"#DejaVuSans-54\"/>\n     <use x=\"1465.919922\" xlink:href=\"#DejaVuSans-46\"/>\n     <use x=\"1497.707031\" xlink:href=\"#DejaVuSans-54\"/>\n     <use x=\"1561.330078\" xlink:href=\"#DejaVuSans-55\"/>\n     <use x=\"1624.953125\" xlink:href=\"#DejaVuSans-37\"/>\n    </g>\n   </g>\n   <g id=\"legend_1\">\n    <g id=\"patch_12\">\n     <path d=\"M 544.125568 289.118125 \nL 600.113068 289.118125 \nQ 602.113068 289.118125 602.113068 287.118125 \nL 602.113068 258.761875 \nQ 602.113068 256.761875 600.113068 256.761875 \nL 544.125568 256.761875 \nQ 542.125568 256.761875 542.125568 258.761875 \nL 542.125568 287.118125 \nQ 542.125568 289.118125 544.125568 289.118125 \nz\n\" style=\"fill:#ffffff;opacity:0.8;stroke:#cccccc;stroke-linejoin:miter;\"/>\n    </g>\n    <g id=\"line2d_35\">\n     <path d=\"M 546.125568 264.860312 \nL 566.125568 264.860312 \n\" style=\"fill:none;stroke:#1f77b4;stroke-linecap:square;stroke-width:1.5;\"/>\n    </g>\n    <g id=\"line2d_36\"/>\n    <g id=\"text_38\">\n     <!-- Train -->\n     <defs>\n      <path d=\"M -0.296875 72.90625 \nL 61.375 72.90625 \nL 61.375 64.59375 \nL 35.5 64.59375 \nL 35.5 0 \nL 25.59375 0 \nL 25.59375 64.59375 \nL -0.296875 64.59375 \nz\n\" id=\"DejaVuSans-84\"/>\n     </defs>\n     <g transform=\"translate(574.125568 268.360312)scale(0.1 -0.1)\">\n      <use xlink:href=\"#DejaVuSans-84\"/>\n      <use x=\"46.333984\" xlink:href=\"#DejaVuSans-114\"/>\n      <use x=\"87.447266\" xlink:href=\"#DejaVuSans-97\"/>\n      <use x=\"148.726562\" xlink:href=\"#DejaVuSans-105\"/>\n      <use x=\"176.509766\" xlink:href=\"#DejaVuSans-110\"/>\n     </g>\n    </g>\n    <g id=\"line2d_37\">\n     <path d=\"M 546.125568 279.538437 \nL 566.125568 279.538437 \n\" style=\"fill:none;stroke:#ff7f0e;stroke-linecap:square;stroke-width:1.5;\"/>\n    </g>\n    <g id=\"line2d_38\"/>\n    <g id=\"text_39\">\n     <!-- Dev -->\n     <defs>\n      <path d=\"M 19.671875 64.796875 \nL 19.671875 8.109375 \nL 31.59375 8.109375 \nQ 46.6875 8.109375 53.6875 14.9375 \nQ 60.6875 21.78125 60.6875 36.53125 \nQ 60.6875 51.171875 53.6875 57.984375 \nQ 46.6875 64.796875 31.59375 64.796875 \nz\nM 9.8125 72.90625 \nL 30.078125 72.90625 \nQ 51.265625 72.90625 61.171875 64.09375 \nQ 71.09375 55.28125 71.09375 36.53125 \nQ 71.09375 17.671875 61.125 8.828125 \nQ 51.171875 0 30.078125 0 \nL 9.8125 0 \nz\n\" id=\"DejaVuSans-68\"/>\n      <path d=\"M 2.984375 54.6875 \nL 12.5 54.6875 \nL 29.59375 8.796875 \nL 46.6875 54.6875 \nL 56.203125 54.6875 \nL 35.6875 0 \nL 23.484375 0 \nz\n\" id=\"DejaVuSans-118\"/>\n     </defs>\n     <g transform=\"translate(574.125568 283.038437)scale(0.1 -0.1)\">\n      <use xlink:href=\"#DejaVuSans-68\"/>\n      <use x=\"77.001953\" xlink:href=\"#DejaVuSans-101\"/>\n      <use x=\"138.525391\" xlink:href=\"#DejaVuSans-118\"/>\n     </g>\n    </g>\n   </g>\n  </g>\n </g>\n <defs>\n  <clipPath id=\"p685e1aef5e\">\n   <rect height=\"271.8\" width=\"405.818182\" x=\"50.14375\" y=\"22.318125\"/>\n  </clipPath>\n  <clipPath id=\"p508f6e10d1\">\n   <rect height=\"271.8\" width=\"405.818182\" x=\"537.125568\" y=\"22.318125\"/>\n  </clipPath>\n </defs>\n</svg>\n"
          },
          "metadata": {
            "needs_background": "light"
          }
        }
      ]
    },
    {
      "cell_type": "code",
      "source": [
        "X, y = next(iter(train_loader))"
      ],
      "metadata": {
        "id": "ZjNq8hBttmxG"
      },
      "execution_count": 55,
      "outputs": []
    },
    {
      "cell_type": "code",
      "source": [
        "X"
      ],
      "metadata": {
        "colab": {
          "base_uri": "https://localhost:8080/"
        },
        "id": "yTkd18qxv1-c",
        "outputId": "04800266-e733-4928-d661-19c35c1b3f00"
      },
      "execution_count": 56,
      "outputs": [
        {
          "output_type": "execute_result",
          "data": {
            "text/plain": [
              "tensor([[1.0284e-01, 1.7730e-03, 3.5461e-03, 2.1277e-01, 5.0355e-01, 0.0000e+00,\n",
              "         3.5461e-03, 2.8369e-01, 0.0000e+00, 3.1915e-03, 3.5461e-03, 0.0000e+00,\n",
              "         5.3191e-03],\n",
              "        [8.5106e-02, 0.0000e+00, 5.3191e-03, 2.3050e-01, 4.8759e-01, 0.0000e+00,\n",
              "         0.0000e+00, 2.4645e-01, 0.0000e+00, 3.5461e-04, 1.7730e-03, 0.0000e+00,\n",
              "         5.3191e-03],\n",
              "        [1.1348e-01, 1.7730e-03, 5.3191e-03, 2.4823e-01, 5.9397e-01, 0.0000e+00,\n",
              "         0.0000e+00, 2.8014e-01, 0.0000e+00, 0.0000e+00, 1.7730e-03, 0.0000e+00,\n",
              "         5.3191e-03],\n",
              "        [1.0638e-01, 1.7730e-03, 7.0922e-03, 2.4823e-01, 5.1950e-01, 0.0000e+00,\n",
              "         3.5461e-03, 3.0142e-01, 0.0000e+00, 2.1277e-03, 3.5461e-03, 3.5461e-03,\n",
              "         1.2411e-02],\n",
              "        [9.3972e-02, 1.7730e-03, 7.0922e-03, 2.5177e-01, 4.0071e-01, 0.0000e+00,\n",
              "         3.5461e-03, 1.9681e-01, 1.7730e-03, 0.0000e+00, 1.7730e-03, 0.0000e+00,\n",
              "         1.2411e-02],\n",
              "        [9.0426e-02, 0.0000e+00, 7.0922e-03, 2.3050e-01, 5.4078e-01, 0.0000e+00,\n",
              "         0.0000e+00, 2.5177e-01, 1.7730e-03, 2.1277e-03, 3.5461e-03, 0.0000e+00,\n",
              "         1.2411e-02],\n",
              "        [1.0461e-01, 1.7730e-03, 5.3191e-03, 2.2340e-01, 3.8652e-01, 1.7730e-03,\n",
              "         0.0000e+00, 2.3759e-01, 0.0000e+00, 3.9007e-03, 3.5461e-03, 1.7730e-03,\n",
              "         1.0638e-02],\n",
              "        [7.2695e-02, 1.7730e-03, 5.3191e-03, 1.9858e-01, 4.4326e-01, 0.0000e+00,\n",
              "         0.0000e+00, 3.1738e-01, 0.0000e+00, 0.0000e+00, 1.7730e-03, 0.0000e+00,\n",
              "         5.3191e-03],\n",
              "        [1.0638e-01, 0.0000e+00, 5.3191e-03, 1.8085e-01, 5.6383e-01, 0.0000e+00,\n",
              "         0.0000e+00, 2.8369e-01, 0.0000e+00, 0.0000e+00, 1.7730e-03, 1.7730e-03,\n",
              "         5.3191e-03],\n",
              "        [9.9291e-02, 1.7730e-03, 3.5461e-03, 2.1277e-01, 4.1844e-01, 0.0000e+00,\n",
              "         0.0000e+00, 3.1560e-01, 0.0000e+00, 1.4184e-03, 1.7730e-03, 0.0000e+00,\n",
              "         5.3191e-03],\n",
              "        [1.0284e-01, 0.0000e+00, 1.7730e-03, 2.6596e-01, 5.0177e-01, 1.7730e-03,\n",
              "         3.5461e-03, 2.8723e-01, 0.0000e+00, 1.7730e-03, 1.7730e-03, 0.0000e+00,\n",
              "         5.3191e-03],\n",
              "        [1.0993e-01, 1.7730e-03, 3.5461e-03, 2.1277e-01, 4.9823e-01, 0.0000e+00,\n",
              "         3.5461e-03, 1.8262e-01, 0.0000e+00, 2.4823e-03, 3.5461e-03, 1.7730e-03,\n",
              "         1.2411e-02],\n",
              "        [6.2057e-02, 1.7730e-03, 7.0922e-03, 2.1277e-01, 3.5106e-01, 0.0000e+00,\n",
              "         0.0000e+00, 2.3050e-01, 1.7730e-03, 2.8369e-03, 3.5461e-03, 0.0000e+00,\n",
              "         1.2411e-02],\n",
              "        [9.9291e-02, 0.0000e+00, 3.5461e-03, 2.4823e-01, 5.2128e-01, 0.0000e+00,\n",
              "         3.5461e-03, 2.7128e-01, 0.0000e+00, 2.3050e-03, 3.5461e-03, 0.0000e+00,\n",
              "         5.3191e-03],\n",
              "        [9.3972e-02, 1.7730e-03, 5.3191e-03, 2.3050e-01, 3.4929e-01, 1.7730e-03,\n",
              "         3.5461e-03, 2.6950e-01, 0.0000e+00, 2.1277e-03, 5.3191e-03, 0.0000e+00,\n",
              "         5.3191e-03],\n",
              "        [9.0426e-02, 1.7730e-03, 7.0922e-03, 2.4823e-01, 5.2837e-01, 0.0000e+00,\n",
              "         0.0000e+00, 2.1631e-01, 1.7730e-03, 7.4468e-03, 3.5461e-03, 5.3191e-03,\n",
              "         1.2411e-02]])"
            ]
          },
          "metadata": {},
          "execution_count": 56
        }
      ]
    },
    {
      "cell_type": "code",
      "source": [
        "y"
      ],
      "metadata": {
        "colab": {
          "base_uri": "https://localhost:8080/"
        },
        "id": "oUHsbWRkv2WC",
        "outputId": "0409f67a-da60-4709-8ccb-20e9c1d82a2c"
      },
      "execution_count": 57,
      "outputs": [
        {
          "output_type": "execute_result",
          "data": {
            "text/plain": [
              "tensor([[1.],\n",
              "        [0.],\n",
              "        [1.],\n",
              "        [1.],\n",
              "        [0.],\n",
              "        [1.],\n",
              "        [1.],\n",
              "        [0.],\n",
              "        [0.],\n",
              "        [0.],\n",
              "        [0.],\n",
              "        [1.],\n",
              "        [1.],\n",
              "        [0.],\n",
              "        [0.],\n",
              "        [1.]])"
            ]
          },
          "metadata": {},
          "execution_count": 57
        }
      ]
    },
    {
      "cell_type": "code",
      "source": [
        ""
      ],
      "metadata": {
        "id": "PsYpa4Hxv4zb"
      },
      "execution_count": null,
      "outputs": []
    }
  ]
}