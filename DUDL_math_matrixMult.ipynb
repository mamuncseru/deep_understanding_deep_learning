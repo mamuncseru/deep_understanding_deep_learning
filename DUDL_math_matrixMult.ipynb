{
  "nbformat": 4,
  "nbformat_minor": 0,
  "metadata": {
    "colab": {
      "name": "DUDL_math_matrixMult.ipynb",
      "provenance": [],
      "authorship_tag": "ABX9TyNhtzfR/VD5vMbVRiW+fwlL",
      "include_colab_link": true
    },
    "kernelspec": {
      "name": "python3",
      "display_name": "Python 3"
    },
    "language_info": {
      "name": "python"
    }
  },
  "cells": [
    {
      "cell_type": "markdown",
      "metadata": {
        "id": "view-in-github",
        "colab_type": "text"
      },
      "source": [
        "<a href=\"https://colab.research.google.com/github/mamuncseru/deep_understanding_deep_learning/blob/main/DUDL_math_matrixMult.ipynb\" target=\"_parent\"><img src=\"https://colab.research.google.com/assets/colab-badge.svg\" alt=\"Open In Colab\"/></a>"
      ]
    },
    {
      "cell_type": "code",
      "execution_count": 1,
      "metadata": {
        "id": "V73u8Ej0o8cL"
      },
      "outputs": [],
      "source": [
        "#import libraries\n",
        "import numpy as np\n",
        "import torch"
      ]
    },
    {
      "cell_type": "markdown",
      "source": [
        "# Using numpy"
      ],
      "metadata": {
        "id": "J413j2sHptHa"
      }
    },
    {
      "cell_type": "code",
      "source": [
        "# create some random matrices\n",
        "A = np.random.randn(3, 4)\n",
        "B = np.random.randn(4, 5)\n",
        "C = np.random.randn(3, 7)\n",
        "\n",
        "# try some multiplications ...\n",
        "print(np.round( A@B, 2)), print(' ')\n",
        "# print(np.round( A@C, 2)), print(' ')\n",
        "# print(np.round( B@C, 2)), print(' ')\n",
        "print(np.round( C.T@A, 2))"
      ],
      "metadata": {
        "colab": {
          "base_uri": "https://localhost:8080/"
        },
        "id": "TjaTDiI1puyg",
        "outputId": "dbd036ee-3afa-4720-aa36-12c8d137650c"
      },
      "execution_count": 7,
      "outputs": [
        {
          "output_type": "stream",
          "name": "stdout",
          "text": [
            "[[ 0.69  1.71  2.97  0.96 -0.87]\n",
            " [-0.43  1.16  3.25 -1.38  2.09]\n",
            " [-1.32 -0.75  1.02  1.5  -2.2 ]]\n",
            " \n",
            "[[-0.69  1.22 -1.22 -2.01]\n",
            " [-0.88 -0.15 -0.84  2.23]\n",
            " [ 0.29 -1.65  2.2  -0.04]\n",
            " [-1.64  0.45 -1.35  0.41]\n",
            " [-1.29  2.17 -3.19 -0.23]\n",
            " [ 0.25 -0.29  0.53 -0.24]\n",
            " [-2.29  2.1  -3.62  0.15]]\n"
          ]
        }
      ]
    },
    {
      "cell_type": "markdown",
      "source": [
        "# Using Pytorch"
      ],
      "metadata": {
        "id": "c3ohjkzNqRgo"
      }
    },
    {
      "cell_type": "code",
      "source": [
        "# create some random matrices\n",
        "A = torch.randn(3, 4)\n",
        "B = torch.randn(4, 5)\n",
        "C1 = np.random.randn(4, 7)\n",
        "C2 = torch.tensor(C1, dtype=torch.float )\n",
        "\n",
        "# try some multiplications ...\n",
        "print(np.round( A@B, 2)), print(' ')\n",
        "# print(np.round( A@B.T, 2)), print(' ')\n",
        "print(np.round( A@C1, 2)), print(' ')\n",
        "print(np.round( A@C2, 2))"
      ],
      "metadata": {
        "colab": {
          "base_uri": "https://localhost:8080/"
        },
        "id": "SZQmDBvrs9LR",
        "outputId": "6beb8430-4932-4600-8802-d735c7d68fff"
      },
      "execution_count": 13,
      "outputs": [
        {
          "output_type": "stream",
          "name": "stdout",
          "text": [
            "tensor([[-0.5700,  1.2800,  0.9400,  0.5400, -1.4100],\n",
            "        [ 1.1500,  2.1400,  1.4700,  0.2400,  0.7200],\n",
            "        [-4.8100, -0.8900,  0.4100,  3.9400,  0.2900]])\n",
            " \n",
            "tensor([[-0.4500, -1.5300, -2.0600,  4.7500, -0.1500,  1.7300, -3.8000],\n",
            "        [ 2.4800,  2.3100,  1.2200, -2.8700, -0.7400, -0.1500,  2.2800],\n",
            "        [ 2.8100,  2.4600,  1.3400, -0.7600,  1.6700, -5.6500,  0.0700]],\n",
            "       dtype=torch.float64)\n",
            " \n",
            "tensor([[-0.4500, -1.5300, -2.0600,  4.7500, -0.1500,  1.7300, -3.8000],\n",
            "        [ 2.4800,  2.3100,  1.2200, -2.8700, -0.7400, -0.1500,  2.2800],\n",
            "        [ 2.8100,  2.4600,  1.3400, -0.7600,  1.6700, -5.6500,  0.0700]])\n"
          ]
        }
      ]
    },
    {
      "cell_type": "code",
      "source": [
        ""
      ],
      "metadata": {
        "id": "YdwT8_r8tcdD"
      },
      "execution_count": null,
      "outputs": []
    }
  ]
}