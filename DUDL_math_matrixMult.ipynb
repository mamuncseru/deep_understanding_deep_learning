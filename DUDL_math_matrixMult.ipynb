{
  "nbformat": 4,
  "nbformat_minor": 0,
  "metadata": {
    "colab": {
      "name": "DUDL_math_matrixMult.ipynb",
      "provenance": [],
      "authorship_tag": "ABX9TyMIU6GAPf2FS7itjU+Z9ps5",
      "include_colab_link": true
    },
    "kernelspec": {
      "name": "python3",
      "display_name": "Python 3"
    },
    "language_info": {
      "name": "python"
    }
  },
  "cells": [
    {
      "cell_type": "markdown",
      "metadata": {
        "id": "view-in-github",
        "colab_type": "text"
      },
      "source": [
        "<a href=\"https://colab.research.google.com/github/mamuncseru/deep_understanding_deep_learning/blob/main/DUDL_math_matrixMult.ipynb\" target=\"_parent\"><img src=\"https://colab.research.google.com/assets/colab-badge.svg\" alt=\"Open In Colab\"/></a>"
      ]
    },
    {
      "cell_type": "code",
      "execution_count": 1,
      "metadata": {
        "id": "V73u8Ej0o8cL"
      },
      "outputs": [],
      "source": [
        "#import libraries\n",
        "import numpy as np\n",
        "import torch"
      ]
    },
    {
      "cell_type": "markdown",
      "source": [
        "# Using numpy"
      ],
      "metadata": {
        "id": "J413j2sHptHa"
      }
    },
    {
      "cell_type": "code",
      "source": [
        "# create some random matrices\n",
        "A = np.random.randn(3, 4)\n",
        "B = np.random.randn(4, 5)\n",
        "C = np.random.randn(3, 7)\n",
        "\n",
        "# try some multiplications ...\n",
        "print(np.round( A@B, 2)), print(' ')\n",
        "# print(np.round( A@C, 2)), print(' ')\n",
        "# print(np.round( B@C, 2)), print(' ')\n",
        "# print(np.round( C.T@A, 2))"
      ],
      "metadata": {
        "colab": {
          "base_uri": "https://localhost:8080/"
        },
        "id": "TjaTDiI1puyg",
        "outputId": "f2d41970-d325-401f-9600-41c74165bbd8"
      },
      "execution_count": 3,
      "outputs": [
        {
          "output_type": "stream",
          "name": "stdout",
          "text": [
            "[[-3.49  1.81 -1.73  1.12  1.97]\n",
            " [-0.67 -3.34 -1.56 -2.12  0.37]\n",
            " [-2.47  0.21 -2.04 -0.    0.77]]\n",
            " \n"
          ]
        },
        {
          "output_type": "execute_result",
          "data": {
            "text/plain": [
              "(None, None)"
            ]
          },
          "metadata": {},
          "execution_count": 3
        }
      ]
    },
    {
      "cell_type": "code",
      "source": [
        ""
      ],
      "metadata": {
        "id": "c3ohjkzNqRgo"
      },
      "execution_count": null,
      "outputs": []
    }
  ]
}