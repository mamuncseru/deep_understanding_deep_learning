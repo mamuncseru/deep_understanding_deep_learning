{
  "nbformat": 4,
  "nbformat_minor": 0,
  "metadata": {
    "colab": {
      "name": "DUDL_Math_derivatives2.ipynb",
      "provenance": [],
      "authorship_tag": "ABX9TyNHAidkpgu4sHR5UuV4X2s5",
      "include_colab_link": true
    },
    "kernelspec": {
      "name": "python3",
      "display_name": "Python 3"
    },
    "language_info": {
      "name": "python"
    }
  },
  "cells": [
    {
      "cell_type": "markdown",
      "metadata": {
        "id": "view-in-github",
        "colab_type": "text"
      },
      "source": [
        "<a href=\"https://colab.research.google.com/github/mamuncseru/deep_understanding_deep_learning/blob/main/DUDL_Math_derivatives2.ipynb\" target=\"_parent\"><img src=\"https://colab.research.google.com/assets/colab-badge.svg\" alt=\"Open In Colab\"/></a>"
      ]
    },
    {
      "cell_type": "code",
      "execution_count": 1,
      "metadata": {
        "id": "HrYVpyMjGsBQ"
      },
      "outputs": [],
      "source": [
        "# import libraries\n",
        "import numpy as np\n",
        "import sympy as sym\n",
        "\n",
        "# make the equation look nicer\n",
        "from IPython.display import display"
      ]
    },
    {
      "cell_type": "code",
      "source": [
        "# create symbolic variables in sympy\n",
        "x = sym.symbols('x')\n",
        "\n",
        "# create two functions\n",
        "fx = 2*x**2\n",
        "gx = 4*x**3 - 3*x**4\n",
        "\n",
        "# compute their individual derivatives\n",
        "df = sym.diff(fx)\n",
        "dg = sym.diff(gx)\n",
        "\n",
        "# apply the product rule \"manually\"\n",
        "manual = df*gx + fx*dg\n",
        "thewrongway = df * dg\n",
        "\n",
        "# via sympy\n",
        "viasympy = sym.diff(fx*gx)\n",
        "\n",
        "# print everything\n",
        "print('The functions:')\n",
        "display(fx)\n",
        "display(gx)\n",
        "print(' ')\n",
        "\n",
        "print('Their derivatives: ')\n",
        "display(df)\n",
        "display(dg)\n",
        "print(' ')\n",
        "\n",
        "print('Manual product rule:')\n",
        "display(manual)\n",
        "print(' ')\n",
        "\n",
        "print('Via Sympy')\n",
        "display(viasympy)\n",
        "print(' ')\n",
        "\n",
        "print('The wrong way:')\n",
        "display(thewrongway)"
      ],
      "metadata": {
        "colab": {
          "base_uri": "https://localhost:8080/",
          "height": 322
        },
        "id": "QAVDAfo0Jq4q",
        "outputId": "3e15c132-1dee-4004-dc8a-3b288f3cb74a"
      },
      "execution_count": 3,
      "outputs": [
        {
          "output_type": "stream",
          "name": "stdout",
          "text": [
            "The functions:\n"
          ]
        },
        {
          "output_type": "display_data",
          "data": {
            "text/latex": "$\\displaystyle 2 x^{2}$",
            "text/plain": [
              "2*x**2"
            ]
          },
          "metadata": {}
        },
        {
          "output_type": "display_data",
          "data": {
            "text/latex": "$\\displaystyle - 3 x^{4} + 4 x^{3}$",
            "text/plain": [
              "-3*x**4 + 4*x**3"
            ]
          },
          "metadata": {}
        },
        {
          "output_type": "stream",
          "name": "stdout",
          "text": [
            " \n",
            "Their derivatives: \n"
          ]
        },
        {
          "output_type": "display_data",
          "data": {
            "text/latex": "$\\displaystyle 4 x$",
            "text/plain": [
              "4*x"
            ]
          },
          "metadata": {}
        },
        {
          "output_type": "display_data",
          "data": {
            "text/latex": "$\\displaystyle - 12 x^{3} + 12 x^{2}$",
            "text/plain": [
              "-12*x**3 + 12*x**2"
            ]
          },
          "metadata": {}
        },
        {
          "output_type": "stream",
          "name": "stdout",
          "text": [
            " \n",
            "Manual product rule:\n"
          ]
        },
        {
          "output_type": "display_data",
          "data": {
            "text/latex": "$\\displaystyle 2 x^{2} \\left(- 12 x^{3} + 12 x^{2}\\right) + 4 x \\left(- 3 x^{4} + 4 x^{3}\\right)$",
            "text/plain": [
              "2*x**2*(-12*x**3 + 12*x**2) + 4*x*(-3*x**4 + 4*x**3)"
            ]
          },
          "metadata": {}
        },
        {
          "output_type": "stream",
          "name": "stdout",
          "text": [
            " \n",
            "Via Sympy\n"
          ]
        },
        {
          "output_type": "display_data",
          "data": {
            "text/latex": "$\\displaystyle 2 x^{2} \\left(- 12 x^{3} + 12 x^{2}\\right) + 4 x \\left(- 3 x^{4} + 4 x^{3}\\right)$",
            "text/plain": [
              "2*x**2*(-12*x**3 + 12*x**2) + 4*x*(-3*x**4 + 4*x**3)"
            ]
          },
          "metadata": {}
        },
        {
          "output_type": "stream",
          "name": "stdout",
          "text": [
            " \n",
            "The wrong way:\n"
          ]
        },
        {
          "output_type": "display_data",
          "data": {
            "text/latex": "$\\displaystyle 4 x \\left(- 12 x^{3} + 12 x^{2}\\right)$",
            "text/plain": [
              "4*x*(-12*x**3 + 12*x**2)"
            ]
          },
          "metadata": {}
        }
      ]
    },
    {
      "cell_type": "code",
      "source": [
        "# repeat with chain rule\n",
        "gx = x**2 + 4*x**3\n",
        "fx = (gx) ** 5\n",
        "\n",
        "print('The function: ')\n",
        "display(fx)\n",
        "print(' ')\n",
        "\n",
        "print('Its derivative:')\n",
        "display(sym.diff(fx))"
      ],
      "metadata": {
        "colab": {
          "base_uri": "https://localhost:8080/",
          "height": 118
        },
        "id": "n8bf9-CqK5nq",
        "outputId": "d9b97b4f-e981-4654-9770-024eb732c489"
      },
      "execution_count": 4,
      "outputs": [
        {
          "output_type": "stream",
          "name": "stdout",
          "text": [
            "The function: \n"
          ]
        },
        {
          "output_type": "display_data",
          "data": {
            "text/latex": "$\\displaystyle \\left(4 x^{3} + x^{2}\\right)^{5}$",
            "text/plain": [
              "(4*x**3 + x**2)**5"
            ]
          },
          "metadata": {}
        },
        {
          "output_type": "stream",
          "name": "stdout",
          "text": [
            " \n",
            "Its derivative:\n"
          ]
        },
        {
          "output_type": "display_data",
          "data": {
            "text/latex": "$\\displaystyle \\left(60 x^{2} + 10 x\\right) \\left(4 x^{3} + x^{2}\\right)^{4}$",
            "text/plain": [
              "(60*x**2 + 10*x)*(4*x**3 + x**2)**4"
            ]
          },
          "metadata": {}
        }
      ]
    },
    {
      "cell_type": "code",
      "source": [
        ""
      ],
      "metadata": {
        "id": "dMxX4Hw2LsIQ"
      },
      "execution_count": null,
      "outputs": []
    }
  ]
}