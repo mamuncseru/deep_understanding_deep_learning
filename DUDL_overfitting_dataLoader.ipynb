{
  "nbformat": 4,
  "nbformat_minor": 0,
  "metadata": {
    "colab": {
      "name": "DUDL_overfitting_dataLoader.ipynb",
      "provenance": [],
      "collapsed_sections": [],
      "authorship_tag": "ABX9TyOpqxepw2wmtpZjfttHdUh8",
      "include_colab_link": true
    },
    "kernelspec": {
      "name": "python3",
      "display_name": "Python 3"
    },
    "language_info": {
      "name": "python"
    }
  },
  "cells": [
    {
      "cell_type": "markdown",
      "metadata": {
        "id": "view-in-github",
        "colab_type": "text"
      },
      "source": [
        "<a href=\"https://colab.research.google.com/github/mamuncseru/deep_understanding_deep_learning/blob/main/DUDL_overfitting_dataLoader.ipynb\" target=\"_parent\"><img src=\"https://colab.research.google.com/assets/colab-badge.svg\" alt=\"Open In Colab\"/></a>"
      ]
    },
    {
      "cell_type": "code",
      "execution_count": 1,
      "metadata": {
        "id": "tePZBR8_o21o"
      },
      "outputs": [],
      "source": [
        "# import libraries\n",
        "import torch\n",
        "import torch.nn as nn\n",
        "import numpy as np\n",
        "import matplotlib.pyplot as plt\n",
        "from sklearn.model_selection import train_test_split\n",
        "\n",
        "# New!\n",
        "from torch.utils.data import DataLoader, TensorDataset"
      ]
    },
    {
      "cell_type": "code",
      "source": [
        "# import dataset (comes with seaborn)\n",
        "import seaborn as sns\n",
        "iris = sns.load_dataset('iris')\n",
        "\n",
        "# convert from pandas dataframe to tensor\n",
        "data = torch.tensor(iris[iris.columns[0:4]].values).float()\n",
        "\n",
        "# transform species to number\n",
        "labels = torch.zeros(len(data), dtype=torch.long)\n",
        "# labels[iris.species=='setosa'] = 0 # don't need\n",
        "labels[iris.species == 'versicolor'] = 1\n",
        "labels[iris.species == 'virginica'] = 2"
      ],
      "metadata": {
        "id": "uNsY_lV9pmsz"
      },
      "execution_count": 2,
      "outputs": []
    },
    {
      "cell_type": "markdown",
      "source": [
        "## A breif aside on using DataLoader"
      ],
      "metadata": {
        "id": "3nhiprLPpo_I"
      }
    },
    {
      "cell_type": "code",
      "source": [
        "# create our fake dataset\n",
        "\n",
        "fakedata = np.tile(np.array([1, 2, 3, 4]), (10, 1)) + np.tile(10*np.arange(1, 11), (4, 1)).T\n",
        "fakelabels = np.arange(10) > 4\n",
        "print(fakedata), print(' ')\n",
        "print(fakelabels)"
      ],
      "metadata": {
        "colab": {
          "base_uri": "https://localhost:8080/"
        },
        "id": "5WFMDKAppw84",
        "outputId": "8bd7e619-ab4a-40da-ebd8-a751e5cb9297"
      },
      "execution_count": 3,
      "outputs": [
        {
          "output_type": "stream",
          "name": "stdout",
          "text": [
            "[[ 11  12  13  14]\n",
            " [ 21  22  23  24]\n",
            " [ 31  32  33  34]\n",
            " [ 41  42  43  44]\n",
            " [ 51  52  53  54]\n",
            " [ 61  62  63  64]\n",
            " [ 71  72  73  74]\n",
            " [ 81  82  83  84]\n",
            " [ 91  92  93  94]\n",
            " [101 102 103 104]]\n",
            " \n",
            "[False False False False False  True  True  True  True  True]\n"
          ]
        }
      ]
    },
    {
      "cell_type": "code",
      "source": [
        "# dataloader object with all data\n",
        "fakedataLdr = DataLoader(fakedata, shuffle=True)\n",
        "print(fakedataLdr)\n",
        "print(fakedataLdr.batch_size)"
      ],
      "metadata": {
        "colab": {
          "base_uri": "https://localhost:8080/"
        },
        "id": "VZbw9nM7pzre",
        "outputId": "891f16e9-9ce9-4054-9810-695c5b41ec9f"
      },
      "execution_count": 7,
      "outputs": [
        {
          "output_type": "stream",
          "name": "stdout",
          "text": [
            "<torch.utils.data.dataloader.DataLoader object at 0x7f45f1293b50>\n",
            "1\n"
          ]
        }
      ]
    },
    {
      "cell_type": "code",
      "source": [
        "# iterate through the data\n",
        "for i, oneSample in enumerate(fakedataLdr):\n",
        "    print(i, oneSample, oneSample.shape)"
      ],
      "metadata": {
        "colab": {
          "base_uri": "https://localhost:8080/"
        },
        "id": "T3cpy-HWqC98",
        "outputId": "d62fd40d-fd4c-48bb-9b57-40c294724b6f"
      },
      "execution_count": 8,
      "outputs": [
        {
          "output_type": "stream",
          "name": "stdout",
          "text": [
            "0 tensor([[101, 102, 103, 104]]) torch.Size([1, 4])\n",
            "1 tensor([[51, 52, 53, 54]]) torch.Size([1, 4])\n",
            "2 tensor([[31, 32, 33, 34]]) torch.Size([1, 4])\n",
            "3 tensor([[11, 12, 13, 14]]) torch.Size([1, 4])\n",
            "4 tensor([[61, 62, 63, 64]]) torch.Size([1, 4])\n",
            "5 tensor([[71, 72, 73, 74]]) torch.Size([1, 4])\n",
            "6 tensor([[21, 22, 23, 24]]) torch.Size([1, 4])\n",
            "7 tensor([[91, 92, 93, 94]]) torch.Size([1, 4])\n",
            "8 tensor([[81, 82, 83, 84]]) torch.Size([1, 4])\n",
            "9 tensor([[41, 42, 43, 44]]) torch.Size([1, 4])\n"
          ]
        }
      ]
    },
    {
      "cell_type": "code",
      "source": [
        "# we need to create a Dataset that contains the data and labels\n",
        "fakeDataset = TensorDataset(torch.Tensor(fakedata), torch.Tensor(fakelabels))\n",
        "print(fakeDataset.tensors)\n",
        "print(' ')\n",
        "\n",
        "# then create another dataloader\n",
        "fakedataLdr = DataLoader(fakeDataset, shuffle=True)\n",
        "\n",
        "#iterate through the data\n",
        "for dat, lab in fakedataLdr:\n",
        "    print(dat, lab)"
      ],
      "metadata": {
        "colab": {
          "base_uri": "https://localhost:8080/"
        },
        "id": "6ok4bQnBqRT8",
        "outputId": "f52a8cfb-8df8-42e0-a9e8-8c7244cad0a6"
      },
      "execution_count": 10,
      "outputs": [
        {
          "output_type": "stream",
          "name": "stdout",
          "text": [
            "(tensor([[ 11.,  12.,  13.,  14.],\n",
            "        [ 21.,  22.,  23.,  24.],\n",
            "        [ 31.,  32.,  33.,  34.],\n",
            "        [ 41.,  42.,  43.,  44.],\n",
            "        [ 51.,  52.,  53.,  54.],\n",
            "        [ 61.,  62.,  63.,  64.],\n",
            "        [ 71.,  72.,  73.,  74.],\n",
            "        [ 81.,  82.,  83.,  84.],\n",
            "        [ 91.,  92.,  93.,  94.],\n",
            "        [101., 102., 103., 104.]]), tensor([0., 0., 0., 0., 0., 1., 1., 1., 1., 1.]))\n",
            " \n",
            "tensor([[91., 92., 93., 94.]]) tensor([1.])\n",
            "tensor([[71., 72., 73., 74.]]) tensor([1.])\n",
            "tensor([[61., 62., 63., 64.]]) tensor([1.])\n",
            "tensor([[51., 52., 53., 54.]]) tensor([0.])\n",
            "tensor([[101., 102., 103., 104.]]) tensor([1.])\n",
            "tensor([[81., 82., 83., 84.]]) tensor([1.])\n",
            "tensor([[21., 22., 23., 24.]]) tensor([0.])\n",
            "tensor([[31., 32., 33., 34.]]) tensor([0.])\n",
            "tensor([[11., 12., 13., 14.]]) tensor([0.])\n",
            "tensor([[41., 42., 43., 44.]]) tensor([0.])\n"
          ]
        }
      ]
    },
    {
      "cell_type": "code",
      "source": [
        "# use scikitlearn to split the data\n",
        "train_data, test_data, train_labels, test_labels = train_test_split(fakedata, fakelabels, test_size=0.2)\n",
        "\n",
        "# then convert them int pytorch datasets\n",
        "train_data = TensorDataset(torch.Tensor(train_data), torch.Tensor(train_labels))\n",
        "\n",
        "test_data = TensorDataset(torch.Tensor(test_data), torch.Tensor(test_labels))\n",
        "\n",
        "# finally, translate into dataloader objects\n",
        "# notice the batches (see next cell)!\n",
        "train_loader = DataLoader(train_data, batch_size=4)\n",
        "test_loader = DataLoader(test_data)"
      ],
      "metadata": {
        "id": "CFCBvWa8rEGJ"
      },
      "execution_count": 11,
      "outputs": []
    },
    {
      "cell_type": "code",
      "source": [
        "# examine the contents of the dataloader (batching is an advantage of dataloader!)\n",
        "print('TRAINING DATA')\n",
        "for batch, label in train_loader:\n",
        "    print(batch, label)\n",
        "    print(' ')\n",
        "\n",
        "\n",
        "print(' ')\n",
        "print('Testing data')\n",
        "for batch, label in test_loader: # iterable\n",
        "    print(batch, label)\n",
        "    print(' ')\n"
      ],
      "metadata": {
        "colab": {
          "base_uri": "https://localhost:8080/"
        },
        "id": "c_cGkku5sdQJ",
        "outputId": "b110640c-c803-407f-82cf-617d29eeb8cd"
      },
      "execution_count": 14,
      "outputs": [
        {
          "output_type": "stream",
          "name": "stdout",
          "text": [
            "TRAINING DATA\n",
            "tensor([[31., 32., 33., 34.],\n",
            "        [71., 72., 73., 74.],\n",
            "        [21., 22., 23., 24.],\n",
            "        [81., 82., 83., 84.]]) tensor([0., 1., 0., 1.])\n",
            " \n",
            "tensor([[11., 12., 13., 14.],\n",
            "        [41., 42., 43., 44.],\n",
            "        [91., 92., 93., 94.],\n",
            "        [51., 52., 53., 54.]]) tensor([0., 0., 1., 0.])\n",
            " \n",
            " \n",
            "Testing data\n",
            "tensor([[101., 102., 103., 104.]]) tensor([1.])\n",
            " \n",
            "tensor([[61., 62., 63., 64.]]) tensor([1.])\n",
            " \n"
          ]
        }
      ]
    },
    {
      "cell_type": "markdown",
      "source": [
        "### Now back to the real data!"
      ],
      "metadata": {
        "id": "3VeOuHW8dvFs"
      }
    },
    {
      "cell_type": "code",
      "source": [
        "# use scikitlearn to split the data\n",
        "train_data, test_data, train_labels, test_labels = \\\n",
        "            train_test_split(data, labels, train_size=.8)\n",
        "\n",
        "# then convert them into pyTorch Datasets (note: already converted to tensors)\n",
        "train_data = TensorDataset(train_data, train_labels)\n",
        "test_data = TensorDataset(test_data, test_labels)\n",
        "\n",
        "# finally, translate into dataloader objects\n",
        "train_loader = DataLoader(train_data, shuffle=True, batch_size=12)\n",
        "test_loader = DataLoader(test_data, batch_size=test_data.tensors[0].shape[0])\n"
      ],
      "metadata": {
        "id": "lDPuMIaGtc7g"
      },
      "execution_count": 15,
      "outputs": []
    },
    {
      "cell_type": "code",
      "source": [
        "# check sizes of data batches\n",
        "for X, y in train_loader:\n",
        "     print(X.shape, y.shape)"
      ],
      "metadata": {
        "colab": {
          "base_uri": "https://localhost:8080/"
        },
        "id": "don2Q-PNe6j3",
        "outputId": "44f4ba4b-2462-449c-f8b1-680ea283a193"
      },
      "execution_count": 19,
      "outputs": [
        {
          "output_type": "stream",
          "name": "stdout",
          "text": [
            "torch.Size([12, 4]) torch.Size([12])\n",
            "torch.Size([12, 4]) torch.Size([12])\n",
            "torch.Size([12, 4]) torch.Size([12])\n",
            "torch.Size([12, 4]) torch.Size([12])\n",
            "torch.Size([12, 4]) torch.Size([12])\n",
            "torch.Size([12, 4]) torch.Size([12])\n",
            "torch.Size([12, 4]) torch.Size([12])\n",
            "torch.Size([12, 4]) torch.Size([12])\n",
            "torch.Size([12, 4]) torch.Size([12])\n",
            "torch.Size([12, 4]) torch.Size([12])\n"
          ]
        }
      ]
    },
    {
      "cell_type": "code",
      "source": [
        "for X, y in test_loader:\n",
        "     print(X.shape, y.shape)"
      ],
      "metadata": {
        "colab": {
          "base_uri": "https://localhost:8080/"
        },
        "id": "5Vq33HGpfXWK",
        "outputId": "1fd22cab-da01-4b82-f791-e6b9b386a32d"
      },
      "execution_count": 20,
      "outputs": [
        {
          "output_type": "stream",
          "name": "stdout",
          "text": [
            "torch.Size([30, 4]) torch.Size([30])\n"
          ]
        }
      ]
    },
    {
      "cell_type": "code",
      "source": [
        "# a function that creates the ANN model\n",
        "\n",
        "def createANewModel():\n",
        "\n",
        "  # model architecture\n",
        "  ANNiris = nn.Sequential(\n",
        "      nn.Linear(4,64),   # input layer\n",
        "      nn.ReLU(),         # activation unit\n",
        "      nn.Linear(64,64),  # hidden layer\n",
        "      nn.ReLU(),         # activation unit\n",
        "      nn.Linear(64,3),   # output units\n",
        "        )\n",
        "\n",
        "  # loss function\n",
        "  lossfun = nn.CrossEntropyLoss()\n",
        "\n",
        "  # optimizer\n",
        "  optimizer = torch.optim.SGD(ANNiris.parameters(),lr=.01)\n",
        "\n",
        "  return ANNiris,lossfun,optimizer"
      ],
      "metadata": {
        "id": "N5PP2sPyfXKl"
      },
      "execution_count": 21,
      "outputs": []
    },
    {
      "cell_type": "code",
      "source": [
        "# train the model\n",
        "\n",
        "# global parameter\n",
        "numepochs = 500\n",
        "\n",
        "def trainTheModel():\n",
        "\n",
        "    # initialize accuracies as empties (not storing losses here)\n",
        "    trainAcc = []\n",
        "    testAcc = []\n",
        "\n",
        "    # loop over epochs\n",
        "    for epochi in range(numepochs):\n",
        "\n",
        "        # loop over training data batches\n",
        "        batchAcc = []\n",
        "        for X, y in train_loader:\n",
        "\n",
        "            # forward pass\n",
        "            yHat = ANNiris(X)\n",
        "            loss = lossfun(yHat, y)\n",
        "\n",
        "            # backprop\n",
        "            optimizer.zero_grad()\n",
        "            loss.backward()\n",
        "            optimizer.step()\n",
        "\n",
        "            # compute training accuracy just for this batch\n",
        "            batchAcc.append(100*torch.mean((torch.argmax(yHat, axis=1) == y).float()).item())\n",
        "        # end of batch loop...\n",
        "\n",
        "        # now that we've trained through the batches, get their average training accuracy\n",
        "        trainAcc.append(np.mean(batchAcc))\n",
        "\n",
        "        # test accuracy\n",
        "        X, y = next(iter(test_loader))\n",
        "        predlabels = torch.argmax(ANNiris(X), axis=1)\n",
        "        testAcc.append(100*torch.mean((predlabels == y).float()).item())\n",
        "\n",
        "    # function output\n",
        "    return trainAcc, testAcc"
      ],
      "metadata": {
        "id": "t2xWJr1-fA-S"
      },
      "execution_count": 24,
      "outputs": []
    },
    {
      "cell_type": "markdown",
      "source": [
        "## Modeling"
      ],
      "metadata": {
        "id": "hP1LhG_zhu6G"
      }
    },
    {
      "cell_type": "code",
      "source": [
        "# create a model\n",
        "ANNiris, lossfun, optimizer = createANewModel()\n",
        "\n",
        "# train the model\n",
        "trainAcc, testAcc = trainTheModel()"
      ],
      "metadata": {
        "id": "hZ8wWOqFhxKf"
      },
      "execution_count": 25,
      "outputs": []
    },
    {
      "cell_type": "code",
      "source": [
        "# plot the results\n",
        "fig = plt.figure(figsize=(10, 5))\n",
        "\n",
        "plt.plot(trainAcc, 'ro-')\n",
        "plt.plot(testAcc, 'bs-')\n",
        "plt.xlabel('Epochs')\n",
        "plt.ylabel('Accuracy (%)')\n",
        "plt.legend(['Train', 'Test'])\n",
        "\n",
        "plt.show()"
      ],
      "metadata": {
        "colab": {
          "base_uri": "https://localhost:8080/",
          "height": 334
        },
        "id": "w5P5-1qxh7v7",
        "outputId": "94af88b9-6e18-4ee8-ea2d-f1545993bb3a"
      },
      "execution_count": 26,
      "outputs": [
        {
          "output_type": "display_data",
          "data": {
            "text/plain": [
              "<Figure size 720x360 with 1 Axes>"
            ],
            "image/png": "[encoded data removed]"
          },
          "metadata": {
            "needs_background": "light"
          }
        }
      ]
    },
    {
      "cell_type": "code",
      "source": [
        ""
      ],
      "metadata": {
        "id": "YHp4NIV_iZWO"
      },
      "execution_count": null,
      "outputs": []
    }
  ]
}