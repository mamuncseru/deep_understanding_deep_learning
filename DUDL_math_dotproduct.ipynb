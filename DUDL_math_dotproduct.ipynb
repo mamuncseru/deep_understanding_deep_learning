{
  "nbformat": 4,
  "nbformat_minor": 0,
  "metadata": {
    "colab": {
      "name": "DUDL_math_dotproduct.ipynb",
      "provenance": [],
      "authorship_tag": "ABX9TyPFK3K0gijPK0LEUmGrFySb",
      "include_colab_link": true
    },
    "kernelspec": {
      "name": "python3",
      "display_name": "Python 3"
    },
    "language_info": {
      "name": "python"
    }
  },
  "cells": [
    {
      "cell_type": "markdown",
      "metadata": {
        "id": "view-in-github",
        "colab_type": "text"
      },
      "source": [
        "<a href=\"https://colab.research.google.com/github/mamuncseru/deep_understanding_deep_learning/blob/main/DUDL_math_dotproduct.ipynb\" target=\"_parent\"><img src=\"https://colab.research.google.com/assets/colab-badge.svg\" alt=\"Open In Colab\"/></a>"
      ]
    },
    {
      "cell_type": "code",
      "execution_count": 1,
      "metadata": {
        "id": "g1UtAkBhvyuE"
      },
      "outputs": [],
      "source": [
        "#import libraries\n",
        "import numpy as np\n",
        "import torch"
      ]
    },
    {
      "cell_type": "markdown",
      "source": [
        "# Using Numpy"
      ],
      "metadata": {
        "id": "hfCaX7Ktmeqc"
      }
    },
    {
      "cell_type": "code",
      "source": [
        "# create a vector\n",
        "nv1 = np.array([1, 2, 3, 4])\n",
        "nv2 = np.array([0, 1, 0, -1])\n",
        "\n",
        "# dot product via function\n",
        "print(np.dot(nv1, nv2))\n",
        "\n",
        "# dot product via computation\n",
        "print(np.sum(nv1*nv2))"
      ],
      "metadata": {
        "colab": {
          "base_uri": "https://localhost:8080/"
        },
        "id": "cKQfyajbmggy",
        "outputId": "b6b5bacb-2bb2-4e99-b0ea-d7dd075bc631"
      },
      "execution_count": 2,
      "outputs": [
        {
          "output_type": "stream",
          "name": "stdout",
          "text": [
            "-2\n",
            "-2\n"
          ]
        }
      ]
    },
    {
      "cell_type": "markdown",
      "source": [
        "# Using Pytorch"
      ],
      "metadata": {
        "id": "aJnnF_k7mzDJ"
      }
    },
    {
      "cell_type": "code",
      "source": [
        "# create a vector\n",
        "tv1 = torch.tensor([1, 2, 3, 4])\n",
        "tv2 = torch.tensor([0, 1, 0, -1])\n",
        "\n",
        "# dot product via function\n",
        "print(torch.dot(tv1, tv2))\n",
        "\n",
        "# dot product via computation\n",
        "print(torch.sum(tv1*tv2))"
      ],
      "metadata": {
        "colab": {
          "base_uri": "https://localhost:8080/"
        },
        "id": "5yLWoswAm4yE",
        "outputId": "a5dd5a1e-8d39-4351-9b11-282a1e0a0042"
      },
      "execution_count": 3,
      "outputs": [
        {
          "output_type": "stream",
          "name": "stdout",
          "text": [
            "tensor(-2)\n",
            "tensor(-2)\n"
          ]
        }
      ]
    },
    {
      "cell_type": "code",
      "source": [
        ""
      ],
      "metadata": {
        "id": "6J8S4pjDnTrj"
      },
      "execution_count": null,
      "outputs": []
    }
  ]
}