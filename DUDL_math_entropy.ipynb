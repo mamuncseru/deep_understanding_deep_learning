{
  "nbformat": 4,
  "nbformat_minor": 0,
  "metadata": {
    "colab": {
      "name": "DUDL_math_entropy.ipynb",
      "provenance": [],
      "authorship_tag": "ABX9TyPJ1mUkCvQGEqFAA/4QsEw3",
      "include_colab_link": true
    },
    "kernelspec": {
      "name": "python3",
      "display_name": "Python 3"
    },
    "language_info": {
      "name": "python"
    }
  },
  "cells": [
    {
      "cell_type": "markdown",
      "metadata": {
        "id": "view-in-github",
        "colab_type": "text"
      },
      "source": [
        "<a href=\"https://colab.research.google.com/github/mamuncseru/deep_understanding_deep_learning/blob/main/DUDL_math_entropy.ipynb\" target=\"_parent\"><img src=\"https://colab.research.google.com/assets/colab-badge.svg\" alt=\"Open In Colab\"/></a>"
      ]
    },
    {
      "cell_type": "code",
      "execution_count": 1,
      "metadata": {
        "id": "voblmypS_-lK"
      },
      "outputs": [],
      "source": [
        "# import libraries\n",
        "import numpy as np\n",
        "import matplotlib.pyplot as plt"
      ]
    },
    {
      "cell_type": "code",
      "source": [
        "# probability of an event happening\n",
        "p = .25\n",
        "\n",
        "# NOT the correct formula!\n",
        "H = - (p*np.log(p))\n",
        "print('Wrong entropy: ', str(H))"
      ],
      "metadata": {
        "colab": {
          "base_uri": "https://localhost:8080/"
        },
        "id": "XHYwPZb5AQsu",
        "outputId": "cd62eb0a-4f55-467a-b9ad-8cc039ec29bb"
      },
      "execution_count": 2,
      "outputs": [
        {
          "output_type": "stream",
          "name": "stdout",
          "text": [
            "Wrong entropy:  0.34657359027997264\n"
          ]
        }
      ]
    },
    {
      "cell_type": "code",
      "source": [
        "# the correct way to compute entropy\n",
        "x = [.25, .75]\n",
        "\n",
        "H = 0\n",
        "for p in x:\n",
        "  H -= p*np.log(p)\n",
        "\n",
        "print('Correct entropy: ', str(H))"
      ],
      "metadata": {
        "colab": {
          "base_uri": "https://localhost:8080/"
        },
        "id": "xYgsWBflAizb",
        "outputId": "6cc79e3d-6088-4fb2-d211-8a0f8d56fa56"
      },
      "execution_count": 3,
      "outputs": [
        {
          "output_type": "stream",
          "name": "stdout",
          "text": [
            "Correct entropy:  0.5623351446188083\n"
          ]
        }
      ]
    },
    {
      "cell_type": "code",
      "source": [
        "# also correct, written out for N=2 events\n",
        "\n",
        "#Binary cross-entropy\n",
        "H = - (p*np.log(p) + (1-p)*np.log(1-p))\n",
        "print('Correct entropy: ', str(H))"
      ],
      "metadata": {
        "colab": {
          "base_uri": "https://localhost:8080/"
        },
        "id": "sLWlwuhLBKKp",
        "outputId": "8119856d-db73-4e57-cfe5-84591d1739d3"
      },
      "execution_count": 4,
      "outputs": [
        {
          "output_type": "stream",
          "name": "stdout",
          "text": [
            "Correct entropy:  0.5623351446188083\n"
          ]
        }
      ]
    },
    {
      "cell_type": "markdown",
      "source": [
        "### Cross Entropy"
      ],
      "metadata": {
        "id": "pxw7ah_IBk6u"
      }
    },
    {
      "cell_type": "code",
      "source": [
        "# note: all probs must sum to 1!\n",
        "p = [1, 0]\n",
        "q = [.25, .75]\n",
        "\n",
        "H = 0\n",
        "for i in range(len(p)):\n",
        "  H -= p[i]*np.log(q[i])\n",
        "\n",
        "print('Cross Entropy: ', str(H))"
      ],
      "metadata": {
        "colab": {
          "base_uri": "https://localhost:8080/"
        },
        "id": "hmBGOzrNBtQo",
        "outputId": "1ed91bbc-c372-4a56-8076-14f484c979fa"
      },
      "execution_count": 7,
      "outputs": [
        {
          "output_type": "stream",
          "name": "stdout",
          "text": [
            "Cross Entropy:  1.3862943611198906\n"
          ]
        }
      ]
    },
    {
      "cell_type": "code",
      "source": [
        "# also correct, written out for N=2 events\n",
        "\n",
        "#Binary cross-entropy\n",
        "H = - (p[0]*np.log(q[0]) + p[1]*np.log(q[1]))\n",
        "print('Correct entropy: ', str(H))\n",
        "\n",
        "# simplification\n",
        "H = -np.log(q[0])\n",
        "print('Manually simplified: ' + str(H))"
      ],
      "metadata": {
        "colab": {
          "base_uri": "https://localhost:8080/"
        },
        "id": "nvK1CI5aB9ab",
        "outputId": "c88ab7fd-77dc-4c35-c875-900f224dea0e"
      },
      "execution_count": 9,
      "outputs": [
        {
          "output_type": "stream",
          "name": "stdout",
          "text": [
            "Correct entropy:  1.3862943611198906\n",
            "Manually simplified: 1.3862943611198906\n"
          ]
        }
      ]
    },
    {
      "cell_type": "markdown",
      "source": [
        "## now using pytorch"
      ],
      "metadata": {
        "id": "DtyLlk0pCW4F"
      }
    },
    {
      "cell_type": "code",
      "source": [
        "import torch\n",
        "import torch.nn.functional as F\n",
        "\n",
        "#note: inputs must be tensors\n",
        "q_tensor = torch.Tensor(q)\n",
        "p_tensor = torch.Tensor(p)\n",
        "\n",
        "F.binary_cross_entropy(q_tensor,p_tensor)"
      ],
      "metadata": {
        "colab": {
          "base_uri": "https://localhost:8080/"
        },
        "id": "jiRNj_uzC14d",
        "outputId": "03be0bf9-a606-4194-a39e-77bea3ee08e3"
      },
      "execution_count": 12,
      "outputs": [
        {
          "output_type": "execute_result",
          "data": {
            "text/plain": [
              "tensor(1.3863)"
            ]
          },
          "metadata": {},
          "execution_count": 12
        }
      ]
    },
    {
      "cell_type": "code",
      "source": [
        ""
      ],
      "metadata": {
        "id": "tcw-iiShDEdW"
      },
      "execution_count": 12,
      "outputs": []
    }
  ]
}