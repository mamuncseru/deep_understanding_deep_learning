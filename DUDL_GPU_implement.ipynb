{
  "nbformat": 4,
  "nbformat_minor": 0,
  "metadata": {
    "colab": {
      "name": "DUDL_GPU_implement.ipynb",
      "provenance": [],
      "collapsed_sections": [],
      "authorship_tag": "ABX9TyOwPpLUFk8obBbeNIyfJRQw",
      "include_colab_link": true
    },
    "kernelspec": {
      "name": "python3",
      "display_name": "Python 3"
    },
    "language_info": {
      "name": "python"
    },
    "accelerator": "GPU",
    "gpuClass": "standard"
  },
  "cells": [
    {
      "cell_type": "markdown",
      "metadata": {
        "id": "view-in-github",
        "colab_type": "text"
      },
      "source": [
        "<a href=\"https://colab.research.google.com/github/mamuncseru/deep_understanding_deep_learning/blob/main/DUDL_GPU_implement.ipynb\" target=\"_parent\"><img src=\"https://colab.research.google.com/assets/colab-badge.svg\" alt=\"Open In Colab\"/></a>"
      ]
    },
    {
      "cell_type": "code",
      "execution_count": 1,
      "metadata": {
        "id": "iK_QpJCFkq92"
      },
      "outputs": [],
      "source": [
        "# import libraries\n",
        "import torch\n",
        "import torch.nn as nn\n",
        "import matplotlib.pyplot as plt\n",
        "import time"
      ]
    },
    {
      "cell_type": "code",
      "source": [
        "# use GPU\n",
        "device = torch.device('cuda:0' if torch.cuda.is_available() else 'cpu')\n",
        "print(device)"
      ],
      "metadata": {
        "colab": {
          "base_uri": "https://localhost:8080/"
        },
        "id": "grNZacHZk4Vn",
        "outputId": "7facaa4a-89cb-408a-a895-35b3cbe71c48"
      },
      "execution_count": 3,
      "outputs": [
        {
          "output_type": "stream",
          "name": "stdout",
          "text": [
            "cuda:0\n"
          ]
        }
      ]
    },
    {
      "cell_type": "markdown",
      "source": [
        "# Build a simple model"
      ],
      "metadata": {
        "id": "xlAkhq2ylAMm"
      }
    },
    {
      "cell_type": "code",
      "source": [
        "net = nn.Sequential(\n",
        "    nn.Linear(20, 100),\n",
        "    nn.ReLU(),\n",
        "    nn.Linear(100, 500),\n",
        "    nn.ReLU(),\n",
        "    nn.Linear(500, 30),\n",
        "    nn.ReLU(),\n",
        "    nn.Linear(30, 2)\n",
        ")"
      ],
      "metadata": {
        "id": "SDa18W4RlPt8"
      },
      "execution_count": 4,
      "outputs": []
    },
    {
      "cell_type": "markdown",
      "source": [
        "## Make som edata"
      ],
      "metadata": {
        "id": "JcmWxI43lmG6"
      }
    },
    {
      "cell_type": "code",
      "source": [
        "# Just some random fluff\n",
        "data = torch.randn((1000, 20)) # samples X features\n",
        "labels = torch.randint(low=0, high=2, size=(1, 1000))\n"
      ],
      "metadata": {
        "id": "x5hZLJ7jln4j"
      },
      "execution_count": 5,
      "outputs": []
    },
    {
      "cell_type": "markdown",
      "source": [
        "## Send the model and the data to the GPU"
      ],
      "metadata": {
        "id": "dtb3JOnFl0Sv"
      }
    },
    {
      "cell_type": "code",
      "source": [
        "# mode\n",
        "net.to(device)\n",
        "\n",
        "# data\n",
        "data = data.to(device)\n",
        "labels = labels.to(device)"
      ],
      "metadata": {
        "id": "XTQ7uWs8l3m4"
      },
      "execution_count": 6,
      "outputs": []
    },
    {
      "cell_type": "code",
      "source": [
        "data"
      ],
      "metadata": {
        "colab": {
          "base_uri": "https://localhost:8080/"
        },
        "id": "4FuVkW91l8gZ",
        "outputId": "15f2585f-377d-4ca6-eb3f-84d7e0f9a824"
      },
      "execution_count": 7,
      "outputs": [
        {
          "output_type": "execute_result",
          "data": {
            "text/plain": [
              "tensor([[-1.4438,  0.7234, -0.5966,  ...,  2.4627, -0.0410, -0.4193],\n",
              "        [ 0.7242, -0.5794,  0.2933,  ..., -0.8391,  0.5883,  1.4741],\n",
              "        [ 0.2321, -1.2270, -0.0497,  ...,  1.4793,  0.5066, -0.3198],\n",
              "        ...,\n",
              "        [ 0.1533, -0.5146,  0.2705,  ..., -0.1638, -0.0141, -1.1907],\n",
              "        [ 1.1571,  1.1448,  0.2002,  ...,  0.9418,  2.4171, -1.4743],\n",
              "        [-0.3024, -0.0164,  1.6695,  ...,  0.5914,  0.4855, -0.1735]],\n",
              "       device='cuda:0')"
            ]
          },
          "metadata": {},
          "execution_count": 7
        }
      ]
    },
    {
      "cell_type": "code",
      "source": [
        "# you can also create data directly on the GPU\n",
        "dataG = torch.randn((1000, 20), device=device)\n",
        "dataC = torch.randn((1000, 20), device='cpu')\n",
        "\n",
        "print(data.device)\n",
        "print(dataG.device)\n",
        "print(dataC.device)"
      ],
      "metadata": {
        "colab": {
          "base_uri": "https://localhost:8080/"
        },
        "id": "dBLjKf1Sl8wA",
        "outputId": "3fa143d1-1e81-4916-f1ad-761d4bc06c86"
      },
      "execution_count": 8,
      "outputs": [
        {
          "output_type": "stream",
          "name": "stdout",
          "text": [
            "cuda:0\n",
            "cuda:0\n",
            "cpu\n"
          ]
        }
      ]
    },
    {
      "cell_type": "markdown",
      "source": [
        "# Getting results from the model"
      ],
      "metadata": {
        "id": "KBoftriLmY79"
      }
    },
    {
      "cell_type": "code",
      "source": [
        "output = net(data)"
      ],
      "metadata": {
        "id": "gqzEeDWRmcqO"
      },
      "execution_count": 9,
      "outputs": []
    },
    {
      "cell_type": "code",
      "source": [
        "output.device"
      ],
      "metadata": {
        "colab": {
          "base_uri": "https://localhost:8080/"
        },
        "id": "vluvR4IJmd61",
        "outputId": "f8823f07-417c-48cb-bf5f-8e7dd4f89c7f"
      },
      "execution_count": 10,
      "outputs": [
        {
          "output_type": "execute_result",
          "data": {
            "text/plain": [
              "device(type='cuda', index=0)"
            ]
          },
          "metadata": {},
          "execution_count": 10
        }
      ]
    },
    {
      "cell_type": "code",
      "source": [
        "# try to plot the data\n",
        "# plt.plot(output.detach());\n",
        "\n",
        "plt.plot(output.detach().cpu())"
      ],
      "metadata": {
        "colab": {
          "base_uri": "https://localhost:8080/",
          "height": 302
        },
        "id": "rWz3Y27CmfT1",
        "outputId": "1bb34798-28d3-4adc-998c-63c09943980b"
      },
      "execution_count": 12,
      "outputs": [
        {
          "output_type": "execute_result",
          "data": {
            "text/plain": [
              "[<matplotlib.lines.Line2D at 0x7fa524618590>,\n",
              " <matplotlib.lines.Line2D at 0x7fa524618790>]"
            ]
          },
          "metadata": {},
          "execution_count": 12
        },
        {
          "output_type": "display_data",
          "data": {
            "text/plain": [
              "<Figure size 432x288 with 1 Axes>"
            ],
            "image/png": "[encoded data removed]"
          },
          "metadata": {
            "needs_background": "light"
          }
        }
      ]
    },
    {
      "cell_type": "markdown",
      "source": [
        "# Experiment: Computation time"
      ],
      "metadata": {
        "id": "FTbSPL-5mnQj"
      }
    },
    {
      "cell_type": "code",
      "source": [
        "# start the clock\n",
        "starttime = time.process_time()\n",
        "\n",
        "# move, run, retrieve\n",
        "device = 'cuda:0'\n",
        "net.to(device)\n",
        "data = data.to(device)\n",
        "labels = labels.to(device)\n",
        "output = net(data).detach().cpu()\n",
        "\n",
        "# stop the clock\n",
        "GPUtime = 1000 * (time.process_time() - starttime)"
      ],
      "metadata": {
        "id": "FfAXK82gmwAl"
      },
      "execution_count": 13,
      "outputs": []
    },
    {
      "cell_type": "code",
      "source": [
        "# start the clock\n",
        "starttime = time.process_time()\n",
        "\n",
        "# move, run, retrieve\n",
        "device = 'cpu'\n",
        "net.to(device)\n",
        "data = data.to(device)\n",
        "labels = labels.to(device)\n",
        "output = net(data).detach().cpu()\n",
        "\n",
        "# stop the clock\n",
        "CPUtime = 1000 * (time.process_time() - starttime)"
      ],
      "metadata": {
        "id": "h8rWb77gnZw2"
      },
      "execution_count": 14,
      "outputs": []
    },
    {
      "cell_type": "code",
      "source": [
        "# time in ms\n",
        "[CPUtime, GPUtime]"
      ],
      "metadata": {
        "colab": {
          "base_uri": "https://localhost:8080/"
        },
        "id": "qB-ovSv9nnt9",
        "outputId": "f9b45a30-6ad4-476b-8531-45bd5305b54b"
      },
      "execution_count": 15,
      "outputs": [
        {
          "output_type": "execute_result",
          "data": {
            "text/plain": [
              "[14.06731299999997, 3.6343609999995863]"
            ]
          },
          "metadata": {},
          "execution_count": 15
        }
      ]
    },
    {
      "cell_type": "code",
      "source": [
        "# but maybe \"sending\" it to the CPU takes too much overhead?"
      ],
      "metadata": {
        "id": "nfH-u-5gnrRk"
      },
      "execution_count": 16,
      "outputs": []
    },
    {
      "cell_type": "code",
      "source": [
        "# recreate network and data\n",
        "net = nn.Sequential(nn.Linear(20,100), nn.ReLU(), nn.Linear(100, 500), nn.ReLU(),nn.Linear(500, 30),nn.ReLU(),nn.Linear(30, 2))\n",
        "data = torch.randn((1000, 20))\n",
        "\n",
        "# rerun the experiment\n",
        "starttime = time.process_time()\n",
        "output = net(data).detach()\n",
        "CPUtime2 = 1000*(time.process_time() - starttime)\n",
        "\n",
        "# report the results\n",
        "[CPUtime2, CPUtime, GPUtime]"
      ],
      "metadata": {
        "colab": {
          "base_uri": "https://localhost:8080/"
        },
        "id": "IhMM7pvfnzLs",
        "outputId": "59ac3d91-0897-4651-e991-a6d9e46f5b4b"
      },
      "execution_count": 17,
      "outputs": [
        {
          "output_type": "execute_result",
          "data": {
            "text/plain": [
              "[4.706205999999824, 14.06731299999997, 3.6343609999995863]"
            ]
          },
          "metadata": {},
          "execution_count": 17
        }
      ]
    },
    {
      "cell_type": "code",
      "source": [
        ""
      ],
      "metadata": {
        "id": "_B3ONTRzoZpr"
      },
      "execution_count": null,
      "outputs": []
    }
  ]
}