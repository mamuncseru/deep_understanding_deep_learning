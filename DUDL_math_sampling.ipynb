{
  "nbformat": 4,
  "nbformat_minor": 0,
  "metadata": {
    "colab": {
      "name": "DUDL_math_sampling.ipynb",
      "provenance": [],
      "authorship_tag": "ABX9TyP8Cec5pblM8QbPXrUzlufc",
      "include_colab_link": true
    },
    "kernelspec": {
      "name": "python3",
      "display_name": "Python 3"
    },
    "language_info": {
      "name": "python"
    }
  },
  "cells": [
    {
      "cell_type": "markdown",
      "metadata": {
        "id": "view-in-github",
        "colab_type": "text"
      },
      "source": [
        "<a href=\"https://colab.research.google.com/github/mamuncseru/deep_understanding_deep_learning/blob/main/DUDL_math_sampling.ipynb\" target=\"_parent\"><img src=\"https://colab.research.google.com/assets/colab-badge.svg\" alt=\"Open In Colab\"/></a>"
      ]
    },
    {
      "cell_type": "code",
      "execution_count": 1,
      "metadata": {
        "id": "mzLvqdTQV73q"
      },
      "outputs": [],
      "source": [
        "import numpy as np\n",
        "import matplotlib.pyplot as plt"
      ]
    },
    {
      "cell_type": "code",
      "source": [
        "# create a list of numbers to compute the mean and variance of\n",
        "x = [1, 2, 4, 6, 5, 4, 0, -4, 5, -2, 6, 10, -9, 1, 3, -6]\n",
        "n = len(x)\n",
        "\n",
        "# compute the population mean\n",
        "popmean = np.mean(x)\n",
        "\n",
        "# compute a sample mean\n",
        "sample = np.random.choice(x, size=5, replace=True)\n",
        "sampmean = np.mean(sample)\n",
        "\n",
        "# print them\n",
        "print(popmean)\n",
        "print(sampmean)"
      ],
      "metadata": {
        "colab": {
          "base_uri": "https://localhost:8080/"
        },
        "id": "vSdJoajwWEwT",
        "outputId": "3766f9bd-c3d4-42d5-b8f3-80bf144e93b3"
      },
      "execution_count": 3,
      "outputs": [
        {
          "output_type": "stream",
          "name": "stdout",
          "text": [
            "1.625\n",
            "3.4\n"
          ]
        }
      ]
    },
    {
      "cell_type": "code",
      "source": [
        "# compute lots of sample means\n",
        "\n",
        "# number of experiments to run\n",
        "nExpers = 10000\n",
        "\n",
        "# run the experiment!\n",
        "sampleMeans =np.zeros(nExpers)\n",
        "\n",
        "for i in range(nExpers):\n",
        "\n",
        "  # step 1: draw a sample\n",
        "  sample = np.random.choice(x, size=15, replace=True)\n",
        "\n",
        "  # step 2: compute its mean\n",
        "  sampleMeans[i] = np.mean(sample)\n",
        "\n",
        "# show the results as a histogram\n",
        "plt.hist(sampleMeans, bins=40, density=True)\n",
        "plt.plot([popmean,popmean], [0, .3], 'm--')\n",
        "plt.ylabel('Count')\n",
        "plt.xlabel('Sample mean')\n",
        "plt.show()"
      ],
      "metadata": {
        "colab": {
          "base_uri": "https://localhost:8080/",
          "height": 281
        },
        "id": "vglK2rBCWUUA",
        "outputId": "29ed9983-de2d-4d66-8a6f-37bbff01117e"
      },
      "execution_count": 7,
      "outputs": [
        {
          "output_type": "display_data",
          "data": {
            "image/png": "[encoded data removed]",
            "text/plain": [
              "<Figure size 432x288 with 1 Axes>"
            ]
          },
          "metadata": {
            "needs_background": "light"
          }
        }
      ]
    },
    {
      "cell_type": "code",
      "source": [
        ""
      ],
      "metadata": {
        "id": "J1-GK_JadjQM"
      },
      "execution_count": null,
      "outputs": []
    }
  ]
}