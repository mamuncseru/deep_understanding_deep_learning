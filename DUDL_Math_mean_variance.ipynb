{
  "nbformat": 4,
  "nbformat_minor": 0,
  "metadata": {
    "colab": {
      "name": "DUDL_Math_mean_variance.ipynb",
      "provenance": [],
      "authorship_tag": "ABX9TyMjQKTSpPwv5iifb36Ox+lY",
      "include_colab_link": true
    },
    "kernelspec": {
      "name": "python3",
      "display_name": "Python 3"
    },
    "language_info": {
      "name": "python"
    }
  },
  "cells": [
    {
      "cell_type": "markdown",
      "metadata": {
        "id": "view-in-github",
        "colab_type": "text"
      },
      "source": [
        "<a href=\"https://colab.research.google.com/github/mamuncseru/deep_understanding_deep_learning/blob/main/DUDL_Math_mean_variance.ipynb\" target=\"_parent\"><img src=\"https://colab.research.google.com/assets/colab-badge.svg\" alt=\"Open In Colab\"/></a>"
      ]
    },
    {
      "cell_type": "code",
      "execution_count": 1,
      "metadata": {
        "id": "ABnK2vRyRtzi"
      },
      "outputs": [],
      "source": [
        "# import libraries\n",
        "import numpy as np"
      ]
    },
    {
      "cell_type": "code",
      "source": [
        "# create a list of numbers to compute the mean and variance of\n",
        "x = [1, 2, 4, 6, 5, 4, 0]\n",
        "n = len(x)\n",
        "\n",
        "# compute the mean\n",
        "mean1 = np.mean(x)\n",
        "mean2 = np.sum(x) / n\n",
        "\n",
        "# print them\n",
        "print(mean1)\n",
        "print(mean2)"
      ],
      "metadata": {
        "colab": {
          "base_uri": "https://localhost:8080/"
        },
        "id": "7tcLLZ5QR5qJ",
        "outputId": "70934d49-f78b-4c6c-81f7-64ede5160d86"
      },
      "execution_count": 2,
      "outputs": [
        {
          "output_type": "stream",
          "name": "stdout",
          "text": [
            "3.142857142857143\n",
            "3.142857142857143\n"
          ]
        }
      ]
    },
    {
      "cell_type": "code",
      "source": [
        "# variance\n",
        "\n",
        "var1 = np.var(x)\n",
        "var2 = (1/ (n-1)) * np.sum((x - mean1) ** 2)\n",
        "\n",
        "print(var1)\n",
        "print(var2)"
      ],
      "metadata": {
        "colab": {
          "base_uri": "https://localhost:8080/"
        },
        "id": "FoSCgXIHSIdv",
        "outputId": "0d193a43-c15d-4602-e866-711f95d1b33a"
      },
      "execution_count": 3,
      "outputs": [
        {
          "output_type": "stream",
          "name": "stdout",
          "text": [
            "4.122448979591836\n",
            "4.809523809523809\n"
          ]
        }
      ]
    },
    {
      "cell_type": "code",
      "source": [
        "# uh oh!\n",
        "var3 = np.var(x, ddof=1)\n",
        "\n",
        "\n",
        "print(var3)\n",
        "print(var2)"
      ],
      "metadata": {
        "colab": {
          "base_uri": "https://localhost:8080/"
        },
        "id": "G8HwTx0ASdxv",
        "outputId": "a0e9d857-0cd8-46d3-840d-3b8aba55545f"
      },
      "execution_count": 5,
      "outputs": [
        {
          "output_type": "stream",
          "name": "stdout",
          "text": [
            "4.809523809523809\n",
            "4.809523809523809\n"
          ]
        }
      ]
    },
    {
      "cell_type": "code",
      "source": [
        "# does it matter for large N?\n",
        "\n",
        "N = 1000\n",
        "x = np.random.randint(0, high=20, size=N)\n",
        "\n",
        "var0 = np.var(x, ddof=0) # default\n",
        "var1 = np.var(x, ddof=1) # unbiased\n",
        "\n",
        "print(var0)\n",
        "print(var1)"
      ],
      "metadata": {
        "colab": {
          "base_uri": "https://localhost:8080/"
        },
        "id": "0RoiasreSktp",
        "outputId": "d40ed0e7-1a94-4efc-a409-89a76e1f3e15"
      },
      "execution_count": 8,
      "outputs": [
        {
          "output_type": "stream",
          "name": "stdout",
          "text": [
            "33.901296\n",
            "33.935231231231235\n"
          ]
        }
      ]
    },
    {
      "cell_type": "code",
      "source": [
        ""
      ],
      "metadata": {
        "id": "ycQjM5ppT3lD"
      },
      "execution_count": null,
      "outputs": []
    }
  ]
}