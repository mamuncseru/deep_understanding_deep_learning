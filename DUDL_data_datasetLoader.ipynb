{
  "nbformat": 4,
  "nbformat_minor": 0,
  "metadata": {
    "colab": {
      "name": "DUDL_data_datasetLoader.ipynb",
      "provenance": [],
      "authorship_tag": "ABX9TyM/1GfAF4R0xaORfWibeCjK",
      "include_colab_link": true
    },
    "kernelspec": {
      "name": "python3",
      "display_name": "Python 3"
    },
    "language_info": {
      "name": "python"
    }
  },
  "cells": [
    {
      "cell_type": "markdown",
      "metadata": {
        "id": "view-in-github",
        "colab_type": "text"
      },
      "source": [
        "<a href=\"https://colab.research.google.com/github/mamuncseru/deep_understanding_deep_learning/blob/main/DUDL_data_datasetLoader.ipynb\" target=\"_parent\"><img src=\"https://colab.research.google.com/assets/colab-badge.svg\" alt=\"Open In Colab\"/></a>"
      ]
    },
    {
      "cell_type": "code",
      "execution_count": 2,
      "metadata": {
        "id": "fkKxnhjEaZ4G"
      },
      "outputs": [],
      "source": [
        "# import libraries\n",
        "import numpy as np\n",
        "import torch\n",
        "from torch.utils.data import DataLoader, TensorDataset"
      ]
    },
    {
      "cell_type": "markdown",
      "source": [
        "## Datasets"
      ],
      "metadata": {
        "id": "NCtfQlpna3z8"
      }
    },
    {
      "cell_type": "code",
      "source": [
        "# create some data in numpy\n",
        "nObservations = 100\n",
        "nFeatures = 20\n",
        "\n",
        "data = np.random.randn(nObservations, nFeatures)"
      ],
      "metadata": {
        "id": "GggNbPJma5Jq"
      },
      "execution_count": 3,
      "outputs": []
    },
    {
      "cell_type": "code",
      "source": [
        "# Convert to pytorch tensor\n",
        "dataT = torch.tensor(data)\n",
        "\n",
        "# print out some information\n",
        "print('Numpy data: ')\n",
        "print(type(data))\n",
        "print(data.shape)\n",
        "print(data.dtype)\n",
        "print(' ')\n",
        "\n",
        "print('Tensor data: ')\n",
        "print(type(dataT))\n",
        "print(dataT.size())\n",
        "print(dataT.dtype)\n",
        "print(' ')"
      ],
      "metadata": {
        "colab": {
          "base_uri": "https://localhost:8080/"
        },
        "id": "mgcVHJgkbERy",
        "outputId": "6b3dca32-ae8d-4d7c-b2c3-254bcbd61e14"
      },
      "execution_count": 4,
      "outputs": [
        {
          "output_type": "stream",
          "name": "stdout",
          "text": [
            "Numpy data: \n",
            "<class 'numpy.ndarray'>\n",
            "(100, 20)\n",
            "float64\n",
            " \n",
            "Tensor data: \n",
            "<class 'torch.Tensor'>\n",
            "torch.Size([100, 20])\n",
            "torch.float64\n",
            " \n"
          ]
        }
      ]
    },
    {
      "cell_type": "code",
      "source": [
        "# sometimes you need to convert data types\n",
        "dataT2 = torch.tensor(data).float()\n",
        "print(dataT2.dtype)\n",
        "\n",
        "# \"long\" is for ints\n",
        "dataT3 = torch.tensor(data).long()\n",
        "print(dataT3.dtype)"
      ],
      "metadata": {
        "colab": {
          "base_uri": "https://localhost:8080/"
        },
        "id": "Fk_wT7cHbj-6",
        "outputId": "217c8e39-203e-4d22-af7c-3f1b2f161251"
      },
      "execution_count": 5,
      "outputs": [
        {
          "output_type": "stream",
          "name": "stdout",
          "text": [
            "torch.float32\n",
            "torch.int64\n"
          ]
        }
      ]
    },
    {
      "cell_type": "code",
      "source": [
        "dataT2"
      ],
      "metadata": {
        "colab": {
          "base_uri": "https://localhost:8080/"
        },
        "id": "lJ_Cldj2c-rS",
        "outputId": "858d67f5-df01-456e-950f-0f33c2646aff"
      },
      "execution_count": 7,
      "outputs": [
        {
          "output_type": "execute_result",
          "data": {
            "text/plain": [
              "tensor([[-0.2136,  1.6850, -0.1273,  ..., -1.5579,  1.1060,  0.1855],\n",
              "        [-0.7886,  0.3451,  0.5140,  ..., -0.7181, -0.5244,  0.8912],\n",
              "        [ 1.2190, -0.2542, -0.8772,  ..., -1.0539,  0.1826,  0.2899],\n",
              "        ...,\n",
              "        [-0.5079,  0.3029, -0.0847,  ...,  1.1270,  0.0905,  0.9156],\n",
              "        [-0.5867,  1.2015, -0.1808,  ..., -1.5030, -0.6807,  0.2147],\n",
              "        [ 0.2196,  0.3490, -0.8075,  ...,  0.0242,  0.9437,  0.1757]])"
            ]
          },
          "metadata": {},
          "execution_count": 7
        }
      ]
    },
    {
      "cell_type": "code",
      "source": [
        "dataT3"
      ],
      "metadata": {
        "colab": {
          "base_uri": "https://localhost:8080/"
        },
        "id": "RF40dkecc6KX",
        "outputId": "b3b9264d-3a39-46ea-ed67-448aa1d70acc"
      },
      "execution_count": 6,
      "outputs": [
        {
          "output_type": "execute_result",
          "data": {
            "text/plain": [
              "tensor([[ 0,  1,  0,  ..., -1,  1,  0],\n",
              "        [ 0,  0,  0,  ...,  0,  0,  0],\n",
              "        [ 1,  0,  0,  ..., -1,  0,  0],\n",
              "        ...,\n",
              "        [ 0,  0,  0,  ...,  1,  0,  0],\n",
              "        [ 0,  1,  0,  ..., -1,  0,  0],\n",
              "        [ 0,  0,  0,  ...,  0,  0,  0]])"
            ]
          },
          "metadata": {},
          "execution_count": 6
        }
      ]
    },
    {
      "cell_type": "code",
      "source": [
        "# convert tensor into pytorch datasets\n",
        "\n",
        "# dataset = TensorDataset(data) # not a tensor!\n",
        "dataset = TensorDataset(dataT)\n",
        "\n",
        "# dataset is a two-element tuple comprising data, labels\n",
        "dataset.tensors"
      ],
      "metadata": {
        "colab": {
          "base_uri": "https://localhost:8080/"
        },
        "id": "yhI8MemYcYWr",
        "outputId": "a940ff34-1cf6-4ae4-f36a-d164f7b53fd3"
      },
      "execution_count": 9,
      "outputs": [
        {
          "output_type": "execute_result",
          "data": {
            "text/plain": [
              "(tensor([[-0.2136,  1.6850, -0.1273,  ..., -1.5579,  1.1060,  0.1855],\n",
              "         [-0.7886,  0.3451,  0.5140,  ..., -0.7181, -0.5244,  0.8912],\n",
              "         [ 1.2190, -0.2542, -0.8772,  ..., -1.0539,  0.1826,  0.2899],\n",
              "         ...,\n",
              "         [-0.5079,  0.3029, -0.0847,  ...,  1.1270,  0.0905,  0.9156],\n",
              "         [-0.5867,  1.2015, -0.1808,  ..., -1.5030, -0.6807,  0.2147],\n",
              "         [ 0.2196,  0.3490, -0.8075,  ...,  0.0242,  0.9437,  0.1757]],\n",
              "        dtype=torch.float64),)"
            ]
          },
          "metadata": {},
          "execution_count": 9
        }
      ]
    },
    {
      "cell_type": "code",
      "source": [
        "# let's try again with labels\n",
        "labels = torch.ceil(torch.linspace(.01, 4, nObservations))\n",
        "\n",
        "# transform to an actual matrix (column vector)\n",
        "labels = labels.reshape((len(labels), 1))\n",
        "# print(labels)\n",
        "\n",
        "# now make another datadet\n",
        "dataset = TensorDataset(dataT, labels)\n",
        "\n",
        "print(dataset.tensors[0].size())\n",
        "print(dataset.tensors[1].size())\n",
        "\n",
        "# for comparison\n",
        "print(np.shape(np.random.randint(5, size=nObservations)))"
      ],
      "metadata": {
        "colab": {
          "base_uri": "https://localhost:8080/"
        },
        "id": "E9AdVpS3dG9N",
        "outputId": "390c13bc-a979-4b87-8460-5d1055b62588"
      },
      "execution_count": 14,
      "outputs": [
        {
          "output_type": "stream",
          "name": "stdout",
          "text": [
            "torch.Size([100, 20])\n",
            "torch.Size([100, 1])\n",
            "(100,)\n"
          ]
        }
      ]
    },
    {
      "cell_type": "markdown",
      "source": [
        "## DataLoaders"
      ],
      "metadata": {
        "id": "jg-xvkOAeGfD"
      }
    },
    {
      "cell_type": "code",
      "source": [
        "# create a dataloader object\n",
        "batchsize = 25\n",
        "dataloader = DataLoader(dataset, batch_size=batchsize)#,shuffle=True,drop_last=True)\n",
        "\n",
        "dataloader.dataset.tensors[0].size()"
      ],
      "metadata": {
        "colab": {
          "base_uri": "https://localhost:8080/"
        },
        "id": "HwixGppCfE_h",
        "outputId": "479813ee-e61f-41b4-9d63-63886c762b7a"
      },
      "execution_count": 15,
      "outputs": [
        {
          "output_type": "execute_result",
          "data": {
            "text/plain": [
              "torch.Size([100, 20])"
            ]
          },
          "metadata": {},
          "execution_count": 15
        }
      ]
    },
    {
      "cell_type": "code",
      "source": [
        "#sizes of each batch\n",
        "for dat, labs, in dataloader:\n",
        "    print('BATCH INFO:')\n",
        "    print(dat.size())\n",
        "    print(labs.size())\n",
        "    print(' ')"
      ],
      "metadata": {
        "colab": {
          "base_uri": "https://localhost:8080/"
        },
        "id": "Qvu6Mc6ufUcu",
        "outputId": "9250643b-0280-4ecf-851b-bb4dbaf01dcd"
      },
      "execution_count": 16,
      "outputs": [
        {
          "output_type": "stream",
          "name": "stdout",
          "text": [
            "BATCH INFO:\n",
            "torch.Size([25, 20])\n",
            "torch.Size([25, 1])\n",
            " \n",
            "BATCH INFO:\n",
            "torch.Size([25, 20])\n",
            "torch.Size([25, 1])\n",
            " \n",
            "BATCH INFO:\n",
            "torch.Size([25, 20])\n",
            "torch.Size([25, 1])\n",
            " \n",
            "BATCH INFO:\n",
            "torch.Size([25, 20])\n",
            "torch.Size([25, 1])\n",
            " \n"
          ]
        }
      ]
    },
    {
      "cell_type": "code",
      "source": [
        "# inspect the labels\n",
        "for dat, labs in dataloader:\n",
        "    print(labs.T)\n",
        "    print(' ')"
      ],
      "metadata": {
        "colab": {
          "base_uri": "https://localhost:8080/"
        },
        "id": "A0fxtEiUfv1G",
        "outputId": "4f2acb9c-1a57-4f61-fc41-b2171fe838b3"
      },
      "execution_count": 18,
      "outputs": [
        {
          "output_type": "stream",
          "name": "stdout",
          "text": [
            "tensor([[1., 1., 1., 1., 1., 1., 1., 1., 1., 1., 1., 1., 1., 1., 1., 1., 1., 1.,\n",
            "         1., 1., 1., 1., 1., 1., 1.]])\n",
            " \n",
            "tensor([[2., 2., 2., 2., 2., 2., 2., 2., 2., 2., 2., 2., 2., 2., 2., 2., 2., 2.,\n",
            "         2., 2., 2., 2., 2., 2., 2.]])\n",
            " \n",
            "tensor([[3., 3., 3., 3., 3., 3., 3., 3., 3., 3., 3., 3., 3., 3., 3., 3., 3., 3.,\n",
            "         3., 3., 3., 3., 3., 3., 3.]])\n",
            " \n",
            "tensor([[4., 4., 4., 4., 4., 4., 4., 4., 4., 4., 4., 4., 4., 4., 4., 4., 4., 4.,\n",
            "         4., 4., 4., 4., 4., 4., 4.]])\n",
            " \n"
          ]
        }
      ]
    },
    {
      "cell_type": "code",
      "source": [
        "# try again with shuffling(shuffling happens during iterations)\n",
        "# dataloader = DataLoader(dataset, batch_size=batchsize,shuffle=True,drop_last=True)\n",
        "# inspect the labels\n",
        "for dat, labs in dataloader:\n",
        "    print(labs.T)\n",
        "    print(' ')"
      ],
      "metadata": {
        "colab": {
          "base_uri": "https://localhost:8080/"
        },
        "id": "xbvwsj4XgD2S",
        "outputId": "1037bba2-9bfd-4767-d48f-20cee3d133b2"
      },
      "execution_count": 23,
      "outputs": [
        {
          "output_type": "stream",
          "name": "stdout",
          "text": [
            "tensor([[1., 3., 3., 2., 4., 3., 2., 4., 1., 3., 2., 3., 1., 3., 3., 4., 3., 4.,\n",
            "         2., 1., 1., 2., 4., 2., 4.]])\n",
            " \n",
            "tensor([[1., 4., 3., 3., 2., 4., 1., 4., 4., 1., 2., 4., 1., 3., 3., 1., 4., 4.,\n",
            "         2., 1., 3., 4., 1., 3., 2.]])\n",
            " \n",
            "tensor([[1., 3., 1., 3., 2., 1., 3., 2., 2., 1., 3., 1., 1., 1., 4., 2., 1., 3.,\n",
            "         2., 2., 3., 1., 4., 4., 4.]])\n",
            " \n",
            "tensor([[3., 4., 2., 2., 2., 4., 1., 1., 2., 2., 1., 1., 4., 2., 2., 3., 3., 3.,\n",
            "         3., 4., 4., 4., 2., 4., 2.]])\n",
            " \n"
          ]
        }
      ]
    },
    {
      "cell_type": "code",
      "source": [
        "# TO get only one batch (e.g. for testing)\n",
        "dat, labs = next(iter(dataloader))\n",
        "labs.T"
      ],
      "metadata": {
        "colab": {
          "base_uri": "https://localhost:8080/"
        },
        "id": "GZW4cfkqgaxL",
        "outputId": "923debb4-74e6-4439-ca1c-1f607bb6c46a"
      },
      "execution_count": 21,
      "outputs": [
        {
          "output_type": "execute_result",
          "data": {
            "text/plain": [
              "tensor([[4., 3., 4., 1., 4., 4., 1., 3., 3., 1., 2., 4., 2., 3., 1., 3., 1., 3.,\n",
              "         4., 2., 2., 4., 2., 2., 1.]])"
            ]
          },
          "metadata": {},
          "execution_count": 21
        }
      ]
    },
    {
      "cell_type": "code",
      "source": [
        ""
      ],
      "metadata": {
        "id": "V8nwq14jghbH"
      },
      "execution_count": null,
      "outputs": []
    }
  ]
}