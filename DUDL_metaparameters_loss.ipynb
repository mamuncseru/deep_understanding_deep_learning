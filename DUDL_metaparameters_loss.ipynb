{
  "nbformat": 4,
  "nbformat_minor": 0,
  "metadata": {
    "colab": {
      "name": "DUDL_metaparameters_loss.ipynb",
      "provenance": [],
      "authorship_tag": "ABX9TyOhkxcwOSJFXzBh/lKvxDhZ",
      "include_colab_link": true
    },
    "kernelspec": {
      "name": "python3",
      "display_name": "Python 3"
    },
    "language_info": {
      "name": "python"
    }
  },
  "cells": [
    {
      "cell_type": "markdown",
      "metadata": {
        "id": "view-in-github",
        "colab_type": "text"
      },
      "source": [
        "<a href=\"https://colab.research.google.com/github/mamuncseru/deep_understanding_deep_learning/blob/main/DUDL_metaparameters_loss.ipynb\" target=\"_parent\"><img src=\"https://colab.research.google.com/assets/colab-badge.svg\" alt=\"Open In Colab\"/></a>"
      ]
    },
    {
      "cell_type": "code",
      "execution_count": 1,
      "metadata": {
        "id": "mjm6qglsXu6z"
      },
      "outputs": [],
      "source": [
        "# import libraries\n",
        "import torch\n",
        "import torch.nn as nn\n",
        "\n",
        "import numpy as np\n",
        "import matplotlib.pyplot as plt"
      ]
    },
    {
      "cell_type": "markdown",
      "source": [
        "## Mean-Squared error"
      ],
      "metadata": {
        "id": "HVL54xu5X4rZ"
      }
    },
    {
      "cell_type": "code",
      "source": [
        "# loss function\n",
        "lossfunMSE = nn.MSELoss()\n",
        "\n",
        "# create predictions and real answer\n",
        "yHat = torch.linspace(-2, 2, 101)\n",
        "y = torch.tensor(.5)\n",
        "\n",
        "# compute MSE loss function\n",
        "L = np.zeros(101)\n",
        "for i, yy in enumerate(yHat):\n",
        "    L[i] = lossfunMSE(yy, y)\n",
        "    \n",
        "plt.plot(yHat, L, label='Loss')\n",
        "plt.plot([y, y], [0, np.max(L)], 'r--', label='True Value')\n",
        "plt.xlabel('Predicted value')\n",
        "plt.legend()\n",
        "plt.show()"
      ],
      "metadata": {
        "colab": {
          "base_uri": "https://localhost:8080/",
          "height": 279
        },
        "id": "ePQoV-2EX7Ia",
        "outputId": "6385dc43-99e7-4a20-e9af-fefe3ba069a4"
      },
      "execution_count": 4,
      "outputs": [
        {
          "output_type": "display_data",
          "data": {
            "text/plain": [
              "<Figure size 432x288 with 1 Axes>"
            ],
            "image/png": "[encoded data removed]"
          },
          "metadata": {
            "needs_background": "light"
          }
        }
      ]
    },
    {
      "cell_type": "markdown",
      "source": [
        "## Binary Cross Entropy"
      ],
      "metadata": {
        "id": "b-jox9C0YjOy"
      }
    },
    {
      "cell_type": "code",
      "source": [
        "# loss function\n",
        "lossfunBCE = nn.BCELoss()\n",
        "\n",
        "# create predictions and real answer\n",
        "yHat = torch.linspace(.001, .999, 101)\n",
        "y1 = torch.tensor(0.)\n",
        "y2 = torch.tensor(1.)\n",
        "\n",
        "# compute MSE loss function\n",
        "L = np.zeros((101, 2))\n",
        "for i, yy in enumerate(yHat):\n",
        "    L[i,0] = lossfunBCE(yy, y1)\n",
        "    L[i,1] = lossfunBCE(yy, y2)\n",
        "\n",
        "plt.plot(yHat, L)\n",
        "plt.xlabel('Predicted value')\n",
        "plt.ylabel('Loss')\n",
        "plt.legend(['correct=0', 'correct=1'])\n",
        "plt.show()"
      ],
      "metadata": {
        "colab": {
          "base_uri": "https://localhost:8080/",
          "height": 279
        },
        "id": "KEO-979GlNfq",
        "outputId": "dc0e281b-802a-45a3-f056-04cf4b4f9417"
      },
      "execution_count": 5,
      "outputs": [
        {
          "output_type": "display_data",
          "data": {
            "text/plain": [
              "<Figure size 432x288 with 1 Axes>"
            ],
            "image/png": "[encoded data removed]"
          },
          "metadata": {
            "needs_background": "light"
          }
        }
      ]
    },
    {
      "cell_type": "code",
      "source": [
        "yHat = torch.tensor(2.)\n",
        "# print(lossfunBCE(yHat, y2))\n",
        "\n",
        "# convert to prob via sigmoid\n",
        "sig = nn.Sigmoid()\n",
        "print(lossfunBCE(sig(yHat), y2))"
      ],
      "metadata": {
        "colab": {
          "base_uri": "https://localhost:8080/"
        },
        "id": "cM5T_dtBmMbl",
        "outputId": "c5ec831e-df8c-4750-f1af-cfb91b5c24db"
      },
      "execution_count": 7,
      "outputs": [
        {
          "output_type": "stream",
          "name": "stdout",
          "text": [
            "tensor(0.1269)\n"
          ]
        }
      ]
    },
    {
      "cell_type": "code",
      "source": [
        "lossfunBCE = nn.BCEWithLogitsLoss()\n",
        "yHat = torch.tensor(2.)\n",
        "print(lossfunBCE(yHat, y2))"
      ],
      "metadata": {
        "colab": {
          "base_uri": "https://localhost:8080/"
        },
        "id": "8OhJJ73cm3Vi",
        "outputId": "4d4f5b43-4eec-49b9-b3a8-1de684ed7b40"
      },
      "execution_count": 9,
      "outputs": [
        {
          "output_type": "stream",
          "name": "stdout",
          "text": [
            "tensor(0.1269)\n"
          ]
        }
      ]
    },
    {
      "cell_type": "markdown",
      "source": [
        "## Categorical Cross Entropy"
      ],
      "metadata": {
        "id": "4tIYufulnVV8"
      }
    },
    {
      "cell_type": "code",
      "source": [
        "# loss function\n",
        "lossfunCCE = nn.CrossEntropyLoss()\n",
        "\n",
        "# vector of output layer (pre-softmax)\n",
        "yHat = torch.tensor([[1., 4, 3]])\n",
        "\n",
        "for i in range(3):\n",
        "    correctAnswer = torch.tensor([i])\n",
        "    thisLoss = lossfunCCE(yHat, correctAnswer).item()\n",
        "    print('Loss when correct answer is %g: %g' %(i, thisLoss))"
      ],
      "metadata": {
        "colab": {
          "base_uri": "https://localhost:8080/"
        },
        "id": "4V5XXKghnzuQ",
        "outputId": "17edce78-45e0-4ee5-f670-1d2bfe690ded"
      },
      "execution_count": 14,
      "outputs": [
        {
          "output_type": "stream",
          "name": "stdout",
          "text": [
            "Loss when correct answer is 0: 3.34901\n",
            "Loss when correct answer is 1: 0.349012\n",
            "Loss when correct answer is 2: 1.34901\n"
          ]
        }
      ]
    },
    {
      "cell_type": "code",
      "source": [
        "# Repeat using pre-softmaxified output (incorrect)\n",
        "sm = nn.Softmax(dim=1)\n",
        "yHat_sm = sm(yHat)\n",
        "\n",
        "for i in range(3):\n",
        "    correctAnswer = torch.tensor([i])\n",
        "    thisLoss = lossfunCCE(yHat_sm, correctAnswer).item()\n",
        "    print('Loss when correct answer is %g: %g' %(i, thisLoss))"
      ],
      "metadata": {
        "colab": {
          "base_uri": "https://localhost:8080/"
        },
        "id": "7YWdxNisoN35",
        "outputId": "be848f40-be0f-46d2-86e2-3ca5ad6c5be1"
      },
      "execution_count": 16,
      "outputs": [
        {
          "output_type": "stream",
          "name": "stdout",
          "text": [
            "Loss when correct answer is 0: 1.43658\n",
            "Loss when correct answer is 1: 0.766318\n",
            "Loss when correct answer is 2: 1.21221\n"
          ]
        }
      ]
    },
    {
      "cell_type": "code",
      "source": [
        "# compare raw, softmax, and log-softmax outputs\n",
        "sm = nn.LogSoftmax(dim=1)\n",
        "yHat_logsm = sm(yHat)\n",
        "\n",
        "# print them\n",
        "print(yHat)\n",
        "print(yHat_sm)\n",
        "print(yHat_logsm)"
      ],
      "metadata": {
        "colab": {
          "base_uri": "https://localhost:8080/"
        },
        "id": "7hoi55G6pd0v",
        "outputId": "67135579-fdda-4198-b1d7-026f910267ec"
      },
      "execution_count": 17,
      "outputs": [
        {
          "output_type": "stream",
          "name": "stdout",
          "text": [
            "tensor([[1., 4., 3.]])\n",
            "tensor([[0.0351, 0.7054, 0.2595]])\n",
            "tensor([[-3.3490, -0.3490, -1.3490]])\n"
          ]
        }
      ]
    },
    {
      "cell_type": "markdown",
      "source": [
        "## Creating your own custom loss function"
      ],
      "metadata": {
        "id": "HegcylCQqbia"
      }
    },
    {
      "cell_type": "code",
      "source": [
        "class myLoss(nn.Module):\n",
        "    def __init__(slf):\n",
        "        super().__init__()\n",
        "\n",
        "    def forward(self, x, y):\n",
        "        loss = torch.abs(x-y)\n",
        "        return loss\n",
        "\n",
        "# test it out!\n",
        "lfun = myLoss()\n",
        "lfun(torch.tensor(4), torch.tensor(5.2))"
      ],
      "metadata": {
        "colab": {
          "base_uri": "https://localhost:8080/"
        },
        "id": "bFmiNWb4qgAM",
        "outputId": "b1ed9325-5942-4cc5-d7dd-aec489cb3120"
      },
      "execution_count": 18,
      "outputs": [
        {
          "output_type": "execute_result",
          "data": {
            "text/plain": [
              "tensor(1.2000)"
            ]
          },
          "metadata": {},
          "execution_count": 18
        }
      ]
    },
    {
      "cell_type": "code",
      "source": [
        ""
      ],
      "metadata": {
        "id": "GjZgQfAFrAFH"
      },
      "execution_count": null,
      "outputs": []
    }
  ]
}